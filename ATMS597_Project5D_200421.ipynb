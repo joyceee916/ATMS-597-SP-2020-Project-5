{
 "cells": [
  {
   "cell_type": "markdown",
   "metadata": {},
   "source": [
    "# ATMS 597: Project 5 - Classification"
   ]
  },
  {
   "cell_type": "markdown",
   "metadata": {},
   "source": [
    "Group D: Joyce Yang, Yang Lu, Lina Rivelli-Zea\n",
    "\n",
    "Model 1: Logistic Regression classification with default values\n",
    "\n",
    "UIUC - April, 2020"
   ]
  },
  {
   "cell_type": "markdown",
   "metadata": {},
   "source": [
    "REFERENCES\n",
    "\n",
    "Notebook: https://colab.research.google.com/drive/1Zqf6bIHAMROxYaeSTCIAQQmfaDDpPfWp#scrollTo=0kWn-CNvaHUJ\n",
    "\n",
    "Example: https://www.kaggle.com/akdagmelih/rain-prediction-logistic-regression-example\n",
    "\n",
    "Book: Chopra R. et. al (2019). Data Science in Python, Chapter 3 (95-133), www.packt.com\n",
    "\n",
    "Brier: https://machinelearningmastery.com/how-to-score-probability-predictions-in-python/"
   ]
  },
  {
   "cell_type": "code",
   "execution_count": 1,
   "metadata": {},
   "outputs": [
    {
     "data": {
      "text/plain": [
       "'D:\\\\GitHub\\\\joyceee916\\\\ATMS-597-SP-2020-Project-5'"
      ]
     },
     "execution_count": 1,
     "metadata": {},
     "output_type": "execute_result"
    }
   ],
   "source": [
    "pwd"
   ]
  },
  {
   "cell_type": "markdown",
   "metadata": {},
   "source": [
    "# Setup the model"
   ]
  },
  {
   "cell_type": "code",
   "execution_count": 2,
   "metadata": {
    "scrolled": true
   },
   "outputs": [
    {
     "name": "stdout",
     "output_type": "stream",
     "text": [
      "Requirement already satisfied: metpy in c:\\users\\yanglu\\anaconda3\\envs\\gpu\\lib\\site-packages (0.12.0)\n",
      "Requirement already satisfied: pint>=0.8 in c:\\users\\yanglu\\anaconda3\\envs\\gpu\\lib\\site-packages (from metpy) (0.11)\n",
      "Requirement already satisfied: pooch>=0.1 in c:\\users\\yanglu\\anaconda3\\envs\\gpu\\lib\\site-packages (from metpy) (1.0.0)\n",
      "Requirement already satisfied: pandas>=0.22.0 in c:\\users\\yanglu\\anaconda3\\envs\\gpu\\lib\\site-packages (from metpy) (1.0.3)\n",
      "Requirement already satisfied: traitlets>=4.3.0 in c:\\users\\yanglu\\anaconda3\\envs\\gpu\\lib\\site-packages (from metpy) (4.3.3)\n",
      "Requirement already satisfied: scipy>=1.0 in c:\\users\\yanglu\\anaconda3\\envs\\gpu\\lib\\site-packages (from metpy) (1.4.1)\n",
      "Requirement already satisfied: xarray>=0.10.7 in c:\\users\\yanglu\\anaconda3\\envs\\gpu\\lib\\site-packages (from metpy) (0.15.1)\n",
      "Requirement already satisfied: matplotlib>=2.1.0 in c:\\users\\yanglu\\anaconda3\\envs\\gpu\\lib\\site-packages (from metpy) (3.1.3)\n",
      "Requirement already satisfied: numpy>=1.13.0 in c:\\users\\yanglu\\anaconda3\\envs\\gpu\\lib\\site-packages (from metpy) (1.18.1)\n",
      "Requirement already satisfied: setuptools in c:\\users\\yanglu\\anaconda3\\envs\\gpu\\lib\\site-packages (from pint>=0.8->metpy) (46.1.3.post20200330)\n",
      "Requirement already satisfied: requests in c:\\users\\yanglu\\anaconda3\\envs\\gpu\\lib\\site-packages (from pooch>=0.1->metpy) (2.23.0)\n",
      "Requirement already satisfied: packaging in c:\\users\\yanglu\\anaconda3\\envs\\gpu\\lib\\site-packages (from pooch>=0.1->metpy) (20.3)\n",
      "Requirement already satisfied: appdirs in c:\\users\\yanglu\\anaconda3\\envs\\gpu\\lib\\site-packages (from pooch>=0.1->metpy) (1.4.3)\n",
      "Requirement already satisfied: python-dateutil>=2.6.1 in c:\\users\\yanglu\\anaconda3\\envs\\gpu\\lib\\site-packages (from pandas>=0.22.0->metpy) (2.8.1)\n",
      "Requirement already satisfied: pytz>=2017.2 in c:\\users\\yanglu\\anaconda3\\envs\\gpu\\lib\\site-packages (from pandas>=0.22.0->metpy) (2019.3)\n",
      "Requirement already satisfied: six in c:\\users\\yanglu\\anaconda3\\envs\\gpu\\lib\\site-packages (from traitlets>=4.3.0->metpy) (1.14.0)\n",
      "Requirement already satisfied: ipython-genutils in c:\\users\\yanglu\\anaconda3\\envs\\gpu\\lib\\site-packages (from traitlets>=4.3.0->metpy) (0.2.0)\n",
      "Requirement already satisfied: decorator in c:\\users\\yanglu\\anaconda3\\envs\\gpu\\lib\\site-packages (from traitlets>=4.3.0->metpy) (4.4.2)\n",
      "Requirement already satisfied: cycler>=0.10 in c:\\users\\yanglu\\anaconda3\\envs\\gpu\\lib\\site-packages (from matplotlib>=2.1.0->metpy) (0.10.0)\n",
      "Requirement already satisfied: pyparsing!=2.0.4,!=2.1.2,!=2.1.6,>=2.0.1 in c:\\users\\yanglu\\anaconda3\\envs\\gpu\\lib\\site-packages (from matplotlib>=2.1.0->metpy) (2.4.6)\n",
      "Requirement already satisfied: kiwisolver>=1.0.1 in c:\\users\\yanglu\\anaconda3\\envs\\gpu\\lib\\site-packages (from matplotlib>=2.1.0->metpy) (1.1.0)\n",
      "Requirement already satisfied: certifi>=2017.4.17 in c:\\users\\yanglu\\anaconda3\\envs\\gpu\\lib\\site-packages (from requests->pooch>=0.1->metpy) (2020.4.5.1)\n",
      "Requirement already satisfied: idna<3,>=2.5 in c:\\users\\yanglu\\anaconda3\\envs\\gpu\\lib\\site-packages (from requests->pooch>=0.1->metpy) (2.9)\n",
      "Requirement already satisfied: urllib3!=1.25.0,!=1.25.1,<1.26,>=1.21.1 in c:\\users\\yanglu\\anaconda3\\envs\\gpu\\lib\\site-packages (from requests->pooch>=0.1->metpy) (1.25.8)\n",
      "Requirement already satisfied: chardet<4,>=3.0.2 in c:\\users\\yanglu\\anaconda3\\envs\\gpu\\lib\\site-packages (from requests->pooch>=0.1->metpy) (3.0.4)\n",
      "Requirement already satisfied: metar in c:\\users\\yanglu\\anaconda3\\envs\\gpu\\lib\\site-packages (1.7.0)\n"
     ]
    }
   ],
   "source": [
    "# Setup 1\n",
    "!pip install metpy\n",
    "!pip install metar"
   ]
  },
  {
   "cell_type": "code",
   "execution_count": 3,
   "metadata": {
    "scrolled": true
   },
   "outputs": [
    {
     "name": "stdout",
     "output_type": "stream",
     "text": [
      "Requirement already satisfied: scipy in c:\\users\\yanglu\\anaconda3\\envs\\gpu\\lib\\site-packages (1.4.1)\n",
      "Requirement already satisfied: numpy>=1.13.3 in c:\\users\\yanglu\\anaconda3\\envs\\gpu\\lib\\site-packages (from scipy) (1.18.1)\n",
      "Requirement already satisfied: tensorflow in c:\\users\\yanglu\\anaconda3\\envs\\gpu\\lib\\site-packages (2.1.0)\n",
      "Requirement already satisfied: keras-applications>=1.0.8 in c:\\users\\yanglu\\anaconda3\\envs\\gpu\\lib\\site-packages (from tensorflow) (1.0.8)\n",
      "Requirement already satisfied: tensorboard<2.2.0,>=2.1.0 in c:\\users\\yanglu\\anaconda3\\envs\\gpu\\lib\\site-packages (from tensorflow) (2.1.0)\n",
      "Requirement already satisfied: absl-py>=0.7.0 in c:\\users\\yanglu\\anaconda3\\envs\\gpu\\lib\\site-packages (from tensorflow) (0.8.0)\n",
      "Requirement already satisfied: tensorflow-estimator<2.2.0,>=2.1.0rc0 in c:\\users\\yanglu\\anaconda3\\envs\\gpu\\lib\\site-packages (from tensorflow) (2.1.0)\n",
      "Requirement already satisfied: wheel>=0.26; python_version >= \"3\" in c:\\users\\yanglu\\anaconda3\\envs\\gpu\\lib\\site-packages (from tensorflow) (0.34.2)\n",
      "Requirement already satisfied: astor>=0.6.0 in c:\\users\\yanglu\\anaconda3\\envs\\gpu\\lib\\site-packages (from tensorflow) (0.8.0)\n",
      "Requirement already satisfied: grpcio>=1.8.6 in c:\\users\\yanglu\\anaconda3\\envs\\gpu\\lib\\site-packages (from tensorflow) (1.24.1)\n",
      "Requirement already satisfied: opt-einsum>=2.3.2 in c:\\users\\yanglu\\anaconda3\\envs\\gpu\\lib\\site-packages (from tensorflow) (3.1.0)\n",
      "Requirement already satisfied: numpy<2.0,>=1.16.0 in c:\\users\\yanglu\\anaconda3\\envs\\gpu\\lib\\site-packages (from tensorflow) (1.18.1)\n",
      "Requirement already satisfied: termcolor>=1.1.0 in c:\\users\\yanglu\\anaconda3\\envs\\gpu\\lib\\site-packages (from tensorflow) (1.1.0)\n",
      "Requirement already satisfied: gast==0.2.2 in c:\\users\\yanglu\\anaconda3\\envs\\gpu\\lib\\site-packages (from tensorflow) (0.2.2)\n",
      "Requirement already satisfied: six>=1.12.0 in c:\\users\\yanglu\\anaconda3\\envs\\gpu\\lib\\site-packages (from tensorflow) (1.14.0)\n",
      "Requirement already satisfied: protobuf>=3.8.0 in c:\\users\\yanglu\\anaconda3\\envs\\gpu\\lib\\site-packages (from tensorflow) (3.11.4)\n",
      "Requirement already satisfied: scipy==1.4.1; python_version >= \"3\" in c:\\users\\yanglu\\anaconda3\\envs\\gpu\\lib\\site-packages (from tensorflow) (1.4.1)\n",
      "Requirement already satisfied: keras-preprocessing>=1.1.0 in c:\\users\\yanglu\\anaconda3\\envs\\gpu\\lib\\site-packages (from tensorflow) (1.1.0)\n",
      "Requirement already satisfied: google-pasta>=0.1.6 in c:\\users\\yanglu\\anaconda3\\envs\\gpu\\lib\\site-packages (from tensorflow) (0.1.7)\n",
      "Requirement already satisfied: wrapt>=1.11.1 in c:\\users\\yanglu\\anaconda3\\envs\\gpu\\lib\\site-packages (from tensorflow) (1.12.1)\n",
      "Requirement already satisfied: h5py in c:\\users\\yanglu\\anaconda3\\envs\\gpu\\lib\\site-packages (from keras-applications>=1.0.8->tensorflow) (2.10.0)\n",
      "Requirement already satisfied: setuptools>=41.0.0 in c:\\users\\yanglu\\anaconda3\\envs\\gpu\\lib\\site-packages (from tensorboard<2.2.0,>=2.1.0->tensorflow) (46.1.3.post20200330)\n",
      "Requirement already satisfied: google-auth-oauthlib<0.5,>=0.4.1 in c:\\users\\yanglu\\anaconda3\\envs\\gpu\\lib\\site-packages (from tensorboard<2.2.0,>=2.1.0->tensorflow) (0.4.1)\n",
      "Requirement already satisfied: werkzeug>=0.11.15 in c:\\users\\yanglu\\anaconda3\\envs\\gpu\\lib\\site-packages (from tensorboard<2.2.0,>=2.1.0->tensorflow) (0.16.0)\n",
      "Requirement already satisfied: markdown>=2.6.8 in c:\\users\\yanglu\\anaconda3\\envs\\gpu\\lib\\site-packages (from tensorboard<2.2.0,>=2.1.0->tensorflow) (3.1.1)\n",
      "Requirement already satisfied: google-auth<2,>=1.6.3 in c:\\users\\yanglu\\anaconda3\\envs\\gpu\\lib\\site-packages (from tensorboard<2.2.0,>=2.1.0->tensorflow) (1.11.0)\n",
      "Requirement already satisfied: requests<3,>=2.21.0 in c:\\users\\yanglu\\anaconda3\\envs\\gpu\\lib\\site-packages (from tensorboard<2.2.0,>=2.1.0->tensorflow) (2.23.0)\n",
      "Requirement already satisfied: requests-oauthlib>=0.7.0 in c:\\users\\yanglu\\anaconda3\\envs\\gpu\\lib\\site-packages (from google-auth-oauthlib<0.5,>=0.4.1->tensorboard<2.2.0,>=2.1.0->tensorflow) (1.3.0)\n",
      "Requirement already satisfied: pyasn1-modules>=0.2.1 in c:\\users\\yanglu\\anaconda3\\envs\\gpu\\lib\\site-packages (from google-auth<2,>=1.6.3->tensorboard<2.2.0,>=2.1.0->tensorflow) (0.2.8)\n",
      "Requirement already satisfied: rsa<4.1,>=3.1.4 in c:\\users\\yanglu\\anaconda3\\envs\\gpu\\lib\\site-packages (from google-auth<2,>=1.6.3->tensorboard<2.2.0,>=2.1.0->tensorflow) (4.0)\n",
      "Requirement already satisfied: cachetools<5.0,>=2.0.0 in c:\\users\\yanglu\\anaconda3\\envs\\gpu\\lib\\site-packages (from google-auth<2,>=1.6.3->tensorboard<2.2.0,>=2.1.0->tensorflow) (4.0.0)\n",
      "Requirement already satisfied: urllib3!=1.25.0,!=1.25.1,<1.26,>=1.21.1 in c:\\users\\yanglu\\anaconda3\\envs\\gpu\\lib\\site-packages (from requests<3,>=2.21.0->tensorboard<2.2.0,>=2.1.0->tensorflow) (1.25.8)\n",
      "Requirement already satisfied: certifi>=2017.4.17 in c:\\users\\yanglu\\anaconda3\\envs\\gpu\\lib\\site-packages (from requests<3,>=2.21.0->tensorboard<2.2.0,>=2.1.0->tensorflow) (2020.4.5.1)\n",
      "Requirement already satisfied: idna<3,>=2.5 in c:\\users\\yanglu\\anaconda3\\envs\\gpu\\lib\\site-packages (from requests<3,>=2.21.0->tensorboard<2.2.0,>=2.1.0->tensorflow) (2.9)\n",
      "Requirement already satisfied: chardet<4,>=3.0.2 in c:\\users\\yanglu\\anaconda3\\envs\\gpu\\lib\\site-packages (from requests<3,>=2.21.0->tensorboard<2.2.0,>=2.1.0->tensorflow) (3.0.4)\n",
      "Requirement already satisfied: oauthlib>=3.0.0 in c:\\users\\yanglu\\anaconda3\\envs\\gpu\\lib\\site-packages (from requests-oauthlib>=0.7.0->google-auth-oauthlib<0.5,>=0.4.1->tensorboard<2.2.0,>=2.1.0->tensorflow) (3.1.0)\n",
      "Requirement already satisfied: pyasn1<0.5.0,>=0.4.6 in c:\\users\\yanglu\\anaconda3\\envs\\gpu\\lib\\site-packages (from pyasn1-modules>=0.2.1->google-auth<2,>=1.6.3->tensorboard<2.2.0,>=2.1.0->tensorflow) (0.4.8)\n",
      "Requirement already satisfied: keras in c:\\users\\yanglu\\anaconda3\\envs\\gpu\\lib\\site-packages (2.3.1)\n",
      "Requirement already satisfied: scipy>=0.14 in c:\\users\\yanglu\\anaconda3\\envs\\gpu\\lib\\site-packages (from keras) (1.4.1)\n",
      "Requirement already satisfied: keras-applications>=1.0.6 in c:\\users\\yanglu\\anaconda3\\envs\\gpu\\lib\\site-packages (from keras) (1.0.8)\n",
      "Requirement already satisfied: numpy>=1.9.1 in c:\\users\\yanglu\\anaconda3\\envs\\gpu\\lib\\site-packages (from keras) (1.18.1)\n",
      "Requirement already satisfied: keras-preprocessing>=1.0.5 in c:\\users\\yanglu\\anaconda3\\envs\\gpu\\lib\\site-packages (from keras) (1.1.0)\n",
      "Requirement already satisfied: h5py in c:\\users\\yanglu\\anaconda3\\envs\\gpu\\lib\\site-packages (from keras) (2.10.0)\n",
      "Requirement already satisfied: six>=1.9.0 in c:\\users\\yanglu\\anaconda3\\envs\\gpu\\lib\\site-packages (from keras) (1.14.0)\n",
      "Requirement already satisfied: pyyaml in c:\\users\\yanglu\\anaconda3\\envs\\gpu\\lib\\site-packages (from keras) (5.3.1)\n"
     ]
    }
   ],
   "source": [
    "# Setup 2\n",
    "\n",
    "!pip install scipy\n",
    "!pip install tensorflow\n",
    "!pip install keras"
   ]
  },
  {
   "cell_type": "code",
   "execution_count": 4,
   "metadata": {
    "scrolled": true
   },
   "outputs": [
    {
     "name": "stdout",
     "output_type": "stream",
     "text": [
      "Requirement already satisfied: scikit-image in c:\\users\\yanglu\\anaconda3\\envs\\gpu\\lib\\site-packages (0.15.0)\n",
      "Requirement already satisfied: networkx>=2.0 in c:\\users\\yanglu\\anaconda3\\envs\\gpu\\lib\\site-packages (from scikit-image) (2.3)\n",
      "Requirement already satisfied: pillow>=4.3.0 in c:\\users\\yanglu\\anaconda3\\envs\\gpu\\lib\\site-packages (from scikit-image) (7.0.0)\n",
      "Requirement already satisfied: PyWavelets>=0.4.0 in c:\\users\\yanglu\\anaconda3\\envs\\gpu\\lib\\site-packages (from scikit-image) (1.0.3)\n",
      "Requirement already satisfied: imageio>=2.0.1 in c:\\users\\yanglu\\anaconda3\\envs\\gpu\\lib\\site-packages (from scikit-image) (2.6.1)\n",
      "Requirement already satisfied: decorator>=4.3.0 in c:\\users\\yanglu\\anaconda3\\envs\\gpu\\lib\\site-packages (from networkx>=2.0->scikit-image) (4.4.2)\n",
      "Requirement already satisfied: numpy>=1.9.1 in c:\\users\\yanglu\\anaconda3\\envs\\gpu\\lib\\site-packages (from PyWavelets>=0.4.0->scikit-image) (1.18.1)\n",
      "Requirement already satisfied: netCDF4 in c:\\users\\yanglu\\anaconda3\\envs\\gpu\\lib\\site-packages (1.5.3)\n",
      "Requirement already satisfied: cftime in c:\\users\\yanglu\\anaconda3\\envs\\gpu\\lib\\site-packages (from netCDF4) (1.1.1.1)\n",
      "Requirement already satisfied: numpy>=1.7 in c:\\users\\yanglu\\anaconda3\\envs\\gpu\\lib\\site-packages (from netCDF4) (1.18.1)\n",
      "Requirement already satisfied: pyproj in c:\\users\\yanglu\\anaconda3\\envs\\gpu\\lib\\site-packages (1.9.6)\n",
      "Requirement already satisfied: scikit-learn in c:\\users\\yanglu\\anaconda3\\envs\\gpu\\lib\\site-packages (0.22.1)\n",
      "Requirement already satisfied: scipy>=0.17.0 in c:\\users\\yanglu\\anaconda3\\envs\\gpu\\lib\\site-packages (from scikit-learn) (1.4.1)\n",
      "Requirement already satisfied: joblib>=0.11 in c:\\users\\yanglu\\anaconda3\\envs\\gpu\\lib\\site-packages (from scikit-learn) (0.14.1)\n",
      "Requirement already satisfied: numpy>=1.11.0 in c:\\users\\yanglu\\anaconda3\\envs\\gpu\\lib\\site-packages (from scikit-learn) (1.18.1)\n",
      "Requirement already satisfied: opencv-python in c:\\users\\yanglu\\anaconda3\\envs\\gpu\\lib\\site-packages (4.2.0.34)\n",
      "Requirement already satisfied: numpy>=1.14.5 in c:\\users\\yanglu\\anaconda3\\envs\\gpu\\lib\\site-packages (from opencv-python) (1.18.1)\n"
     ]
    }
   ],
   "source": [
    "# Setup 3\n",
    "!pip install scikit-image\n",
    "!pip install netCDF4\n",
    "!pip install pyproj\n",
    "!pip install scikit-learn\n",
    "!pip install opencv-python"
   ]
  },
  {
   "cell_type": "code",
   "execution_count": 5,
   "metadata": {
    "scrolled": true
   },
   "outputs": [
    {
     "name": "stdout",
     "output_type": "stream",
     "text": [
      "Requirement already satisfied: matplotlib in c:\\users\\yanglu\\anaconda3\\envs\\gpu\\lib\\site-packages (3.1.3)\n",
      "Requirement already satisfied: pyparsing!=2.0.4,!=2.1.2,!=2.1.6,>=2.0.1 in c:\\users\\yanglu\\anaconda3\\envs\\gpu\\lib\\site-packages (from matplotlib) (2.4.6)\n",
      "Requirement already satisfied: python-dateutil>=2.1 in c:\\users\\yanglu\\anaconda3\\envs\\gpu\\lib\\site-packages (from matplotlib) (2.8.1)\n",
      "Requirement already satisfied: numpy>=1.11 in c:\\users\\yanglu\\anaconda3\\envs\\gpu\\lib\\site-packages (from matplotlib) (1.18.1)\n",
      "Requirement already satisfied: cycler>=0.10 in c:\\users\\yanglu\\anaconda3\\envs\\gpu\\lib\\site-packages (from matplotlib) (0.10.0)\n",
      "Requirement already satisfied: kiwisolver>=1.0.1 in c:\\users\\yanglu\\anaconda3\\envs\\gpu\\lib\\site-packages (from matplotlib) (1.1.0)\n",
      "Requirement already satisfied: six>=1.5 in c:\\users\\yanglu\\anaconda3\\envs\\gpu\\lib\\site-packages (from python-dateutil>=2.1->matplotlib) (1.14.0)\n",
      "Requirement already satisfied: setuptools in c:\\users\\yanglu\\anaconda3\\envs\\gpu\\lib\\site-packages (from kiwisolver>=1.0.1->matplotlib) (46.1.3.post20200330)\n"
     ]
    }
   ],
   "source": [
    "# Setup 4\n",
    "!pip install matplotlib"
   ]
  },
  {
   "cell_type": "code",
   "execution_count": 6,
   "metadata": {
    "scrolled": true
   },
   "outputs": [
    {
     "name": "stdout",
     "output_type": "stream",
     "text": [
      "Requirement already satisfied: shapely in c:\\users\\yanglu\\anaconda3\\envs\\gpu\\lib\\site-packages (1.7.0)\n",
      "Requirement already satisfied: geopy in c:\\users\\yanglu\\anaconda3\\envs\\gpu\\lib\\site-packages (1.21.0)\n",
      "Requirement already satisfied: geographiclib<2,>=1.49 in c:\\users\\yanglu\\anaconda3\\envs\\gpu\\lib\\site-packages (from geopy) (1.50)\n",
      "Requirement already satisfied: metpy in c:\\users\\yanglu\\anaconda3\\envs\\gpu\\lib\\site-packages (0.12.0)\n",
      "Requirement already satisfied: numpy>=1.13.0 in c:\\users\\yanglu\\anaconda3\\envs\\gpu\\lib\\site-packages (from metpy) (1.18.1)\n",
      "Requirement already satisfied: traitlets>=4.3.0 in c:\\users\\yanglu\\anaconda3\\envs\\gpu\\lib\\site-packages (from metpy) (4.3.3)\n",
      "Requirement already satisfied: matplotlib>=2.1.0 in c:\\users\\yanglu\\anaconda3\\envs\\gpu\\lib\\site-packages (from metpy) (3.1.3)\n",
      "Requirement already satisfied: pandas>=0.22.0 in c:\\users\\yanglu\\anaconda3\\envs\\gpu\\lib\\site-packages (from metpy) (1.0.3)\n",
      "Requirement already satisfied: xarray>=0.10.7 in c:\\users\\yanglu\\anaconda3\\envs\\gpu\\lib\\site-packages (from metpy) (0.15.1)\n",
      "Requirement already satisfied: pint>=0.8 in c:\\users\\yanglu\\anaconda3\\envs\\gpu\\lib\\site-packages (from metpy) (0.11)\n",
      "Requirement already satisfied: scipy>=1.0 in c:\\users\\yanglu\\anaconda3\\envs\\gpu\\lib\\site-packages (from metpy) (1.4.1)\n",
      "Requirement already satisfied: pooch>=0.1 in c:\\users\\yanglu\\anaconda3\\envs\\gpu\\lib\\site-packages (from metpy) (1.0.0)\n",
      "Requirement already satisfied: six in c:\\users\\yanglu\\anaconda3\\envs\\gpu\\lib\\site-packages (from traitlets>=4.3.0->metpy) (1.14.0)\n",
      "Requirement already satisfied: decorator in c:\\users\\yanglu\\anaconda3\\envs\\gpu\\lib\\site-packages (from traitlets>=4.3.0->metpy) (4.4.2)\n",
      "Requirement already satisfied: ipython-genutils in c:\\users\\yanglu\\anaconda3\\envs\\gpu\\lib\\site-packages (from traitlets>=4.3.0->metpy) (0.2.0)\n",
      "Requirement already satisfied: kiwisolver>=1.0.1 in c:\\users\\yanglu\\anaconda3\\envs\\gpu\\lib\\site-packages (from matplotlib>=2.1.0->metpy) (1.1.0)\n",
      "Requirement already satisfied: python-dateutil>=2.1 in c:\\users\\yanglu\\anaconda3\\envs\\gpu\\lib\\site-packages (from matplotlib>=2.1.0->metpy) (2.8.1)\n",
      "Requirement already satisfied: pyparsing!=2.0.4,!=2.1.2,!=2.1.6,>=2.0.1 in c:\\users\\yanglu\\anaconda3\\envs\\gpu\\lib\\site-packages (from matplotlib>=2.1.0->metpy) (2.4.6)\n",
      "Requirement already satisfied: cycler>=0.10 in c:\\users\\yanglu\\anaconda3\\envs\\gpu\\lib\\site-packages (from matplotlib>=2.1.0->metpy) (0.10.0)\n",
      "Requirement already satisfied: pytz>=2017.2 in c:\\users\\yanglu\\anaconda3\\envs\\gpu\\lib\\site-packages (from pandas>=0.22.0->metpy) (2019.3)\n",
      "Requirement already satisfied: setuptools>=41.2 in c:\\users\\yanglu\\anaconda3\\envs\\gpu\\lib\\site-packages (from xarray>=0.10.7->metpy) (46.1.3.post20200330)\n",
      "Requirement already satisfied: appdirs in c:\\users\\yanglu\\anaconda3\\envs\\gpu\\lib\\site-packages (from pooch>=0.1->metpy) (1.4.3)\n",
      "Requirement already satisfied: packaging in c:\\users\\yanglu\\anaconda3\\envs\\gpu\\lib\\site-packages (from pooch>=0.1->metpy) (20.3)\n",
      "Requirement already satisfied: requests in c:\\users\\yanglu\\anaconda3\\envs\\gpu\\lib\\site-packages (from pooch>=0.1->metpy) (2.23.0)\n",
      "Requirement already satisfied: chardet<4,>=3.0.2 in c:\\users\\yanglu\\anaconda3\\envs\\gpu\\lib\\site-packages (from requests->pooch>=0.1->metpy) (3.0.4)\n",
      "Requirement already satisfied: idna<3,>=2.5 in c:\\users\\yanglu\\anaconda3\\envs\\gpu\\lib\\site-packages (from requests->pooch>=0.1->metpy) (2.9)\n",
      "Requirement already satisfied: urllib3!=1.25.0,!=1.25.1,<1.26,>=1.21.1 in c:\\users\\yanglu\\anaconda3\\envs\\gpu\\lib\\site-packages (from requests->pooch>=0.1->metpy) (1.25.8)\n",
      "Requirement already satisfied: certifi>=2017.4.17 in c:\\users\\yanglu\\anaconda3\\envs\\gpu\\lib\\site-packages (from requests->pooch>=0.1->metpy) (2020.4.5.1)\n",
      "Requirement already satisfied: descartes in c:\\users\\yanglu\\anaconda3\\envs\\gpu\\lib\\site-packages (1.1.0)\n",
      "Requirement already satisfied: matplotlib in c:\\users\\yanglu\\anaconda3\\envs\\gpu\\lib\\site-packages (from descartes) (3.1.3)\n",
      "Requirement already satisfied: kiwisolver>=1.0.1 in c:\\users\\yanglu\\anaconda3\\envs\\gpu\\lib\\site-packages (from matplotlib->descartes) (1.1.0)\n",
      "Requirement already satisfied: python-dateutil>=2.1 in c:\\users\\yanglu\\anaconda3\\envs\\gpu\\lib\\site-packages (from matplotlib->descartes) (2.8.1)\n",
      "Requirement already satisfied: pyparsing!=2.0.4,!=2.1.2,!=2.1.6,>=2.0.1 in c:\\users\\yanglu\\anaconda3\\envs\\gpu\\lib\\site-packages (from matplotlib->descartes) (2.4.6)\n",
      "Requirement already satisfied: numpy>=1.11 in c:\\users\\yanglu\\anaconda3\\envs\\gpu\\lib\\site-packages (from matplotlib->descartes) (1.18.1)\n",
      "Requirement already satisfied: cycler>=0.10 in c:\\users\\yanglu\\anaconda3\\envs\\gpu\\lib\\site-packages (from matplotlib->descartes) (0.10.0)\n",
      "Requirement already satisfied: setuptools in c:\\users\\yanglu\\anaconda3\\envs\\gpu\\lib\\site-packages (from kiwisolver>=1.0.1->matplotlib->descartes) (46.1.3.post20200330)\n",
      "Requirement already satisfied: six>=1.5 in c:\\users\\yanglu\\anaconda3\\envs\\gpu\\lib\\site-packages (from python-dateutil>=2.1->matplotlib->descartes) (1.14.0)\n"
     ]
    }
   ],
   "source": [
    "# Setup 5\n",
    "!pip install shapely\n",
    "!pip install geopy\n",
    "!pip install metpy\n",
    "!pip install descartes"
   ]
  },
  {
   "cell_type": "code",
   "execution_count": 163,
   "metadata": {},
   "outputs": [],
   "source": [
    "# Import libraries\n",
    "\n",
    "%matplotlib inline\n",
    "import sys\n",
    "import copy\n",
    "import warnings\n",
    "import matplotlib.pyplot as pyplot\n",
    "import pandas as pd\n",
    "import io \n",
    "import numpy as np\n",
    "from pandas.tseries.offsets import MonthEnd\n",
    "from pandas.api.types import CategoricalDtype\n",
    "import matplotlib.pyplot as plt\n",
    "import seaborn as sns; sns.set()\n",
    "from sklearn.metrics import mean_squared_error\n",
    "from math import sqrt\n",
    "import os"
   ]
  },
  {
   "cell_type": "code",
   "execution_count": 164,
   "metadata": {},
   "outputs": [],
   "source": [
    "def save_fig(fig_id, tight_layout = True, fig_extension = \"png\", resolution = 300):\n",
    "    path = os.path.join(\"./\", fig_id + \".\" + fig_extension)\n",
    "    print(\"Saving figure\", fig_id)\n",
    "    if tight_layout:\n",
    "        plt.tight_layout()\n",
    "    plt.savefig(path, format = fig_extension, dpi = resolution)"
   ]
  },
  {
   "cell_type": "markdown",
   "metadata": {},
   "source": [
    "# Input data into pandas dataframe"
   ]
  },
  {
   "cell_type": "markdown",
   "metadata": {},
   "source": [
    "Data: KGRB (WI) 5-minute Automated Surface Observation System data available from NCDC \n",
    "    \n",
    "Read 5-min ASOS observations from 2000-2020 data period"
   ]
  },
  {
   "cell_type": "code",
   "execution_count": 8,
   "metadata": {},
   "outputs": [],
   "source": [
    "# KGRB_precip=pd.read_csv('/data/keeling/a/ler5/python/pyradartutorials/00_introduction/KGRB_precip.csv')\n",
    "#KGRB_precip=pd.read_csv('KGRB_precip.csv')\n",
    "KGRB_precip=pd.read_csv('./KGRB_precip.csv')"
   ]
  },
  {
   "cell_type": "code",
   "execution_count": 9,
   "metadata": {},
   "outputs": [
    {
     "name": "stdout",
     "output_type": "stream",
     "text": [
      "['station_id' 'latitude' 'longitude' 'elevation' 'date_time'\n",
      " 'wind_direction' 'wind_speed' 'current_wx1' 'current_wx2' 'current_wx3'\n",
      " 'low_cloud_type' 'low_cloud_level' 'medium_cloud_type'\n",
      " 'medium_cloud_level' 'high_cloud_type' 'high_cloud_level'\n",
      " 'highest_cloud_type' 'highest_cloud_level' 'cloud_coverage'\n",
      " 'air_temperature' 'dew_point_temperature' 'altimeter' 'present_weather'\n",
      " 'past_weather' 'past_weather2' 'air_pressure_at_sea_level'\n",
      " 'eastward_wind' 'northward_wind']\n"
     ]
    }
   ],
   "source": [
    "print(KGRB_precip.columns.values)"
   ]
  },
  {
   "cell_type": "code",
   "execution_count": 10,
   "metadata": {},
   "outputs": [
    {
     "data": {
      "text/html": [
       "<div>\n",
       "<style scoped>\n",
       "    .dataframe tbody tr th:only-of-type {\n",
       "        vertical-align: middle;\n",
       "    }\n",
       "\n",
       "    .dataframe tbody tr th {\n",
       "        vertical-align: top;\n",
       "    }\n",
       "\n",
       "    .dataframe thead th {\n",
       "        text-align: right;\n",
       "    }\n",
       "</style>\n",
       "<table border=\"1\" class=\"dataframe\">\n",
       "  <thead>\n",
       "    <tr style=\"text-align: right;\">\n",
       "      <th></th>\n",
       "      <th>station_id</th>\n",
       "      <th>latitude</th>\n",
       "      <th>longitude</th>\n",
       "      <th>elevation</th>\n",
       "      <th>date_time</th>\n",
       "      <th>wind_direction</th>\n",
       "      <th>wind_speed</th>\n",
       "      <th>current_wx1</th>\n",
       "      <th>current_wx2</th>\n",
       "      <th>current_wx3</th>\n",
       "      <th>...</th>\n",
       "      <th>cloud_coverage</th>\n",
       "      <th>air_temperature</th>\n",
       "      <th>dew_point_temperature</th>\n",
       "      <th>altimeter</th>\n",
       "      <th>present_weather</th>\n",
       "      <th>past_weather</th>\n",
       "      <th>past_weather2</th>\n",
       "      <th>air_pressure_at_sea_level</th>\n",
       "      <th>eastward_wind</th>\n",
       "      <th>northward_wind</th>\n",
       "    </tr>\n",
       "  </thead>\n",
       "  <tbody>\n",
       "    <tr>\n",
       "      <th>0</th>\n",
       "      <td>KGRB</td>\n",
       "      <td>44.48</td>\n",
       "      <td>-88.13</td>\n",
       "      <td>208.0</td>\n",
       "      <td>2000-01-01 00:00:00</td>\n",
       "      <td>250.0</td>\n",
       "      <td>8.0</td>\n",
       "      <td>-SN</td>\n",
       "      <td>NaN</td>\n",
       "      <td>NaN</td>\n",
       "      <td>...</td>\n",
       "      <td>8</td>\n",
       "      <td>-5.0</td>\n",
       "      <td>-9.0</td>\n",
       "      <td>29.84</td>\n",
       "      <td>71</td>\n",
       "      <td>0</td>\n",
       "      <td>0</td>\n",
       "      <td>NaN</td>\n",
       "      <td>7.517541</td>\n",
       "      <td>2.736161</td>\n",
       "    </tr>\n",
       "    <tr>\n",
       "      <th>1</th>\n",
       "      <td>KGRB</td>\n",
       "      <td>44.48</td>\n",
       "      <td>-88.13</td>\n",
       "      <td>208.0</td>\n",
       "      <td>2000-01-01 00:05:00</td>\n",
       "      <td>260.0</td>\n",
       "      <td>8.0</td>\n",
       "      <td>-SN</td>\n",
       "      <td>NaN</td>\n",
       "      <td>NaN</td>\n",
       "      <td>...</td>\n",
       "      <td>8</td>\n",
       "      <td>-5.0</td>\n",
       "      <td>-9.0</td>\n",
       "      <td>29.84</td>\n",
       "      <td>71</td>\n",
       "      <td>0</td>\n",
       "      <td>0</td>\n",
       "      <td>NaN</td>\n",
       "      <td>7.878462</td>\n",
       "      <td>1.389185</td>\n",
       "    </tr>\n",
       "    <tr>\n",
       "      <th>2</th>\n",
       "      <td>KGRB</td>\n",
       "      <td>44.48</td>\n",
       "      <td>-88.13</td>\n",
       "      <td>208.0</td>\n",
       "      <td>2000-01-01 00:10:00</td>\n",
       "      <td>260.0</td>\n",
       "      <td>9.0</td>\n",
       "      <td>-SN</td>\n",
       "      <td>NaN</td>\n",
       "      <td>NaN</td>\n",
       "      <td>...</td>\n",
       "      <td>8</td>\n",
       "      <td>-5.0</td>\n",
       "      <td>-9.0</td>\n",
       "      <td>29.84</td>\n",
       "      <td>71</td>\n",
       "      <td>0</td>\n",
       "      <td>0</td>\n",
       "      <td>NaN</td>\n",
       "      <td>8.863270</td>\n",
       "      <td>1.562834</td>\n",
       "    </tr>\n",
       "    <tr>\n",
       "      <th>3</th>\n",
       "      <td>KGRB</td>\n",
       "      <td>44.48</td>\n",
       "      <td>-88.13</td>\n",
       "      <td>208.0</td>\n",
       "      <td>2000-01-01 00:15:00</td>\n",
       "      <td>250.0</td>\n",
       "      <td>7.0</td>\n",
       "      <td>-SN</td>\n",
       "      <td>NaN</td>\n",
       "      <td>NaN</td>\n",
       "      <td>...</td>\n",
       "      <td>8</td>\n",
       "      <td>-5.0</td>\n",
       "      <td>-9.0</td>\n",
       "      <td>29.84</td>\n",
       "      <td>71</td>\n",
       "      <td>0</td>\n",
       "      <td>0</td>\n",
       "      <td>NaN</td>\n",
       "      <td>6.577848</td>\n",
       "      <td>2.394141</td>\n",
       "    </tr>\n",
       "    <tr>\n",
       "      <th>4</th>\n",
       "      <td>KGRB</td>\n",
       "      <td>44.48</td>\n",
       "      <td>-88.13</td>\n",
       "      <td>208.0</td>\n",
       "      <td>2000-01-01 00:20:00</td>\n",
       "      <td>250.0</td>\n",
       "      <td>8.0</td>\n",
       "      <td>-SN</td>\n",
       "      <td>NaN</td>\n",
       "      <td>NaN</td>\n",
       "      <td>...</td>\n",
       "      <td>8</td>\n",
       "      <td>-5.0</td>\n",
       "      <td>-9.0</td>\n",
       "      <td>29.85</td>\n",
       "      <td>71</td>\n",
       "      <td>0</td>\n",
       "      <td>0</td>\n",
       "      <td>NaN</td>\n",
       "      <td>7.517541</td>\n",
       "      <td>2.736161</td>\n",
       "    </tr>\n",
       "    <tr>\n",
       "      <th>...</th>\n",
       "      <td>...</td>\n",
       "      <td>...</td>\n",
       "      <td>...</td>\n",
       "      <td>...</td>\n",
       "      <td>...</td>\n",
       "      <td>...</td>\n",
       "      <td>...</td>\n",
       "      <td>...</td>\n",
       "      <td>...</td>\n",
       "      <td>...</td>\n",
       "      <td>...</td>\n",
       "      <td>...</td>\n",
       "      <td>...</td>\n",
       "      <td>...</td>\n",
       "      <td>...</td>\n",
       "      <td>...</td>\n",
       "      <td>...</td>\n",
       "      <td>...</td>\n",
       "      <td>...</td>\n",
       "      <td>...</td>\n",
       "      <td>...</td>\n",
       "    </tr>\n",
       "    <tr>\n",
       "      <th>162303</th>\n",
       "      <td>KGRB</td>\n",
       "      <td>44.48</td>\n",
       "      <td>-88.13</td>\n",
       "      <td>208.0</td>\n",
       "      <td>2020-03-31 14:10:00</td>\n",
       "      <td>20.0</td>\n",
       "      <td>13.0</td>\n",
       "      <td>-SN</td>\n",
       "      <td>BR</td>\n",
       "      <td>NaN</td>\n",
       "      <td>...</td>\n",
       "      <td>8</td>\n",
       "      <td>1.0</td>\n",
       "      <td>-1.0</td>\n",
       "      <td>30.13</td>\n",
       "      <td>71</td>\n",
       "      <td>10</td>\n",
       "      <td>0</td>\n",
       "      <td>NaN</td>\n",
       "      <td>-4.446262</td>\n",
       "      <td>-12.216004</td>\n",
       "    </tr>\n",
       "    <tr>\n",
       "      <th>162304</th>\n",
       "      <td>KGRB</td>\n",
       "      <td>44.48</td>\n",
       "      <td>-88.13</td>\n",
       "      <td>208.0</td>\n",
       "      <td>2020-03-31 14:15:00</td>\n",
       "      <td>20.0</td>\n",
       "      <td>14.0</td>\n",
       "      <td>-SN</td>\n",
       "      <td>BR</td>\n",
       "      <td>NaN</td>\n",
       "      <td>...</td>\n",
       "      <td>8</td>\n",
       "      <td>1.0</td>\n",
       "      <td>-1.0</td>\n",
       "      <td>30.13</td>\n",
       "      <td>71</td>\n",
       "      <td>10</td>\n",
       "      <td>0</td>\n",
       "      <td>NaN</td>\n",
       "      <td>-4.788282</td>\n",
       "      <td>-13.155697</td>\n",
       "    </tr>\n",
       "    <tr>\n",
       "      <th>162305</th>\n",
       "      <td>KGRB</td>\n",
       "      <td>44.48</td>\n",
       "      <td>-88.13</td>\n",
       "      <td>208.0</td>\n",
       "      <td>2020-03-31 14:20:00</td>\n",
       "      <td>30.0</td>\n",
       "      <td>13.0</td>\n",
       "      <td>-SN</td>\n",
       "      <td>BR</td>\n",
       "      <td>NaN</td>\n",
       "      <td>...</td>\n",
       "      <td>8</td>\n",
       "      <td>1.0</td>\n",
       "      <td>-1.0</td>\n",
       "      <td>30.13</td>\n",
       "      <td>71</td>\n",
       "      <td>10</td>\n",
       "      <td>0</td>\n",
       "      <td>NaN</td>\n",
       "      <td>-6.500000</td>\n",
       "      <td>-11.258330</td>\n",
       "    </tr>\n",
       "    <tr>\n",
       "      <th>162306</th>\n",
       "      <td>KGRB</td>\n",
       "      <td>44.48</td>\n",
       "      <td>-88.13</td>\n",
       "      <td>208.0</td>\n",
       "      <td>2020-03-31 14:25:00</td>\n",
       "      <td>30.0</td>\n",
       "      <td>14.0</td>\n",
       "      <td>-SN</td>\n",
       "      <td>BR</td>\n",
       "      <td>NaN</td>\n",
       "      <td>...</td>\n",
       "      <td>8</td>\n",
       "      <td>1.0</td>\n",
       "      <td>-1.0</td>\n",
       "      <td>30.13</td>\n",
       "      <td>71</td>\n",
       "      <td>10</td>\n",
       "      <td>0</td>\n",
       "      <td>NaN</td>\n",
       "      <td>-7.000000</td>\n",
       "      <td>-12.124356</td>\n",
       "    </tr>\n",
       "    <tr>\n",
       "      <th>162307</th>\n",
       "      <td>KGRB</td>\n",
       "      <td>44.48</td>\n",
       "      <td>-88.13</td>\n",
       "      <td>208.0</td>\n",
       "      <td>2020-03-31 15:00:00</td>\n",
       "      <td>40.0</td>\n",
       "      <td>14.0</td>\n",
       "      <td>-RA</td>\n",
       "      <td>NaN</td>\n",
       "      <td>NaN</td>\n",
       "      <td>...</td>\n",
       "      <td>8</td>\n",
       "      <td>1.0</td>\n",
       "      <td>-1.0</td>\n",
       "      <td>30.13</td>\n",
       "      <td>61</td>\n",
       "      <td>0</td>\n",
       "      <td>0</td>\n",
       "      <td>NaN</td>\n",
       "      <td>-8.999027</td>\n",
       "      <td>-10.724622</td>\n",
       "    </tr>\n",
       "  </tbody>\n",
       "</table>\n",
       "<p>162308 rows × 28 columns</p>\n",
       "</div>"
      ],
      "text/plain": [
       "       station_id  latitude  longitude  elevation            date_time  \\\n",
       "0            KGRB     44.48     -88.13      208.0  2000-01-01 00:00:00   \n",
       "1            KGRB     44.48     -88.13      208.0  2000-01-01 00:05:00   \n",
       "2            KGRB     44.48     -88.13      208.0  2000-01-01 00:10:00   \n",
       "3            KGRB     44.48     -88.13      208.0  2000-01-01 00:15:00   \n",
       "4            KGRB     44.48     -88.13      208.0  2000-01-01 00:20:00   \n",
       "...           ...       ...        ...        ...                  ...   \n",
       "162303       KGRB     44.48     -88.13      208.0  2020-03-31 14:10:00   \n",
       "162304       KGRB     44.48     -88.13      208.0  2020-03-31 14:15:00   \n",
       "162305       KGRB     44.48     -88.13      208.0  2020-03-31 14:20:00   \n",
       "162306       KGRB     44.48     -88.13      208.0  2020-03-31 14:25:00   \n",
       "162307       KGRB     44.48     -88.13      208.0  2020-03-31 15:00:00   \n",
       "\n",
       "        wind_direction  wind_speed current_wx1 current_wx2  current_wx3  ...  \\\n",
       "0                250.0         8.0         -SN         NaN          NaN  ...   \n",
       "1                260.0         8.0         -SN         NaN          NaN  ...   \n",
       "2                260.0         9.0         -SN         NaN          NaN  ...   \n",
       "3                250.0         7.0         -SN         NaN          NaN  ...   \n",
       "4                250.0         8.0         -SN         NaN          NaN  ...   \n",
       "...                ...         ...         ...         ...          ...  ...   \n",
       "162303            20.0        13.0         -SN          BR          NaN  ...   \n",
       "162304            20.0        14.0         -SN          BR          NaN  ...   \n",
       "162305            30.0        13.0         -SN          BR          NaN  ...   \n",
       "162306            30.0        14.0         -SN          BR          NaN  ...   \n",
       "162307            40.0        14.0         -RA         NaN          NaN  ...   \n",
       "\n",
       "       cloud_coverage  air_temperature dew_point_temperature  altimeter  \\\n",
       "0                   8             -5.0                  -9.0      29.84   \n",
       "1                   8             -5.0                  -9.0      29.84   \n",
       "2                   8             -5.0                  -9.0      29.84   \n",
       "3                   8             -5.0                  -9.0      29.84   \n",
       "4                   8             -5.0                  -9.0      29.85   \n",
       "...               ...              ...                   ...        ...   \n",
       "162303              8              1.0                  -1.0      30.13   \n",
       "162304              8              1.0                  -1.0      30.13   \n",
       "162305              8              1.0                  -1.0      30.13   \n",
       "162306              8              1.0                  -1.0      30.13   \n",
       "162307              8              1.0                  -1.0      30.13   \n",
       "\n",
       "       present_weather  past_weather  past_weather2  \\\n",
       "0                   71             0              0   \n",
       "1                   71             0              0   \n",
       "2                   71             0              0   \n",
       "3                   71             0              0   \n",
       "4                   71             0              0   \n",
       "...                ...           ...            ...   \n",
       "162303              71            10              0   \n",
       "162304              71            10              0   \n",
       "162305              71            10              0   \n",
       "162306              71            10              0   \n",
       "162307              61             0              0   \n",
       "\n",
       "        air_pressure_at_sea_level  eastward_wind  northward_wind  \n",
       "0                             NaN       7.517541        2.736161  \n",
       "1                             NaN       7.878462        1.389185  \n",
       "2                             NaN       8.863270        1.562834  \n",
       "3                             NaN       6.577848        2.394141  \n",
       "4                             NaN       7.517541        2.736161  \n",
       "...                           ...            ...             ...  \n",
       "162303                        NaN      -4.446262      -12.216004  \n",
       "162304                        NaN      -4.788282      -13.155697  \n",
       "162305                        NaN      -6.500000      -11.258330  \n",
       "162306                        NaN      -7.000000      -12.124356  \n",
       "162307                        NaN      -8.999027      -10.724622  \n",
       "\n",
       "[162308 rows x 28 columns]"
      ]
     },
     "execution_count": 10,
     "metadata": {},
     "output_type": "execute_result"
    }
   ],
   "source": [
    "KGRB_precip"
   ]
  },
  {
   "cell_type": "markdown",
   "metadata": {},
   "source": [
    "Read 5-min observations from 1-year data period (for developing code purposes)"
   ]
  },
  {
   "cell_type": "code",
   "execution_count": 11,
   "metadata": {},
   "outputs": [],
   "source": [
    "precip2000=pd.read_csv('./df2000.csv')"
   ]
  },
  {
   "cell_type": "code",
   "execution_count": 12,
   "metadata": {},
   "outputs": [],
   "source": [
    "# precip2001=pd.read_csv('./df2001.csv')"
   ]
  },
  {
   "cell_type": "code",
   "execution_count": 13,
   "metadata": {},
   "outputs": [
    {
     "name": "stdout",
     "output_type": "stream",
     "text": [
      "['station_id' 'latitude' 'longitude' 'elevation' 'date_time'\n",
      " 'wind_direction' 'wind_speed' 'current_wx1' 'current_wx2' 'current_wx3'\n",
      " 'low_cloud_type' 'low_cloud_level' 'medium_cloud_type'\n",
      " 'medium_cloud_level' 'high_cloud_type' 'high_cloud_level'\n",
      " 'highest_cloud_type' 'highest_cloud_level' 'cloud_coverage'\n",
      " 'air_temperature' 'dew_point_temperature' 'altimeter' 'present_weather'\n",
      " 'past_weather' 'past_weather2' 'air_pressure_at_sea_level'\n",
      " 'eastward_wind' 'northward_wind']\n"
     ]
    }
   ],
   "source": [
    "print(precip2000.columns.values)"
   ]
  },
  {
   "cell_type": "code",
   "execution_count": 14,
   "metadata": {
    "scrolled": true
   },
   "outputs": [
    {
     "data": {
      "text/html": [
       "<div>\n",
       "<style scoped>\n",
       "    .dataframe tbody tr th:only-of-type {\n",
       "        vertical-align: middle;\n",
       "    }\n",
       "\n",
       "    .dataframe tbody tr th {\n",
       "        vertical-align: top;\n",
       "    }\n",
       "\n",
       "    .dataframe thead th {\n",
       "        text-align: right;\n",
       "    }\n",
       "</style>\n",
       "<table border=\"1\" class=\"dataframe\">\n",
       "  <thead>\n",
       "    <tr style=\"text-align: right;\">\n",
       "      <th></th>\n",
       "      <th>station_id</th>\n",
       "      <th>latitude</th>\n",
       "      <th>longitude</th>\n",
       "      <th>elevation</th>\n",
       "      <th>date_time</th>\n",
       "      <th>wind_direction</th>\n",
       "      <th>wind_speed</th>\n",
       "      <th>current_wx1</th>\n",
       "      <th>current_wx2</th>\n",
       "      <th>current_wx3</th>\n",
       "      <th>...</th>\n",
       "      <th>cloud_coverage</th>\n",
       "      <th>air_temperature</th>\n",
       "      <th>dew_point_temperature</th>\n",
       "      <th>altimeter</th>\n",
       "      <th>present_weather</th>\n",
       "      <th>past_weather</th>\n",
       "      <th>past_weather2</th>\n",
       "      <th>air_pressure_at_sea_level</th>\n",
       "      <th>eastward_wind</th>\n",
       "      <th>northward_wind</th>\n",
       "    </tr>\n",
       "  </thead>\n",
       "  <tbody>\n",
       "    <tr>\n",
       "      <th>0</th>\n",
       "      <td>KGRB</td>\n",
       "      <td>44.48</td>\n",
       "      <td>-88.13</td>\n",
       "      <td>208.0</td>\n",
       "      <td>2000-01-01 00:00:00</td>\n",
       "      <td>250.0</td>\n",
       "      <td>8.0</td>\n",
       "      <td>-SN</td>\n",
       "      <td>NaN</td>\n",
       "      <td>NaN</td>\n",
       "      <td>...</td>\n",
       "      <td>8</td>\n",
       "      <td>-5.0</td>\n",
       "      <td>-9.0</td>\n",
       "      <td>29.84</td>\n",
       "      <td>71</td>\n",
       "      <td>0</td>\n",
       "      <td>0</td>\n",
       "      <td>NaN</td>\n",
       "      <td>7.517541</td>\n",
       "      <td>2.736161</td>\n",
       "    </tr>\n",
       "    <tr>\n",
       "      <th>1</th>\n",
       "      <td>KGRB</td>\n",
       "      <td>44.48</td>\n",
       "      <td>-88.13</td>\n",
       "      <td>208.0</td>\n",
       "      <td>2000-01-01 00:05:00</td>\n",
       "      <td>260.0</td>\n",
       "      <td>8.0</td>\n",
       "      <td>-SN</td>\n",
       "      <td>NaN</td>\n",
       "      <td>NaN</td>\n",
       "      <td>...</td>\n",
       "      <td>8</td>\n",
       "      <td>-5.0</td>\n",
       "      <td>-9.0</td>\n",
       "      <td>29.84</td>\n",
       "      <td>71</td>\n",
       "      <td>0</td>\n",
       "      <td>0</td>\n",
       "      <td>NaN</td>\n",
       "      <td>7.878462</td>\n",
       "      <td>1.389185</td>\n",
       "    </tr>\n",
       "    <tr>\n",
       "      <th>2</th>\n",
       "      <td>KGRB</td>\n",
       "      <td>44.48</td>\n",
       "      <td>-88.13</td>\n",
       "      <td>208.0</td>\n",
       "      <td>2000-01-01 00:10:00</td>\n",
       "      <td>260.0</td>\n",
       "      <td>9.0</td>\n",
       "      <td>-SN</td>\n",
       "      <td>NaN</td>\n",
       "      <td>NaN</td>\n",
       "      <td>...</td>\n",
       "      <td>8</td>\n",
       "      <td>-5.0</td>\n",
       "      <td>-9.0</td>\n",
       "      <td>29.84</td>\n",
       "      <td>71</td>\n",
       "      <td>0</td>\n",
       "      <td>0</td>\n",
       "      <td>NaN</td>\n",
       "      <td>8.863270</td>\n",
       "      <td>1.562834</td>\n",
       "    </tr>\n",
       "    <tr>\n",
       "      <th>3</th>\n",
       "      <td>KGRB</td>\n",
       "      <td>44.48</td>\n",
       "      <td>-88.13</td>\n",
       "      <td>208.0</td>\n",
       "      <td>2000-01-01 00:15:00</td>\n",
       "      <td>250.0</td>\n",
       "      <td>7.0</td>\n",
       "      <td>-SN</td>\n",
       "      <td>NaN</td>\n",
       "      <td>NaN</td>\n",
       "      <td>...</td>\n",
       "      <td>8</td>\n",
       "      <td>-5.0</td>\n",
       "      <td>-9.0</td>\n",
       "      <td>29.84</td>\n",
       "      <td>71</td>\n",
       "      <td>0</td>\n",
       "      <td>0</td>\n",
       "      <td>NaN</td>\n",
       "      <td>6.577848</td>\n",
       "      <td>2.394141</td>\n",
       "    </tr>\n",
       "    <tr>\n",
       "      <th>4</th>\n",
       "      <td>KGRB</td>\n",
       "      <td>44.48</td>\n",
       "      <td>-88.13</td>\n",
       "      <td>208.0</td>\n",
       "      <td>2000-01-01 00:20:00</td>\n",
       "      <td>250.0</td>\n",
       "      <td>8.0</td>\n",
       "      <td>-SN</td>\n",
       "      <td>NaN</td>\n",
       "      <td>NaN</td>\n",
       "      <td>...</td>\n",
       "      <td>8</td>\n",
       "      <td>-5.0</td>\n",
       "      <td>-9.0</td>\n",
       "      <td>29.85</td>\n",
       "      <td>71</td>\n",
       "      <td>0</td>\n",
       "      <td>0</td>\n",
       "      <td>NaN</td>\n",
       "      <td>7.517541</td>\n",
       "      <td>2.736161</td>\n",
       "    </tr>\n",
       "    <tr>\n",
       "      <th>...</th>\n",
       "      <td>...</td>\n",
       "      <td>...</td>\n",
       "      <td>...</td>\n",
       "      <td>...</td>\n",
       "      <td>...</td>\n",
       "      <td>...</td>\n",
       "      <td>...</td>\n",
       "      <td>...</td>\n",
       "      <td>...</td>\n",
       "      <td>...</td>\n",
       "      <td>...</td>\n",
       "      <td>...</td>\n",
       "      <td>...</td>\n",
       "      <td>...</td>\n",
       "      <td>...</td>\n",
       "      <td>...</td>\n",
       "      <td>...</td>\n",
       "      <td>...</td>\n",
       "      <td>...</td>\n",
       "      <td>...</td>\n",
       "      <td>...</td>\n",
       "    </tr>\n",
       "    <tr>\n",
       "      <th>9741</th>\n",
       "      <td>KGRB</td>\n",
       "      <td>44.48</td>\n",
       "      <td>-88.13</td>\n",
       "      <td>208.0</td>\n",
       "      <td>2000-12-29 18:40:00</td>\n",
       "      <td>30.0</td>\n",
       "      <td>13.0</td>\n",
       "      <td>-SN</td>\n",
       "      <td>BR</td>\n",
       "      <td>NaN</td>\n",
       "      <td>...</td>\n",
       "      <td>8</td>\n",
       "      <td>-5.0</td>\n",
       "      <td>-7.0</td>\n",
       "      <td>30.05</td>\n",
       "      <td>71</td>\n",
       "      <td>10</td>\n",
       "      <td>0</td>\n",
       "      <td>NaN</td>\n",
       "      <td>-6.500000</td>\n",
       "      <td>-11.258330</td>\n",
       "    </tr>\n",
       "    <tr>\n",
       "      <th>9742</th>\n",
       "      <td>KGRB</td>\n",
       "      <td>44.48</td>\n",
       "      <td>-88.13</td>\n",
       "      <td>208.0</td>\n",
       "      <td>2000-12-29 18:45:00</td>\n",
       "      <td>30.0</td>\n",
       "      <td>11.0</td>\n",
       "      <td>-SN</td>\n",
       "      <td>BR</td>\n",
       "      <td>NaN</td>\n",
       "      <td>...</td>\n",
       "      <td>8</td>\n",
       "      <td>-5.0</td>\n",
       "      <td>-7.0</td>\n",
       "      <td>30.05</td>\n",
       "      <td>71</td>\n",
       "      <td>10</td>\n",
       "      <td>0</td>\n",
       "      <td>NaN</td>\n",
       "      <td>-5.500000</td>\n",
       "      <td>-9.526279</td>\n",
       "    </tr>\n",
       "    <tr>\n",
       "      <th>9743</th>\n",
       "      <td>KGRB</td>\n",
       "      <td>44.48</td>\n",
       "      <td>-88.13</td>\n",
       "      <td>208.0</td>\n",
       "      <td>2000-12-29 18:50:00</td>\n",
       "      <td>30.0</td>\n",
       "      <td>12.0</td>\n",
       "      <td>-SN</td>\n",
       "      <td>BR</td>\n",
       "      <td>NaN</td>\n",
       "      <td>...</td>\n",
       "      <td>8</td>\n",
       "      <td>-5.0</td>\n",
       "      <td>-7.0</td>\n",
       "      <td>30.05</td>\n",
       "      <td>71</td>\n",
       "      <td>10</td>\n",
       "      <td>0</td>\n",
       "      <td>NaN</td>\n",
       "      <td>-6.000000</td>\n",
       "      <td>-10.392305</td>\n",
       "    </tr>\n",
       "    <tr>\n",
       "      <th>9744</th>\n",
       "      <td>KGRB</td>\n",
       "      <td>44.48</td>\n",
       "      <td>-88.13</td>\n",
       "      <td>208.0</td>\n",
       "      <td>2000-12-29 18:55:00</td>\n",
       "      <td>30.0</td>\n",
       "      <td>13.0</td>\n",
       "      <td>-SN</td>\n",
       "      <td>BR</td>\n",
       "      <td>NaN</td>\n",
       "      <td>...</td>\n",
       "      <td>8</td>\n",
       "      <td>-5.0</td>\n",
       "      <td>-7.0</td>\n",
       "      <td>30.05</td>\n",
       "      <td>71</td>\n",
       "      <td>10</td>\n",
       "      <td>0</td>\n",
       "      <td>NaN</td>\n",
       "      <td>-6.500000</td>\n",
       "      <td>-11.258330</td>\n",
       "    </tr>\n",
       "    <tr>\n",
       "      <th>9745</th>\n",
       "      <td>KGRB</td>\n",
       "      <td>44.48</td>\n",
       "      <td>-88.13</td>\n",
       "      <td>208.0</td>\n",
       "      <td>2000-12-29 19:00:00</td>\n",
       "      <td>30.0</td>\n",
       "      <td>16.0</td>\n",
       "      <td>-SN</td>\n",
       "      <td>BR</td>\n",
       "      <td>NaN</td>\n",
       "      <td>...</td>\n",
       "      <td>8</td>\n",
       "      <td>-5.0</td>\n",
       "      <td>-7.0</td>\n",
       "      <td>30.05</td>\n",
       "      <td>71</td>\n",
       "      <td>10</td>\n",
       "      <td>0</td>\n",
       "      <td>NaN</td>\n",
       "      <td>-8.000000</td>\n",
       "      <td>-13.856406</td>\n",
       "    </tr>\n",
       "  </tbody>\n",
       "</table>\n",
       "<p>9746 rows × 28 columns</p>\n",
       "</div>"
      ],
      "text/plain": [
       "     station_id  latitude  longitude  elevation            date_time  \\\n",
       "0          KGRB     44.48     -88.13      208.0  2000-01-01 00:00:00   \n",
       "1          KGRB     44.48     -88.13      208.0  2000-01-01 00:05:00   \n",
       "2          KGRB     44.48     -88.13      208.0  2000-01-01 00:10:00   \n",
       "3          KGRB     44.48     -88.13      208.0  2000-01-01 00:15:00   \n",
       "4          KGRB     44.48     -88.13      208.0  2000-01-01 00:20:00   \n",
       "...         ...       ...        ...        ...                  ...   \n",
       "9741       KGRB     44.48     -88.13      208.0  2000-12-29 18:40:00   \n",
       "9742       KGRB     44.48     -88.13      208.0  2000-12-29 18:45:00   \n",
       "9743       KGRB     44.48     -88.13      208.0  2000-12-29 18:50:00   \n",
       "9744       KGRB     44.48     -88.13      208.0  2000-12-29 18:55:00   \n",
       "9745       KGRB     44.48     -88.13      208.0  2000-12-29 19:00:00   \n",
       "\n",
       "      wind_direction  wind_speed current_wx1 current_wx2  current_wx3  ...  \\\n",
       "0              250.0         8.0         -SN         NaN          NaN  ...   \n",
       "1              260.0         8.0         -SN         NaN          NaN  ...   \n",
       "2              260.0         9.0         -SN         NaN          NaN  ...   \n",
       "3              250.0         7.0         -SN         NaN          NaN  ...   \n",
       "4              250.0         8.0         -SN         NaN          NaN  ...   \n",
       "...              ...         ...         ...         ...          ...  ...   \n",
       "9741            30.0        13.0         -SN          BR          NaN  ...   \n",
       "9742            30.0        11.0         -SN          BR          NaN  ...   \n",
       "9743            30.0        12.0         -SN          BR          NaN  ...   \n",
       "9744            30.0        13.0         -SN          BR          NaN  ...   \n",
       "9745            30.0        16.0         -SN          BR          NaN  ...   \n",
       "\n",
       "     cloud_coverage  air_temperature dew_point_temperature  altimeter  \\\n",
       "0                 8             -5.0                  -9.0      29.84   \n",
       "1                 8             -5.0                  -9.0      29.84   \n",
       "2                 8             -5.0                  -9.0      29.84   \n",
       "3                 8             -5.0                  -9.0      29.84   \n",
       "4                 8             -5.0                  -9.0      29.85   \n",
       "...             ...              ...                   ...        ...   \n",
       "9741              8             -5.0                  -7.0      30.05   \n",
       "9742              8             -5.0                  -7.0      30.05   \n",
       "9743              8             -5.0                  -7.0      30.05   \n",
       "9744              8             -5.0                  -7.0      30.05   \n",
       "9745              8             -5.0                  -7.0      30.05   \n",
       "\n",
       "     present_weather  past_weather  past_weather2  air_pressure_at_sea_level  \\\n",
       "0                 71             0              0                        NaN   \n",
       "1                 71             0              0                        NaN   \n",
       "2                 71             0              0                        NaN   \n",
       "3                 71             0              0                        NaN   \n",
       "4                 71             0              0                        NaN   \n",
       "...              ...           ...            ...                        ...   \n",
       "9741              71            10              0                        NaN   \n",
       "9742              71            10              0                        NaN   \n",
       "9743              71            10              0                        NaN   \n",
       "9744              71            10              0                        NaN   \n",
       "9745              71            10              0                        NaN   \n",
       "\n",
       "      eastward_wind  northward_wind  \n",
       "0          7.517541        2.736161  \n",
       "1          7.878462        1.389185  \n",
       "2          8.863270        1.562834  \n",
       "3          6.577848        2.394141  \n",
       "4          7.517541        2.736161  \n",
       "...             ...             ...  \n",
       "9741      -6.500000      -11.258330  \n",
       "9742      -5.500000       -9.526279  \n",
       "9743      -6.000000      -10.392305  \n",
       "9744      -6.500000      -11.258330  \n",
       "9745      -8.000000      -13.856406  \n",
       "\n",
       "[9746 rows x 28 columns]"
      ]
     },
     "execution_count": 14,
     "metadata": {},
     "output_type": "execute_result"
    }
   ],
   "source": [
    "precip2000"
   ]
  },
  {
   "cell_type": "code",
   "execution_count": 15,
   "metadata": {},
   "outputs": [],
   "source": [
    "# Datetime index for csv file\n",
    "precip2000.index = pd.to_datetime(precip2000.date_time)"
   ]
  },
  {
   "cell_type": "markdown",
   "metadata": {},
   "source": [
    "Read features of categorical variable for classification"
   ]
  },
  {
   "cell_type": "code",
   "execution_count": 16,
   "metadata": {},
   "outputs": [
    {
     "name": "stdout",
     "output_type": "stream",
     "text": [
      "There are 10 levels in the current_wx1 column\n"
     ]
    }
   ],
   "source": [
    "# Multi-class, categorical variable with n-features\n",
    "levels = len(pd.value_counts(precip2000['current_wx1']))\n",
    "print('There are {} levels in the current_wx1 column'.format(levels))\n"
   ]
  },
  {
   "cell_type": "code",
   "execution_count": 17,
   "metadata": {},
   "outputs": [],
   "source": [
    "# Columns of interest in dataframe\n",
    "precip2=pd.DataFrame()\n",
    "precip2['wind_speed']=precip2000['wind_speed']\n",
    "precip2['air_temperature']=precip2000['air_temperature']\n",
    "precip2['dew_point_temperature']=precip2000['dew_point_temperature']\n",
    "precip2['eastward_wind']=precip2000['eastward_wind']\n",
    "precip2['northward_wind']=precip2000['northward_wind']\n",
    "precip2['present_weather']=precip2000['present_weather']\n",
    "precip2['current_wx1']=precip2000['current_wx1']"
   ]
  },
  {
   "cell_type": "markdown",
   "metadata": {},
   "source": [
    "For ASOS observations from 2000-2020 data period"
   ]
  },
  {
   "cell_type": "code",
   "execution_count": 18,
   "metadata": {},
   "outputs": [],
   "source": [
    "precip1=pd.DataFrame()\n",
    "precip1['wind_speed']=KGRB_precip['wind_speed']\n",
    "precip1['air_temperature']=KGRB_precip['air_temperature']\n",
    "precip1['dew_point_temperature']=KGRB_precip['dew_point_temperature']\n",
    "precip1['eastward_wind']=KGRB_precip['eastward_wind']\n",
    "precip1['northward_wind']=KGRB_precip['northward_wind']\n",
    "precip1['present_weather']=KGRB_precip['present_weather']\n",
    "precip1['current_wx1']=KGRB_precip['current_wx1']"
   ]
  },
  {
   "cell_type": "code",
   "execution_count": 19,
   "metadata": {},
   "outputs": [],
   "source": [
    "#precip1['current_wx1']"
   ]
  },
  {
   "cell_type": "markdown",
   "metadata": {},
   "source": [
    "Targets (Snow, Rain) for Binary Classification"
   ]
  },
  {
   "cell_type": "code",
   "execution_count": 103,
   "metadata": {},
   "outputs": [],
   "source": [
    "targets = ['SN', 'RA']\n",
    "\n",
    "# Any word from `targets` are present in sentence.\n",
    "precip4=KGRB_precip[KGRB_precip.current_wx1.apply(lambda sentence: any(word in sentence for word in targets))]"
   ]
  },
  {
   "cell_type": "code",
   "execution_count": 104,
   "metadata": {},
   "outputs": [],
   "source": [
    "precip1=pd.DataFrame()\n",
    "precip1['wind_speed']=precip4['wind_speed']\n",
    "precip1['air_temperature']=precip4['air_temperature']\n",
    "precip1['dew_point_temperature']=precip4['dew_point_temperature']\n",
    "precip1['eastward_wind']=precip4['eastward_wind']\n",
    "precip1['northward_wind']=precip4['northward_wind']\n",
    "precip1['low_cloud_level']=precip4['low_cloud_level']\n",
    "precip1['altimeter']=precip4['altimeter']\n",
    "\n",
    "precip1['low_cloud_type']=precip4['low_cloud_type']\n",
    "precip1['cloud_coverage']=precip4['cloud_coverage']\n",
    "precip1['present_weather']=precip4['present_weather']\n",
    "\n",
    "precip1['current_wx1']=precip4['current_wx1']"
   ]
  },
  {
   "cell_type": "markdown",
   "metadata": {},
   "source": [
    "Drop mixed features (Snow and Rain)"
   ]
  },
  {
   "cell_type": "code",
   "execution_count": 105,
   "metadata": {},
   "outputs": [],
   "source": [
    "precip1=precip1[precip1.current_wx1 != 'SNRA']"
   ]
  },
  {
   "cell_type": "markdown",
   "metadata": {},
   "source": [
    "Binarization"
   ]
  },
  {
   "cell_type": "code",
   "execution_count": 106,
   "metadata": {},
   "outputs": [],
   "source": [
    "precip1['Snow']=precip1.current_wx1.apply(lambda x: 1 if x in ['SN','-SN', '+SN'] else 0)"
   ]
  },
  {
   "cell_type": "code",
   "execution_count": 107,
   "metadata": {},
   "outputs": [
    {
     "data": {
      "text/html": [
       "<div>\n",
       "<style scoped>\n",
       "    .dataframe tbody tr th:only-of-type {\n",
       "        vertical-align: middle;\n",
       "    }\n",
       "\n",
       "    .dataframe tbody tr th {\n",
       "        vertical-align: top;\n",
       "    }\n",
       "\n",
       "    .dataframe thead th {\n",
       "        text-align: right;\n",
       "    }\n",
       "</style>\n",
       "<table border=\"1\" class=\"dataframe\">\n",
       "  <thead>\n",
       "    <tr style=\"text-align: right;\">\n",
       "      <th></th>\n",
       "      <th>wind_speed</th>\n",
       "      <th>air_temperature</th>\n",
       "      <th>dew_point_temperature</th>\n",
       "      <th>eastward_wind</th>\n",
       "      <th>northward_wind</th>\n",
       "      <th>low_cloud_level</th>\n",
       "      <th>altimeter</th>\n",
       "      <th>low_cloud_type</th>\n",
       "      <th>cloud_coverage</th>\n",
       "      <th>present_weather</th>\n",
       "      <th>current_wx1</th>\n",
       "      <th>Snow</th>\n",
       "    </tr>\n",
       "  </thead>\n",
       "  <tbody>\n",
       "    <tr>\n",
       "      <th>0</th>\n",
       "      <td>8.0</td>\n",
       "      <td>-5.0</td>\n",
       "      <td>-9.0</td>\n",
       "      <td>7.517541</td>\n",
       "      <td>2.736161</td>\n",
       "      <td>4100.0</td>\n",
       "      <td>29.84</td>\n",
       "      <td>OVC</td>\n",
       "      <td>8</td>\n",
       "      <td>71</td>\n",
       "      <td>-SN</td>\n",
       "      <td>1</td>\n",
       "    </tr>\n",
       "    <tr>\n",
       "      <th>1</th>\n",
       "      <td>8.0</td>\n",
       "      <td>-5.0</td>\n",
       "      <td>-9.0</td>\n",
       "      <td>7.878462</td>\n",
       "      <td>1.389185</td>\n",
       "      <td>3900.0</td>\n",
       "      <td>29.84</td>\n",
       "      <td>OVC</td>\n",
       "      <td>8</td>\n",
       "      <td>71</td>\n",
       "      <td>-SN</td>\n",
       "      <td>1</td>\n",
       "    </tr>\n",
       "    <tr>\n",
       "      <th>2</th>\n",
       "      <td>9.0</td>\n",
       "      <td>-5.0</td>\n",
       "      <td>-9.0</td>\n",
       "      <td>8.863270</td>\n",
       "      <td>1.562834</td>\n",
       "      <td>3900.0</td>\n",
       "      <td>29.84</td>\n",
       "      <td>OVC</td>\n",
       "      <td>8</td>\n",
       "      <td>71</td>\n",
       "      <td>-SN</td>\n",
       "      <td>1</td>\n",
       "    </tr>\n",
       "    <tr>\n",
       "      <th>3</th>\n",
       "      <td>7.0</td>\n",
       "      <td>-5.0</td>\n",
       "      <td>-9.0</td>\n",
       "      <td>6.577848</td>\n",
       "      <td>2.394141</td>\n",
       "      <td>3700.0</td>\n",
       "      <td>29.84</td>\n",
       "      <td>OVC</td>\n",
       "      <td>8</td>\n",
       "      <td>71</td>\n",
       "      <td>-SN</td>\n",
       "      <td>1</td>\n",
       "    </tr>\n",
       "    <tr>\n",
       "      <th>4</th>\n",
       "      <td>8.0</td>\n",
       "      <td>-5.0</td>\n",
       "      <td>-9.0</td>\n",
       "      <td>7.517541</td>\n",
       "      <td>2.736161</td>\n",
       "      <td>3700.0</td>\n",
       "      <td>29.85</td>\n",
       "      <td>OVC</td>\n",
       "      <td>8</td>\n",
       "      <td>71</td>\n",
       "      <td>-SN</td>\n",
       "      <td>1</td>\n",
       "    </tr>\n",
       "    <tr>\n",
       "      <th>...</th>\n",
       "      <td>...</td>\n",
       "      <td>...</td>\n",
       "      <td>...</td>\n",
       "      <td>...</td>\n",
       "      <td>...</td>\n",
       "      <td>...</td>\n",
       "      <td>...</td>\n",
       "      <td>...</td>\n",
       "      <td>...</td>\n",
       "      <td>...</td>\n",
       "      <td>...</td>\n",
       "      <td>...</td>\n",
       "    </tr>\n",
       "    <tr>\n",
       "      <th>162303</th>\n",
       "      <td>13.0</td>\n",
       "      <td>1.0</td>\n",
       "      <td>-1.0</td>\n",
       "      <td>-4.446262</td>\n",
       "      <td>-12.216004</td>\n",
       "      <td>1000.0</td>\n",
       "      <td>30.13</td>\n",
       "      <td>BKN</td>\n",
       "      <td>8</td>\n",
       "      <td>71</td>\n",
       "      <td>-SN</td>\n",
       "      <td>1</td>\n",
       "    </tr>\n",
       "    <tr>\n",
       "      <th>162304</th>\n",
       "      <td>14.0</td>\n",
       "      <td>1.0</td>\n",
       "      <td>-1.0</td>\n",
       "      <td>-4.788282</td>\n",
       "      <td>-13.155697</td>\n",
       "      <td>1000.0</td>\n",
       "      <td>30.13</td>\n",
       "      <td>BKN</td>\n",
       "      <td>8</td>\n",
       "      <td>71</td>\n",
       "      <td>-SN</td>\n",
       "      <td>1</td>\n",
       "    </tr>\n",
       "    <tr>\n",
       "      <th>162305</th>\n",
       "      <td>13.0</td>\n",
       "      <td>1.0</td>\n",
       "      <td>-1.0</td>\n",
       "      <td>-6.500000</td>\n",
       "      <td>-11.258330</td>\n",
       "      <td>800.0</td>\n",
       "      <td>30.13</td>\n",
       "      <td>SCT</td>\n",
       "      <td>8</td>\n",
       "      <td>71</td>\n",
       "      <td>-SN</td>\n",
       "      <td>1</td>\n",
       "    </tr>\n",
       "    <tr>\n",
       "      <th>162306</th>\n",
       "      <td>14.0</td>\n",
       "      <td>1.0</td>\n",
       "      <td>-1.0</td>\n",
       "      <td>-7.000000</td>\n",
       "      <td>-12.124356</td>\n",
       "      <td>800.0</td>\n",
       "      <td>30.13</td>\n",
       "      <td>BKN</td>\n",
       "      <td>8</td>\n",
       "      <td>71</td>\n",
       "      <td>-SN</td>\n",
       "      <td>1</td>\n",
       "    </tr>\n",
       "    <tr>\n",
       "      <th>162307</th>\n",
       "      <td>14.0</td>\n",
       "      <td>1.0</td>\n",
       "      <td>-1.0</td>\n",
       "      <td>-8.999027</td>\n",
       "      <td>-10.724622</td>\n",
       "      <td>1100.0</td>\n",
       "      <td>30.13</td>\n",
       "      <td>BKN</td>\n",
       "      <td>8</td>\n",
       "      <td>61</td>\n",
       "      <td>-RA</td>\n",
       "      <td>0</td>\n",
       "    </tr>\n",
       "  </tbody>\n",
       "</table>\n",
       "<p>162306 rows × 12 columns</p>\n",
       "</div>"
      ],
      "text/plain": [
       "        wind_speed  air_temperature  dew_point_temperature  eastward_wind  \\\n",
       "0              8.0             -5.0                   -9.0       7.517541   \n",
       "1              8.0             -5.0                   -9.0       7.878462   \n",
       "2              9.0             -5.0                   -9.0       8.863270   \n",
       "3              7.0             -5.0                   -9.0       6.577848   \n",
       "4              8.0             -5.0                   -9.0       7.517541   \n",
       "...            ...              ...                    ...            ...   \n",
       "162303        13.0              1.0                   -1.0      -4.446262   \n",
       "162304        14.0              1.0                   -1.0      -4.788282   \n",
       "162305        13.0              1.0                   -1.0      -6.500000   \n",
       "162306        14.0              1.0                   -1.0      -7.000000   \n",
       "162307        14.0              1.0                   -1.0      -8.999027   \n",
       "\n",
       "        northward_wind  low_cloud_level  altimeter low_cloud_type  \\\n",
       "0             2.736161           4100.0      29.84            OVC   \n",
       "1             1.389185           3900.0      29.84            OVC   \n",
       "2             1.562834           3900.0      29.84            OVC   \n",
       "3             2.394141           3700.0      29.84            OVC   \n",
       "4             2.736161           3700.0      29.85            OVC   \n",
       "...                ...              ...        ...            ...   \n",
       "162303      -12.216004           1000.0      30.13            BKN   \n",
       "162304      -13.155697           1000.0      30.13            BKN   \n",
       "162305      -11.258330            800.0      30.13            SCT   \n",
       "162306      -12.124356            800.0      30.13            BKN   \n",
       "162307      -10.724622           1100.0      30.13            BKN   \n",
       "\n",
       "        cloud_coverage  present_weather current_wx1  Snow  \n",
       "0                    8               71         -SN     1  \n",
       "1                    8               71         -SN     1  \n",
       "2                    8               71         -SN     1  \n",
       "3                    8               71         -SN     1  \n",
       "4                    8               71         -SN     1  \n",
       "...                ...              ...         ...   ...  \n",
       "162303               8               71         -SN     1  \n",
       "162304               8               71         -SN     1  \n",
       "162305               8               71         -SN     1  \n",
       "162306               8               71         -SN     1  \n",
       "162307               8               61         -RA     0  \n",
       "\n",
       "[162306 rows x 12 columns]"
      ]
     },
     "execution_count": 107,
     "metadata": {},
     "output_type": "execute_result"
    }
   ],
   "source": [
    "precip1"
   ]
  },
  {
   "cell_type": "markdown",
   "metadata": {},
   "source": [
    "Drop NaN Values "
   ]
  },
  {
   "cell_type": "code",
   "execution_count": 108,
   "metadata": {},
   "outputs": [],
   "source": [
    "precip1=precip1.dropna()"
   ]
  },
  {
   "cell_type": "code",
   "execution_count": 109,
   "metadata": {},
   "outputs": [
    {
     "data": {
      "text/html": [
       "<div>\n",
       "<style scoped>\n",
       "    .dataframe tbody tr th:only-of-type {\n",
       "        vertical-align: middle;\n",
       "    }\n",
       "\n",
       "    .dataframe tbody tr th {\n",
       "        vertical-align: top;\n",
       "    }\n",
       "\n",
       "    .dataframe thead th {\n",
       "        text-align: right;\n",
       "    }\n",
       "</style>\n",
       "<table border=\"1\" class=\"dataframe\">\n",
       "  <thead>\n",
       "    <tr style=\"text-align: right;\">\n",
       "      <th></th>\n",
       "      <th>wind_speed</th>\n",
       "      <th>air_temperature</th>\n",
       "      <th>dew_point_temperature</th>\n",
       "      <th>eastward_wind</th>\n",
       "      <th>northward_wind</th>\n",
       "      <th>low_cloud_level</th>\n",
       "      <th>altimeter</th>\n",
       "      <th>low_cloud_type</th>\n",
       "      <th>cloud_coverage</th>\n",
       "      <th>present_weather</th>\n",
       "      <th>current_wx1</th>\n",
       "      <th>Snow</th>\n",
       "    </tr>\n",
       "  </thead>\n",
       "  <tbody>\n",
       "    <tr>\n",
       "      <th>0</th>\n",
       "      <td>8.0</td>\n",
       "      <td>-5.0</td>\n",
       "      <td>-9.0</td>\n",
       "      <td>7.517541</td>\n",
       "      <td>2.736161</td>\n",
       "      <td>4100.0</td>\n",
       "      <td>29.84</td>\n",
       "      <td>OVC</td>\n",
       "      <td>8</td>\n",
       "      <td>71</td>\n",
       "      <td>-SN</td>\n",
       "      <td>1</td>\n",
       "    </tr>\n",
       "    <tr>\n",
       "      <th>1</th>\n",
       "      <td>8.0</td>\n",
       "      <td>-5.0</td>\n",
       "      <td>-9.0</td>\n",
       "      <td>7.878462</td>\n",
       "      <td>1.389185</td>\n",
       "      <td>3900.0</td>\n",
       "      <td>29.84</td>\n",
       "      <td>OVC</td>\n",
       "      <td>8</td>\n",
       "      <td>71</td>\n",
       "      <td>-SN</td>\n",
       "      <td>1</td>\n",
       "    </tr>\n",
       "    <tr>\n",
       "      <th>2</th>\n",
       "      <td>9.0</td>\n",
       "      <td>-5.0</td>\n",
       "      <td>-9.0</td>\n",
       "      <td>8.863270</td>\n",
       "      <td>1.562834</td>\n",
       "      <td>3900.0</td>\n",
       "      <td>29.84</td>\n",
       "      <td>OVC</td>\n",
       "      <td>8</td>\n",
       "      <td>71</td>\n",
       "      <td>-SN</td>\n",
       "      <td>1</td>\n",
       "    </tr>\n",
       "    <tr>\n",
       "      <th>3</th>\n",
       "      <td>7.0</td>\n",
       "      <td>-5.0</td>\n",
       "      <td>-9.0</td>\n",
       "      <td>6.577848</td>\n",
       "      <td>2.394141</td>\n",
       "      <td>3700.0</td>\n",
       "      <td>29.84</td>\n",
       "      <td>OVC</td>\n",
       "      <td>8</td>\n",
       "      <td>71</td>\n",
       "      <td>-SN</td>\n",
       "      <td>1</td>\n",
       "    </tr>\n",
       "    <tr>\n",
       "      <th>4</th>\n",
       "      <td>8.0</td>\n",
       "      <td>-5.0</td>\n",
       "      <td>-9.0</td>\n",
       "      <td>7.517541</td>\n",
       "      <td>2.736161</td>\n",
       "      <td>3700.0</td>\n",
       "      <td>29.85</td>\n",
       "      <td>OVC</td>\n",
       "      <td>8</td>\n",
       "      <td>71</td>\n",
       "      <td>-SN</td>\n",
       "      <td>1</td>\n",
       "    </tr>\n",
       "    <tr>\n",
       "      <th>...</th>\n",
       "      <td>...</td>\n",
       "      <td>...</td>\n",
       "      <td>...</td>\n",
       "      <td>...</td>\n",
       "      <td>...</td>\n",
       "      <td>...</td>\n",
       "      <td>...</td>\n",
       "      <td>...</td>\n",
       "      <td>...</td>\n",
       "      <td>...</td>\n",
       "      <td>...</td>\n",
       "      <td>...</td>\n",
       "    </tr>\n",
       "    <tr>\n",
       "      <th>162303</th>\n",
       "      <td>13.0</td>\n",
       "      <td>1.0</td>\n",
       "      <td>-1.0</td>\n",
       "      <td>-4.446262</td>\n",
       "      <td>-12.216004</td>\n",
       "      <td>1000.0</td>\n",
       "      <td>30.13</td>\n",
       "      <td>BKN</td>\n",
       "      <td>8</td>\n",
       "      <td>71</td>\n",
       "      <td>-SN</td>\n",
       "      <td>1</td>\n",
       "    </tr>\n",
       "    <tr>\n",
       "      <th>162304</th>\n",
       "      <td>14.0</td>\n",
       "      <td>1.0</td>\n",
       "      <td>-1.0</td>\n",
       "      <td>-4.788282</td>\n",
       "      <td>-13.155697</td>\n",
       "      <td>1000.0</td>\n",
       "      <td>30.13</td>\n",
       "      <td>BKN</td>\n",
       "      <td>8</td>\n",
       "      <td>71</td>\n",
       "      <td>-SN</td>\n",
       "      <td>1</td>\n",
       "    </tr>\n",
       "    <tr>\n",
       "      <th>162305</th>\n",
       "      <td>13.0</td>\n",
       "      <td>1.0</td>\n",
       "      <td>-1.0</td>\n",
       "      <td>-6.500000</td>\n",
       "      <td>-11.258330</td>\n",
       "      <td>800.0</td>\n",
       "      <td>30.13</td>\n",
       "      <td>SCT</td>\n",
       "      <td>8</td>\n",
       "      <td>71</td>\n",
       "      <td>-SN</td>\n",
       "      <td>1</td>\n",
       "    </tr>\n",
       "    <tr>\n",
       "      <th>162306</th>\n",
       "      <td>14.0</td>\n",
       "      <td>1.0</td>\n",
       "      <td>-1.0</td>\n",
       "      <td>-7.000000</td>\n",
       "      <td>-12.124356</td>\n",
       "      <td>800.0</td>\n",
       "      <td>30.13</td>\n",
       "      <td>BKN</td>\n",
       "      <td>8</td>\n",
       "      <td>71</td>\n",
       "      <td>-SN</td>\n",
       "      <td>1</td>\n",
       "    </tr>\n",
       "    <tr>\n",
       "      <th>162307</th>\n",
       "      <td>14.0</td>\n",
       "      <td>1.0</td>\n",
       "      <td>-1.0</td>\n",
       "      <td>-8.999027</td>\n",
       "      <td>-10.724622</td>\n",
       "      <td>1100.0</td>\n",
       "      <td>30.13</td>\n",
       "      <td>BKN</td>\n",
       "      <td>8</td>\n",
       "      <td>61</td>\n",
       "      <td>-RA</td>\n",
       "      <td>0</td>\n",
       "    </tr>\n",
       "  </tbody>\n",
       "</table>\n",
       "<p>159669 rows × 12 columns</p>\n",
       "</div>"
      ],
      "text/plain": [
       "        wind_speed  air_temperature  dew_point_temperature  eastward_wind  \\\n",
       "0              8.0             -5.0                   -9.0       7.517541   \n",
       "1              8.0             -5.0                   -9.0       7.878462   \n",
       "2              9.0             -5.0                   -9.0       8.863270   \n",
       "3              7.0             -5.0                   -9.0       6.577848   \n",
       "4              8.0             -5.0                   -9.0       7.517541   \n",
       "...            ...              ...                    ...            ...   \n",
       "162303        13.0              1.0                   -1.0      -4.446262   \n",
       "162304        14.0              1.0                   -1.0      -4.788282   \n",
       "162305        13.0              1.0                   -1.0      -6.500000   \n",
       "162306        14.0              1.0                   -1.0      -7.000000   \n",
       "162307        14.0              1.0                   -1.0      -8.999027   \n",
       "\n",
       "        northward_wind  low_cloud_level  altimeter low_cloud_type  \\\n",
       "0             2.736161           4100.0      29.84            OVC   \n",
       "1             1.389185           3900.0      29.84            OVC   \n",
       "2             1.562834           3900.0      29.84            OVC   \n",
       "3             2.394141           3700.0      29.84            OVC   \n",
       "4             2.736161           3700.0      29.85            OVC   \n",
       "...                ...              ...        ...            ...   \n",
       "162303      -12.216004           1000.0      30.13            BKN   \n",
       "162304      -13.155697           1000.0      30.13            BKN   \n",
       "162305      -11.258330            800.0      30.13            SCT   \n",
       "162306      -12.124356            800.0      30.13            BKN   \n",
       "162307      -10.724622           1100.0      30.13            BKN   \n",
       "\n",
       "        cloud_coverage  present_weather current_wx1  Snow  \n",
       "0                    8               71         -SN     1  \n",
       "1                    8               71         -SN     1  \n",
       "2                    8               71         -SN     1  \n",
       "3                    8               71         -SN     1  \n",
       "4                    8               71         -SN     1  \n",
       "...                ...              ...         ...   ...  \n",
       "162303               8               71         -SN     1  \n",
       "162304               8               71         -SN     1  \n",
       "162305               8               71         -SN     1  \n",
       "162306               8               71         -SN     1  \n",
       "162307               8               61         -RA     0  \n",
       "\n",
       "[159669 rows x 12 columns]"
      ]
     },
     "execution_count": 109,
     "metadata": {},
     "output_type": "execute_result"
    }
   ],
   "source": [
    "precip1"
   ]
  },
  {
   "cell_type": "markdown",
   "metadata": {},
   "source": [
    "Final selection of variables for the model "
   ]
  },
  {
   "cell_type": "code",
   "execution_count": 110,
   "metadata": {},
   "outputs": [],
   "source": [
    "precip1=precip1.drop(['current_wx1','present_weather'],axis=1)"
   ]
  },
  {
   "cell_type": "code",
   "execution_count": 111,
   "metadata": {},
   "outputs": [
    {
     "data": {
      "text/html": [
       "<div>\n",
       "<style scoped>\n",
       "    .dataframe tbody tr th:only-of-type {\n",
       "        vertical-align: middle;\n",
       "    }\n",
       "\n",
       "    .dataframe tbody tr th {\n",
       "        vertical-align: top;\n",
       "    }\n",
       "\n",
       "    .dataframe thead th {\n",
       "        text-align: right;\n",
       "    }\n",
       "</style>\n",
       "<table border=\"1\" class=\"dataframe\">\n",
       "  <thead>\n",
       "    <tr style=\"text-align: right;\">\n",
       "      <th></th>\n",
       "      <th>wind_speed</th>\n",
       "      <th>air_temperature</th>\n",
       "      <th>dew_point_temperature</th>\n",
       "      <th>eastward_wind</th>\n",
       "      <th>northward_wind</th>\n",
       "      <th>low_cloud_level</th>\n",
       "      <th>altimeter</th>\n",
       "      <th>low_cloud_type</th>\n",
       "      <th>cloud_coverage</th>\n",
       "      <th>Snow</th>\n",
       "    </tr>\n",
       "  </thead>\n",
       "  <tbody>\n",
       "    <tr>\n",
       "      <th>0</th>\n",
       "      <td>8.0</td>\n",
       "      <td>-5.0</td>\n",
       "      <td>-9.0</td>\n",
       "      <td>7.517541</td>\n",
       "      <td>2.736161</td>\n",
       "      <td>4100.0</td>\n",
       "      <td>29.84</td>\n",
       "      <td>OVC</td>\n",
       "      <td>8</td>\n",
       "      <td>1</td>\n",
       "    </tr>\n",
       "    <tr>\n",
       "      <th>1</th>\n",
       "      <td>8.0</td>\n",
       "      <td>-5.0</td>\n",
       "      <td>-9.0</td>\n",
       "      <td>7.878462</td>\n",
       "      <td>1.389185</td>\n",
       "      <td>3900.0</td>\n",
       "      <td>29.84</td>\n",
       "      <td>OVC</td>\n",
       "      <td>8</td>\n",
       "      <td>1</td>\n",
       "    </tr>\n",
       "    <tr>\n",
       "      <th>2</th>\n",
       "      <td>9.0</td>\n",
       "      <td>-5.0</td>\n",
       "      <td>-9.0</td>\n",
       "      <td>8.863270</td>\n",
       "      <td>1.562834</td>\n",
       "      <td>3900.0</td>\n",
       "      <td>29.84</td>\n",
       "      <td>OVC</td>\n",
       "      <td>8</td>\n",
       "      <td>1</td>\n",
       "    </tr>\n",
       "    <tr>\n",
       "      <th>3</th>\n",
       "      <td>7.0</td>\n",
       "      <td>-5.0</td>\n",
       "      <td>-9.0</td>\n",
       "      <td>6.577848</td>\n",
       "      <td>2.394141</td>\n",
       "      <td>3700.0</td>\n",
       "      <td>29.84</td>\n",
       "      <td>OVC</td>\n",
       "      <td>8</td>\n",
       "      <td>1</td>\n",
       "    </tr>\n",
       "    <tr>\n",
       "      <th>4</th>\n",
       "      <td>8.0</td>\n",
       "      <td>-5.0</td>\n",
       "      <td>-9.0</td>\n",
       "      <td>7.517541</td>\n",
       "      <td>2.736161</td>\n",
       "      <td>3700.0</td>\n",
       "      <td>29.85</td>\n",
       "      <td>OVC</td>\n",
       "      <td>8</td>\n",
       "      <td>1</td>\n",
       "    </tr>\n",
       "    <tr>\n",
       "      <th>...</th>\n",
       "      <td>...</td>\n",
       "      <td>...</td>\n",
       "      <td>...</td>\n",
       "      <td>...</td>\n",
       "      <td>...</td>\n",
       "      <td>...</td>\n",
       "      <td>...</td>\n",
       "      <td>...</td>\n",
       "      <td>...</td>\n",
       "      <td>...</td>\n",
       "    </tr>\n",
       "    <tr>\n",
       "      <th>162303</th>\n",
       "      <td>13.0</td>\n",
       "      <td>1.0</td>\n",
       "      <td>-1.0</td>\n",
       "      <td>-4.446262</td>\n",
       "      <td>-12.216004</td>\n",
       "      <td>1000.0</td>\n",
       "      <td>30.13</td>\n",
       "      <td>BKN</td>\n",
       "      <td>8</td>\n",
       "      <td>1</td>\n",
       "    </tr>\n",
       "    <tr>\n",
       "      <th>162304</th>\n",
       "      <td>14.0</td>\n",
       "      <td>1.0</td>\n",
       "      <td>-1.0</td>\n",
       "      <td>-4.788282</td>\n",
       "      <td>-13.155697</td>\n",
       "      <td>1000.0</td>\n",
       "      <td>30.13</td>\n",
       "      <td>BKN</td>\n",
       "      <td>8</td>\n",
       "      <td>1</td>\n",
       "    </tr>\n",
       "    <tr>\n",
       "      <th>162305</th>\n",
       "      <td>13.0</td>\n",
       "      <td>1.0</td>\n",
       "      <td>-1.0</td>\n",
       "      <td>-6.500000</td>\n",
       "      <td>-11.258330</td>\n",
       "      <td>800.0</td>\n",
       "      <td>30.13</td>\n",
       "      <td>SCT</td>\n",
       "      <td>8</td>\n",
       "      <td>1</td>\n",
       "    </tr>\n",
       "    <tr>\n",
       "      <th>162306</th>\n",
       "      <td>14.0</td>\n",
       "      <td>1.0</td>\n",
       "      <td>-1.0</td>\n",
       "      <td>-7.000000</td>\n",
       "      <td>-12.124356</td>\n",
       "      <td>800.0</td>\n",
       "      <td>30.13</td>\n",
       "      <td>BKN</td>\n",
       "      <td>8</td>\n",
       "      <td>1</td>\n",
       "    </tr>\n",
       "    <tr>\n",
       "      <th>162307</th>\n",
       "      <td>14.0</td>\n",
       "      <td>1.0</td>\n",
       "      <td>-1.0</td>\n",
       "      <td>-8.999027</td>\n",
       "      <td>-10.724622</td>\n",
       "      <td>1100.0</td>\n",
       "      <td>30.13</td>\n",
       "      <td>BKN</td>\n",
       "      <td>8</td>\n",
       "      <td>0</td>\n",
       "    </tr>\n",
       "  </tbody>\n",
       "</table>\n",
       "<p>159669 rows × 10 columns</p>\n",
       "</div>"
      ],
      "text/plain": [
       "        wind_speed  air_temperature  dew_point_temperature  eastward_wind  \\\n",
       "0              8.0             -5.0                   -9.0       7.517541   \n",
       "1              8.0             -5.0                   -9.0       7.878462   \n",
       "2              9.0             -5.0                   -9.0       8.863270   \n",
       "3              7.0             -5.0                   -9.0       6.577848   \n",
       "4              8.0             -5.0                   -9.0       7.517541   \n",
       "...            ...              ...                    ...            ...   \n",
       "162303        13.0              1.0                   -1.0      -4.446262   \n",
       "162304        14.0              1.0                   -1.0      -4.788282   \n",
       "162305        13.0              1.0                   -1.0      -6.500000   \n",
       "162306        14.0              1.0                   -1.0      -7.000000   \n",
       "162307        14.0              1.0                   -1.0      -8.999027   \n",
       "\n",
       "        northward_wind  low_cloud_level  altimeter low_cloud_type  \\\n",
       "0             2.736161           4100.0      29.84            OVC   \n",
       "1             1.389185           3900.0      29.84            OVC   \n",
       "2             1.562834           3900.0      29.84            OVC   \n",
       "3             2.394141           3700.0      29.84            OVC   \n",
       "4             2.736161           3700.0      29.85            OVC   \n",
       "...                ...              ...        ...            ...   \n",
       "162303      -12.216004           1000.0      30.13            BKN   \n",
       "162304      -13.155697           1000.0      30.13            BKN   \n",
       "162305      -11.258330            800.0      30.13            SCT   \n",
       "162306      -12.124356            800.0      30.13            BKN   \n",
       "162307      -10.724622           1100.0      30.13            BKN   \n",
       "\n",
       "        cloud_coverage  Snow  \n",
       "0                    8     1  \n",
       "1                    8     1  \n",
       "2                    8     1  \n",
       "3                    8     1  \n",
       "4                    8     1  \n",
       "...                ...   ...  \n",
       "162303               8     1  \n",
       "162304               8     1  \n",
       "162305               8     1  \n",
       "162306               8     1  \n",
       "162307               8     0  \n",
       "\n",
       "[159669 rows x 10 columns]"
      ]
     },
     "execution_count": 111,
     "metadata": {},
     "output_type": "execute_result"
    }
   ],
   "source": [
    "precip1\n"
   ]
  },
  {
   "cell_type": "markdown",
   "metadata": {},
   "source": [
    "# Setup a logistic regression model"
   ]
  },
  {
   "cell_type": "code",
   "execution_count": 118,
   "metadata": {},
   "outputs": [],
   "source": [
    "X=precip1.drop('Snow',axis=1)\n",
    "y= precip1['Snow']"
   ]
  },
  {
   "cell_type": "code",
   "execution_count": 130,
   "metadata": {},
   "outputs": [
    {
     "data": {
      "text/plain": [
       "0         2.0\n",
       "1         2.0\n",
       "2         2.0\n",
       "3         2.0\n",
       "4         2.0\n",
       "         ... \n",
       "162303    0.0\n",
       "162304    0.0\n",
       "162305    3.0\n",
       "162306    0.0\n",
       "162307    0.0\n",
       "Name: low_cloud_type, Length: 159669, dtype: float64"
      ]
     },
     "execution_count": 130,
     "metadata": {},
     "output_type": "execute_result"
    }
   ],
   "source": [
    "from sklearn.preprocessing import OrdinalEncoder\n",
    "ordinal_encoder = OrdinalEncoder()\n",
    "X['low_cloud_type'] = ordinal_encoder.fit_transform(X['low_cloud_type'].values.reshape(-1,1))\n",
    "X['low_cloud_type']"
   ]
  },
  {
   "cell_type": "code",
   "execution_count": 119,
   "metadata": {},
   "outputs": [],
   "source": [
    "#y"
   ]
  },
  {
   "cell_type": "markdown",
   "metadata": {},
   "source": [
    "Import configuration of model"
   ]
  },
  {
   "cell_type": "code",
   "execution_count": 131,
   "metadata": {},
   "outputs": [
    {
     "name": "stdout",
     "output_type": "stream",
     "text": [
      "x_train shape is:  (9, 111768)\n",
      "y_train shape is:  (111768,)\n",
      "x_test shape is:  (9, 47901)\n",
      "y_test shape is:  (47901,)\n"
     ]
    }
   ],
   "source": [
    "from sklearn.model_selection import train_test_split\n",
    "\n",
    "x_train, x_test, y_train, y_test = train_test_split(X, y, test_size=0.3, random_state=75)\n",
    "\n",
    "# For our matrix calculations we need to transpose our matrixis:\n",
    "x_train = x_train.T\n",
    "y_train = y_train.T\n",
    "x_test = x_test.T\n",
    "y_test = y_test.T\n",
    "\n",
    "print('x_train shape is: ', x_train.shape)\n",
    "print('y_train shape is: ', y_train.shape)\n",
    "print('x_test shape is: ', x_test.shape)\n",
    "print('y_test shape is: ', y_test.shape)"
   ]
  },
  {
   "cell_type": "code",
   "execution_count": 32,
   "metadata": {},
   "outputs": [],
   "source": [
    "#y_train"
   ]
  },
  {
   "cell_type": "markdown",
   "metadata": {},
   "source": [
    "# Setup Logistic Regression"
   ]
  },
  {
   "cell_type": "markdown",
   "metadata": {},
   "source": [
    "Instantiate logistic regression"
   ]
  },
  {
   "cell_type": "code",
   "execution_count": 33,
   "metadata": {},
   "outputs": [
    {
     "name": "stderr",
     "output_type": "stream",
     "text": [
      "C:\\Users\\YangLu\\Anaconda3\\envs\\gpu\\lib\\site-packages\\sklearn\\linear_model\\_logistic.py:940: ConvergenceWarning: lbfgs failed to converge (status=1):\n",
      "STOP: TOTAL NO. of ITERATIONS REACHED LIMIT.\n",
      "\n",
      "Increase the number of iterations (max_iter) or scale the data as shown in:\n",
      "    https://scikit-learn.org/stable/modules/preprocessing.html\n",
      "Please also refer to the documentation for alternative solver options:\n",
      "    https://scikit-learn.org/stable/modules/linear_model.html#logistic-regression\n",
      "  extra_warning_msg=_LOGISTIC_SOLVER_CONVERGENCE_MSG)\n"
     ]
    },
    {
     "data": {
      "text/plain": [
       "LogisticRegression(C=1.0, class_weight=None, dual=False, fit_intercept=True,\n",
       "                   intercept_scaling=1, l1_ratio=None, max_iter=100,\n",
       "                   multi_class='auto', n_jobs=None, penalty='l2',\n",
       "                   random_state=None, solver='lbfgs', tol=0.0001, verbose=0,\n",
       "                   warm_start=False)"
      ]
     },
     "execution_count": 33,
     "metadata": {},
     "output_type": "execute_result"
    }
   ],
   "source": [
    "from sklearn.linear_model import LogisticRegression\n",
    "\n",
    "model = LogisticRegression()\n",
    "model.fit(x_train.T,y_train.T)"
   ]
  },
  {
   "cell_type": "markdown",
   "metadata": {},
   "source": [
    "Get the intercept and coefficients"
   ]
  },
  {
   "cell_type": "code",
   "execution_count": 34,
   "metadata": {},
   "outputs": [
    {
     "data": {
      "text/plain": [
       "array([0.00155549])"
      ]
     },
     "execution_count": 34,
     "metadata": {},
     "output_type": "execute_result"
    }
   ],
   "source": [
    "#Get the intercept\n",
    "intercept = model.intercept_\n",
    "intercept"
   ]
  },
  {
   "cell_type": "code",
   "execution_count": 35,
   "metadata": {},
   "outputs": [
    {
     "data": {
      "text/plain": [
       "array([[-7.72692827e-03, -6.51688359e-01, -6.79659567e-01,\n",
       "         8.19089469e-02, -2.56258757e-02, -4.93975068e-04,\n",
       "         5.41950566e-02]])"
      ]
     },
     "execution_count": 35,
     "metadata": {},
     "output_type": "execute_result"
    }
   ],
   "source": [
    "# Get the coefficients\n",
    "coefficients = model.coef_\n",
    "coefficients"
   ]
  },
  {
   "cell_type": "code",
   "execution_count": 36,
   "metadata": {},
   "outputs": [
    {
     "data": {
      "text/plain": [
       "[-0.007726928273266636,\n",
       " -0.651688359306108,\n",
       " -0.6796595671881411,\n",
       " 0.08190894688698268,\n",
       " -0.02562587571320284,\n",
       " -0.0004939750675176336,\n",
       " 0.0541950565881925]"
      ]
     },
     "execution_count": 36,
     "metadata": {},
     "output_type": "execute_result"
    }
   ],
   "source": [
    "# Place coefficients into a list\n",
    "coef_list = list(coefficients[0,:])\n",
    "coef_list"
   ]
  },
  {
   "cell_type": "code",
   "execution_count": 37,
   "metadata": {},
   "outputs": [
    {
     "name": "stdout",
     "output_type": "stream",
     "text": [
      "                 Feature  Coefficient\n",
      "0             wind_speed    -0.007727\n",
      "1        air_temperature    -0.651688\n",
      "2  dew_point_temperature    -0.679660\n",
      "3          eastward_wind     0.081909\n",
      "4         northward_wind    -0.025626\n",
      "5        low_cloud_level    -0.000494\n",
      "6              altimeter     0.054195\n"
     ]
    }
   ],
   "source": [
    "# Match features to their coefficients and, place into dataframe\n",
    "coef_df = pd.DataFrame({'Feature':list(x_train.T.columns), 'Coefficient': coef_list})\n",
    "print(coef_df)"
   ]
  },
  {
   "cell_type": "markdown",
   "metadata": {},
   "source": [
    "Evaluating the performance of model"
   ]
  },
  {
   "cell_type": "code",
   "execution_count": 38,
   "metadata": {},
   "outputs": [
    {
     "name": "stdout",
     "output_type": "stream",
     "text": [
      "                Predicted NO SNOW  Predicted SNOW  Total\n",
      "Actual NO SNOW              26992             984  27976\n",
      "Actual SNOW                   705           19220  19925\n",
      "Total                       27697           20204  47901\n"
     ]
    }
   ],
   "source": [
    "# Generating predicted probabilities\n",
    "predicted_prob = model.predict_proba(x_test.T)[:,1]\n",
    "\n",
    "# Generating predicted classes\n",
    "predicted_class = model.predict(x_test.T)\n",
    "\n",
    "#Evaluating performance\n",
    "from sklearn.metrics import confusion_matrix\n",
    "\n",
    "cm = pd.DataFrame(confusion_matrix(y_test.T, predicted_class))\n",
    "cm['Total'] = np.sum(cm, axis=1)\n",
    "cm = cm.append(np.sum(cm, axis=0), ignore_index=True)\n",
    "cm.columns = ['Predicted NO SNOW', 'Predicted SNOW', 'Total']\n",
    "cm = cm.set_index([['Actual NO SNOW', 'Actual SNOW', 'Total']])\n",
    "print(cm)"
   ]
  },
  {
   "cell_type": "code",
   "execution_count": 39,
   "metadata": {},
   "outputs": [
    {
     "name": "stdout",
     "output_type": "stream",
     "text": [
      "              precision    recall  f1-score   support\n",
      "\n",
      "           0       0.97      0.96      0.97     27976\n",
      "           1       0.95      0.96      0.96     19925\n",
      "\n",
      "    accuracy                           0.96     47901\n",
      "   macro avg       0.96      0.96      0.96     47901\n",
      "weighted avg       0.96      0.96      0.96     47901\n",
      "\n"
     ]
    }
   ],
   "source": [
    "# Classification report\n",
    "from sklearn.metrics import classification_report\n",
    "\n",
    "print(classification_report(y_test.T, predicted_class))"
   ]
  },
  {
   "cell_type": "markdown",
   "metadata": {},
   "source": [
    "# Brier score"
   ]
  },
  {
   "cell_type": "code",
   "execution_count": 40,
   "metadata": {},
   "outputs": [
    {
     "data": {
      "text/plain": [
       "0.028835506279572206"
      ]
     },
     "execution_count": 40,
     "metadata": {},
     "output_type": "execute_result"
    }
   ],
   "source": [
    "from sklearn.metrics import brier_score_loss\n",
    "\n",
    "# predict probabilities\n",
    "predicted_prob = model.predict_proba(x_test.T)[:,1]\n",
    "\n",
    "# calculate bier score\n",
    "loss = brier_score_loss(y_test.T, predicted_prob)\n",
    "loss"
   ]
  },
  {
   "cell_type": "markdown",
   "metadata": {},
   "source": [
    "Other logistic regression (SGDClassifier)"
   ]
  },
  {
   "cell_type": "code",
   "execution_count": 41,
   "metadata": {},
   "outputs": [
    {
     "data": {
      "text/plain": [
       "SGDClassifier(alpha=0.0001, average=False, class_weight=None,\n",
       "              early_stopping=False, epsilon=0.1, eta0=0.0, fit_intercept=True,\n",
       "              l1_ratio=0.15, learning_rate='optimal', loss='hinge',\n",
       "              max_iter=1000, n_iter_no_change=5, n_jobs=None, penalty='l2',\n",
       "              power_t=0.5, random_state=None, shuffle=True, tol=0.001,\n",
       "              validation_fraction=0.1, verbose=0, warm_start=False)"
      ]
     },
     "execution_count": 41,
     "metadata": {},
     "output_type": "execute_result"
    }
   ],
   "source": [
    "from sklearn.linear_model import SGDClassifier\n",
    "#from sklearn.cross_validation import train_test_split\n",
    "from sklearn import metrics\n",
    "from sklearn.metrics import  mean_squared_error, r2_score\n",
    "model=SGDClassifier()\n",
    "#model = LogisticRegression()\n",
    "model.fit(x_train.T, y_train.T)"
   ]
  },
  {
   "cell_type": "markdown",
   "metadata": {},
   "source": [
    "Generating evaluation metrics"
   ]
  },
  {
   "cell_type": "code",
   "execution_count": 42,
   "metadata": {},
   "outputs": [
    {
     "name": "stdout",
     "output_type": "stream",
     "text": [
      "0.8654516607168953\n"
     ]
    }
   ],
   "source": [
    "predicted = model.predict(x_test.T)\n",
    "\n",
    "print(metrics.accuracy_score(y_test, predicted))"
   ]
  },
  {
   "cell_type": "markdown",
   "metadata": {},
   "source": [
    "Another logistic regression (SGDClassifier and CalibratedClassifierCV)"
   ]
  },
  {
   "cell_type": "code",
   "execution_count": 43,
   "metadata": {},
   "outputs": [
    {
     "data": {
      "text/plain": [
       "CalibratedClassifierCV(base_estimator=SGDClassifier(alpha=0.0001, average=False,\n",
       "                                                    class_weight=None,\n",
       "                                                    early_stopping=False,\n",
       "                                                    epsilon=0.1, eta0=0.0,\n",
       "                                                    fit_intercept=True,\n",
       "                                                    l1_ratio=0.15,\n",
       "                                                    learning_rate='optimal',\n",
       "                                                    loss='hinge', max_iter=1000,\n",
       "                                                    n_iter_no_change=5,\n",
       "                                                    n_jobs=None, penalty='l2',\n",
       "                                                    power_t=0.5,\n",
       "                                                    random_state=None,\n",
       "                                                    shuffle=True, tol=0.001,\n",
       "                                                    validation_fraction=0.1,\n",
       "                                                    verbose=0,\n",
       "                                                    warm_start=False),\n",
       "                       cv=5, method='sigmoid')"
      ]
     },
     "execution_count": 43,
     "metadata": {},
     "output_type": "execute_result"
    }
   ],
   "source": [
    "from sklearn.calibration import CalibratedClassifierCV\n",
    "from sklearn.linear_model import SGDClassifier\n",
    "\n",
    "model = SGDClassifier(loss='hinge')\n",
    "calibrated_model = CalibratedClassifierCV(model, cv=5, method='sigmoid')\n",
    "calibrated_model.fit(x_train.T, y_train.T)"
   ]
  },
  {
   "cell_type": "code",
   "execution_count": 44,
   "metadata": {},
   "outputs": [
    {
     "data": {
      "text/plain": [
       "0.9620675977537003"
      ]
     },
     "execution_count": 44,
     "metadata": {},
     "output_type": "execute_result"
    }
   ],
   "source": [
    "calibrated_model.score(x_test.T, y_test.T)"
   ]
  },
  {
   "cell_type": "markdown",
   "metadata": {},
   "source": [
    "## Preprocessing"
   ]
  },
  {
   "cell_type": "code",
   "execution_count": 45,
   "metadata": {},
   "outputs": [],
   "source": [
    "# from sklearn.preprocessing import StandardScaler\n",
    "# scaler = StandardScaler()\n",
    "# x_train = scaler.fit_transform(x_train.T)\n",
    "# x_train = x_train.T\n",
    "# x_test = scaler.transform(x_test.T)\n",
    "# x_test = x_test.T"
   ]
  },
  {
   "cell_type": "markdown",
   "metadata": {},
   "source": [
    "## Ensemble learning"
   ]
  },
  {
   "cell_type": "code",
   "execution_count": 121,
   "metadata": {},
   "outputs": [],
   "source": [
    "from sklearn.model_selection import train_test_split\n",
    "from sklearn.ensemble import RandomForestClassifier, ExtraTreesClassifier\n",
    "from sklearn.svm import LinearSVC\n",
    "from sklearn.neural_network import MLPClassifier\n",
    "from sklearn.ensemble import GradientBoostingRegressor\n",
    "import xgboost\n",
    "from sklearn.ensemble import VotingClassifier"
   ]
  },
  {
   "cell_type": "code",
   "execution_count": 162,
   "metadata": {
    "scrolled": true
   },
   "outputs": [],
   "source": [
    "random_forest_clf = RandomForestClassifier(n_estimators = 400, random_state = 42)\n",
    "extra_trees_clf = ExtraTreesClassifier(n_estimators = 100, random_state = 42)\n",
    "svm_clf = LinearSVC(random_state = 42)\n",
    "mlp_relu_clf = MLPClassifier(activation=\"relu\", random_state = 42)\n",
    "mlp_tanh_clf = MLPClassifier(activation=\"tanh\", random_state = 42)\n",
    "gbrt = GradientBoostingRegressor(n_estimators = 100, random_state = 42)\n",
    "xgb_clf = xgboost.XGBClassifier(objective='binary:logistic', random_state = 42)"
   ]
  },
  {
   "cell_type": "code",
   "execution_count": 48,
   "metadata": {
    "scrolled": true
   },
   "outputs": [
    {
     "name": "stdout",
     "output_type": "stream",
     "text": [
      "Training the  RandomForestClassifier(bootstrap=True, ccp_alpha=0.0, class_weight=None,\n",
      "                       criterion='gini', max_depth=None, max_features='auto',\n",
      "                       max_leaf_nodes=None, max_samples=None,\n",
      "                       min_impurity_decrease=0.0, min_impurity_split=None,\n",
      "                       min_samples_leaf=1, min_samples_split=2,\n",
      "                       min_weight_fraction_leaf=0.0, n_estimators=200,\n",
      "                       n_jobs=None, oob_score=False, random_state=42, verbose=0,\n",
      "                       warm_start=False)\n"
     ]
    },
    {
     "data": {
      "text/plain": [
       "RandomForestClassifier(bootstrap=True, ccp_alpha=0.0, class_weight=None,\n",
       "                       criterion='gini', max_depth=None, max_features='auto',\n",
       "                       max_leaf_nodes=None, max_samples=None,\n",
       "                       min_impurity_decrease=0.0, min_impurity_split=None,\n",
       "                       min_samples_leaf=1, min_samples_split=2,\n",
       "                       min_weight_fraction_leaf=0.0, n_estimators=200,\n",
       "                       n_jobs=None, oob_score=False, random_state=42, verbose=0,\n",
       "                       warm_start=False)"
      ]
     },
     "metadata": {},
     "output_type": "display_data"
    },
    {
     "name": "stdout",
     "output_type": "stream",
     "text": [
      "Training the  ExtraTreesClassifier(bootstrap=False, ccp_alpha=0.0, class_weight=None,\n",
      "                     criterion='gini', max_depth=None, max_features='auto',\n",
      "                     max_leaf_nodes=None, max_samples=None,\n",
      "                     min_impurity_decrease=0.0, min_impurity_split=None,\n",
      "                     min_samples_leaf=1, min_samples_split=2,\n",
      "                     min_weight_fraction_leaf=0.0, n_estimators=100,\n",
      "                     n_jobs=None, oob_score=False, random_state=42, verbose=0,\n",
      "                     warm_start=False)\n"
     ]
    },
    {
     "data": {
      "text/plain": [
       "ExtraTreesClassifier(bootstrap=False, ccp_alpha=0.0, class_weight=None,\n",
       "                     criterion='gini', max_depth=None, max_features='auto',\n",
       "                     max_leaf_nodes=None, max_samples=None,\n",
       "                     min_impurity_decrease=0.0, min_impurity_split=None,\n",
       "                     min_samples_leaf=1, min_samples_split=2,\n",
       "                     min_weight_fraction_leaf=0.0, n_estimators=100,\n",
       "                     n_jobs=None, oob_score=False, random_state=42, verbose=0,\n",
       "                     warm_start=False)"
      ]
     },
     "metadata": {},
     "output_type": "display_data"
    },
    {
     "name": "stdout",
     "output_type": "stream",
     "text": [
      "Training the  LinearSVC(C=1.0, class_weight=None, dual=True, fit_intercept=True,\n",
      "          intercept_scaling=1, loss='squared_hinge', max_iter=1000,\n",
      "          multi_class='ovr', penalty='l2', random_state=42, tol=0.0001,\n",
      "          verbose=0)\n"
     ]
    },
    {
     "name": "stderr",
     "output_type": "stream",
     "text": [
      "C:\\Users\\YangLu\\Anaconda3\\envs\\gpu\\lib\\site-packages\\sklearn\\svm\\_base.py:947: ConvergenceWarning: Liblinear failed to converge, increase the number of iterations.\n",
      "  \"the number of iterations.\", ConvergenceWarning)\n"
     ]
    },
    {
     "data": {
      "text/plain": [
       "LinearSVC(C=1.0, class_weight=None, dual=True, fit_intercept=True,\n",
       "          intercept_scaling=1, loss='squared_hinge', max_iter=1000,\n",
       "          multi_class='ovr', penalty='l2', random_state=42, tol=0.0001,\n",
       "          verbose=0)"
      ]
     },
     "metadata": {},
     "output_type": "display_data"
    },
    {
     "name": "stdout",
     "output_type": "stream",
     "text": [
      "Training the  MLPClassifier(activation='relu', alpha=0.0001, batch_size='auto', beta_1=0.9,\n",
      "              beta_2=0.999, early_stopping=False, epsilon=1e-08,\n",
      "              hidden_layer_sizes=(100,), learning_rate='constant',\n",
      "              learning_rate_init=0.001, max_fun=15000, max_iter=200,\n",
      "              momentum=0.9, n_iter_no_change=10, nesterovs_momentum=True,\n",
      "              power_t=0.5, random_state=42, shuffle=True, solver='adam',\n",
      "              tol=0.0001, validation_fraction=0.1, verbose=False,\n",
      "              warm_start=False)\n"
     ]
    },
    {
     "data": {
      "text/plain": [
       "MLPClassifier(activation='relu', alpha=0.0001, batch_size='auto', beta_1=0.9,\n",
       "              beta_2=0.999, early_stopping=False, epsilon=1e-08,\n",
       "              hidden_layer_sizes=(100,), learning_rate='constant',\n",
       "              learning_rate_init=0.001, max_fun=15000, max_iter=200,\n",
       "              momentum=0.9, n_iter_no_change=10, nesterovs_momentum=True,\n",
       "              power_t=0.5, random_state=42, shuffle=True, solver='adam',\n",
       "              tol=0.0001, validation_fraction=0.1, verbose=False,\n",
       "              warm_start=False)"
      ]
     },
     "metadata": {},
     "output_type": "display_data"
    },
    {
     "name": "stdout",
     "output_type": "stream",
     "text": [
      "Training the  MLPClassifier(activation='tanh', alpha=0.0001, batch_size='auto', beta_1=0.9,\n",
      "              beta_2=0.999, early_stopping=False, epsilon=1e-08,\n",
      "              hidden_layer_sizes=(100,), learning_rate='constant',\n",
      "              learning_rate_init=0.001, max_fun=15000, max_iter=200,\n",
      "              momentum=0.9, n_iter_no_change=10, nesterovs_momentum=True,\n",
      "              power_t=0.5, random_state=42, shuffle=True, solver='adam',\n",
      "              tol=0.0001, validation_fraction=0.1, verbose=False,\n",
      "              warm_start=False)\n"
     ]
    },
    {
     "data": {
      "text/plain": [
       "MLPClassifier(activation='tanh', alpha=0.0001, batch_size='auto', beta_1=0.9,\n",
       "              beta_2=0.999, early_stopping=False, epsilon=1e-08,\n",
       "              hidden_layer_sizes=(100,), learning_rate='constant',\n",
       "              learning_rate_init=0.001, max_fun=15000, max_iter=200,\n",
       "              momentum=0.9, n_iter_no_change=10, nesterovs_momentum=True,\n",
       "              power_t=0.5, random_state=42, shuffle=True, solver='adam',\n",
       "              tol=0.0001, validation_fraction=0.1, verbose=False,\n",
       "              warm_start=False)"
      ]
     },
     "metadata": {},
     "output_type": "display_data"
    },
    {
     "name": "stdout",
     "output_type": "stream",
     "text": [
      "Training the  GradientBoostingRegressor(alpha=0.9, ccp_alpha=0.0, criterion='friedman_mse',\n",
      "                          init=None, learning_rate=0.1, loss='ls', max_depth=3,\n",
      "                          max_features=None, max_leaf_nodes=None,\n",
      "                          min_impurity_decrease=0.0, min_impurity_split=None,\n",
      "                          min_samples_leaf=1, min_samples_split=2,\n",
      "                          min_weight_fraction_leaf=0.0, n_estimators=100,\n",
      "                          n_iter_no_change=None, presort='deprecated',\n",
      "                          random_state=42, subsample=1.0, tol=0.0001,\n",
      "                          validation_fraction=0.1, verbose=0, warm_start=False)\n"
     ]
    },
    {
     "data": {
      "text/plain": [
       "GradientBoostingRegressor(alpha=0.9, ccp_alpha=0.0, criterion='friedman_mse',\n",
       "                          init=None, learning_rate=0.1, loss='ls', max_depth=3,\n",
       "                          max_features=None, max_leaf_nodes=None,\n",
       "                          min_impurity_decrease=0.0, min_impurity_split=None,\n",
       "                          min_samples_leaf=1, min_samples_split=2,\n",
       "                          min_weight_fraction_leaf=0.0, n_estimators=100,\n",
       "                          n_iter_no_change=None, presort='deprecated',\n",
       "                          random_state=42, subsample=1.0, tol=0.0001,\n",
       "                          validation_fraction=0.1, verbose=0, warm_start=False)"
      ]
     },
     "metadata": {},
     "output_type": "display_data"
    },
    {
     "name": "stdout",
     "output_type": "stream",
     "text": [
      "Training the  XGBClassifier(base_score=None, booster=None, colsample_bylevel=None,\n",
      "              colsample_bynode=None, colsample_bytree=None, gamma=None,\n",
      "              gpu_id=None, importance_type='gain', interaction_constraints=None,\n",
      "              learning_rate=None, max_delta_step=None, max_depth=None,\n",
      "              min_child_weight=None, missing=nan, monotone_constraints=None,\n",
      "              n_estimators=100, n_jobs=None, num_parallel_tree=None,\n",
      "              objective='binary:logistic', random_state=42, reg_alpha=None,\n",
      "              reg_lambda=None, scale_pos_weight=None, subsample=None,\n",
      "              tree_method=None, validate_parameters=False, verbosity=None)\n"
     ]
    },
    {
     "data": {
      "text/plain": [
       "XGBClassifier(base_score=0.5, booster=None, colsample_bylevel=1,\n",
       "              colsample_bynode=1, colsample_bytree=1, gamma=0, gpu_id=-1,\n",
       "              importance_type='gain', interaction_constraints=None,\n",
       "              learning_rate=0.300000012, max_delta_step=0, max_depth=6,\n",
       "              min_child_weight=1, missing=nan, monotone_constraints=None,\n",
       "              n_estimators=100, n_jobs=0, num_parallel_tree=1,\n",
       "              objective='binary:logistic', random_state=42, reg_alpha=0,\n",
       "              reg_lambda=1, scale_pos_weight=1, subsample=1, tree_method=None,\n",
       "              validate_parameters=False, verbosity=None)"
      ]
     },
     "metadata": {},
     "output_type": "display_data"
    },
    {
     "data": {
      "text/plain": [
       "[0.9880587044111814,\n",
       " 0.9879543224567336,\n",
       " 0.9534665247072086,\n",
       " 0.9510031105822425,\n",
       " 0.9646353938331141,\n",
       " 0.891805235519889,\n",
       " 0.983006617815912]"
      ]
     },
     "metadata": {},
     "output_type": "display_data"
    }
   ],
   "source": [
    "estimators = [random_forest_clf, extra_trees_clf, svm_clf, mlp_relu_clf, mlp_tanh_clf, gbrt, xgb_clf]\n",
    "for estimator in estimators:\n",
    "    print(\"Training the \", estimator)\n",
    "    display(estimator.fit(x_train.T, y_train.T))\n",
    "display([estimator.score(x_test.T, y_test.T) for estimator in estimators])"
   ]
  },
  {
   "cell_type": "code",
   "execution_count": 49,
   "metadata": {},
   "outputs": [
    {
     "name": "stderr",
     "output_type": "stream",
     "text": [
      "C:\\Users\\YangLu\\Anaconda3\\envs\\gpu\\lib\\site-packages\\sklearn\\svm\\_base.py:947: ConvergenceWarning: Liblinear failed to converge, increase the number of iterations.\n",
      "  \"the number of iterations.\", ConvergenceWarning)\n"
     ]
    },
    {
     "data": {
      "text/plain": [
       "VotingClassifier(estimators=[('random_forest_clf',\n",
       "                              RandomForestClassifier(bootstrap=True,\n",
       "                                                     ccp_alpha=0.0,\n",
       "                                                     class_weight=None,\n",
       "                                                     criterion='gini',\n",
       "                                                     max_depth=None,\n",
       "                                                     max_features='auto',\n",
       "                                                     max_leaf_nodes=None,\n",
       "                                                     max_samples=None,\n",
       "                                                     min_impurity_decrease=0.0,\n",
       "                                                     min_impurity_split=None,\n",
       "                                                     min_samples_leaf=1,\n",
       "                                                     min_samples_split=2,\n",
       "                                                     min_weight_fraction_leaf=0.0,\n",
       "                                                     n_estimators=200,\n",
       "                                                     n_jobs...\n",
       "                                            max_delta_step=0, max_depth=6,\n",
       "                                            min_child_weight=1, missing=nan,\n",
       "                                            monotone_constraints=None,\n",
       "                                            n_estimators=100, n_jobs=0,\n",
       "                                            num_parallel_tree=1,\n",
       "                                            objective='binary:logistic',\n",
       "                                            random_state=42, reg_alpha=0,\n",
       "                                            reg_lambda=1, scale_pos_weight=1,\n",
       "                                            subsample=1, tree_method=None,\n",
       "                                            validate_parameters=False,\n",
       "                                            verbosity=None))],\n",
       "                 flatten_transform=True, n_jobs=None, voting='hard',\n",
       "                 weights=None)"
      ]
     },
     "metadata": {},
     "output_type": "display_data"
    },
    {
     "data": {
      "text/plain": [
       "0.9787269576835557"
      ]
     },
     "metadata": {},
     "output_type": "display_data"
    },
    {
     "data": {
      "text/plain": [
       "[0.9880587044111814,\n",
       " 0.9879543224567336,\n",
       " 0.9534665247072086,\n",
       " 0.9510031105822425,\n",
       " 0.9646353938331141,\n",
       " 0.983006617815912]"
      ]
     },
     "metadata": {},
     "output_type": "display_data"
    }
   ],
   "source": [
    "named_estimators = [\n",
    "    (\"random_forest_clf\", random_forest_clf),\n",
    "    (\"extra_trees_clf\", extra_trees_clf),\n",
    "    (\"svm_clf\", svm_clf),\n",
    "    (\"mlp_relu_clf\", mlp_relu_clf),\n",
    "    (\"mlp_tanh_clf\", mlp_tanh_clf),\n",
    "    (\"xgb_clf\", xgb_clf),\n",
    "]\n",
    "voting_clf = VotingClassifier(named_estimators)\n",
    "display(voting_clf.fit(x_train.T, y_train.T))\n",
    "display(voting_clf.score(x_test.T, y_test.T))\n",
    "display([estimator.score(x_test.T, y_test.T) for estimator in voting_clf.estimators_])"
   ]
  },
  {
   "cell_type": "code",
   "execution_count": 159,
   "metadata": {},
   "outputs": [
    {
     "data": {
      "text/plain": [
       "VotingClassifier(estimators=[('random_forest_clf',\n",
       "                              RandomForestClassifier(bootstrap=True,\n",
       "                                                     ccp_alpha=0.0,\n",
       "                                                     class_weight=None,\n",
       "                                                     criterion='gini',\n",
       "                                                     max_depth=None,\n",
       "                                                     max_features='auto',\n",
       "                                                     max_leaf_nodes=None,\n",
       "                                                     max_samples=None,\n",
       "                                                     min_impurity_decrease=0.0,\n",
       "                                                     min_impurity_split=None,\n",
       "                                                     min_samples_leaf=1,\n",
       "                                                     min_samples_split=2,\n",
       "                                                     min_weight_fraction_leaf=0.0,\n",
       "                                                     n_estimators=200,\n",
       "                                                     n_jobs...\n",
       "                                            max_delta_step=None, max_depth=None,\n",
       "                                            min_child_weight=None, missing=nan,\n",
       "                                            monotone_constraints=None,\n",
       "                                            n_estimators=100, n_jobs=None,\n",
       "                                            num_parallel_tree=None,\n",
       "                                            objective='binary:logistic',\n",
       "                                            random_state=42, reg_alpha=None,\n",
       "                                            reg_lambda=None,\n",
       "                                            scale_pos_weight=None,\n",
       "                                            subsample=None, tree_method=None,\n",
       "                                            validate_parameters=False,\n",
       "                                            verbosity=None))],\n",
       "                 flatten_transform=True, n_jobs=None, voting='soft',\n",
       "                 weights=None)"
      ]
     },
     "metadata": {},
     "output_type": "display_data"
    },
    {
     "data": {
      "text/plain": [
       "0.9877246821569488"
      ]
     },
     "metadata": {},
     "output_type": "display_data"
    },
    {
     "data": {
      "text/plain": [
       "[0.98812133358385, 0.9883718502745246, 0.9831736289430283]"
      ]
     },
     "metadata": {},
     "output_type": "display_data"
    }
   ],
   "source": [
    "named_estimators = [\n",
    "    (\"random_forest_clf\", random_forest_clf),\n",
    "    (\"extra_trees_clf\", extra_trees_clf),\n",
    "#     (\"mlp_relu_clf\", mlp_relu_clf),\n",
    "#     (\"mlp_tanh_clf\", mlp_tanh_clf),\n",
    "    (\"xgb_clf\", xgb_clf),\n",
    "]\n",
    "voting_clf = VotingClassifier(named_estimators, voting=\"soft\")\n",
    "display(voting_clf.fit(x_train.T, y_train.T))\n",
    "display(voting_clf.score(x_test.T, y_test.T))\n",
    "display([estimator.score(x_test.T, y_test.T) for estimator in voting_clf.estimators_])"
   ]
  },
  {
   "cell_type": "code",
   "execution_count": 165,
   "metadata": {},
   "outputs": [
    {
     "name": "stdout",
     "output_type": "stream",
     "text": [
      "Saving figure Ensemble_Classifier\n"
     ]
    },
    {
     "data": {
      "image/png": "[encoded data removed]",
      "text/plain": [
       "<Figure size 432x288 with 1 Axes>"
      ]
     },
     "metadata": {},
     "output_type": "display_data"
    }
   ],
   "source": [
    "from sklearn.metrics import confusion_matrix\n",
    "\n",
    "predicted_prob = voting_clf.predict_proba(x_test.T)[:,1]\n",
    "predicted_class = voting_clf.predict(x_test.T)\n",
    "\n",
    "mat = confusion_matrix(y_test.T, predicted_class)\n",
    "sns.heatmap(mat.T, square=True, annot=True, fmt='d', cbar=False,\n",
    "            xticklabels=[\"Liquid\", \"Solid\"],\n",
    "            yticklabels=[\"Solid\", \"Liquid\"])\n",
    "plt.xlabel('true label')\n",
    "plt.ylabel('predicted label')\n",
    "plt.title(\"Ensemble_Classifier\");\n",
    "save_fig(\"Ensemble_Classifier\")"
   ]
  },
  {
   "cell_type": "code",
   "execution_count": 166,
   "metadata": {},
   "outputs": [
    {
     "name": "stdout",
     "output_type": "stream",
     "text": [
      "              precision    recall  f1-score   support\n",
      "\n",
      "           0       0.99      0.99      0.99     27976\n",
      "           1       0.98      0.99      0.99     19925\n",
      "\n",
      "    accuracy                           0.99     47901\n",
      "   macro avg       0.99      0.99      0.99     47901\n",
      "weighted avg       0.99      0.99      0.99     47901\n",
      "\n"
     ]
    }
   ],
   "source": [
    "print(classification_report(y_test.T, predicted_class))"
   ]
  },
  {
   "cell_type": "code",
   "execution_count": 167,
   "metadata": {},
   "outputs": [
    {
     "data": {
      "text/plain": [
       "0.9602464844707945"
      ]
     },
     "execution_count": 167,
     "metadata": {},
     "output_type": "execute_result"
    }
   ],
   "source": [
    "# calculate bier score\n",
    "loss = brier_score_loss(y_test.T, predicted_prob)\n",
    "naive1=sum(predicted_prob)/predicted_prob.shape[0]\n",
    "naive1 \n",
    "yhat = [naive1 for _ in range(len(predicted_prob))]\n",
    "bs_ref= brier_score_loss(y_test.T, yhat)\n",
    "bs = brier_score_loss(y_test.T, predicted_prob)\n",
    "bs_skill=1-(bs/bs_ref)\n",
    "bs_skill"
   ]
  },
  {
   "cell_type": "code",
   "execution_count": 168,
   "metadata": {},
   "outputs": [
    {
     "data": {
      "text/plain": [
       "GridSearchCV(cv=3, error_score=nan,\n",
       "             estimator=RandomForestClassifier(bootstrap=True, ccp_alpha=0.0,\n",
       "                                              class_weight=None,\n",
       "                                              criterion='gini', max_depth=None,\n",
       "                                              max_features='auto',\n",
       "                                              max_leaf_nodes=None,\n",
       "                                              max_samples=None,\n",
       "                                              min_impurity_decrease=0.0,\n",
       "                                              min_impurity_split=None,\n",
       "                                              min_samples_leaf=1,\n",
       "                                              min_samples_split=2,\n",
       "                                              min_weight_fraction_leaf=0.0,\n",
       "                                              n_estimators=100, n_jobs=None,\n",
       "                                              oob_score=False,\n",
       "                                              random_state=None, verbose=0,\n",
       "                                              warm_start=False),\n",
       "             iid='deprecated', n_jobs=None, param_grid={'n_estimators': [400]},\n",
       "             pre_dispatch='2*n_jobs', refit=True, return_train_score=False,\n",
       "             scoring=None, verbose=0)"
      ]
     },
     "metadata": {},
     "output_type": "display_data"
    },
    {
     "data": {
      "text/plain": [
       "RandomForestClassifier(bootstrap=True, ccp_alpha=0.0, class_weight=None,\n",
       "                       criterion='gini', max_depth=None, max_features='auto',\n",
       "                       max_leaf_nodes=None, max_samples=None,\n",
       "                       min_impurity_decrease=0.0, min_impurity_split=None,\n",
       "                       min_samples_leaf=1, min_samples_split=2,\n",
       "                       min_weight_fraction_leaf=0.0, n_estimators=400,\n",
       "                       n_jobs=None, oob_score=False, random_state=None,\n",
       "                       verbose=0, warm_start=False)"
      ]
     },
     "metadata": {},
     "output_type": "display_data"
    }
   ],
   "source": [
    "from sklearn.model_selection import GridSearchCV\n",
    "params = {'n_estimators': [400]}\n",
    "grid_search_cv_clf = GridSearchCV(RandomForestClassifier(), \\\n",
    "                             params, verbose = 0, cv = 3)\n",
    "display(grid_search_cv_clf.fit(x_train.T, y_train.T))\n",
    "display(grid_search_cv_clf.best_estimator_)\n",
    "y_pred = grid_search_cv_clf.predict(x_test.T)"
   ]
  },
  {
   "cell_type": "code",
   "execution_count": 169,
   "metadata": {},
   "outputs": [
    {
     "data": {
      "text/plain": [
       "0.9882048391474082"
      ]
     },
     "metadata": {},
     "output_type": "display_data"
    }
   ],
   "source": [
    "display(grid_search_cv_clf.score(x_test.T, y_test.T))"
   ]
  },
  {
   "cell_type": "code",
   "execution_count": 171,
   "metadata": {},
   "outputs": [
    {
     "name": "stdout",
     "output_type": "stream",
     "text": [
      "Saving figure Random_Forest_Classifier\n"
     ]
    },
    {
     "data": {
      "image/png": "[encoded data removed]",
      "text/plain": [
       "<Figure size 432x288 with 1 Axes>"
      ]
     },
     "metadata": {},
     "output_type": "display_data"
    }
   ],
   "source": [
    "from sklearn.metrics import confusion_matrix\n",
    "\n",
    "predicted_prob = grid_search_cv_clf.predict_proba(x_test.T)[:,1]\n",
    "predicted_class = grid_search_cv_clf.predict(x_test.T)\n",
    "\n",
    "mat = confusion_matrix(y_test.T, predicted_class)\n",
    "sns.heatmap(mat.T, square=True, annot=True, fmt='d', cbar=False,\n",
    "            xticklabels=[\"Liquid\", \"Solid\"],\n",
    "            yticklabels=[\"Solid\", \"Liquid\"])\n",
    "plt.xlabel('true label')\n",
    "plt.ylabel('predicted label')\n",
    "plt.title(\"Random_Forest_Classifier\");\n",
    "save_fig(\"Random_Forest_Classifier\")"
   ]
  },
  {
   "cell_type": "code",
   "execution_count": 172,
   "metadata": {},
   "outputs": [
    {
     "data": {
      "text/plain": [
       "0.9614968249887889"
      ]
     },
     "execution_count": 172,
     "metadata": {},
     "output_type": "execute_result"
    }
   ],
   "source": [
    "# calculate bier score\n",
    "loss = brier_score_loss(y_test.T, predicted_prob)\n",
    "naive1=sum(predicted_prob)/predicted_prob.shape[0]\n",
    "naive1 \n",
    "yhat = [naive1 for _ in range(len(predicted_prob))]\n",
    "bs_ref= brier_score_loss(y_test.T, yhat)\n",
    "bs = brier_score_loss(y_test.T, predicted_prob)\n",
    "bs_skill=1-(bs/bs_ref)\n",
    "bs_skill"
   ]
  },
  {
   "cell_type": "code",
   "execution_count": 183,
   "metadata": {},
   "outputs": [
    {
     "name": "stdout",
     "output_type": "stream",
     "text": [
      "Saving figure feature_importance\n"
     ]
    },
    {
     "data": {
      "image/png": "[encoded data removed]",
      "text/plain": [
       "<Figure size 1440x720 with 1 Axes>"
      ]
     },
     "metadata": {},
     "output_type": "display_data"
    }
   ],
   "source": [
    "x_bar = ['wind_speed', 'air_temperature', 'dew_point_temperature', 'eastward_wind', 'northward_wind', 'low_cloud_level', 'altimeter', 'low_cloud_type', 'cloud_coverage']\n",
    "y_bar = grid_search_cv_clf.best_estimator_.feature_importances_\n",
    "plt.figure(figsize=(20,10))\n",
    "plt.bar(x_bar, y_bar)\n",
    "plt.xticks(fontsize=14)\n",
    "plt.\n",
    "save_fig(\"feature_importances\")"
   ]
  },
  {
   "cell_type": "code",
   "execution_count": 153,
   "metadata": {},
   "outputs": [
    {
     "data": {
      "text/plain": [
       "GridSearchCV(cv=3, error_score=nan,\n",
       "             estimator=ExtraTreesClassifier(bootstrap=False, ccp_alpha=0.0,\n",
       "                                            class_weight=None, criterion='gini',\n",
       "                                            max_depth=None, max_features='auto',\n",
       "                                            max_leaf_nodes=None,\n",
       "                                            max_samples=None,\n",
       "                                            min_impurity_decrease=0.0,\n",
       "                                            min_impurity_split=None,\n",
       "                                            min_samples_leaf=1,\n",
       "                                            min_samples_split=2,\n",
       "                                            min_weight_fraction_leaf=0.0,\n",
       "                                            n_estimators=100, n_jobs=None,\n",
       "                                            oob_score=False, random_state=None,\n",
       "                                            verbose=0, warm_start=False),\n",
       "             iid='deprecated', n_jobs=None,\n",
       "             param_grid={'n_estimators': [100, 200, 300, 400, 500]},\n",
       "             pre_dispatch='2*n_jobs', refit=True, return_train_score=False,\n",
       "             scoring=None, verbose=0)"
      ]
     },
     "metadata": {},
     "output_type": "display_data"
    },
    {
     "data": {
      "text/plain": [
       "ExtraTreesClassifier(bootstrap=False, ccp_alpha=0.0, class_weight=None,\n",
       "                     criterion='gini', max_depth=None, max_features='auto',\n",
       "                     max_leaf_nodes=None, max_samples=None,\n",
       "                     min_impurity_decrease=0.0, min_impurity_split=None,\n",
       "                     min_samples_leaf=1, min_samples_split=2,\n",
       "                     min_weight_fraction_leaf=0.0, n_estimators=100,\n",
       "                     n_jobs=None, oob_score=False, random_state=None, verbose=0,\n",
       "                     warm_start=False)"
      ]
     },
     "metadata": {},
     "output_type": "display_data"
    }
   ],
   "source": [
    "from sklearn.model_selection import GridSearchCV\n",
    "params = {'n_estimators': [100, 200, 300, 400, 500]}\n",
    "grid_search_cv_clf = GridSearchCV(ExtraTreesClassifier(), \\\n",
    "                             params, verbose = 0, cv = 3)\n",
    "display(grid_search_cv_clf.fit(x_train.T, y_train.T))\n",
    "display(grid_search_cv_clf.best_estimator_)\n",
    "y_pred = grid_search_cv_clf.predict(x_test.T)"
   ]
  },
  {
   "cell_type": "code",
   "execution_count": 154,
   "metadata": {},
   "outputs": [
    {
     "data": {
      "text/plain": [
       "0.9887267489196467"
      ]
     },
     "metadata": {},
     "output_type": "display_data"
    }
   ],
   "source": [
    "display(grid_search_cv_clf.score(x_test.T, y_test.T))"
   ]
  },
  {
   "cell_type": "code",
   "execution_count": 155,
   "metadata": {},
   "outputs": [
    {
     "name": "stdout",
     "output_type": "stream",
     "text": [
      "                Predicted NO SNOW  Predicted SNOW  Total\n",
      "Actual NO SNOW              27661             315  27976\n",
      "Actual SNOW                   225           19700  19925\n",
      "Total                       27886           20015  47901\n"
     ]
    }
   ],
   "source": []
  },
  {
   "cell_type": "code",
   "execution_count": 156,
   "metadata": {},
   "outputs": [
    {
     "data": {
      "image/png": "[encoded data removed]",
      "text/plain": [
       "<Figure size 432x288 with 1 Axes>"
      ]
     },
     "metadata": {},
     "output_type": "display_data"
    }
   ],
   "source": [
    "from sklearn.metrics import confusion_matrix\n",
    "\n",
    "predicted_prob = grid_search_cv_clf.predict_proba(x_test.T)[:,1]\n",
    "predicted_class = grid_search_cv_clf.predict(x_test.T)\n",
    "\n",
    "mat = confusion_matrix(y_test.T, predicted_class)\n",
    "sns.heatmap(mat.T, square=True, annot=True, fmt='d', cbar=False,\n",
    "            xticklabels=[\"Liquid\", \"Solid\"],\n",
    "            yticklabels=[\"Solid\", \"Liquid\"])\n",
    "plt.xlabel('true label')\n",
    "plt.ylabel('predicted label')\n",
    "plt.title(\"Extra_Tree_Classifier\");"
   ]
  },
  {
   "cell_type": "code",
   "execution_count": 157,
   "metadata": {},
   "outputs": [
    {
     "data": {
      "text/plain": [
       "0.961266924873859"
      ]
     },
     "execution_count": 157,
     "metadata": {},
     "output_type": "execute_result"
    }
   ],
   "source": [
    "# calculate bier score\n",
    "loss = brier_score_loss(y_test.T, predicted_prob)\n",
    "naive1=sum(predicted_prob)/predicted_prob.shape[0]\n",
    "naive1 \n",
    "yhat = [naive1 for _ in range(len(predicted_prob))]\n",
    "bs_ref= brier_score_loss(y_test.T, yhat)\n",
    "bs = brier_score_loss(y_test.T, predicted_prob)\n",
    "bs_skill=1-(bs/bs_ref)\n",
    "bs_skill"
   ]
  },
  {
   "cell_type": "markdown",
   "metadata": {},
   "source": [
    "## PCA"
   ]
  },
  {
   "cell_type": "code",
   "execution_count": 55,
   "metadata": {},
   "outputs": [],
   "source": []
  },
  {
   "cell_type": "markdown",
   "metadata": {},
   "source": [
    "## SVM"
   ]
  },
  {
   "cell_type": "code",
   "execution_count": null,
   "metadata": {},
   "outputs": [],
   "source": []
  }
 ],
 "metadata": {
  "kernelspec": {
   "display_name": "Python 3",
   "language": "python",
   "name": "python3"
  },
  "language_info": {
   "codemirror_mode": {
    "name": "ipython",
    "version": 3
   },
   "file_extension": ".py",
   "mimetype": "text/x-python",
   "name": "python",
   "nbconvert_exporter": "python",
   "pygments_lexer": "ipython3",
   "version": "3.7.7"
  }
 },
 "nbformat": 4,
 "nbformat_minor": 2
}
