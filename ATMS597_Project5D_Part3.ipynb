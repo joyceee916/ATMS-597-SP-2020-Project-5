{
 "cells": [
  {
   "cell_type": "markdown",
   "metadata": {},
   "source": [
    "# ATMS 597: Project 5 - Part 3"
   ]
  },
  {
   "cell_type": "markdown",
   "metadata": {},
   "source": [
    "Group D: Joyce Yang, Yang Lu, Lina Rivelli-Zea\n",
    "\n",
    "Model 1: Logistic Regression classification with default values\n",
    "\n",
    "UIUC - April, 2020"
   ]
  },
  {
   "cell_type": "markdown",
   "metadata": {},
   "source": [
    "REFERENCES\n",
    "\n",
    "Notebook: https://colab.research.google.com/drive/1Zqf6bIHAMROxYaeSTCIAQQmfaDDpPfWp#scrollTo=0kWn-CNvaHUJ\n",
    "\n",
    "Example: https://www.kaggle.com/akdagmelih/rain-prediction-logistic-regression-example\n",
    "\n",
    "Book: Chopra R. et. al (2019). Data Science in Python, Chapter 3 (95-133), www.packt.com\n",
    "\n",
    "Brier: https://machinelearningmastery.com/how-to-score-probability-predictions-in-python/"
   ]
  },
  {
   "cell_type": "markdown",
   "metadata": {},
   "source": [
    "# Setup the model"
   ]
  },
  {
   "cell_type": "code",
   "execution_count": 1,
   "metadata": {},
   "outputs": [],
   "source": [
    "# Import libraries\n",
    "%matplotlib inline\n",
    "import sys\n",
    "import copy\n",
    "import warnings\n",
    "import matplotlib.pyplot as pyplot\n",
    "import pandas as pd\n",
    "import io \n",
    "import numpy as np\n",
    "from pandas.tseries.offsets import MonthEnd\n",
    "from pandas.api.types import CategoricalDtype\n",
    "import matplotlib.pyplot as plt\n",
    "import seaborn as sns; sns.set()\n",
    "from sklearn.metrics import mean_squared_error\n",
    "from math import sqrt\n",
    "import os\n",
    "from sklearn.metrics import brier_score_loss\n",
    "from sklearn.model_selection import GridSearchCV\n",
    "from sklearn.metrics import confusion_matrix"
   ]
  },
  {
   "cell_type": "code",
   "execution_count": 2,
   "metadata": {},
   "outputs": [],
   "source": [
    "def save_fig(fig_id, tight_layout = True, fig_extension = \"png\", resolution = 300):\n",
    "    path = os.path.join(\"./\", fig_id + \".\" + fig_extension)\n",
    "    print(\"Saving figure\", fig_id)\n",
    "    if tight_layout:\n",
    "        plt.tight_layout()\n",
    "    plt.savefig(path, format = fig_extension, dpi = resolution)"
   ]
  },
  {
   "cell_type": "markdown",
   "metadata": {},
   "source": [
    "# Input data into pandas dataframe (Borrowed from part 2)"
   ]
  },
  {
   "cell_type": "markdown",
   "metadata": {},
   "source": [
    "Data: KGRB (WI) 5-minute Automated Surface Observation System data available from NCDC \n",
    "    \n",
    "Read 5-min ASOS observations from 2000-2020 data period"
   ]
  },
  {
   "cell_type": "code",
   "execution_count": 3,
   "metadata": {},
   "outputs": [
    {
     "data": {
      "text/html": [
       "<div>\n",
       "<style scoped>\n",
       "    .dataframe tbody tr th:only-of-type {\n",
       "        vertical-align: middle;\n",
       "    }\n",
       "\n",
       "    .dataframe tbody tr th {\n",
       "        vertical-align: top;\n",
       "    }\n",
       "\n",
       "    .dataframe thead th {\n",
       "        text-align: right;\n",
       "    }\n",
       "</style>\n",
       "<table border=\"1\" class=\"dataframe\">\n",
       "  <thead>\n",
       "    <tr style=\"text-align: right;\">\n",
       "      <th></th>\n",
       "      <th>latitude</th>\n",
       "      <th>longitude</th>\n",
       "      <th>elevation</th>\n",
       "      <th>wind_direction</th>\n",
       "      <th>wind_speed</th>\n",
       "      <th>current_wx3</th>\n",
       "      <th>low_cloud_level</th>\n",
       "      <th>medium_cloud_level</th>\n",
       "      <th>high_cloud_level</th>\n",
       "      <th>highest_cloud_type</th>\n",
       "      <th>...</th>\n",
       "      <th>cloud_coverage</th>\n",
       "      <th>air_temperature</th>\n",
       "      <th>dew_point_temperature</th>\n",
       "      <th>altimeter</th>\n",
       "      <th>present_weather</th>\n",
       "      <th>past_weather</th>\n",
       "      <th>past_weather2</th>\n",
       "      <th>air_pressure_at_sea_level</th>\n",
       "      <th>eastward_wind</th>\n",
       "      <th>northward_wind</th>\n",
       "    </tr>\n",
       "  </thead>\n",
       "  <tbody>\n",
       "    <tr>\n",
       "      <th>count</th>\n",
       "      <td>1.623080e+05</td>\n",
       "      <td>1.623080e+05</td>\n",
       "      <td>162308.0</td>\n",
       "      <td>161455.000000</td>\n",
       "      <td>162057.000000</td>\n",
       "      <td>0.0</td>\n",
       "      <td>160894.000000</td>\n",
       "      <td>88354.000000</td>\n",
       "      <td>36909.000000</td>\n",
       "      <td>0.0</td>\n",
       "      <td>...</td>\n",
       "      <td>162308.000000</td>\n",
       "      <td>162145.000000</td>\n",
       "      <td>161946.000000</td>\n",
       "      <td>162019.000000</td>\n",
       "      <td>162308.000000</td>\n",
       "      <td>162308.000000</td>\n",
       "      <td>162308.0</td>\n",
       "      <td>0.0</td>\n",
       "      <td>161455.000000</td>\n",
       "      <td>161455.000000</td>\n",
       "    </tr>\n",
       "    <tr>\n",
       "      <th>mean</th>\n",
       "      <td>4.448000e+01</td>\n",
       "      <td>-8.813000e+01</td>\n",
       "      <td>208.0</td>\n",
       "      <td>155.700907</td>\n",
       "      <td>9.607934</td>\n",
       "      <td>NaN</td>\n",
       "      <td>2235.528267</td>\n",
       "      <td>3909.013740</td>\n",
       "      <td>5626.443415</td>\n",
       "      <td>NaN</td>\n",
       "      <td>...</td>\n",
       "      <td>7.822005</td>\n",
       "      <td>4.532289</td>\n",
       "      <td>2.522668</td>\n",
       "      <td>29.847031</td>\n",
       "      <td>66.605565</td>\n",
       "      <td>6.993118</td>\n",
       "      <td>0.0</td>\n",
       "      <td>NaN</td>\n",
       "      <td>-1.081738</td>\n",
       "      <td>-1.999983</td>\n",
       "    </tr>\n",
       "    <tr>\n",
       "      <th>std</th>\n",
       "      <td>1.421090e-14</td>\n",
       "      <td>5.684359e-14</td>\n",
       "      <td>0.0</td>\n",
       "      <td>113.552813</td>\n",
       "      <td>5.263456</td>\n",
       "      <td>NaN</td>\n",
       "      <td>2155.368129</td>\n",
       "      <td>2619.317206</td>\n",
       "      <td>2771.096656</td>\n",
       "      <td>NaN</td>\n",
       "      <td>...</td>\n",
       "      <td>1.132625</td>\n",
       "      <td>9.432755</td>\n",
       "      <td>9.706686</td>\n",
       "      <td>0.247374</td>\n",
       "      <td>7.141335</td>\n",
       "      <td>9.315508</td>\n",
       "      <td>0.0</td>\n",
       "      <td>NaN</td>\n",
       "      <td>7.324633</td>\n",
       "      <td>7.847343</td>\n",
       "    </tr>\n",
       "    <tr>\n",
       "      <th>min</th>\n",
       "      <td>4.448000e+01</td>\n",
       "      <td>-8.813000e+01</td>\n",
       "      <td>208.0</td>\n",
       "      <td>0.000000</td>\n",
       "      <td>0.000000</td>\n",
       "      <td>NaN</td>\n",
       "      <td>0.000000</td>\n",
       "      <td>0.000000</td>\n",
       "      <td>900.000000</td>\n",
       "      <td>NaN</td>\n",
       "      <td>...</td>\n",
       "      <td>0.000000</td>\n",
       "      <td>-26.000000</td>\n",
       "      <td>-31.000000</td>\n",
       "      <td>20.000000</td>\n",
       "      <td>61.000000</td>\n",
       "      <td>0.000000</td>\n",
       "      <td>0.0</td>\n",
       "      <td>NaN</td>\n",
       "      <td>-31.513848</td>\n",
       "      <td>-39.392310</td>\n",
       "    </tr>\n",
       "    <tr>\n",
       "      <th>25%</th>\n",
       "      <td>4.448000e+01</td>\n",
       "      <td>-8.813000e+01</td>\n",
       "      <td>208.0</td>\n",
       "      <td>50.000000</td>\n",
       "      <td>6.000000</td>\n",
       "      <td>NaN</td>\n",
       "      <td>700.000000</td>\n",
       "      <td>1800.000000</td>\n",
       "      <td>3400.000000</td>\n",
       "      <td>NaN</td>\n",
       "      <td>...</td>\n",
       "      <td>8.000000</td>\n",
       "      <td>-2.000000</td>\n",
       "      <td>-4.000000</td>\n",
       "      <td>29.700000</td>\n",
       "      <td>61.000000</td>\n",
       "      <td>0.000000</td>\n",
       "      <td>0.0</td>\n",
       "      <td>NaN</td>\n",
       "      <td>-6.128356</td>\n",
       "      <td>-7.713451</td>\n",
       "    </tr>\n",
       "    <tr>\n",
       "      <th>50%</th>\n",
       "      <td>4.448000e+01</td>\n",
       "      <td>-8.813000e+01</td>\n",
       "      <td>208.0</td>\n",
       "      <td>150.000000</td>\n",
       "      <td>9.000000</td>\n",
       "      <td>NaN</td>\n",
       "      <td>1500.000000</td>\n",
       "      <td>3200.000000</td>\n",
       "      <td>5000.000000</td>\n",
       "      <td>NaN</td>\n",
       "      <td>...</td>\n",
       "      <td>8.000000</td>\n",
       "      <td>3.000000</td>\n",
       "      <td>2.000000</td>\n",
       "      <td>29.860000</td>\n",
       "      <td>63.000000</td>\n",
       "      <td>10.000000</td>\n",
       "      <td>0.0</td>\n",
       "      <td>NaN</td>\n",
       "      <td>-1.215537</td>\n",
       "      <td>-1.710101</td>\n",
       "    </tr>\n",
       "    <tr>\n",
       "      <th>75%</th>\n",
       "      <td>4.448000e+01</td>\n",
       "      <td>-8.813000e+01</td>\n",
       "      <td>208.0</td>\n",
       "      <td>250.000000</td>\n",
       "      <td>13.000000</td>\n",
       "      <td>NaN</td>\n",
       "      <td>3000.000000</td>\n",
       "      <td>5500.000000</td>\n",
       "      <td>7500.000000</td>\n",
       "      <td>NaN</td>\n",
       "      <td>...</td>\n",
       "      <td>8.000000</td>\n",
       "      <td>12.000000</td>\n",
       "      <td>10.000000</td>\n",
       "      <td>30.010000</td>\n",
       "      <td>71.000000</td>\n",
       "      <td>10.000000</td>\n",
       "      <td>0.0</td>\n",
       "      <td>NaN</td>\n",
       "      <td>3.299315</td>\n",
       "      <td>3.856726</td>\n",
       "    </tr>\n",
       "    <tr>\n",
       "      <th>max</th>\n",
       "      <td>4.448000e+01</td>\n",
       "      <td>-8.813000e+01</td>\n",
       "      <td>208.0</td>\n",
       "      <td>360.000000</td>\n",
       "      <td>41.000000</td>\n",
       "      <td>NaN</td>\n",
       "      <td>18000.000000</td>\n",
       "      <td>28700.000000</td>\n",
       "      <td>12000.000000</td>\n",
       "      <td>NaN</td>\n",
       "      <td>...</td>\n",
       "      <td>10.000000</td>\n",
       "      <td>34.000000</td>\n",
       "      <td>27.000000</td>\n",
       "      <td>31.030000</td>\n",
       "      <td>97.000000</td>\n",
       "      <td>49.000000</td>\n",
       "      <td>0.0</td>\n",
       "      <td>NaN</td>\n",
       "      <td>38.527397</td>\n",
       "      <td>27.000000</td>\n",
       "    </tr>\n",
       "  </tbody>\n",
       "</table>\n",
       "<p>8 rows × 21 columns</p>\n",
       "</div>"
      ],
      "text/plain": [
       "           latitude     longitude  elevation  wind_direction     wind_speed  \\\n",
       "count  1.623080e+05  1.623080e+05   162308.0   161455.000000  162057.000000   \n",
       "mean   4.448000e+01 -8.813000e+01      208.0      155.700907       9.607934   \n",
       "std    1.421090e-14  5.684359e-14        0.0      113.552813       5.263456   \n",
       "min    4.448000e+01 -8.813000e+01      208.0        0.000000       0.000000   \n",
       "25%    4.448000e+01 -8.813000e+01      208.0       50.000000       6.000000   \n",
       "50%    4.448000e+01 -8.813000e+01      208.0      150.000000       9.000000   \n",
       "75%    4.448000e+01 -8.813000e+01      208.0      250.000000      13.000000   \n",
       "max    4.448000e+01 -8.813000e+01      208.0      360.000000      41.000000   \n",
       "\n",
       "       current_wx3  low_cloud_level  medium_cloud_level  high_cloud_level  \\\n",
       "count          0.0    160894.000000        88354.000000      36909.000000   \n",
       "mean           NaN      2235.528267         3909.013740       5626.443415   \n",
       "std            NaN      2155.368129         2619.317206       2771.096656   \n",
       "min            NaN         0.000000            0.000000        900.000000   \n",
       "25%            NaN       700.000000         1800.000000       3400.000000   \n",
       "50%            NaN      1500.000000         3200.000000       5000.000000   \n",
       "75%            NaN      3000.000000         5500.000000       7500.000000   \n",
       "max            NaN     18000.000000        28700.000000      12000.000000   \n",
       "\n",
       "       highest_cloud_type  ...  cloud_coverage  air_temperature  \\\n",
       "count                 0.0  ...   162308.000000    162145.000000   \n",
       "mean                  NaN  ...        7.822005         4.532289   \n",
       "std                   NaN  ...        1.132625         9.432755   \n",
       "min                   NaN  ...        0.000000       -26.000000   \n",
       "25%                   NaN  ...        8.000000        -2.000000   \n",
       "50%                   NaN  ...        8.000000         3.000000   \n",
       "75%                   NaN  ...        8.000000        12.000000   \n",
       "max                   NaN  ...       10.000000        34.000000   \n",
       "\n",
       "       dew_point_temperature      altimeter  present_weather   past_weather  \\\n",
       "count          161946.000000  162019.000000    162308.000000  162308.000000   \n",
       "mean                2.522668      29.847031        66.605565       6.993118   \n",
       "std                 9.706686       0.247374         7.141335       9.315508   \n",
       "min               -31.000000      20.000000        61.000000       0.000000   \n",
       "25%                -4.000000      29.700000        61.000000       0.000000   \n",
       "50%                 2.000000      29.860000        63.000000      10.000000   \n",
       "75%                10.000000      30.010000        71.000000      10.000000   \n",
       "max                27.000000      31.030000        97.000000      49.000000   \n",
       "\n",
       "       past_weather2  air_pressure_at_sea_level  eastward_wind  northward_wind  \n",
       "count       162308.0                        0.0  161455.000000   161455.000000  \n",
       "mean             0.0                        NaN      -1.081738       -1.999983  \n",
       "std              0.0                        NaN       7.324633        7.847343  \n",
       "min              0.0                        NaN     -31.513848      -39.392310  \n",
       "25%              0.0                        NaN      -6.128356       -7.713451  \n",
       "50%              0.0                        NaN      -1.215537       -1.710101  \n",
       "75%              0.0                        NaN       3.299315        3.856726  \n",
       "max              0.0                        NaN      38.527397       27.000000  \n",
       "\n",
       "[8 rows x 21 columns]"
      ]
     },
     "execution_count": 3,
     "metadata": {},
     "output_type": "execute_result"
    }
   ],
   "source": [
    "KGRB_precip=pd.read_csv('./KGRB_precip.csv')\n",
    "KGRB_precip.describe()"
   ]
  },
  {
   "cell_type": "markdown",
   "metadata": {},
   "source": [
    "Targets (Snow, Rain) for Binary Classification"
   ]
  },
  {
   "cell_type": "code",
   "execution_count": 4,
   "metadata": {},
   "outputs": [],
   "source": [
    "targets = ['SN', 'RA']\n",
    "\n",
    "# Any word from `targets` are present in sentence.\n",
    "precip4=KGRB_precip[KGRB_precip.current_wx1.apply(lambda sentence: any(word in sentence for word in targets))]"
   ]
  },
  {
   "cell_type": "code",
   "execution_count": 5,
   "metadata": {},
   "outputs": [],
   "source": [
    "precip1=pd.DataFrame()\n",
    "precip1['wind_speed']=precip4['wind_speed']\n",
    "precip1['air_temperature']=precip4['air_temperature']\n",
    "precip1['dew_point_temperature']=precip4['dew_point_temperature']\n",
    "precip1['eastward_wind']=precip4['eastward_wind']\n",
    "precip1['northward_wind']=precip4['northward_wind']\n",
    "precip1['low_cloud_level']=precip4['low_cloud_level']\n",
    "precip1['altimeter']=precip4['altimeter']\n",
    "precip1['cloud_coverage']=precip4['cloud_coverage']\n",
    "precip1['low_cloud_type']=precip4['low_cloud_type']\n",
    "\n",
    "precip1['present_weather']=precip4['present_weather']\n",
    "precip1['current_wx1']=precip4['current_wx1']"
   ]
  },
  {
   "cell_type": "markdown",
   "metadata": {},
   "source": [
    "Drop mixed features (Snow and Rain)"
   ]
  },
  {
   "cell_type": "code",
   "execution_count": 6,
   "metadata": {},
   "outputs": [],
   "source": [
    "precip1=precip1[precip1.current_wx1 != 'SNRA']"
   ]
  },
  {
   "cell_type": "markdown",
   "metadata": {},
   "source": [
    "Binarization"
   ]
  },
  {
   "cell_type": "code",
   "execution_count": 7,
   "metadata": {},
   "outputs": [],
   "source": [
    "precip1['Snow']=precip1.current_wx1.apply(lambda x: 1 if x in ['SN','-SN', '+SN'] else 0)"
   ]
  },
  {
   "cell_type": "markdown",
   "metadata": {},
   "source": [
    "Drop NaN Values and weather labels"
   ]
  },
  {
   "cell_type": "code",
   "execution_count": 8,
   "metadata": {},
   "outputs": [],
   "source": [
    "precip1=precip1.dropna()\n",
    "precip1=precip1.drop(['current_wx1','present_weather'],axis=1)"
   ]
  },
  {
   "cell_type": "code",
   "execution_count": 9,
   "metadata": {},
   "outputs": [
    {
     "data": {
      "text/html": [
       "<div>\n",
       "<style scoped>\n",
       "    .dataframe tbody tr th:only-of-type {\n",
       "        vertical-align: middle;\n",
       "    }\n",
       "\n",
       "    .dataframe tbody tr th {\n",
       "        vertical-align: top;\n",
       "    }\n",
       "\n",
       "    .dataframe thead th {\n",
       "        text-align: right;\n",
       "    }\n",
       "</style>\n",
       "<table border=\"1\" class=\"dataframe\">\n",
       "  <thead>\n",
       "    <tr style=\"text-align: right;\">\n",
       "      <th></th>\n",
       "      <th>wind_speed</th>\n",
       "      <th>air_temperature</th>\n",
       "      <th>dew_point_temperature</th>\n",
       "      <th>eastward_wind</th>\n",
       "      <th>northward_wind</th>\n",
       "      <th>low_cloud_level</th>\n",
       "      <th>altimeter</th>\n",
       "      <th>cloud_coverage</th>\n",
       "      <th>Snow</th>\n",
       "    </tr>\n",
       "  </thead>\n",
       "  <tbody>\n",
       "    <tr>\n",
       "      <th>count</th>\n",
       "      <td>159669.000000</td>\n",
       "      <td>159669.000000</td>\n",
       "      <td>159669.000000</td>\n",
       "      <td>159669.000000</td>\n",
       "      <td>159669.000000</td>\n",
       "      <td>159669.000000</td>\n",
       "      <td>159669.000000</td>\n",
       "      <td>159669.000000</td>\n",
       "      <td>159669.000000</td>\n",
       "    </tr>\n",
       "    <tr>\n",
       "      <th>mean</th>\n",
       "      <td>9.615912</td>\n",
       "      <td>4.472371</td>\n",
       "      <td>2.500886</td>\n",
       "      <td>-1.132643</td>\n",
       "      <td>-2.020768</td>\n",
       "      <td>2231.360834</td>\n",
       "      <td>29.846107</td>\n",
       "      <td>7.879876</td>\n",
       "      <td>0.416906</td>\n",
       "    </tr>\n",
       "    <tr>\n",
       "      <th>std</th>\n",
       "      <td>5.249853</td>\n",
       "      <td>9.342812</td>\n",
       "      <td>9.627962</td>\n",
       "      <td>7.295561</td>\n",
       "      <td>7.838090</td>\n",
       "      <td>2152.841013</td>\n",
       "      <td>0.247527</td>\n",
       "      <td>0.907281</td>\n",
       "      <td>0.493049</td>\n",
       "    </tr>\n",
       "    <tr>\n",
       "      <th>min</th>\n",
       "      <td>0.000000</td>\n",
       "      <td>-26.000000</td>\n",
       "      <td>-31.000000</td>\n",
       "      <td>-31.513848</td>\n",
       "      <td>-39.392310</td>\n",
       "      <td>1.000000</td>\n",
       "      <td>20.000000</td>\n",
       "      <td>2.000000</td>\n",
       "      <td>0.000000</td>\n",
       "    </tr>\n",
       "    <tr>\n",
       "      <th>25%</th>\n",
       "      <td>6.000000</td>\n",
       "      <td>-2.000000</td>\n",
       "      <td>-4.000000</td>\n",
       "      <td>-6.128356</td>\n",
       "      <td>-7.713451</td>\n",
       "      <td>700.000000</td>\n",
       "      <td>29.700000</td>\n",
       "      <td>8.000000</td>\n",
       "      <td>0.000000</td>\n",
       "    </tr>\n",
       "    <tr>\n",
       "      <th>50%</th>\n",
       "      <td>9.000000</td>\n",
       "      <td>3.000000</td>\n",
       "      <td>2.000000</td>\n",
       "      <td>-1.368081</td>\n",
       "      <td>-1.736482</td>\n",
       "      <td>1500.000000</td>\n",
       "      <td>29.860000</td>\n",
       "      <td>8.000000</td>\n",
       "      <td>0.000000</td>\n",
       "    </tr>\n",
       "    <tr>\n",
       "      <th>75%</th>\n",
       "      <td>13.000000</td>\n",
       "      <td>12.000000</td>\n",
       "      <td>10.000000</td>\n",
       "      <td>3.213938</td>\n",
       "      <td>3.856726</td>\n",
       "      <td>3000.000000</td>\n",
       "      <td>30.010000</td>\n",
       "      <td>8.000000</td>\n",
       "      <td>1.000000</td>\n",
       "    </tr>\n",
       "    <tr>\n",
       "      <th>max</th>\n",
       "      <td>40.000000</td>\n",
       "      <td>31.000000</td>\n",
       "      <td>27.000000</td>\n",
       "      <td>36.437887</td>\n",
       "      <td>27.000000</td>\n",
       "      <td>12000.000000</td>\n",
       "      <td>31.030000</td>\n",
       "      <td>10.000000</td>\n",
       "      <td>1.000000</td>\n",
       "    </tr>\n",
       "  </tbody>\n",
       "</table>\n",
       "</div>"
      ],
      "text/plain": [
       "          wind_speed  air_temperature  dew_point_temperature  eastward_wind  \\\n",
       "count  159669.000000    159669.000000          159669.000000  159669.000000   \n",
       "mean        9.615912         4.472371               2.500886      -1.132643   \n",
       "std         5.249853         9.342812               9.627962       7.295561   \n",
       "min         0.000000       -26.000000             -31.000000     -31.513848   \n",
       "25%         6.000000        -2.000000              -4.000000      -6.128356   \n",
       "50%         9.000000         3.000000               2.000000      -1.368081   \n",
       "75%        13.000000        12.000000              10.000000       3.213938   \n",
       "max        40.000000        31.000000              27.000000      36.437887   \n",
       "\n",
       "       northward_wind  low_cloud_level      altimeter  cloud_coverage  \\\n",
       "count   159669.000000    159669.000000  159669.000000   159669.000000   \n",
       "mean        -2.020768      2231.360834      29.846107        7.879876   \n",
       "std          7.838090      2152.841013       0.247527        0.907281   \n",
       "min        -39.392310         1.000000      20.000000        2.000000   \n",
       "25%         -7.713451       700.000000      29.700000        8.000000   \n",
       "50%         -1.736482      1500.000000      29.860000        8.000000   \n",
       "75%          3.856726      3000.000000      30.010000        8.000000   \n",
       "max         27.000000     12000.000000      31.030000       10.000000   \n",
       "\n",
       "                Snow  \n",
       "count  159669.000000  \n",
       "mean        0.416906  \n",
       "std         0.493049  \n",
       "min         0.000000  \n",
       "25%         0.000000  \n",
       "50%         0.000000  \n",
       "75%         1.000000  \n",
       "max         1.000000  "
      ]
     },
     "execution_count": 9,
     "metadata": {},
     "output_type": "execute_result"
    }
   ],
   "source": [
    "precip1.describe()"
   ]
  },
  {
   "cell_type": "code",
   "execution_count": 10,
   "metadata": {},
   "outputs": [],
   "source": [
    "X = precip1.drop('Snow',axis=1)\n",
    "y = precip1['Snow']"
   ]
  },
  {
   "cell_type": "code",
   "execution_count": 11,
   "metadata": {},
   "outputs": [
    {
     "data": {
      "text/plain": [
       "0         2.0\n",
       "1         2.0\n",
       "2         2.0\n",
       "3         2.0\n",
       "4         2.0\n",
       "         ... \n",
       "162303    0.0\n",
       "162304    0.0\n",
       "162305    3.0\n",
       "162306    0.0\n",
       "162307    0.0\n",
       "Name: low_cloud_type, Length: 159669, dtype: float64"
      ]
     },
     "execution_count": 11,
     "metadata": {},
     "output_type": "execute_result"
    }
   ],
   "source": [
    "from sklearn.preprocessing import OrdinalEncoder\n",
    "ordinal_encoder = OrdinalEncoder()\n",
    "X['low_cloud_type'] = ordinal_encoder.fit_transform(X['low_cloud_type'].values.reshape(-1,1))\n",
    "X['low_cloud_type']"
   ]
  },
  {
   "cell_type": "code",
   "execution_count": 12,
   "metadata": {},
   "outputs": [
    {
     "name": "stdout",
     "output_type": "stream",
     "text": [
      "x_train shape is:  (9, 111768)\n",
      "y_train shape is:  (111768,)\n",
      "x_test shape is:  (9, 47901)\n",
      "y_test shape is:  (47901,)\n"
     ]
    }
   ],
   "source": [
    "from sklearn.model_selection import train_test_split\n",
    "\n",
    "x_train, x_test, y_train, y_test = train_test_split(X, y, test_size=0.3, random_state=75)\n",
    "\n",
    "# For our matrix calculations we need to transpose our matrixis:\n",
    "x_train = x_train.T\n",
    "y_train = y_train.T\n",
    "x_test = x_test.T\n",
    "y_test = y_test.T\n",
    "\n",
    "print('x_train shape is: ', x_train.shape)\n",
    "print('y_train shape is: ', y_train.shape)\n",
    "print('x_test shape is: ', x_test.shape)\n",
    "print('y_test shape is: ', y_test.shape)"
   ]
  },
  {
   "cell_type": "code",
   "execution_count": 13,
   "metadata": {},
   "outputs": [],
   "source": [
    "# Normalization\n",
    "from sklearn.preprocessing import StandardScaler\n",
    "scaler = StandardScaler()\n",
    "x_train_tmp = scaler.fit_transform(x_train[:8].T)\n",
    "x_train[:8] = x_train_tmp.T\n",
    "x_test_tmp = scaler.transform(x_test[:8].T)\n",
    "x_test[:8] = x_test_tmp.T"
   ]
  },
  {
   "cell_type": "markdown",
   "metadata": {},
   "source": [
    "## Ensemble learning"
   ]
  },
  {
   "cell_type": "code",
   "execution_count": 14,
   "metadata": {},
   "outputs": [],
   "source": [
    "from sklearn.model_selection import train_test_split\n",
    "from sklearn.ensemble import RandomForestClassifier, ExtraTreesClassifier\n",
    "from sklearn.svm import LinearSVC\n",
    "from sklearn.neural_network import MLPClassifier\n",
    "from sklearn.ensemble import GradientBoostingRegressor\n",
    "import xgboost\n",
    "from sklearn.ensemble import VotingClassifier"
   ]
  },
  {
   "cell_type": "code",
   "execution_count": 15,
   "metadata": {
    "scrolled": true
   },
   "outputs": [],
   "source": [
    "# Parameters optimized from later steps\n",
    "random_forest_clf = RandomForestClassifier(n_estimators = 400, random_state = 42)\n",
    "extra_trees_clf = ExtraTreesClassifier(n_estimators = 100, random_state = 42)\n",
    "svm_clf = LinearSVC(random_state = 42)\n",
    "mlp_relu_clf = MLPClassifier(activation=\"relu\", random_state = 42)\n",
    "mlp_tanh_clf = MLPClassifier(activation=\"tanh\", random_state = 42)\n",
    "gbrt = GradientBoostingRegressor(n_estimators = 100, random_state = 42)\n",
    "xgb_clf = xgboost.XGBClassifier(objective='binary:logistic', random_state = 42)"
   ]
  },
  {
   "cell_type": "code",
   "execution_count": 16,
   "metadata": {
    "scrolled": true
   },
   "outputs": [
    {
     "name": "stdout",
     "output_type": "stream",
     "text": [
      "Training the  RandomForestClassifier(bootstrap=True, ccp_alpha=0.0, class_weight=None,\n",
      "                       criterion='gini', max_depth=None, max_features='auto',\n",
      "                       max_leaf_nodes=None, max_samples=None,\n",
      "                       min_impurity_decrease=0.0, min_impurity_split=None,\n",
      "                       min_samples_leaf=1, min_samples_split=2,\n",
      "                       min_weight_fraction_leaf=0.0, n_estimators=400,\n",
      "                       n_jobs=None, oob_score=False, random_state=42, verbose=0,\n",
      "                       warm_start=False)\n"
     ]
    },
    {
     "data": {
      "text/plain": [
       "RandomForestClassifier(bootstrap=True, ccp_alpha=0.0, class_weight=None,\n",
       "                       criterion='gini', max_depth=None, max_features='auto',\n",
       "                       max_leaf_nodes=None, max_samples=None,\n",
       "                       min_impurity_decrease=0.0, min_impurity_split=None,\n",
       "                       min_samples_leaf=1, min_samples_split=2,\n",
       "                       min_weight_fraction_leaf=0.0, n_estimators=400,\n",
       "                       n_jobs=None, oob_score=False, random_state=42, verbose=0,\n",
       "                       warm_start=False)"
      ]
     },
     "metadata": {},
     "output_type": "display_data"
    },
    {
     "name": "stdout",
     "output_type": "stream",
     "text": [
      "Training the  ExtraTreesClassifier(bootstrap=False, ccp_alpha=0.0, class_weight=None,\n",
      "                     criterion='gini', max_depth=None, max_features='auto',\n",
      "                     max_leaf_nodes=None, max_samples=None,\n",
      "                     min_impurity_decrease=0.0, min_impurity_split=None,\n",
      "                     min_samples_leaf=1, min_samples_split=2,\n",
      "                     min_weight_fraction_leaf=0.0, n_estimators=100,\n",
      "                     n_jobs=None, oob_score=False, random_state=42, verbose=0,\n",
      "                     warm_start=False)\n"
     ]
    },
    {
     "data": {
      "text/plain": [
       "ExtraTreesClassifier(bootstrap=False, ccp_alpha=0.0, class_weight=None,\n",
       "                     criterion='gini', max_depth=None, max_features='auto',\n",
       "                     max_leaf_nodes=None, max_samples=None,\n",
       "                     min_impurity_decrease=0.0, min_impurity_split=None,\n",
       "                     min_samples_leaf=1, min_samples_split=2,\n",
       "                     min_weight_fraction_leaf=0.0, n_estimators=100,\n",
       "                     n_jobs=None, oob_score=False, random_state=42, verbose=0,\n",
       "                     warm_start=False)"
      ]
     },
     "metadata": {},
     "output_type": "display_data"
    },
    {
     "name": "stdout",
     "output_type": "stream",
     "text": [
      "Training the  LinearSVC(C=1.0, class_weight=None, dual=True, fit_intercept=True,\n",
      "          intercept_scaling=1, loss='squared_hinge', max_iter=1000,\n",
      "          multi_class='ovr', penalty='l2', random_state=42, tol=0.0001,\n",
      "          verbose=0)\n"
     ]
    },
    {
     "name": "stderr",
     "output_type": "stream",
     "text": [
      "C:\\Users\\YangLu\\Anaconda3\\envs\\gpu\\lib\\site-packages\\sklearn\\svm\\_base.py:947: ConvergenceWarning: Liblinear failed to converge, increase the number of iterations.\n",
      "  \"the number of iterations.\", ConvergenceWarning)\n"
     ]
    },
    {
     "data": {
      "text/plain": [
       "LinearSVC(C=1.0, class_weight=None, dual=True, fit_intercept=True,\n",
       "          intercept_scaling=1, loss='squared_hinge', max_iter=1000,\n",
       "          multi_class='ovr', penalty='l2', random_state=42, tol=0.0001,\n",
       "          verbose=0)"
      ]
     },
     "metadata": {},
     "output_type": "display_data"
    },
    {
     "name": "stdout",
     "output_type": "stream",
     "text": [
      "Training the  MLPClassifier(activation='relu', alpha=0.0001, batch_size='auto', beta_1=0.9,\n",
      "              beta_2=0.999, early_stopping=False, epsilon=1e-08,\n",
      "              hidden_layer_sizes=(100,), learning_rate='constant',\n",
      "              learning_rate_init=0.001, max_fun=15000, max_iter=200,\n",
      "              momentum=0.9, n_iter_no_change=10, nesterovs_momentum=True,\n",
      "              power_t=0.5, random_state=42, shuffle=True, solver='adam',\n",
      "              tol=0.0001, validation_fraction=0.1, verbose=False,\n",
      "              warm_start=False)\n"
     ]
    },
    {
     "name": "stderr",
     "output_type": "stream",
     "text": [
      "C:\\Users\\YangLu\\Anaconda3\\envs\\gpu\\lib\\site-packages\\sklearn\\neural_network\\_multilayer_perceptron.py:571: ConvergenceWarning: Stochastic Optimizer: Maximum iterations (200) reached and the optimization hasn't converged yet.\n",
      "  % self.max_iter, ConvergenceWarning)\n"
     ]
    },
    {
     "data": {
      "text/plain": [
       "MLPClassifier(activation='relu', alpha=0.0001, batch_size='auto', beta_1=0.9,\n",
       "              beta_2=0.999, early_stopping=False, epsilon=1e-08,\n",
       "              hidden_layer_sizes=(100,), learning_rate='constant',\n",
       "              learning_rate_init=0.001, max_fun=15000, max_iter=200,\n",
       "              momentum=0.9, n_iter_no_change=10, nesterovs_momentum=True,\n",
       "              power_t=0.5, random_state=42, shuffle=True, solver='adam',\n",
       "              tol=0.0001, validation_fraction=0.1, verbose=False,\n",
       "              warm_start=False)"
      ]
     },
     "metadata": {},
     "output_type": "display_data"
    },
    {
     "name": "stdout",
     "output_type": "stream",
     "text": [
      "Training the  MLPClassifier(activation='tanh', alpha=0.0001, batch_size='auto', beta_1=0.9,\n",
      "              beta_2=0.999, early_stopping=False, epsilon=1e-08,\n",
      "              hidden_layer_sizes=(100,), learning_rate='constant',\n",
      "              learning_rate_init=0.001, max_fun=15000, max_iter=200,\n",
      "              momentum=0.9, n_iter_no_change=10, nesterovs_momentum=True,\n",
      "              power_t=0.5, random_state=42, shuffle=True, solver='adam',\n",
      "              tol=0.0001, validation_fraction=0.1, verbose=False,\n",
      "              warm_start=False)\n"
     ]
    },
    {
     "name": "stderr",
     "output_type": "stream",
     "text": [
      "C:\\Users\\YangLu\\Anaconda3\\envs\\gpu\\lib\\site-packages\\sklearn\\neural_network\\_multilayer_perceptron.py:571: ConvergenceWarning: Stochastic Optimizer: Maximum iterations (200) reached and the optimization hasn't converged yet.\n",
      "  % self.max_iter, ConvergenceWarning)\n"
     ]
    },
    {
     "data": {
      "text/plain": [
       "MLPClassifier(activation='tanh', alpha=0.0001, batch_size='auto', beta_1=0.9,\n",
       "              beta_2=0.999, early_stopping=False, epsilon=1e-08,\n",
       "              hidden_layer_sizes=(100,), learning_rate='constant',\n",
       "              learning_rate_init=0.001, max_fun=15000, max_iter=200,\n",
       "              momentum=0.9, n_iter_no_change=10, nesterovs_momentum=True,\n",
       "              power_t=0.5, random_state=42, shuffle=True, solver='adam',\n",
       "              tol=0.0001, validation_fraction=0.1, verbose=False,\n",
       "              warm_start=False)"
      ]
     },
     "metadata": {},
     "output_type": "display_data"
    },
    {
     "name": "stdout",
     "output_type": "stream",
     "text": [
      "Training the  GradientBoostingRegressor(alpha=0.9, ccp_alpha=0.0, criterion='friedman_mse',\n",
      "                          init=None, learning_rate=0.1, loss='ls', max_depth=3,\n",
      "                          max_features=None, max_leaf_nodes=None,\n",
      "                          min_impurity_decrease=0.0, min_impurity_split=None,\n",
      "                          min_samples_leaf=1, min_samples_split=2,\n",
      "                          min_weight_fraction_leaf=0.0, n_estimators=100,\n",
      "                          n_iter_no_change=None, presort='deprecated',\n",
      "                          random_state=42, subsample=1.0, tol=0.0001,\n",
      "                          validation_fraction=0.1, verbose=0, warm_start=False)\n"
     ]
    },
    {
     "data": {
      "text/plain": [
       "GradientBoostingRegressor(alpha=0.9, ccp_alpha=0.0, criterion='friedman_mse',\n",
       "                          init=None, learning_rate=0.1, loss='ls', max_depth=3,\n",
       "                          max_features=None, max_leaf_nodes=None,\n",
       "                          min_impurity_decrease=0.0, min_impurity_split=None,\n",
       "                          min_samples_leaf=1, min_samples_split=2,\n",
       "                          min_weight_fraction_leaf=0.0, n_estimators=100,\n",
       "                          n_iter_no_change=None, presort='deprecated',\n",
       "                          random_state=42, subsample=1.0, tol=0.0001,\n",
       "                          validation_fraction=0.1, verbose=0, warm_start=False)"
      ]
     },
     "metadata": {},
     "output_type": "display_data"
    },
    {
     "name": "stdout",
     "output_type": "stream",
     "text": [
      "Training the  XGBClassifier(base_score=None, booster=None, colsample_bylevel=None,\n",
      "              colsample_bynode=None, colsample_bytree=None, gamma=None,\n",
      "              gpu_id=None, importance_type='gain', interaction_constraints=None,\n",
      "              learning_rate=None, max_delta_step=None, max_depth=None,\n",
      "              min_child_weight=None, missing=nan, monotone_constraints=None,\n",
      "              n_estimators=100, n_jobs=None, num_parallel_tree=None,\n",
      "              objective='binary:logistic', random_state=42, reg_alpha=None,\n",
      "              reg_lambda=None, scale_pos_weight=None, subsample=None,\n",
      "              tree_method=None, validate_parameters=False, verbosity=None)\n"
     ]
    },
    {
     "data": {
      "text/plain": [
       "XGBClassifier(base_score=0.5, booster=None, colsample_bylevel=1,\n",
       "              colsample_bynode=1, colsample_bytree=1, gamma=0, gpu_id=-1,\n",
       "              importance_type='gain', interaction_constraints=None,\n",
       "              learning_rate=0.300000012, max_delta_step=0, max_depth=6,\n",
       "              min_child_weight=1, missing=nan, monotone_constraints=None,\n",
       "              n_estimators=100, n_jobs=0, num_parallel_tree=1,\n",
       "              objective='binary:logistic', random_state=42, reg_alpha=0,\n",
       "              reg_lambda=1, scale_pos_weight=1, subsample=1, tree_method=None,\n",
       "              validate_parameters=False, verbosity=None)"
      ]
     },
     "metadata": {},
     "output_type": "display_data"
    },
    {
     "data": {
      "text/plain": [
       "[0.9880378280202918,\n",
       " 0.9882048391474082,\n",
       " 0.9647397757875619,\n",
       " 0.9732155904887163,\n",
       " 0.9724014112440241,\n",
       " 0.8918052355198888,\n",
       " 0.9824429552618943]"
      ]
     },
     "metadata": {},
     "output_type": "display_data"
    }
   ],
   "source": [
    "# Test individual models\n",
    "estimators = [random_forest_clf, extra_trees_clf, svm_clf, mlp_relu_clf, mlp_tanh_clf, gbrt, xgb_clf]\n",
    "for estimator in estimators:\n",
    "    print(\"Training the \", estimator)\n",
    "    display(estimator.fit(x_train[:8].T, y_train.T))\n",
    "display([estimator.score(x_test[:8].T, y_test.T) for estimator in estimators])"
   ]
  },
  {
   "cell_type": "code",
   "execution_count": 17,
   "metadata": {},
   "outputs": [
    {
     "name": "stderr",
     "output_type": "stream",
     "text": [
      "C:\\Users\\YangLu\\Anaconda3\\envs\\gpu\\lib\\site-packages\\sklearn\\svm\\_base.py:947: ConvergenceWarning: Liblinear failed to converge, increase the number of iterations.\n",
      "  \"the number of iterations.\", ConvergenceWarning)\n",
      "C:\\Users\\YangLu\\Anaconda3\\envs\\gpu\\lib\\site-packages\\sklearn\\neural_network\\_multilayer_perceptron.py:571: ConvergenceWarning: Stochastic Optimizer: Maximum iterations (200) reached and the optimization hasn't converged yet.\n",
      "  % self.max_iter, ConvergenceWarning)\n",
      "C:\\Users\\YangLu\\Anaconda3\\envs\\gpu\\lib\\site-packages\\sklearn\\neural_network\\_multilayer_perceptron.py:571: ConvergenceWarning: Stochastic Optimizer: Maximum iterations (200) reached and the optimization hasn't converged yet.\n",
      "  % self.max_iter, ConvergenceWarning)\n"
     ]
    },
    {
     "data": {
      "text/plain": [
       "VotingClassifier(estimators=[('random_forest_clf',\n",
       "                              RandomForestClassifier(bootstrap=True,\n",
       "                                                     ccp_alpha=0.0,\n",
       "                                                     class_weight=None,\n",
       "                                                     criterion='gini',\n",
       "                                                     max_depth=None,\n",
       "                                                     max_features='auto',\n",
       "                                                     max_leaf_nodes=None,\n",
       "                                                     max_samples=None,\n",
       "                                                     min_impurity_decrease=0.0,\n",
       "                                                     min_impurity_split=None,\n",
       "                                                     min_samples_leaf=1,\n",
       "                                                     min_samples_split=2,\n",
       "                                                     min_weight_fraction_leaf=0.0,\n",
       "                                                     n_estimators=400,\n",
       "                                                     n_jobs...\n",
       "                                            max_delta_step=0, max_depth=6,\n",
       "                                            min_child_weight=1, missing=nan,\n",
       "                                            monotone_constraints=None,\n",
       "                                            n_estimators=100, n_jobs=0,\n",
       "                                            num_parallel_tree=1,\n",
       "                                            objective='binary:logistic',\n",
       "                                            random_state=42, reg_alpha=0,\n",
       "                                            reg_lambda=1, scale_pos_weight=1,\n",
       "                                            subsample=1, tree_method=None,\n",
       "                                            validate_parameters=False,\n",
       "                                            verbosity=None))],\n",
       "                 flatten_transform=True, n_jobs=None, voting='hard',\n",
       "                 weights=None)"
      ]
     },
     "metadata": {},
     "output_type": "display_data"
    },
    {
     "data": {
      "text/plain": [
       "0.9814408884991963"
      ]
     },
     "metadata": {},
     "output_type": "display_data"
    },
    {
     "data": {
      "text/plain": [
       "[0.9880378280202918,\n",
       " 0.9882048391474082,\n",
       " 0.9647397757875619,\n",
       " 0.9732155904887163,\n",
       " 0.9724014112440241,\n",
       " 0.9824429552618943]"
      ]
     },
     "metadata": {},
     "output_type": "display_data"
    }
   ],
   "source": [
    "# Select potential models to do the hard voting\n",
    "named_estimators = [\n",
    "    (\"random_forest_clf\", random_forest_clf),\n",
    "    (\"extra_trees_clf\", extra_trees_clf),\n",
    "    (\"svm_clf\", svm_clf),\n",
    "    (\"mlp_relu_clf\", mlp_relu_clf),\n",
    "    (\"mlp_tanh_clf\", mlp_tanh_clf),\n",
    "    (\"xgb_clf\", xgb_clf),\n",
    "]\n",
    "voting_clf = VotingClassifier(named_estimators)\n",
    "display(voting_clf.fit(x_train[:8].T, y_train.T))\n",
    "display(voting_clf.score(x_test[:8].T, y_test.T))\n",
    "display([estimator.score(x_test[:8].T, y_test.T) for estimator in voting_clf.estimators_])"
   ]
  },
  {
   "cell_type": "code",
   "execution_count": 18,
   "metadata": {},
   "outputs": [
    {
     "data": {
      "text/plain": [
       "VotingClassifier(estimators=[('random_forest_clf',\n",
       "                              RandomForestClassifier(bootstrap=True,\n",
       "                                                     ccp_alpha=0.0,\n",
       "                                                     class_weight=None,\n",
       "                                                     criterion='gini',\n",
       "                                                     max_depth=None,\n",
       "                                                     max_features='auto',\n",
       "                                                     max_leaf_nodes=None,\n",
       "                                                     max_samples=None,\n",
       "                                                     min_impurity_decrease=0.0,\n",
       "                                                     min_impurity_split=None,\n",
       "                                                     min_samples_leaf=1,\n",
       "                                                     min_samples_split=2,\n",
       "                                                     min_weight_fraction_leaf=0.0,\n",
       "                                                     n_estimators=400,\n",
       "                                                     n_jobs...\n",
       "                                            max_delta_step=0, max_depth=6,\n",
       "                                            min_child_weight=1, missing=nan,\n",
       "                                            monotone_constraints=None,\n",
       "                                            n_estimators=100, n_jobs=0,\n",
       "                                            num_parallel_tree=1,\n",
       "                                            objective='binary:logistic',\n",
       "                                            random_state=42, reg_alpha=0,\n",
       "                                            reg_lambda=1, scale_pos_weight=1,\n",
       "                                            subsample=1, tree_method=None,\n",
       "                                            validate_parameters=False,\n",
       "                                            verbosity=None))],\n",
       "                 flatten_transform=True, n_jobs=None, voting='soft',\n",
       "                 weights=None)"
      ]
     },
     "metadata": {},
     "output_type": "display_data"
    },
    {
     "data": {
      "text/plain": [
       "0.9878708168931755"
      ]
     },
     "metadata": {},
     "output_type": "display_data"
    },
    {
     "data": {
      "text/plain": [
       "[0.9881004571929605, 0.9890398947829899, 0.983006617815912]"
      ]
     },
     "metadata": {},
     "output_type": "display_data"
    }
   ],
   "source": [
    "# Narrow down to the best classifiers to do the soft voting\n",
    "named_estimators = [\n",
    "    (\"random_forest_clf\", random_forest_clf),\n",
    "    (\"extra_trees_clf\", extra_trees_clf),\n",
    "#     (\"mlp_relu_clf\", mlp_relu_clf),\n",
    "#     (\"mlp_tanh_clf\", mlp_tanh_clf),\n",
    "    (\"xgb_clf\", xgb_clf),\n",
    "]\n",
    "voting_clf = VotingClassifier(named_estimators, voting=\"soft\")\n",
    "display(voting_clf.fit(x_train.T, y_train.T))\n",
    "display(voting_clf.score(x_test.T, y_test.T))\n",
    "display([estimator.score(x_test.T, y_test.T) for estimator in voting_clf.estimators_])"
   ]
  },
  {
   "cell_type": "code",
   "execution_count": 19,
   "metadata": {},
   "outputs": [
    {
     "data": {
      "image/png": "[encoded data removed]",
      "text/plain": [
       "<Figure size 432x288 with 1 Axes>"
      ]
     },
     "metadata": {},
     "output_type": "display_data"
    }
   ],
   "source": [
    "# Confusion matrix\n",
    "predicted_prob = voting_clf.predict_proba(x_test.T)[:,1]\n",
    "predicted_class = voting_clf.predict(x_test.T)\n",
    "mat = confusion_matrix(y_test.T, predicted_class)\n",
    "sns.heatmap(mat.T, square=True, annot=True, fmt='d', cbar=False,\n",
    "            xticklabels=[\"Liquid\", \"Solid\"],\n",
    "            yticklabels=[\"Liquid\", \"Solid\"])\n",
    "plt.xlabel('true label')\n",
    "plt.ylabel('predicted label')\n",
    "plt.title(\"Ensemble_Classifier\");\n",
    "# save_fig(\"Ensemble_Classifier\")"
   ]
  },
  {
   "cell_type": "code",
   "execution_count": 20,
   "metadata": {},
   "outputs": [
    {
     "data": {
      "text/plain": [
       "0.9603552927263799"
      ]
     },
     "execution_count": 20,
     "metadata": {},
     "output_type": "execute_result"
    }
   ],
   "source": [
    "# Bier skill score\n",
    "loss = brier_score_loss(y_test.T, predicted_prob)\n",
    "naive1=sum(predicted_prob)/predicted_prob.shape[0]\n",
    "naive1 \n",
    "yhat = [naive1 for _ in range(len(predicted_prob))]\n",
    "bs_ref= brier_score_loss(y_test.T, yhat)\n",
    "bs = brier_score_loss(y_test.T, predicted_prob)\n",
    "bs_skill=1-(bs/bs_ref)\n",
    "bs_skill"
   ]
  },
  {
   "cell_type": "markdown",
   "metadata": {},
   "source": [
    "## Random forest\n",
    "Will ensemble models introduce greater bias for our task, try single models"
   ]
  },
  {
   "cell_type": "code",
   "execution_count": 28,
   "metadata": {},
   "outputs": [
    {
     "data": {
      "text/plain": [
       "GridSearchCV(cv=3, error_score=nan,\n",
       "             estimator=RandomForestClassifier(bootstrap=True, ccp_alpha=0.0,\n",
       "                                              class_weight=None,\n",
       "                                              criterion='gini', max_depth=None,\n",
       "                                              max_features='auto',\n",
       "                                              max_leaf_nodes=None,\n",
       "                                              max_samples=None,\n",
       "                                              min_impurity_decrease=0.0,\n",
       "                                              min_impurity_split=None,\n",
       "                                              min_samples_leaf=1,\n",
       "                                              min_samples_split=2,\n",
       "                                              min_weight_fraction_leaf=0.0,\n",
       "                                              n_estimators=100, n_jobs=None,\n",
       "                                              oob_score=False,\n",
       "                                              random_state=None, verbose=0,\n",
       "                                              warm_start=False),\n",
       "             iid='deprecated', n_jobs=None, param_grid={'n_estimators': [400]},\n",
       "             pre_dispatch='2*n_jobs', refit=True, return_train_score=False,\n",
       "             scoring=None, verbose=0)"
      ]
     },
     "metadata": {},
     "output_type": "display_data"
    },
    {
     "data": {
      "text/plain": [
       "RandomForestClassifier(bootstrap=True, ccp_alpha=0.0, class_weight=None,\n",
       "                       criterion='gini', max_depth=None, max_features='auto',\n",
       "                       max_leaf_nodes=None, max_samples=None,\n",
       "                       min_impurity_decrease=0.0, min_impurity_split=None,\n",
       "                       min_samples_leaf=1, min_samples_split=2,\n",
       "                       min_weight_fraction_leaf=0.0, n_estimators=400,\n",
       "                       n_jobs=None, oob_score=False, random_state=None,\n",
       "                       verbose=0, warm_start=False)"
      ]
     },
     "metadata": {},
     "output_type": "display_data"
    }
   ],
   "source": [
    "params = {'n_estimators': [400]}\n",
    "grid_search_cv_clf = GridSearchCV(RandomForestClassifier(), \\\n",
    "                             params, verbose = 0, cv = 3)\n",
    "display(grid_search_cv_clf.fit(x_train.T, y_train.T))\n",
    "display(grid_search_cv_clf.best_estimator_)\n",
    "y_pred = grid_search_cv_clf.predict(x_test.T)"
   ]
  },
  {
   "cell_type": "code",
   "execution_count": 29,
   "metadata": {},
   "outputs": [
    {
     "data": {
      "text/plain": [
       "0.9883927266654141"
      ]
     },
     "metadata": {},
     "output_type": "display_data"
    }
   ],
   "source": [
    "display(grid_search_cv_clf.score(x_test.T, y_test.T))"
   ]
  },
  {
   "cell_type": "code",
   "execution_count": 30,
   "metadata": {},
   "outputs": [
    {
     "data": {
      "image/png": "[encoded data removed]",
      "text/plain": [
       "<Figure size 432x288 with 1 Axes>"
      ]
     },
     "metadata": {},
     "output_type": "display_data"
    }
   ],
   "source": [
    "# Confusion matrix\n",
    "predicted_prob = grid_search_cv_clf.predict_proba(x_test.T)[:,1]\n",
    "predicted_class = grid_search_cv_clf.predict(x_test.T)\n",
    "mat = confusion_matrix(y_test.T, predicted_class)\n",
    "sns.heatmap(mat.T, square=True, annot=True, fmt='d', cbar=False,\n",
    "            xticklabels=[\"Liquid\", \"Solid\"],\n",
    "            yticklabels=[\"Liquid\", \"Solid\"])\n",
    "plt.xlabel('true label')\n",
    "plt.ylabel('predicted label')\n",
    "plt.title(\"Random_Forest_Classifier\");\n",
    "# save_fig(\"Random_Forest_Classifier\")"
   ]
  },
  {
   "cell_type": "code",
   "execution_count": 31,
   "metadata": {},
   "outputs": [
    {
     "data": {
      "text/plain": [
       "0.9616743372635755"
      ]
     },
     "execution_count": 31,
     "metadata": {},
     "output_type": "execute_result"
    }
   ],
   "source": [
    "# Bier skill score\n",
    "loss = brier_score_loss(y_test.T, predicted_prob)\n",
    "naive1=sum(predicted_prob)/predicted_prob.shape[0]\n",
    "naive1 \n",
    "yhat = [naive1 for _ in range(len(predicted_prob))]\n",
    "bs_ref= brier_score_loss(y_test.T, yhat)\n",
    "bs = brier_score_loss(y_test.T, predicted_prob)\n",
    "bs_skill=1-(bs/bs_ref)\n",
    "bs_skill"
   ]
  },
  {
   "cell_type": "code",
   "execution_count": 32,
   "metadata": {},
   "outputs": [
    {
     "data": {
      "text/plain": [
       "([0, 1, 2, 3, 4, 5, 6, 7, 8], <a list of 9 Text xticklabel objects>)"
      ]
     },
     "execution_count": 32,
     "metadata": {},
     "output_type": "execute_result"
    },
    {
     "data": {
      "image/png": "[encoded data removed]",
      "text/plain": [
       "<Figure size 1440x720 with 1 Axes>"
      ]
     },
     "metadata": {},
     "output_type": "display_data"
    }
   ],
   "source": [
    "# Feature importances\n",
    "x_bar = ['wind_speed', 'air_temperature', 'dew_point_temperature', 'eastward_wind', 'northward_wind', 'low_cloud_level', 'altimeter', 'cloud_coverage', 'low_cloud_type']\n",
    "y_bar = grid_search_cv_clf.best_estimator_.feature_importances_\n",
    "plt.figure(figsize=(20,10))\n",
    "plt.bar(x_bar, y_bar)\n",
    "plt.xticks(fontsize=14)\n",
    "# save_fig(\"feature_importance\")"
   ]
  },
  {
   "cell_type": "markdown",
   "metadata": {},
   "source": [
    "## Extra Trees"
   ]
  },
  {
   "cell_type": "code",
   "execution_count": 33,
   "metadata": {},
   "outputs": [
    {
     "data": {
      "text/plain": [
       "GridSearchCV(cv=3, error_score=nan,\n",
       "             estimator=ExtraTreesClassifier(bootstrap=False, ccp_alpha=0.0,\n",
       "                                            class_weight=None, criterion='gini',\n",
       "                                            max_depth=None, max_features='auto',\n",
       "                                            max_leaf_nodes=None,\n",
       "                                            max_samples=None,\n",
       "                                            min_impurity_decrease=0.0,\n",
       "                                            min_impurity_split=None,\n",
       "                                            min_samples_leaf=1,\n",
       "                                            min_samples_split=2,\n",
       "                                            min_weight_fraction_leaf=0.0,\n",
       "                                            n_estimators=100, n_jobs=None,\n",
       "                                            oob_score=False, random_state=None,\n",
       "                                            verbose=0, warm_start=False),\n",
       "             iid='deprecated', n_jobs=None,\n",
       "             param_grid={'n_estimators': [100, 200, 300, 400, 500]},\n",
       "             pre_dispatch='2*n_jobs', refit=True, return_train_score=False,\n",
       "             scoring=None, verbose=0)"
      ]
     },
     "metadata": {},
     "output_type": "display_data"
    },
    {
     "data": {
      "text/plain": [
       "ExtraTreesClassifier(bootstrap=False, ccp_alpha=0.0, class_weight=None,\n",
       "                     criterion='gini', max_depth=None, max_features='auto',\n",
       "                     max_leaf_nodes=None, max_samples=None,\n",
       "                     min_impurity_decrease=0.0, min_impurity_split=None,\n",
       "                     min_samples_leaf=1, min_samples_split=2,\n",
       "                     min_weight_fraction_leaf=0.0, n_estimators=300,\n",
       "                     n_jobs=None, oob_score=False, random_state=None, verbose=0,\n",
       "                     warm_start=False)"
      ]
     },
     "metadata": {},
     "output_type": "display_data"
    }
   ],
   "source": [
    "params = {'n_estimators': [100, 200, 300, 400, 500]}\n",
    "grid_search_cv_clf = GridSearchCV(ExtraTreesClassifier(), \\\n",
    "                             params, verbose = 0, cv = 3)\n",
    "display(grid_search_cv_clf.fit(x_train.T, y_train.T))\n",
    "display(grid_search_cv_clf.best_estimator_)\n",
    "y_pred = grid_search_cv_clf.predict(x_test.T)"
   ]
  },
  {
   "cell_type": "code",
   "execution_count": 34,
   "metadata": {},
   "outputs": [
    {
     "data": {
      "text/plain": [
       "0.9886849961378676"
      ]
     },
     "metadata": {},
     "output_type": "display_data"
    }
   ],
   "source": [
    "display(grid_search_cv_clf.score(x_test.T, y_test.T))"
   ]
  },
  {
   "cell_type": "code",
   "execution_count": 35,
   "metadata": {},
   "outputs": [
    {
     "data": {
      "image/png": "[encoded data removed]",
      "text/plain": [
       "<Figure size 432x288 with 1 Axes>"
      ]
     },
     "metadata": {},
     "output_type": "display_data"
    }
   ],
   "source": [
    "# Confusion matrix\n",
    "predicted_prob = grid_search_cv_clf.predict_proba(x_test.T)[:,1]\n",
    "predicted_class = grid_search_cv_clf.predict(x_test.T)\n",
    "mat = confusion_matrix(y_test.T, predicted_class)\n",
    "sns.heatmap(mat.T, square=True, annot=True, fmt='d', cbar=False,\n",
    "            xticklabels=[\"Liquid\", \"Solid\"],\n",
    "            yticklabels=[\"Liquid\", \"Solid\"])\n",
    "plt.xlabel('true label')\n",
    "plt.ylabel('predicted label')\n",
    "plt.title(\"Extra_Trees_Classifier\");\n",
    "# save_fig(\"Extra_Trees_Classifier\")"
   ]
  },
  {
   "cell_type": "code",
   "execution_count": 36,
   "metadata": {},
   "outputs": [
    {
     "data": {
      "text/plain": [
       "0.9616152797113775"
      ]
     },
     "execution_count": 36,
     "metadata": {},
     "output_type": "execute_result"
    }
   ],
   "source": [
    "# Bier skill score\n",
    "loss = brier_score_loss(y_test.T, predicted_prob)\n",
    "naive1=sum(predicted_prob)/predicted_prob.shape[0]\n",
    "naive1 \n",
    "yhat = [naive1 for _ in range(len(predicted_prob))]\n",
    "bs_ref= brier_score_loss(y_test.T, yhat)\n",
    "bs = brier_score_loss(y_test.T, predicted_prob)\n",
    "bs_skill=1-(bs/bs_ref)\n",
    "bs_skill"
   ]
  },
  {
   "cell_type": "markdown",
   "metadata": {},
   "source": [
    "Extra trees classifier could be more robust."
   ]
  },
  {
   "cell_type": "code",
   "execution_count": null,
   "metadata": {},
   "outputs": [],
   "source": []
  }
 ],
 "metadata": {
  "kernelspec": {
   "display_name": "Python 3",
   "language": "python",
   "name": "python3"
  },
  "language_info": {
   "codemirror_mode": {
    "name": "ipython",
    "version": 3
   },
   "file_extension": ".py",
   "mimetype": "text/x-python",
   "name": "python",
   "nbconvert_exporter": "python",
   "pygments_lexer": "ipython3",
   "version": "3.7.7"
  }
 },
 "nbformat": 4,
 "nbformat_minor": 2
}
