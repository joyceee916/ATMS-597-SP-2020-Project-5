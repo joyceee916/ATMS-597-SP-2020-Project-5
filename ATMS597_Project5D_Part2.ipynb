{
  "nbformat": 4,
  "nbformat_minor": 0,
  "metadata": {
    "kernelspec": {
      "display_name": "Python 3",
      "language": "python",
      "name": "python3"
    },
    "language_info": {
      "codemirror_mode": {
        "name": "ipython",
        "version": 3
      },
      "file_extension": ".py",
      "mimetype": "text/x-python",
      "name": "python",
      "nbconvert_exporter": "python",
      "pygments_lexer": "ipython3",
      "version": "3.7.4"
    },
    "colab": {
      "name": "ATMS597_Project5D_200423.ipynb",
      "provenance": []
    }
  },
  "cells": [
    {
      "cell_type": "markdown",
      "metadata": {
        "id": "IeT40UyQHJxK",
        "colab_type": "text"
      },
      "source": [
        "# ATMS 597: Project 5 - Classification"
      ]
    },
    {
      "cell_type": "markdown",
      "metadata": {
        "id": "RuyKmURzHJxM",
        "colab_type": "text"
      },
      "source": [
        "Group D: Joyce Yang, Yang Lu, Lina Rivelli-Zea\n",
        "\n",
        "Model 1: Logistic Regression classification with default values\n",
        "\n",
        "UIUC - April, 2020"
      ]
    },
    {
      "cell_type": "markdown",
      "metadata": {
        "id": "5EMNor6SHJxN",
        "colab_type": "text"
      },
      "source": [
        "REFERENCES\n",
        "\n",
        "Notebook: https://colab.research.google.com/drive/1Zqf6bIHAMROxYaeSTCIAQQmfaDDpPfWp#scrollTo=0kWn-CNvaHUJ\n",
        "\n",
        "Example: https://www.kaggle.com/akdagmelih/rain-prediction-logistic-regression-example\n",
        "\n",
        "Book: Chopra R. et. al (2019). Data Science in Python, Chapter 3 (95-133), www.packt.com"
      ]
    },
    {
      "cell_type": "code",
      "metadata": {
        "id": "kVb9tnr3HJxN",
        "colab_type": "code",
        "colab": {},
        "outputId": "37dd1420-d4a0-4927-a0b7-1ee6c76f91e7"
      },
      "source": [
        "pwd"
      ],
      "execution_count": 0,
      "outputs": [
        {
          "output_type": "execute_result",
          "data": {
            "text/plain": [
              "'/data/keeling/a/ler5/python/pyradartutorials/00_introduction'"
            ]
          },
          "metadata": {
            "tags": []
          },
          "execution_count": 1
        }
      ]
    },
    {
      "cell_type": "markdown",
      "metadata": {
        "id": "Rd3Qldl8HJxR",
        "colab_type": "text"
      },
      "source": [
        "# Setup the model"
      ]
    },
    {
      "cell_type": "code",
      "metadata": {
        "id": "P14mSlCTHJxS",
        "colab_type": "code",
        "colab": {},
        "outputId": "6ade1bee-b8ea-49e5-c5db-4fc6f754736a"
      },
      "source": [
        "# Setup 1\n",
        "!pip install metpy\n",
        "!pip install metar"
      ],
      "execution_count": 0,
      "outputs": [
        {
          "output_type": "stream",
          "text": [
            "Requirement already satisfied: metpy in /data/keeling/a/prateek7/anaconda3/lib/python3.7/site-packages (0.12.1)\n",
            "Requirement already satisfied: scipy>=1.0 in /data/keeling/a/prateek7/anaconda3/lib/python3.7/site-packages (from metpy) (1.4.1)\n",
            "Requirement already satisfied: pandas>=0.22.0 in /data/keeling/a/prateek7/anaconda3/lib/python3.7/site-packages (from metpy) (0.24.2)\n",
            "Requirement already satisfied: pint>=0.10.1 in /data/keeling/a/prateek7/anaconda3/lib/python3.7/site-packages (from metpy) (0.11)\n",
            "Requirement already satisfied: traitlets>=4.3.0 in /data/keeling/a/prateek7/anaconda3/lib/python3.7/site-packages (from metpy) (4.3.2)\n",
            "Requirement already satisfied: matplotlib>=2.1.0 in /data/keeling/a/prateek7/anaconda3/lib/python3.7/site-packages (from metpy) (3.0.3)\n",
            "Requirement already satisfied: xarray>=0.13.0 in /data/keeling/a/prateek7/anaconda3/lib/python3.7/site-packages (from metpy) (0.15.1)\n",
            "Requirement already satisfied: numpy>=1.16.0 in /data/keeling/a/prateek7/anaconda3/lib/python3.7/site-packages (from metpy) (1.16.2)\n",
            "Requirement already satisfied: pooch>=0.1 in /data/keeling/a/prateek7/anaconda3/lib/python3.7/site-packages (from metpy) (1.1.0)\n",
            "Requirement already satisfied: pytz>=2011k in /data/keeling/a/prateek7/anaconda3/lib/python3.7/site-packages (from pandas>=0.22.0->metpy) (2018.9)\n",
            "Requirement already satisfied: python-dateutil>=2.5.0 in /data/keeling/a/prateek7/anaconda3/lib/python3.7/site-packages (from pandas>=0.22.0->metpy) (2.8.0)\n",
            "Requirement already satisfied: setuptools in /data/keeling/a/prateek7/anaconda3/lib/python3.7/site-packages (from pint>=0.10.1->metpy) (46.1.3)\n",
            "Requirement already satisfied: decorator in /data/keeling/a/prateek7/anaconda3/lib/python3.7/site-packages (from traitlets>=4.3.0->metpy) (4.4.0)\n",
            "Requirement already satisfied: ipython-genutils in /data/keeling/a/prateek7/anaconda3/lib/python3.7/site-packages (from traitlets>=4.3.0->metpy) (0.2.0)\n",
            "Requirement already satisfied: six in /data/keeling/a/prateek7/anaconda3/lib/python3.7/site-packages (from traitlets>=4.3.0->metpy) (1.12.0)\n",
            "Requirement already satisfied: cycler>=0.10 in /data/keeling/a/prateek7/anaconda3/lib/python3.7/site-packages (from matplotlib>=2.1.0->metpy) (0.10.0)\n",
            "Requirement already satisfied: kiwisolver>=1.0.1 in /data/keeling/a/prateek7/anaconda3/lib/python3.7/site-packages (from matplotlib>=2.1.0->metpy) (1.0.1)\n",
            "Requirement already satisfied: pyparsing!=2.0.4,!=2.1.2,!=2.1.6,>=2.0.1 in /data/keeling/a/prateek7/anaconda3/lib/python3.7/site-packages (from matplotlib>=2.1.0->metpy) (2.3.1)\n",
            "Requirement already satisfied: packaging in /data/keeling/a/prateek7/anaconda3/lib/python3.7/site-packages (from pooch>=0.1->metpy) (19.0)\n",
            "Requirement already satisfied: requests in /data/keeling/a/prateek7/anaconda3/lib/python3.7/site-packages (from pooch>=0.1->metpy) (2.21.0)\n",
            "Requirement already satisfied: appdirs in /data/keeling/a/prateek7/anaconda3/lib/python3.7/site-packages (from pooch>=0.1->metpy) (1.4.3)\n",
            "Requirement already satisfied: idna<2.9,>=2.5 in /data/keeling/a/prateek7/anaconda3/lib/python3.7/site-packages (from requests->pooch>=0.1->metpy) (2.8)\n",
            "Requirement already satisfied: urllib3<1.25,>=1.21.1 in /data/keeling/a/prateek7/anaconda3/lib/python3.7/site-packages (from requests->pooch>=0.1->metpy) (1.24.1)\n",
            "Requirement already satisfied: certifi>=2017.4.17 in /data/keeling/a/prateek7/anaconda3/lib/python3.7/site-packages (from requests->pooch>=0.1->metpy) (2019.3.9)\n",
            "Requirement already satisfied: chardet<3.1.0,>=3.0.2 in /data/keeling/a/prateek7/anaconda3/lib/python3.7/site-packages (from requests->pooch>=0.1->metpy) (3.0.4)\n",
            "Requirement already satisfied: metar in /data/keeling/a/prateek7/anaconda3/lib/python3.7/site-packages (1.7.0)\n"
          ],
          "name": "stdout"
        }
      ]
    },
    {
      "cell_type": "code",
      "metadata": {
        "id": "5zaOZ6MSHJxV",
        "colab_type": "code",
        "colab": {},
        "outputId": "563c370a-0bc0-44b0-94ad-e2159844076b"
      },
      "source": [
        "# Setup 2\n",
        "\n",
        "!pip install scipy\n",
        "!pip install tensorflow\n",
        "!pip install keras"
      ],
      "execution_count": 0,
      "outputs": [
        {
          "output_type": "stream",
          "text": [
            "Requirement already satisfied: scipy in /data/keeling/a/prateek7/anaconda3/lib/python3.7/site-packages (1.4.1)\n",
            "Requirement already satisfied: numpy>=1.13.3 in /data/keeling/a/prateek7/anaconda3/lib/python3.7/site-packages (from scipy) (1.16.2)\n",
            "Requirement already satisfied: tensorflow in /data/keeling/a/prateek7/anaconda3/lib/python3.7/site-packages (2.1.0)\n",
            "Requirement already satisfied: wrapt>=1.11.1 in /data/keeling/a/prateek7/anaconda3/lib/python3.7/site-packages (from tensorflow) (1.11.1)\n",
            "Requirement already satisfied: keras-preprocessing>=1.1.0 in /data/keeling/a/prateek7/anaconda3/lib/python3.7/site-packages (from tensorflow) (1.1.0)\n",
            "Requirement already satisfied: tensorboard<2.2.0,>=2.1.0 in /data/keeling/a/prateek7/anaconda3/lib/python3.7/site-packages (from tensorflow) (2.1.1)\n",
            "Requirement already satisfied: termcolor>=1.1.0 in /data/keeling/a/prateek7/anaconda3/lib/python3.7/site-packages (from tensorflow) (1.1.0)\n",
            "Requirement already satisfied: wheel>=0.26; python_version >= \"3\" in /data/keeling/a/prateek7/anaconda3/lib/python3.7/site-packages (from tensorflow) (0.33.1)\n",
            "Requirement already satisfied: protobuf>=3.8.0 in /data/keeling/a/prateek7/anaconda3/lib/python3.7/site-packages (from tensorflow) (3.11.3)\n",
            "Requirement already satisfied: tensorflow-estimator<2.2.0,>=2.1.0rc0 in /data/keeling/a/prateek7/anaconda3/lib/python3.7/site-packages (from tensorflow) (2.1.0)\n",
            "Requirement already satisfied: scipy==1.4.1; python_version >= \"3\" in /data/keeling/a/prateek7/anaconda3/lib/python3.7/site-packages (from tensorflow) (1.4.1)\n",
            "Requirement already satisfied: six>=1.12.0 in /data/keeling/a/prateek7/anaconda3/lib/python3.7/site-packages (from tensorflow) (1.12.0)\n",
            "Requirement already satisfied: grpcio>=1.8.6 in /data/keeling/a/prateek7/anaconda3/lib/python3.7/site-packages (from tensorflow) (1.28.1)\n",
            "Requirement already satisfied: keras-applications>=1.0.8 in /data/keeling/a/prateek7/anaconda3/lib/python3.7/site-packages (from tensorflow) (1.0.8)\n",
            "Requirement already satisfied: google-pasta>=0.1.6 in /data/keeling/a/prateek7/anaconda3/lib/python3.7/site-packages (from tensorflow) (0.2.0)\n",
            "Requirement already satisfied: gast==0.2.2 in /data/keeling/a/prateek7/anaconda3/lib/python3.7/site-packages (from tensorflow) (0.2.2)\n",
            "Requirement already satisfied: absl-py>=0.7.0 in /data/keeling/a/prateek7/anaconda3/lib/python3.7/site-packages (from tensorflow) (0.9.0)\n",
            "Requirement already satisfied: numpy<2.0,>=1.16.0 in /data/keeling/a/prateek7/anaconda3/lib/python3.7/site-packages (from tensorflow) (1.16.2)\n",
            "Requirement already satisfied: opt-einsum>=2.3.2 in /data/keeling/a/prateek7/anaconda3/lib/python3.7/site-packages (from tensorflow) (3.2.1)\n",
            "Requirement already satisfied: astor>=0.6.0 in /data/keeling/a/prateek7/anaconda3/lib/python3.7/site-packages (from tensorflow) (0.8.1)\n",
            "Requirement already satisfied: google-auth-oauthlib<0.5,>=0.4.1 in /data/keeling/a/prateek7/anaconda3/lib/python3.7/site-packages (from tensorboard<2.2.0,>=2.1.0->tensorflow) (0.4.1)\n",
            "Requirement already satisfied: requests<3,>=2.21.0 in /data/keeling/a/prateek7/anaconda3/lib/python3.7/site-packages (from tensorboard<2.2.0,>=2.1.0->tensorflow) (2.21.0)\n",
            "Requirement already satisfied: google-auth<2,>=1.6.3 in /data/keeling/a/prateek7/anaconda3/lib/python3.7/site-packages (from tensorboard<2.2.0,>=2.1.0->tensorflow) (1.14.0)\n",
            "Requirement already satisfied: setuptools>=41.0.0 in /data/keeling/a/prateek7/anaconda3/lib/python3.7/site-packages (from tensorboard<2.2.0,>=2.1.0->tensorflow) (46.1.3)\n",
            "Requirement already satisfied: markdown>=2.6.8 in /data/keeling/a/prateek7/anaconda3/lib/python3.7/site-packages (from tensorboard<2.2.0,>=2.1.0->tensorflow) (3.2.1)\n",
            "Requirement already satisfied: werkzeug>=0.11.15 in /data/keeling/a/prateek7/anaconda3/lib/python3.7/site-packages (from tensorboard<2.2.0,>=2.1.0->tensorflow) (0.14.1)\n",
            "Requirement already satisfied: h5py in /data/keeling/a/prateek7/anaconda3/lib/python3.7/site-packages (from keras-applications>=1.0.8->tensorflow) (2.9.0)\n",
            "Requirement already satisfied: requests-oauthlib>=0.7.0 in /data/keeling/a/prateek7/anaconda3/lib/python3.7/site-packages (from google-auth-oauthlib<0.5,>=0.4.1->tensorboard<2.2.0,>=2.1.0->tensorflow) (1.3.0)\n",
            "Requirement already satisfied: idna<2.9,>=2.5 in /data/keeling/a/prateek7/anaconda3/lib/python3.7/site-packages (from requests<3,>=2.21.0->tensorboard<2.2.0,>=2.1.0->tensorflow) (2.8)\n",
            "Requirement already satisfied: certifi>=2017.4.17 in /data/keeling/a/prateek7/anaconda3/lib/python3.7/site-packages (from requests<3,>=2.21.0->tensorboard<2.2.0,>=2.1.0->tensorflow) (2019.3.9)\n",
            "Requirement already satisfied: chardet<3.1.0,>=3.0.2 in /data/keeling/a/prateek7/anaconda3/lib/python3.7/site-packages (from requests<3,>=2.21.0->tensorboard<2.2.0,>=2.1.0->tensorflow) (3.0.4)\n",
            "Requirement already satisfied: urllib3<1.25,>=1.21.1 in /data/keeling/a/prateek7/anaconda3/lib/python3.7/site-packages (from requests<3,>=2.21.0->tensorboard<2.2.0,>=2.1.0->tensorflow) (1.24.1)\n",
            "Requirement already satisfied: rsa<4.1,>=3.1.4 in /data/keeling/a/prateek7/anaconda3/lib/python3.7/site-packages (from google-auth<2,>=1.6.3->tensorboard<2.2.0,>=2.1.0->tensorflow) (4.0)\n",
            "Requirement already satisfied: pyasn1-modules>=0.2.1 in /data/keeling/a/prateek7/anaconda3/lib/python3.7/site-packages (from google-auth<2,>=1.6.3->tensorboard<2.2.0,>=2.1.0->tensorflow) (0.2.8)\n",
            "Requirement already satisfied: cachetools<5.0,>=2.0.0 in /data/keeling/a/prateek7/anaconda3/lib/python3.7/site-packages (from google-auth<2,>=1.6.3->tensorboard<2.2.0,>=2.1.0->tensorflow) (4.1.0)\n",
            "Requirement already satisfied: oauthlib>=3.0.0 in /data/keeling/a/prateek7/anaconda3/lib/python3.7/site-packages (from requests-oauthlib>=0.7.0->google-auth-oauthlib<0.5,>=0.4.1->tensorboard<2.2.0,>=2.1.0->tensorflow) (3.1.0)\n",
            "Requirement already satisfied: pyasn1>=0.1.3 in /data/keeling/a/prateek7/anaconda3/lib/python3.7/site-packages (from rsa<4.1,>=3.1.4->google-auth<2,>=1.6.3->tensorboard<2.2.0,>=2.1.0->tensorflow) (0.4.8)\n",
            "Requirement already satisfied: keras in /data/keeling/a/prateek7/anaconda3/lib/python3.7/site-packages (2.3.1)\n",
            "Requirement already satisfied: keras-applications>=1.0.6 in /data/keeling/a/prateek7/anaconda3/lib/python3.7/site-packages (from keras) (1.0.8)\n",
            "Requirement already satisfied: numpy>=1.9.1 in /data/keeling/a/prateek7/anaconda3/lib/python3.7/site-packages (from keras) (1.16.2)\n",
            "Requirement already satisfied: pyyaml in /data/keeling/a/prateek7/anaconda3/lib/python3.7/site-packages (from keras) (5.1)\n",
            "Requirement already satisfied: h5py in /data/keeling/a/prateek7/anaconda3/lib/python3.7/site-packages (from keras) (2.9.0)\n",
            "Requirement already satisfied: six>=1.9.0 in /data/keeling/a/prateek7/anaconda3/lib/python3.7/site-packages (from keras) (1.12.0)\n",
            "Requirement already satisfied: keras-preprocessing>=1.0.5 in /data/keeling/a/prateek7/anaconda3/lib/python3.7/site-packages (from keras) (1.1.0)\n",
            "Requirement already satisfied: scipy>=0.14 in /data/keeling/a/prateek7/anaconda3/lib/python3.7/site-packages (from keras) (1.4.1)\n"
          ],
          "name": "stdout"
        }
      ]
    },
    {
      "cell_type": "code",
      "metadata": {
        "id": "0H9rMx1QHJxa",
        "colab_type": "code",
        "colab": {},
        "outputId": "1eac8c57-efc6-4a09-a49f-d346efc87e5d"
      },
      "source": [
        "# Setup 3\n",
        "!pip install scikit-image\n",
        "!pip install netCDF4\n",
        "!pip install pyproj\n",
        "!pip install scikit-learn\n",
        "!pip install opencv-python"
      ],
      "execution_count": 0,
      "outputs": [
        {
          "output_type": "stream",
          "text": [
            "Requirement already satisfied: scikit-image in /data/keeling/a/prateek7/anaconda3/lib/python3.7/site-packages (0.14.2)\n",
            "Requirement already satisfied: cloudpickle>=0.2.1 in /data/keeling/a/prateek7/anaconda3/lib/python3.7/site-packages (from scikit-image) (0.8.0)\n",
            "Requirement already satisfied: pillow>=4.3.0 in /data/keeling/a/prateek7/anaconda3/lib/python3.7/site-packages (from scikit-image) (5.4.1)\n",
            "Requirement already satisfied: PyWavelets>=0.4.0 in /data/keeling/a/prateek7/anaconda3/lib/python3.7/site-packages (from scikit-image) (1.0.2)\n",
            "Requirement already satisfied: six>=1.10.0 in /data/keeling/a/prateek7/anaconda3/lib/python3.7/site-packages (from scikit-image) (1.12.0)\n",
            "Requirement already satisfied: dask[array]>=1.0.0 in /data/keeling/a/prateek7/anaconda3/lib/python3.7/site-packages (from scikit-image) (1.1.4)\n",
            "Requirement already satisfied: matplotlib>=2.0.0 in /data/keeling/a/prateek7/anaconda3/lib/python3.7/site-packages (from scikit-image) (3.0.3)\n",
            "Requirement already satisfied: networkx>=1.8 in /data/keeling/a/prateek7/anaconda3/lib/python3.7/site-packages (from scikit-image) (2.2)\n",
            "Requirement already satisfied: numpy>=1.9.1 in /data/keeling/a/prateek7/anaconda3/lib/python3.7/site-packages (from PyWavelets>=0.4.0->scikit-image) (1.16.2)\n",
            "Requirement already satisfied: toolz>=0.7.3; extra == \"array\" in /data/keeling/a/prateek7/anaconda3/lib/python3.7/site-packages (from dask[array]>=1.0.0->scikit-image) (0.9.0)\n",
            "Requirement already satisfied: cycler>=0.10 in /data/keeling/a/prateek7/anaconda3/lib/python3.7/site-packages (from matplotlib>=2.0.0->scikit-image) (0.10.0)\n",
            "Requirement already satisfied: kiwisolver>=1.0.1 in /data/keeling/a/prateek7/anaconda3/lib/python3.7/site-packages (from matplotlib>=2.0.0->scikit-image) (1.0.1)\n",
            "Requirement already satisfied: pyparsing!=2.0.4,!=2.1.2,!=2.1.6,>=2.0.1 in /data/keeling/a/prateek7/anaconda3/lib/python3.7/site-packages (from matplotlib>=2.0.0->scikit-image) (2.3.1)\n",
            "Requirement already satisfied: python-dateutil>=2.1 in /data/keeling/a/prateek7/anaconda3/lib/python3.7/site-packages (from matplotlib>=2.0.0->scikit-image) (2.8.0)\n",
            "Requirement already satisfied: decorator>=4.3.0 in /data/keeling/a/prateek7/anaconda3/lib/python3.7/site-packages (from networkx>=1.8->scikit-image) (4.4.0)\n",
            "Requirement already satisfied: setuptools in /data/keeling/a/prateek7/anaconda3/lib/python3.7/site-packages (from kiwisolver>=1.0.1->matplotlib>=2.0.0->scikit-image) (46.1.3)\n",
            "Requirement already satisfied: netCDF4 in /data/keeling/a/prateek7/anaconda3/lib/python3.7/site-packages (1.5.3)\n",
            "Requirement already satisfied: cftime in /data/keeling/a/prateek7/anaconda3/lib/python3.7/site-packages (from netCDF4) (1.1.2)\n",
            "Requirement already satisfied: numpy>=1.7 in /data/keeling/a/prateek7/anaconda3/lib/python3.7/site-packages (from netCDF4) (1.16.2)\n",
            "Requirement already satisfied: pyproj in /data/keeling/a/prateek7/anaconda3/lib/python3.7/site-packages (2.6.0)\n",
            "Requirement already satisfied: scikit-learn in /data/keeling/a/prateek7/anaconda3/lib/python3.7/site-packages (0.20.3)\n",
            "Requirement already satisfied: scipy>=0.13.3 in /data/keeling/a/prateek7/anaconda3/lib/python3.7/site-packages (from scikit-learn) (1.4.1)\n",
            "Requirement already satisfied: numpy>=1.8.2 in /data/keeling/a/prateek7/anaconda3/lib/python3.7/site-packages (from scikit-learn) (1.16.2)\n",
            "Requirement already satisfied: opencv-python in /data/keeling/a/prateek7/anaconda3/lib/python3.7/site-packages (4.2.0.34)\n",
            "Requirement already satisfied: numpy>=1.14.5 in /data/keeling/a/prateek7/anaconda3/lib/python3.7/site-packages (from opencv-python) (1.16.2)\n"
          ],
          "name": "stdout"
        }
      ]
    },
    {
      "cell_type": "code",
      "metadata": {
        "id": "9Q-BjcaJHJxc",
        "colab_type": "code",
        "colab": {},
        "outputId": "a8fed203-a8ab-49e3-abe1-49749ffd9ada"
      },
      "source": [
        "# Setup 4\n",
        "!pip install matplotlib"
      ],
      "execution_count": 0,
      "outputs": [
        {
          "output_type": "stream",
          "text": [
            "Requirement already satisfied: matplotlib in /data/keeling/a/prateek7/anaconda3/lib/python3.7/site-packages (3.0.3)\r\n",
            "Requirement already satisfied: numpy>=1.10.0 in /data/keeling/a/prateek7/anaconda3/lib/python3.7/site-packages (from matplotlib) (1.16.2)\r\n",
            "Requirement already satisfied: cycler>=0.10 in /data/keeling/a/prateek7/anaconda3/lib/python3.7/site-packages (from matplotlib) (0.10.0)\r\n",
            "Requirement already satisfied: kiwisolver>=1.0.1 in /data/keeling/a/prateek7/anaconda3/lib/python3.7/site-packages (from matplotlib) (1.0.1)\r\n",
            "Requirement already satisfied: pyparsing!=2.0.4,!=2.1.2,!=2.1.6,>=2.0.1 in /data/keeling/a/prateek7/anaconda3/lib/python3.7/site-packages (from matplotlib) (2.3.1)\r\n",
            "Requirement already satisfied: python-dateutil>=2.1 in /data/keeling/a/prateek7/anaconda3/lib/python3.7/site-packages (from matplotlib) (2.8.0)\r\n",
            "Requirement already satisfied: six in /data/keeling/a/prateek7/anaconda3/lib/python3.7/site-packages (from cycler>=0.10->matplotlib) (1.12.0)\r\n",
            "Requirement already satisfied: setuptools in /data/keeling/a/prateek7/anaconda3/lib/python3.7/site-packages (from kiwisolver>=1.0.1->matplotlib) (46.1.3)\r\n"
          ],
          "name": "stdout"
        }
      ]
    },
    {
      "cell_type": "code",
      "metadata": {
        "id": "uHDBBhj3HJxf",
        "colab_type": "code",
        "colab": {},
        "outputId": "6ae27608-1ca8-4b8e-fb3c-06207e253c53"
      },
      "source": [
        "# Setup 5\n",
        "!pip install shapely\n",
        "!pip install geopy\n",
        "!pip install metpy\n",
        "!pip install descartes"
      ],
      "execution_count": 0,
      "outputs": [
        {
          "output_type": "stream",
          "text": [
            "Requirement already satisfied: shapely in /data/keeling/a/prateek7/anaconda3/lib/python3.7/site-packages (1.7.0)\n",
            "Requirement already satisfied: geopy in /data/keeling/a/prateek7/anaconda3/lib/python3.7/site-packages (1.21.0)\n",
            "Requirement already satisfied: geographiclib<2,>=1.49 in /data/keeling/a/prateek7/anaconda3/lib/python3.7/site-packages (from geopy) (1.50)\n",
            "Requirement already satisfied: metpy in /data/keeling/a/prateek7/anaconda3/lib/python3.7/site-packages (0.12.1)\n",
            "Requirement already satisfied: numpy>=1.16.0 in /data/keeling/a/prateek7/anaconda3/lib/python3.7/site-packages (from metpy) (1.16.2)\n",
            "Requirement already satisfied: pandas>=0.22.0 in /data/keeling/a/prateek7/anaconda3/lib/python3.7/site-packages (from metpy) (0.24.2)\n",
            "Requirement already satisfied: pooch>=0.1 in /data/keeling/a/prateek7/anaconda3/lib/python3.7/site-packages (from metpy) (1.1.0)\n",
            "Requirement already satisfied: traitlets>=4.3.0 in /data/keeling/a/prateek7/anaconda3/lib/python3.7/site-packages (from metpy) (4.3.2)\n",
            "Requirement already satisfied: scipy>=1.0 in /data/keeling/a/prateek7/anaconda3/lib/python3.7/site-packages (from metpy) (1.4.1)\n",
            "Requirement already satisfied: xarray>=0.13.0 in /data/keeling/a/prateek7/anaconda3/lib/python3.7/site-packages (from metpy) (0.15.1)\n",
            "Requirement already satisfied: pint>=0.10.1 in /data/keeling/a/prateek7/anaconda3/lib/python3.7/site-packages (from metpy) (0.11)\n",
            "Requirement already satisfied: matplotlib>=2.1.0 in /data/keeling/a/prateek7/anaconda3/lib/python3.7/site-packages (from metpy) (3.0.3)\n",
            "Requirement already satisfied: pytz>=2011k in /data/keeling/a/prateek7/anaconda3/lib/python3.7/site-packages (from pandas>=0.22.0->metpy) (2018.9)\n",
            "Requirement already satisfied: python-dateutil>=2.5.0 in /data/keeling/a/prateek7/anaconda3/lib/python3.7/site-packages (from pandas>=0.22.0->metpy) (2.8.0)\n",
            "Requirement already satisfied: requests in /data/keeling/a/prateek7/anaconda3/lib/python3.7/site-packages (from pooch>=0.1->metpy) (2.21.0)\n",
            "Requirement already satisfied: appdirs in /data/keeling/a/prateek7/anaconda3/lib/python3.7/site-packages (from pooch>=0.1->metpy) (1.4.3)\n",
            "Requirement already satisfied: packaging in /data/keeling/a/prateek7/anaconda3/lib/python3.7/site-packages (from pooch>=0.1->metpy) (19.0)\n",
            "Requirement already satisfied: ipython-genutils in /data/keeling/a/prateek7/anaconda3/lib/python3.7/site-packages (from traitlets>=4.3.0->metpy) (0.2.0)\n",
            "Requirement already satisfied: six in /data/keeling/a/prateek7/anaconda3/lib/python3.7/site-packages (from traitlets>=4.3.0->metpy) (1.12.0)\n",
            "Requirement already satisfied: decorator in /data/keeling/a/prateek7/anaconda3/lib/python3.7/site-packages (from traitlets>=4.3.0->metpy) (4.4.0)\n",
            "Requirement already satisfied: setuptools>=41.2 in /data/keeling/a/prateek7/anaconda3/lib/python3.7/site-packages (from xarray>=0.13.0->metpy) (46.1.3)\n",
            "Requirement already satisfied: cycler>=0.10 in /data/keeling/a/prateek7/anaconda3/lib/python3.7/site-packages (from matplotlib>=2.1.0->metpy) (0.10.0)\n",
            "Requirement already satisfied: kiwisolver>=1.0.1 in /data/keeling/a/prateek7/anaconda3/lib/python3.7/site-packages (from matplotlib>=2.1.0->metpy) (1.0.1)\n",
            "Requirement already satisfied: pyparsing!=2.0.4,!=2.1.2,!=2.1.6,>=2.0.1 in /data/keeling/a/prateek7/anaconda3/lib/python3.7/site-packages (from matplotlib>=2.1.0->metpy) (2.3.1)\n",
            "Requirement already satisfied: idna<2.9,>=2.5 in /data/keeling/a/prateek7/anaconda3/lib/python3.7/site-packages (from requests->pooch>=0.1->metpy) (2.8)\n",
            "Requirement already satisfied: chardet<3.1.0,>=3.0.2 in /data/keeling/a/prateek7/anaconda3/lib/python3.7/site-packages (from requests->pooch>=0.1->metpy) (3.0.4)\n",
            "Requirement already satisfied: certifi>=2017.4.17 in /data/keeling/a/prateek7/anaconda3/lib/python3.7/site-packages (from requests->pooch>=0.1->metpy) (2019.3.9)\n",
            "Requirement already satisfied: urllib3<1.25,>=1.21.1 in /data/keeling/a/prateek7/anaconda3/lib/python3.7/site-packages (from requests->pooch>=0.1->metpy) (1.24.1)\n",
            "Requirement already satisfied: descartes in /data/keeling/a/prateek7/anaconda3/lib/python3.7/site-packages (1.1.0)\n",
            "Requirement already satisfied: matplotlib in /data/keeling/a/prateek7/anaconda3/lib/python3.7/site-packages (from descartes) (3.0.3)\n",
            "Requirement already satisfied: numpy>=1.10.0 in /data/keeling/a/prateek7/anaconda3/lib/python3.7/site-packages (from matplotlib->descartes) (1.16.2)\n",
            "Requirement already satisfied: cycler>=0.10 in /data/keeling/a/prateek7/anaconda3/lib/python3.7/site-packages (from matplotlib->descartes) (0.10.0)\n",
            "Requirement already satisfied: kiwisolver>=1.0.1 in /data/keeling/a/prateek7/anaconda3/lib/python3.7/site-packages (from matplotlib->descartes) (1.0.1)\n",
            "Requirement already satisfied: pyparsing!=2.0.4,!=2.1.2,!=2.1.6,>=2.0.1 in /data/keeling/a/prateek7/anaconda3/lib/python3.7/site-packages (from matplotlib->descartes) (2.3.1)\n",
            "Requirement already satisfied: python-dateutil>=2.1 in /data/keeling/a/prateek7/anaconda3/lib/python3.7/site-packages (from matplotlib->descartes) (2.8.0)\n",
            "Requirement already satisfied: six in /data/keeling/a/prateek7/anaconda3/lib/python3.7/site-packages (from cycler>=0.10->matplotlib->descartes) (1.12.0)\n",
            "Requirement already satisfied: setuptools in /data/keeling/a/prateek7/anaconda3/lib/python3.7/site-packages (from kiwisolver>=1.0.1->matplotlib->descartes) (46.1.3)\n"
          ],
          "name": "stdout"
        }
      ]
    },
    {
      "cell_type": "code",
      "metadata": {
        "id": "8e7bUKabHJxi",
        "colab_type": "code",
        "colab": {}
      },
      "source": [
        "# Import libraries\n",
        "\n",
        "%matplotlib inline\n",
        "import sys\n",
        "import copy\n",
        "import warnings\n",
        "import matplotlib.pyplot as pyplot\n",
        "import pandas as pd\n",
        "import io \n",
        "import numpy as np\n",
        "from pandas.tseries.offsets import MonthEnd\n",
        "from pandas.api.types import CategoricalDtype\n",
        "import matplotlib.pyplot as plt\n",
        "import seaborn as sns; sns.set()\n",
        "from sklearn.metrics import mean_squared_error\n",
        "from math import sqrt"
      ],
      "execution_count": 0,
      "outputs": []
    },
    {
      "cell_type": "markdown",
      "metadata": {
        "id": "xpGFstjOHJxl",
        "colab_type": "text"
      },
      "source": [
        "# Input data into pandas dataframe"
      ]
    },
    {
      "cell_type": "markdown",
      "metadata": {
        "id": "zfXzXza3HJxl",
        "colab_type": "text"
      },
      "source": [
        "Data: KGRB (WI) 5-minute Automated Surface Observation System data available from NCDC \n",
        "    \n",
        "Read 5-min ASOS observations from 2000-2020 data period"
      ]
    },
    {
      "cell_type": "code",
      "metadata": {
        "id": "xyX8_ho5HJxm",
        "colab_type": "code",
        "colab": {}
      },
      "source": [
        "#KGRB_precip=pd.read_csv('KGRB_precip.csv')\n",
        "KGRB_precip=pd.read_csv('/data/keeling/a/ler5/python/pyradartutorials/00_introduction/KGRB_precip.csv')"
      ],
      "execution_count": 0,
      "outputs": []
    },
    {
      "cell_type": "code",
      "metadata": {
        "id": "fwHavyT6HJxo",
        "colab_type": "code",
        "colab": {},
        "outputId": "a7728663-a165-411e-eb51-bac2bad3f27f"
      },
      "source": [
        "print(KGRB_precip.columns.values)"
      ],
      "execution_count": 0,
      "outputs": [
        {
          "output_type": "stream",
          "text": [
            "['station_id' 'latitude' 'longitude' 'elevation' 'date_time'\n",
            " 'wind_direction' 'wind_speed' 'current_wx1' 'current_wx2' 'current_wx3'\n",
            " 'low_cloud_type' 'low_cloud_level' 'medium_cloud_type'\n",
            " 'medium_cloud_level' 'high_cloud_type' 'high_cloud_level'\n",
            " 'highest_cloud_type' 'highest_cloud_level' 'cloud_coverage'\n",
            " 'air_temperature' 'dew_point_temperature' 'altimeter' 'present_weather'\n",
            " 'past_weather' 'past_weather2' 'air_pressure_at_sea_level'\n",
            " 'eastward_wind' 'northward_wind']\n"
          ],
          "name": "stdout"
        }
      ]
    },
    {
      "cell_type": "code",
      "metadata": {
        "id": "bCypwsgDHJxr",
        "colab_type": "code",
        "colab": {},
        "outputId": "4871487d-f757-4db5-92bc-e2faad4bed1c"
      },
      "source": [
        "KGRB_precip"
      ],
      "execution_count": 0,
      "outputs": [
        {
          "output_type": "execute_result",
          "data": {
            "text/html": [
              "<div>\n",
              "<style scoped>\n",
              "    .dataframe tbody tr th:only-of-type {\n",
              "        vertical-align: middle;\n",
              "    }\n",
              "\n",
              "    .dataframe tbody tr th {\n",
              "        vertical-align: top;\n",
              "    }\n",
              "\n",
              "    .dataframe thead th {\n",
              "        text-align: right;\n",
              "    }\n",
              "</style>\n",
              "<table border=\"1\" class=\"dataframe\">\n",
              "  <thead>\n",
              "    <tr style=\"text-align: right;\">\n",
              "      <th></th>\n",
              "      <th>station_id</th>\n",
              "      <th>latitude</th>\n",
              "      <th>longitude</th>\n",
              "      <th>elevation</th>\n",
              "      <th>date_time</th>\n",
              "      <th>wind_direction</th>\n",
              "      <th>wind_speed</th>\n",
              "      <th>current_wx1</th>\n",
              "      <th>current_wx2</th>\n",
              "      <th>current_wx3</th>\n",
              "      <th>...</th>\n",
              "      <th>cloud_coverage</th>\n",
              "      <th>air_temperature</th>\n",
              "      <th>dew_point_temperature</th>\n",
              "      <th>altimeter</th>\n",
              "      <th>present_weather</th>\n",
              "      <th>past_weather</th>\n",
              "      <th>past_weather2</th>\n",
              "      <th>air_pressure_at_sea_level</th>\n",
              "      <th>eastward_wind</th>\n",
              "      <th>northward_wind</th>\n",
              "    </tr>\n",
              "  </thead>\n",
              "  <tbody>\n",
              "    <tr>\n",
              "      <td>0</td>\n",
              "      <td>KGRB</td>\n",
              "      <td>44.48</td>\n",
              "      <td>-88.13</td>\n",
              "      <td>208.0</td>\n",
              "      <td>2000-01-01 00:00:00</td>\n",
              "      <td>250.0</td>\n",
              "      <td>8.0</td>\n",
              "      <td>-SN</td>\n",
              "      <td>NaN</td>\n",
              "      <td>NaN</td>\n",
              "      <td>...</td>\n",
              "      <td>8</td>\n",
              "      <td>-5.0</td>\n",
              "      <td>-9.0</td>\n",
              "      <td>29.84</td>\n",
              "      <td>71</td>\n",
              "      <td>0</td>\n",
              "      <td>0</td>\n",
              "      <td>NaN</td>\n",
              "      <td>7.517541</td>\n",
              "      <td>2.736161</td>\n",
              "    </tr>\n",
              "    <tr>\n",
              "      <td>1</td>\n",
              "      <td>KGRB</td>\n",
              "      <td>44.48</td>\n",
              "      <td>-88.13</td>\n",
              "      <td>208.0</td>\n",
              "      <td>2000-01-01 00:05:00</td>\n",
              "      <td>260.0</td>\n",
              "      <td>8.0</td>\n",
              "      <td>-SN</td>\n",
              "      <td>NaN</td>\n",
              "      <td>NaN</td>\n",
              "      <td>...</td>\n",
              "      <td>8</td>\n",
              "      <td>-5.0</td>\n",
              "      <td>-9.0</td>\n",
              "      <td>29.84</td>\n",
              "      <td>71</td>\n",
              "      <td>0</td>\n",
              "      <td>0</td>\n",
              "      <td>NaN</td>\n",
              "      <td>7.878462</td>\n",
              "      <td>1.389185</td>\n",
              "    </tr>\n",
              "    <tr>\n",
              "      <td>2</td>\n",
              "      <td>KGRB</td>\n",
              "      <td>44.48</td>\n",
              "      <td>-88.13</td>\n",
              "      <td>208.0</td>\n",
              "      <td>2000-01-01 00:10:00</td>\n",
              "      <td>260.0</td>\n",
              "      <td>9.0</td>\n",
              "      <td>-SN</td>\n",
              "      <td>NaN</td>\n",
              "      <td>NaN</td>\n",
              "      <td>...</td>\n",
              "      <td>8</td>\n",
              "      <td>-5.0</td>\n",
              "      <td>-9.0</td>\n",
              "      <td>29.84</td>\n",
              "      <td>71</td>\n",
              "      <td>0</td>\n",
              "      <td>0</td>\n",
              "      <td>NaN</td>\n",
              "      <td>8.863270</td>\n",
              "      <td>1.562834</td>\n",
              "    </tr>\n",
              "    <tr>\n",
              "      <td>3</td>\n",
              "      <td>KGRB</td>\n",
              "      <td>44.48</td>\n",
              "      <td>-88.13</td>\n",
              "      <td>208.0</td>\n",
              "      <td>2000-01-01 00:15:00</td>\n",
              "      <td>250.0</td>\n",
              "      <td>7.0</td>\n",
              "      <td>-SN</td>\n",
              "      <td>NaN</td>\n",
              "      <td>NaN</td>\n",
              "      <td>...</td>\n",
              "      <td>8</td>\n",
              "      <td>-5.0</td>\n",
              "      <td>-9.0</td>\n",
              "      <td>29.84</td>\n",
              "      <td>71</td>\n",
              "      <td>0</td>\n",
              "      <td>0</td>\n",
              "      <td>NaN</td>\n",
              "      <td>6.577848</td>\n",
              "      <td>2.394141</td>\n",
              "    </tr>\n",
              "    <tr>\n",
              "      <td>4</td>\n",
              "      <td>KGRB</td>\n",
              "      <td>44.48</td>\n",
              "      <td>-88.13</td>\n",
              "      <td>208.0</td>\n",
              "      <td>2000-01-01 00:20:00</td>\n",
              "      <td>250.0</td>\n",
              "      <td>8.0</td>\n",
              "      <td>-SN</td>\n",
              "      <td>NaN</td>\n",
              "      <td>NaN</td>\n",
              "      <td>...</td>\n",
              "      <td>8</td>\n",
              "      <td>-5.0</td>\n",
              "      <td>-9.0</td>\n",
              "      <td>29.85</td>\n",
              "      <td>71</td>\n",
              "      <td>0</td>\n",
              "      <td>0</td>\n",
              "      <td>NaN</td>\n",
              "      <td>7.517541</td>\n",
              "      <td>2.736161</td>\n",
              "    </tr>\n",
              "    <tr>\n",
              "      <td>...</td>\n",
              "      <td>...</td>\n",
              "      <td>...</td>\n",
              "      <td>...</td>\n",
              "      <td>...</td>\n",
              "      <td>...</td>\n",
              "      <td>...</td>\n",
              "      <td>...</td>\n",
              "      <td>...</td>\n",
              "      <td>...</td>\n",
              "      <td>...</td>\n",
              "      <td>...</td>\n",
              "      <td>...</td>\n",
              "      <td>...</td>\n",
              "      <td>...</td>\n",
              "      <td>...</td>\n",
              "      <td>...</td>\n",
              "      <td>...</td>\n",
              "      <td>...</td>\n",
              "      <td>...</td>\n",
              "      <td>...</td>\n",
              "      <td>...</td>\n",
              "    </tr>\n",
              "    <tr>\n",
              "      <td>162303</td>\n",
              "      <td>KGRB</td>\n",
              "      <td>44.48</td>\n",
              "      <td>-88.13</td>\n",
              "      <td>208.0</td>\n",
              "      <td>2020-03-31 14:10:00</td>\n",
              "      <td>20.0</td>\n",
              "      <td>13.0</td>\n",
              "      <td>-SN</td>\n",
              "      <td>BR</td>\n",
              "      <td>NaN</td>\n",
              "      <td>...</td>\n",
              "      <td>8</td>\n",
              "      <td>1.0</td>\n",
              "      <td>-1.0</td>\n",
              "      <td>30.13</td>\n",
              "      <td>71</td>\n",
              "      <td>10</td>\n",
              "      <td>0</td>\n",
              "      <td>NaN</td>\n",
              "      <td>-4.446262</td>\n",
              "      <td>-12.216004</td>\n",
              "    </tr>\n",
              "    <tr>\n",
              "      <td>162304</td>\n",
              "      <td>KGRB</td>\n",
              "      <td>44.48</td>\n",
              "      <td>-88.13</td>\n",
              "      <td>208.0</td>\n",
              "      <td>2020-03-31 14:15:00</td>\n",
              "      <td>20.0</td>\n",
              "      <td>14.0</td>\n",
              "      <td>-SN</td>\n",
              "      <td>BR</td>\n",
              "      <td>NaN</td>\n",
              "      <td>...</td>\n",
              "      <td>8</td>\n",
              "      <td>1.0</td>\n",
              "      <td>-1.0</td>\n",
              "      <td>30.13</td>\n",
              "      <td>71</td>\n",
              "      <td>10</td>\n",
              "      <td>0</td>\n",
              "      <td>NaN</td>\n",
              "      <td>-4.788282</td>\n",
              "      <td>-13.155697</td>\n",
              "    </tr>\n",
              "    <tr>\n",
              "      <td>162305</td>\n",
              "      <td>KGRB</td>\n",
              "      <td>44.48</td>\n",
              "      <td>-88.13</td>\n",
              "      <td>208.0</td>\n",
              "      <td>2020-03-31 14:20:00</td>\n",
              "      <td>30.0</td>\n",
              "      <td>13.0</td>\n",
              "      <td>-SN</td>\n",
              "      <td>BR</td>\n",
              "      <td>NaN</td>\n",
              "      <td>...</td>\n",
              "      <td>8</td>\n",
              "      <td>1.0</td>\n",
              "      <td>-1.0</td>\n",
              "      <td>30.13</td>\n",
              "      <td>71</td>\n",
              "      <td>10</td>\n",
              "      <td>0</td>\n",
              "      <td>NaN</td>\n",
              "      <td>-6.500000</td>\n",
              "      <td>-11.258330</td>\n",
              "    </tr>\n",
              "    <tr>\n",
              "      <td>162306</td>\n",
              "      <td>KGRB</td>\n",
              "      <td>44.48</td>\n",
              "      <td>-88.13</td>\n",
              "      <td>208.0</td>\n",
              "      <td>2020-03-31 14:25:00</td>\n",
              "      <td>30.0</td>\n",
              "      <td>14.0</td>\n",
              "      <td>-SN</td>\n",
              "      <td>BR</td>\n",
              "      <td>NaN</td>\n",
              "      <td>...</td>\n",
              "      <td>8</td>\n",
              "      <td>1.0</td>\n",
              "      <td>-1.0</td>\n",
              "      <td>30.13</td>\n",
              "      <td>71</td>\n",
              "      <td>10</td>\n",
              "      <td>0</td>\n",
              "      <td>NaN</td>\n",
              "      <td>-7.000000</td>\n",
              "      <td>-12.124356</td>\n",
              "    </tr>\n",
              "    <tr>\n",
              "      <td>162307</td>\n",
              "      <td>KGRB</td>\n",
              "      <td>44.48</td>\n",
              "      <td>-88.13</td>\n",
              "      <td>208.0</td>\n",
              "      <td>2020-03-31 15:00:00</td>\n",
              "      <td>40.0</td>\n",
              "      <td>14.0</td>\n",
              "      <td>-RA</td>\n",
              "      <td>NaN</td>\n",
              "      <td>NaN</td>\n",
              "      <td>...</td>\n",
              "      <td>8</td>\n",
              "      <td>1.0</td>\n",
              "      <td>-1.0</td>\n",
              "      <td>30.13</td>\n",
              "      <td>61</td>\n",
              "      <td>0</td>\n",
              "      <td>0</td>\n",
              "      <td>NaN</td>\n",
              "      <td>-8.999027</td>\n",
              "      <td>-10.724622</td>\n",
              "    </tr>\n",
              "  </tbody>\n",
              "</table>\n",
              "<p>162308 rows × 28 columns</p>\n",
              "</div>"
            ],
            "text/plain": [
              "       station_id  latitude  longitude  elevation            date_time  \\\n",
              "0            KGRB     44.48     -88.13      208.0  2000-01-01 00:00:00   \n",
              "1            KGRB     44.48     -88.13      208.0  2000-01-01 00:05:00   \n",
              "2            KGRB     44.48     -88.13      208.0  2000-01-01 00:10:00   \n",
              "3            KGRB     44.48     -88.13      208.0  2000-01-01 00:15:00   \n",
              "4            KGRB     44.48     -88.13      208.0  2000-01-01 00:20:00   \n",
              "...           ...       ...        ...        ...                  ...   \n",
              "162303       KGRB     44.48     -88.13      208.0  2020-03-31 14:10:00   \n",
              "162304       KGRB     44.48     -88.13      208.0  2020-03-31 14:15:00   \n",
              "162305       KGRB     44.48     -88.13      208.0  2020-03-31 14:20:00   \n",
              "162306       KGRB     44.48     -88.13      208.0  2020-03-31 14:25:00   \n",
              "162307       KGRB     44.48     -88.13      208.0  2020-03-31 15:00:00   \n",
              "\n",
              "        wind_direction  wind_speed current_wx1 current_wx2  current_wx3  ...  \\\n",
              "0                250.0         8.0         -SN         NaN          NaN  ...   \n",
              "1                260.0         8.0         -SN         NaN          NaN  ...   \n",
              "2                260.0         9.0         -SN         NaN          NaN  ...   \n",
              "3                250.0         7.0         -SN         NaN          NaN  ...   \n",
              "4                250.0         8.0         -SN         NaN          NaN  ...   \n",
              "...                ...         ...         ...         ...          ...  ...   \n",
              "162303            20.0        13.0         -SN          BR          NaN  ...   \n",
              "162304            20.0        14.0         -SN          BR          NaN  ...   \n",
              "162305            30.0        13.0         -SN          BR          NaN  ...   \n",
              "162306            30.0        14.0         -SN          BR          NaN  ...   \n",
              "162307            40.0        14.0         -RA         NaN          NaN  ...   \n",
              "\n",
              "       cloud_coverage  air_temperature dew_point_temperature  altimeter  \\\n",
              "0                   8             -5.0                  -9.0      29.84   \n",
              "1                   8             -5.0                  -9.0      29.84   \n",
              "2                   8             -5.0                  -9.0      29.84   \n",
              "3                   8             -5.0                  -9.0      29.84   \n",
              "4                   8             -5.0                  -9.0      29.85   \n",
              "...               ...              ...                   ...        ...   \n",
              "162303              8              1.0                  -1.0      30.13   \n",
              "162304              8              1.0                  -1.0      30.13   \n",
              "162305              8              1.0                  -1.0      30.13   \n",
              "162306              8              1.0                  -1.0      30.13   \n",
              "162307              8              1.0                  -1.0      30.13   \n",
              "\n",
              "       present_weather  past_weather  past_weather2  \\\n",
              "0                   71             0              0   \n",
              "1                   71             0              0   \n",
              "2                   71             0              0   \n",
              "3                   71             0              0   \n",
              "4                   71             0              0   \n",
              "...                ...           ...            ...   \n",
              "162303              71            10              0   \n",
              "162304              71            10              0   \n",
              "162305              71            10              0   \n",
              "162306              71            10              0   \n",
              "162307              61             0              0   \n",
              "\n",
              "        air_pressure_at_sea_level  eastward_wind  northward_wind  \n",
              "0                             NaN       7.517541        2.736161  \n",
              "1                             NaN       7.878462        1.389185  \n",
              "2                             NaN       8.863270        1.562834  \n",
              "3                             NaN       6.577848        2.394141  \n",
              "4                             NaN       7.517541        2.736161  \n",
              "...                           ...            ...             ...  \n",
              "162303                        NaN      -4.446262      -12.216004  \n",
              "162304                        NaN      -4.788282      -13.155697  \n",
              "162305                        NaN      -6.500000      -11.258330  \n",
              "162306                        NaN      -7.000000      -12.124356  \n",
              "162307                        NaN      -8.999027      -10.724622  \n",
              "\n",
              "[162308 rows x 28 columns]"
            ]
          },
          "metadata": {
            "tags": []
          },
          "execution_count": 5
        }
      ]
    },
    {
      "cell_type": "markdown",
      "metadata": {
        "id": "krnxd0n3HJxu",
        "colab_type": "text"
      },
      "source": [
        "Read 5-min observations from 1-year data period (for developing code purposes)"
      ]
    },
    {
      "cell_type": "code",
      "metadata": {
        "id": "__2_Ft7hHJxv",
        "colab_type": "code",
        "colab": {}
      },
      "source": [
        "precip2000=pd.read_csv('/data/keeling/a/ler5/python/pyradartutorials/00_introduction/df2000.csv')"
      ],
      "execution_count": 0,
      "outputs": []
    },
    {
      "cell_type": "code",
      "metadata": {
        "id": "M_Hf04HpHJxx",
        "colab_type": "code",
        "colab": {}
      },
      "source": [
        "precip2001=pd.read_csv('/data/keeling/a/ler5/python/pyradartutorials/00_introduction/df2001.csv')"
      ],
      "execution_count": 0,
      "outputs": []
    },
    {
      "cell_type": "code",
      "metadata": {
        "id": "zl4rz9mkHJxz",
        "colab_type": "code",
        "colab": {},
        "outputId": "42f10b9f-9469-4c3a-e717-ee6c50b438dd"
      },
      "source": [
        "print(precip2000.columns.values)"
      ],
      "execution_count": 0,
      "outputs": [
        {
          "output_type": "stream",
          "text": [
            "['station_id' 'latitude' 'longitude' 'elevation' 'date_time'\n",
            " 'wind_direction' 'wind_speed' 'current_wx1' 'current_wx2' 'current_wx3'\n",
            " 'low_cloud_type' 'low_cloud_level' 'medium_cloud_type'\n",
            " 'medium_cloud_level' 'high_cloud_type' 'high_cloud_level'\n",
            " 'highest_cloud_type' 'highest_cloud_level' 'cloud_coverage'\n",
            " 'air_temperature' 'dew_point_temperature' 'altimeter' 'present_weather'\n",
            " 'past_weather' 'past_weather2' 'air_pressure_at_sea_level'\n",
            " 'eastward_wind' 'northward_wind']\n"
          ],
          "name": "stdout"
        }
      ]
    },
    {
      "cell_type": "code",
      "metadata": {
        "scrolled": true,
        "id": "I-vWm4S3HJx3",
        "colab_type": "code",
        "colab": {},
        "outputId": "87153b7f-2f59-4969-e454-3e6b8b74565f"
      },
      "source": [
        "precip2000"
      ],
      "execution_count": 0,
      "outputs": [
        {
          "output_type": "execute_result",
          "data": {
            "text/html": [
              "<div>\n",
              "<style scoped>\n",
              "    .dataframe tbody tr th:only-of-type {\n",
              "        vertical-align: middle;\n",
              "    }\n",
              "\n",
              "    .dataframe tbody tr th {\n",
              "        vertical-align: top;\n",
              "    }\n",
              "\n",
              "    .dataframe thead th {\n",
              "        text-align: right;\n",
              "    }\n",
              "</style>\n",
              "<table border=\"1\" class=\"dataframe\">\n",
              "  <thead>\n",
              "    <tr style=\"text-align: right;\">\n",
              "      <th></th>\n",
              "      <th>station_id</th>\n",
              "      <th>latitude</th>\n",
              "      <th>longitude</th>\n",
              "      <th>elevation</th>\n",
              "      <th>date_time</th>\n",
              "      <th>wind_direction</th>\n",
              "      <th>wind_speed</th>\n",
              "      <th>current_wx1</th>\n",
              "      <th>current_wx2</th>\n",
              "      <th>current_wx3</th>\n",
              "      <th>...</th>\n",
              "      <th>cloud_coverage</th>\n",
              "      <th>air_temperature</th>\n",
              "      <th>dew_point_temperature</th>\n",
              "      <th>altimeter</th>\n",
              "      <th>present_weather</th>\n",
              "      <th>past_weather</th>\n",
              "      <th>past_weather2</th>\n",
              "      <th>air_pressure_at_sea_level</th>\n",
              "      <th>eastward_wind</th>\n",
              "      <th>northward_wind</th>\n",
              "    </tr>\n",
              "  </thead>\n",
              "  <tbody>\n",
              "    <tr>\n",
              "      <td>0</td>\n",
              "      <td>KGRB</td>\n",
              "      <td>44.48</td>\n",
              "      <td>-88.13</td>\n",
              "      <td>208.0</td>\n",
              "      <td>2000-01-01 00:00:00</td>\n",
              "      <td>250.0</td>\n",
              "      <td>8.0</td>\n",
              "      <td>-SN</td>\n",
              "      <td>NaN</td>\n",
              "      <td>NaN</td>\n",
              "      <td>...</td>\n",
              "      <td>8</td>\n",
              "      <td>-5.0</td>\n",
              "      <td>-9.0</td>\n",
              "      <td>29.84</td>\n",
              "      <td>71</td>\n",
              "      <td>0</td>\n",
              "      <td>0</td>\n",
              "      <td>NaN</td>\n",
              "      <td>7.517541</td>\n",
              "      <td>2.736161</td>\n",
              "    </tr>\n",
              "    <tr>\n",
              "      <td>1</td>\n",
              "      <td>KGRB</td>\n",
              "      <td>44.48</td>\n",
              "      <td>-88.13</td>\n",
              "      <td>208.0</td>\n",
              "      <td>2000-01-01 00:05:00</td>\n",
              "      <td>260.0</td>\n",
              "      <td>8.0</td>\n",
              "      <td>-SN</td>\n",
              "      <td>NaN</td>\n",
              "      <td>NaN</td>\n",
              "      <td>...</td>\n",
              "      <td>8</td>\n",
              "      <td>-5.0</td>\n",
              "      <td>-9.0</td>\n",
              "      <td>29.84</td>\n",
              "      <td>71</td>\n",
              "      <td>0</td>\n",
              "      <td>0</td>\n",
              "      <td>NaN</td>\n",
              "      <td>7.878462</td>\n",
              "      <td>1.389185</td>\n",
              "    </tr>\n",
              "    <tr>\n",
              "      <td>2</td>\n",
              "      <td>KGRB</td>\n",
              "      <td>44.48</td>\n",
              "      <td>-88.13</td>\n",
              "      <td>208.0</td>\n",
              "      <td>2000-01-01 00:10:00</td>\n",
              "      <td>260.0</td>\n",
              "      <td>9.0</td>\n",
              "      <td>-SN</td>\n",
              "      <td>NaN</td>\n",
              "      <td>NaN</td>\n",
              "      <td>...</td>\n",
              "      <td>8</td>\n",
              "      <td>-5.0</td>\n",
              "      <td>-9.0</td>\n",
              "      <td>29.84</td>\n",
              "      <td>71</td>\n",
              "      <td>0</td>\n",
              "      <td>0</td>\n",
              "      <td>NaN</td>\n",
              "      <td>8.863270</td>\n",
              "      <td>1.562834</td>\n",
              "    </tr>\n",
              "    <tr>\n",
              "      <td>3</td>\n",
              "      <td>KGRB</td>\n",
              "      <td>44.48</td>\n",
              "      <td>-88.13</td>\n",
              "      <td>208.0</td>\n",
              "      <td>2000-01-01 00:15:00</td>\n",
              "      <td>250.0</td>\n",
              "      <td>7.0</td>\n",
              "      <td>-SN</td>\n",
              "      <td>NaN</td>\n",
              "      <td>NaN</td>\n",
              "      <td>...</td>\n",
              "      <td>8</td>\n",
              "      <td>-5.0</td>\n",
              "      <td>-9.0</td>\n",
              "      <td>29.84</td>\n",
              "      <td>71</td>\n",
              "      <td>0</td>\n",
              "      <td>0</td>\n",
              "      <td>NaN</td>\n",
              "      <td>6.577848</td>\n",
              "      <td>2.394141</td>\n",
              "    </tr>\n",
              "    <tr>\n",
              "      <td>4</td>\n",
              "      <td>KGRB</td>\n",
              "      <td>44.48</td>\n",
              "      <td>-88.13</td>\n",
              "      <td>208.0</td>\n",
              "      <td>2000-01-01 00:20:00</td>\n",
              "      <td>250.0</td>\n",
              "      <td>8.0</td>\n",
              "      <td>-SN</td>\n",
              "      <td>NaN</td>\n",
              "      <td>NaN</td>\n",
              "      <td>...</td>\n",
              "      <td>8</td>\n",
              "      <td>-5.0</td>\n",
              "      <td>-9.0</td>\n",
              "      <td>29.85</td>\n",
              "      <td>71</td>\n",
              "      <td>0</td>\n",
              "      <td>0</td>\n",
              "      <td>NaN</td>\n",
              "      <td>7.517541</td>\n",
              "      <td>2.736161</td>\n",
              "    </tr>\n",
              "    <tr>\n",
              "      <td>...</td>\n",
              "      <td>...</td>\n",
              "      <td>...</td>\n",
              "      <td>...</td>\n",
              "      <td>...</td>\n",
              "      <td>...</td>\n",
              "      <td>...</td>\n",
              "      <td>...</td>\n",
              "      <td>...</td>\n",
              "      <td>...</td>\n",
              "      <td>...</td>\n",
              "      <td>...</td>\n",
              "      <td>...</td>\n",
              "      <td>...</td>\n",
              "      <td>...</td>\n",
              "      <td>...</td>\n",
              "      <td>...</td>\n",
              "      <td>...</td>\n",
              "      <td>...</td>\n",
              "      <td>...</td>\n",
              "      <td>...</td>\n",
              "      <td>...</td>\n",
              "    </tr>\n",
              "    <tr>\n",
              "      <td>9741</td>\n",
              "      <td>KGRB</td>\n",
              "      <td>44.48</td>\n",
              "      <td>-88.13</td>\n",
              "      <td>208.0</td>\n",
              "      <td>2000-12-29 18:40:00</td>\n",
              "      <td>30.0</td>\n",
              "      <td>13.0</td>\n",
              "      <td>-SN</td>\n",
              "      <td>BR</td>\n",
              "      <td>NaN</td>\n",
              "      <td>...</td>\n",
              "      <td>8</td>\n",
              "      <td>-5.0</td>\n",
              "      <td>-7.0</td>\n",
              "      <td>30.05</td>\n",
              "      <td>71</td>\n",
              "      <td>10</td>\n",
              "      <td>0</td>\n",
              "      <td>NaN</td>\n",
              "      <td>-6.500000</td>\n",
              "      <td>-11.258330</td>\n",
              "    </tr>\n",
              "    <tr>\n",
              "      <td>9742</td>\n",
              "      <td>KGRB</td>\n",
              "      <td>44.48</td>\n",
              "      <td>-88.13</td>\n",
              "      <td>208.0</td>\n",
              "      <td>2000-12-29 18:45:00</td>\n",
              "      <td>30.0</td>\n",
              "      <td>11.0</td>\n",
              "      <td>-SN</td>\n",
              "      <td>BR</td>\n",
              "      <td>NaN</td>\n",
              "      <td>...</td>\n",
              "      <td>8</td>\n",
              "      <td>-5.0</td>\n",
              "      <td>-7.0</td>\n",
              "      <td>30.05</td>\n",
              "      <td>71</td>\n",
              "      <td>10</td>\n",
              "      <td>0</td>\n",
              "      <td>NaN</td>\n",
              "      <td>-5.500000</td>\n",
              "      <td>-9.526279</td>\n",
              "    </tr>\n",
              "    <tr>\n",
              "      <td>9743</td>\n",
              "      <td>KGRB</td>\n",
              "      <td>44.48</td>\n",
              "      <td>-88.13</td>\n",
              "      <td>208.0</td>\n",
              "      <td>2000-12-29 18:50:00</td>\n",
              "      <td>30.0</td>\n",
              "      <td>12.0</td>\n",
              "      <td>-SN</td>\n",
              "      <td>BR</td>\n",
              "      <td>NaN</td>\n",
              "      <td>...</td>\n",
              "      <td>8</td>\n",
              "      <td>-5.0</td>\n",
              "      <td>-7.0</td>\n",
              "      <td>30.05</td>\n",
              "      <td>71</td>\n",
              "      <td>10</td>\n",
              "      <td>0</td>\n",
              "      <td>NaN</td>\n",
              "      <td>-6.000000</td>\n",
              "      <td>-10.392305</td>\n",
              "    </tr>\n",
              "    <tr>\n",
              "      <td>9744</td>\n",
              "      <td>KGRB</td>\n",
              "      <td>44.48</td>\n",
              "      <td>-88.13</td>\n",
              "      <td>208.0</td>\n",
              "      <td>2000-12-29 18:55:00</td>\n",
              "      <td>30.0</td>\n",
              "      <td>13.0</td>\n",
              "      <td>-SN</td>\n",
              "      <td>BR</td>\n",
              "      <td>NaN</td>\n",
              "      <td>...</td>\n",
              "      <td>8</td>\n",
              "      <td>-5.0</td>\n",
              "      <td>-7.0</td>\n",
              "      <td>30.05</td>\n",
              "      <td>71</td>\n",
              "      <td>10</td>\n",
              "      <td>0</td>\n",
              "      <td>NaN</td>\n",
              "      <td>-6.500000</td>\n",
              "      <td>-11.258330</td>\n",
              "    </tr>\n",
              "    <tr>\n",
              "      <td>9745</td>\n",
              "      <td>KGRB</td>\n",
              "      <td>44.48</td>\n",
              "      <td>-88.13</td>\n",
              "      <td>208.0</td>\n",
              "      <td>2000-12-29 19:00:00</td>\n",
              "      <td>30.0</td>\n",
              "      <td>16.0</td>\n",
              "      <td>-SN</td>\n",
              "      <td>BR</td>\n",
              "      <td>NaN</td>\n",
              "      <td>...</td>\n",
              "      <td>8</td>\n",
              "      <td>-5.0</td>\n",
              "      <td>-7.0</td>\n",
              "      <td>30.05</td>\n",
              "      <td>71</td>\n",
              "      <td>10</td>\n",
              "      <td>0</td>\n",
              "      <td>NaN</td>\n",
              "      <td>-8.000000</td>\n",
              "      <td>-13.856406</td>\n",
              "    </tr>\n",
              "  </tbody>\n",
              "</table>\n",
              "<p>9746 rows × 28 columns</p>\n",
              "</div>"
            ],
            "text/plain": [
              "     station_id  latitude  longitude  elevation            date_time  \\\n",
              "0          KGRB     44.48     -88.13      208.0  2000-01-01 00:00:00   \n",
              "1          KGRB     44.48     -88.13      208.0  2000-01-01 00:05:00   \n",
              "2          KGRB     44.48     -88.13      208.0  2000-01-01 00:10:00   \n",
              "3          KGRB     44.48     -88.13      208.0  2000-01-01 00:15:00   \n",
              "4          KGRB     44.48     -88.13      208.0  2000-01-01 00:20:00   \n",
              "...         ...       ...        ...        ...                  ...   \n",
              "9741       KGRB     44.48     -88.13      208.0  2000-12-29 18:40:00   \n",
              "9742       KGRB     44.48     -88.13      208.0  2000-12-29 18:45:00   \n",
              "9743       KGRB     44.48     -88.13      208.0  2000-12-29 18:50:00   \n",
              "9744       KGRB     44.48     -88.13      208.0  2000-12-29 18:55:00   \n",
              "9745       KGRB     44.48     -88.13      208.0  2000-12-29 19:00:00   \n",
              "\n",
              "      wind_direction  wind_speed current_wx1 current_wx2  current_wx3  ...  \\\n",
              "0              250.0         8.0         -SN         NaN          NaN  ...   \n",
              "1              260.0         8.0         -SN         NaN          NaN  ...   \n",
              "2              260.0         9.0         -SN         NaN          NaN  ...   \n",
              "3              250.0         7.0         -SN         NaN          NaN  ...   \n",
              "4              250.0         8.0         -SN         NaN          NaN  ...   \n",
              "...              ...         ...         ...         ...          ...  ...   \n",
              "9741            30.0        13.0         -SN          BR          NaN  ...   \n",
              "9742            30.0        11.0         -SN          BR          NaN  ...   \n",
              "9743            30.0        12.0         -SN          BR          NaN  ...   \n",
              "9744            30.0        13.0         -SN          BR          NaN  ...   \n",
              "9745            30.0        16.0         -SN          BR          NaN  ...   \n",
              "\n",
              "     cloud_coverage  air_temperature dew_point_temperature  altimeter  \\\n",
              "0                 8             -5.0                  -9.0      29.84   \n",
              "1                 8             -5.0                  -9.0      29.84   \n",
              "2                 8             -5.0                  -9.0      29.84   \n",
              "3                 8             -5.0                  -9.0      29.84   \n",
              "4                 8             -5.0                  -9.0      29.85   \n",
              "...             ...              ...                   ...        ...   \n",
              "9741              8             -5.0                  -7.0      30.05   \n",
              "9742              8             -5.0                  -7.0      30.05   \n",
              "9743              8             -5.0                  -7.0      30.05   \n",
              "9744              8             -5.0                  -7.0      30.05   \n",
              "9745              8             -5.0                  -7.0      30.05   \n",
              "\n",
              "     present_weather  past_weather  past_weather2  air_pressure_at_sea_level  \\\n",
              "0                 71             0              0                        NaN   \n",
              "1                 71             0              0                        NaN   \n",
              "2                 71             0              0                        NaN   \n",
              "3                 71             0              0                        NaN   \n",
              "4                 71             0              0                        NaN   \n",
              "...              ...           ...            ...                        ...   \n",
              "9741              71            10              0                        NaN   \n",
              "9742              71            10              0                        NaN   \n",
              "9743              71            10              0                        NaN   \n",
              "9744              71            10              0                        NaN   \n",
              "9745              71            10              0                        NaN   \n",
              "\n",
              "      eastward_wind  northward_wind  \n",
              "0          7.517541        2.736161  \n",
              "1          7.878462        1.389185  \n",
              "2          8.863270        1.562834  \n",
              "3          6.577848        2.394141  \n",
              "4          7.517541        2.736161  \n",
              "...             ...             ...  \n",
              "9741      -6.500000      -11.258330  \n",
              "9742      -5.500000       -9.526279  \n",
              "9743      -6.000000      -10.392305  \n",
              "9744      -6.500000      -11.258330  \n",
              "9745      -8.000000      -13.856406  \n",
              "\n",
              "[9746 rows x 28 columns]"
            ]
          },
          "metadata": {
            "tags": []
          },
          "execution_count": 9
        }
      ]
    },
    {
      "cell_type": "code",
      "metadata": {
        "id": "SAt5yL4pHJx5",
        "colab_type": "code",
        "colab": {}
      },
      "source": [
        "# Datetime index for csv file\n",
        "precip2000.index = pd.to_datetime(precip2000.date_time)"
      ],
      "execution_count": 0,
      "outputs": []
    },
    {
      "cell_type": "markdown",
      "metadata": {
        "id": "uEHVl6faHJx7",
        "colab_type": "text"
      },
      "source": [
        "Read features of categorical variable for classification"
      ]
    },
    {
      "cell_type": "code",
      "metadata": {
        "id": "lRUnbE3AHJx7",
        "colab_type": "code",
        "colab": {},
        "outputId": "56a075ea-d4b1-49d4-99a6-bd6a10d0046c"
      },
      "source": [
        "# Multi-class, categorical variable with n-features\n",
        "levels = len(pd.value_counts(precip2000['current_wx1']))\n",
        "print('There are {} levels in the current_wx1 column'.format(levels))\n"
      ],
      "execution_count": 0,
      "outputs": [
        {
          "output_type": "stream",
          "text": [
            "There are 10 levels in the current_wx1 column\n"
          ],
          "name": "stdout"
        }
      ]
    },
    {
      "cell_type": "code",
      "metadata": {
        "id": "NQ7FDA7WHJx-",
        "colab_type": "code",
        "colab": {}
      },
      "source": [
        "# Columns of interest in dataframe\n",
        "precip2=pd.DataFrame()\n",
        "precip2['wind_speed']=precip2000['wind_speed']\n",
        "precip2['air_temperature']=precip2000['air_temperature']\n",
        "precip2['dew_point_temperature']=precip2000['dew_point_temperature']\n",
        "precip2['eastward_wind']=precip2000['eastward_wind']\n",
        "precip2['northward_wind']=precip2000['northward_wind']\n",
        "precip2['present_weather']=precip2000['present_weather']\n",
        "precip2['current_wx1']=precip2000['current_wx1']"
      ],
      "execution_count": 0,
      "outputs": []
    },
    {
      "cell_type": "markdown",
      "metadata": {
        "id": "gAkEeJ7YHJyA",
        "colab_type": "text"
      },
      "source": [
        "For ASOS observations from 2000-2020 data period"
      ]
    },
    {
      "cell_type": "code",
      "metadata": {
        "id": "UqqgI1O0HJyA",
        "colab_type": "code",
        "colab": {}
      },
      "source": [
        "precip1=pd.DataFrame()\n",
        "precip1['wind_speed']=KGRB_precip['wind_speed']\n",
        "precip1['air_temperature']=KGRB_precip['air_temperature']\n",
        "precip1['dew_point_temperature']=KGRB_precip['dew_point_temperature']\n",
        "precip1['eastward_wind']=KGRB_precip['eastward_wind']\n",
        "precip1['northward_wind']=KGRB_precip['northward_wind']\n",
        "precip1['present_weather']=KGRB_precip['present_weather']\n",
        "precip1['current_wx1']=KGRB_precip['current_wx1']"
      ],
      "execution_count": 0,
      "outputs": []
    },
    {
      "cell_type": "code",
      "metadata": {
        "id": "r5c-t6aeHJyC",
        "colab_type": "code",
        "colab": {}
      },
      "source": [
        "#precip1['current_wx1']"
      ],
      "execution_count": 0,
      "outputs": []
    },
    {
      "cell_type": "markdown",
      "metadata": {
        "id": "MSlFx2bCHJyE",
        "colab_type": "text"
      },
      "source": [
        "Targets (Snow, Rain) for Binary Classification"
      ]
    },
    {
      "cell_type": "code",
      "metadata": {
        "id": "-1Y4Ez2kHJyE",
        "colab_type": "code",
        "colab": {}
      },
      "source": [
        "targets = ['SN', 'RA']\n",
        "\n",
        "# Any word from `targets` are present in sentence.\n",
        "precip4=KGRB_precip[KGRB_precip.current_wx1.apply(lambda sentence: any(word in sentence for word in targets))]"
      ],
      "execution_count": 0,
      "outputs": []
    },
    {
      "cell_type": "code",
      "metadata": {
        "id": "M7ZwJ-dqHJyH",
        "colab_type": "code",
        "colab": {}
      },
      "source": [
        "precip1=pd.DataFrame()\n",
        "precip1['wind_speed']=precip4['wind_speed']\n",
        "precip1['air_temperature']=precip4['air_temperature']\n",
        "precip1['dew_point_temperature']=precip4['dew_point_temperature']\n",
        "precip1['eastward_wind']=precip4['eastward_wind']\n",
        "precip1['northward_wind']=precip4['northward_wind']\n",
        "precip1['present_weather']=precip4['present_weather']\n",
        "precip1['current_wx1']=precip4['current_wx1']"
      ],
      "execution_count": 0,
      "outputs": []
    },
    {
      "cell_type": "markdown",
      "metadata": {
        "id": "heSMQ9KZHJyM",
        "colab_type": "text"
      },
      "source": [
        "Drop mixed features (Snow and Rain)"
      ]
    },
    {
      "cell_type": "code",
      "metadata": {
        "id": "6eB5taNiHJyM",
        "colab_type": "code",
        "colab": {}
      },
      "source": [
        "precip1=precip1[precip1.current_wx1 != 'SNRA']"
      ],
      "execution_count": 0,
      "outputs": []
    },
    {
      "cell_type": "markdown",
      "metadata": {
        "id": "spnCecCJHJyO",
        "colab_type": "text"
      },
      "source": [
        "Binarization"
      ]
    },
    {
      "cell_type": "code",
      "metadata": {
        "id": "5KFhrf3UHJyP",
        "colab_type": "code",
        "colab": {}
      },
      "source": [
        "precip1['Snow']=precip1.current_wx1.apply(lambda x: 1 if x in ['SN','-SN', '+SN'] else 0)"
      ],
      "execution_count": 0,
      "outputs": []
    },
    {
      "cell_type": "code",
      "metadata": {
        "id": "fn3OrzmzHJyR",
        "colab_type": "code",
        "colab": {},
        "outputId": "3f17cda7-6f62-430b-a1a0-e2f143724482"
      },
      "source": [
        "precip1"
      ],
      "execution_count": 0,
      "outputs": [
        {
          "output_type": "execute_result",
          "data": {
            "text/html": [
              "<div>\n",
              "<style scoped>\n",
              "    .dataframe tbody tr th:only-of-type {\n",
              "        vertical-align: middle;\n",
              "    }\n",
              "\n",
              "    .dataframe tbody tr th {\n",
              "        vertical-align: top;\n",
              "    }\n",
              "\n",
              "    .dataframe thead th {\n",
              "        text-align: right;\n",
              "    }\n",
              "</style>\n",
              "<table border=\"1\" class=\"dataframe\">\n",
              "  <thead>\n",
              "    <tr style=\"text-align: right;\">\n",
              "      <th></th>\n",
              "      <th>wind_speed</th>\n",
              "      <th>air_temperature</th>\n",
              "      <th>dew_point_temperature</th>\n",
              "      <th>eastward_wind</th>\n",
              "      <th>northward_wind</th>\n",
              "      <th>present_weather</th>\n",
              "      <th>current_wx1</th>\n",
              "      <th>Snow</th>\n",
              "    </tr>\n",
              "  </thead>\n",
              "  <tbody>\n",
              "    <tr>\n",
              "      <td>0</td>\n",
              "      <td>8.0</td>\n",
              "      <td>-5.0</td>\n",
              "      <td>-9.0</td>\n",
              "      <td>7.517541</td>\n",
              "      <td>2.736161</td>\n",
              "      <td>71</td>\n",
              "      <td>-SN</td>\n",
              "      <td>1</td>\n",
              "    </tr>\n",
              "    <tr>\n",
              "      <td>1</td>\n",
              "      <td>8.0</td>\n",
              "      <td>-5.0</td>\n",
              "      <td>-9.0</td>\n",
              "      <td>7.878462</td>\n",
              "      <td>1.389185</td>\n",
              "      <td>71</td>\n",
              "      <td>-SN</td>\n",
              "      <td>1</td>\n",
              "    </tr>\n",
              "    <tr>\n",
              "      <td>2</td>\n",
              "      <td>9.0</td>\n",
              "      <td>-5.0</td>\n",
              "      <td>-9.0</td>\n",
              "      <td>8.863270</td>\n",
              "      <td>1.562834</td>\n",
              "      <td>71</td>\n",
              "      <td>-SN</td>\n",
              "      <td>1</td>\n",
              "    </tr>\n",
              "    <tr>\n",
              "      <td>3</td>\n",
              "      <td>7.0</td>\n",
              "      <td>-5.0</td>\n",
              "      <td>-9.0</td>\n",
              "      <td>6.577848</td>\n",
              "      <td>2.394141</td>\n",
              "      <td>71</td>\n",
              "      <td>-SN</td>\n",
              "      <td>1</td>\n",
              "    </tr>\n",
              "    <tr>\n",
              "      <td>4</td>\n",
              "      <td>8.0</td>\n",
              "      <td>-5.0</td>\n",
              "      <td>-9.0</td>\n",
              "      <td>7.517541</td>\n",
              "      <td>2.736161</td>\n",
              "      <td>71</td>\n",
              "      <td>-SN</td>\n",
              "      <td>1</td>\n",
              "    </tr>\n",
              "    <tr>\n",
              "      <td>...</td>\n",
              "      <td>...</td>\n",
              "      <td>...</td>\n",
              "      <td>...</td>\n",
              "      <td>...</td>\n",
              "      <td>...</td>\n",
              "      <td>...</td>\n",
              "      <td>...</td>\n",
              "      <td>...</td>\n",
              "    </tr>\n",
              "    <tr>\n",
              "      <td>162303</td>\n",
              "      <td>13.0</td>\n",
              "      <td>1.0</td>\n",
              "      <td>-1.0</td>\n",
              "      <td>-4.446262</td>\n",
              "      <td>-12.216004</td>\n",
              "      <td>71</td>\n",
              "      <td>-SN</td>\n",
              "      <td>1</td>\n",
              "    </tr>\n",
              "    <tr>\n",
              "      <td>162304</td>\n",
              "      <td>14.0</td>\n",
              "      <td>1.0</td>\n",
              "      <td>-1.0</td>\n",
              "      <td>-4.788282</td>\n",
              "      <td>-13.155697</td>\n",
              "      <td>71</td>\n",
              "      <td>-SN</td>\n",
              "      <td>1</td>\n",
              "    </tr>\n",
              "    <tr>\n",
              "      <td>162305</td>\n",
              "      <td>13.0</td>\n",
              "      <td>1.0</td>\n",
              "      <td>-1.0</td>\n",
              "      <td>-6.500000</td>\n",
              "      <td>-11.258330</td>\n",
              "      <td>71</td>\n",
              "      <td>-SN</td>\n",
              "      <td>1</td>\n",
              "    </tr>\n",
              "    <tr>\n",
              "      <td>162306</td>\n",
              "      <td>14.0</td>\n",
              "      <td>1.0</td>\n",
              "      <td>-1.0</td>\n",
              "      <td>-7.000000</td>\n",
              "      <td>-12.124356</td>\n",
              "      <td>71</td>\n",
              "      <td>-SN</td>\n",
              "      <td>1</td>\n",
              "    </tr>\n",
              "    <tr>\n",
              "      <td>162307</td>\n",
              "      <td>14.0</td>\n",
              "      <td>1.0</td>\n",
              "      <td>-1.0</td>\n",
              "      <td>-8.999027</td>\n",
              "      <td>-10.724622</td>\n",
              "      <td>61</td>\n",
              "      <td>-RA</td>\n",
              "      <td>0</td>\n",
              "    </tr>\n",
              "  </tbody>\n",
              "</table>\n",
              "<p>162306 rows × 8 columns</p>\n",
              "</div>"
            ],
            "text/plain": [
              "        wind_speed  air_temperature  dew_point_temperature  eastward_wind  \\\n",
              "0              8.0             -5.0                   -9.0       7.517541   \n",
              "1              8.0             -5.0                   -9.0       7.878462   \n",
              "2              9.0             -5.0                   -9.0       8.863270   \n",
              "3              7.0             -5.0                   -9.0       6.577848   \n",
              "4              8.0             -5.0                   -9.0       7.517541   \n",
              "...            ...              ...                    ...            ...   \n",
              "162303        13.0              1.0                   -1.0      -4.446262   \n",
              "162304        14.0              1.0                   -1.0      -4.788282   \n",
              "162305        13.0              1.0                   -1.0      -6.500000   \n",
              "162306        14.0              1.0                   -1.0      -7.000000   \n",
              "162307        14.0              1.0                   -1.0      -8.999027   \n",
              "\n",
              "        northward_wind  present_weather current_wx1  Snow  \n",
              "0             2.736161               71         -SN     1  \n",
              "1             1.389185               71         -SN     1  \n",
              "2             1.562834               71         -SN     1  \n",
              "3             2.394141               71         -SN     1  \n",
              "4             2.736161               71         -SN     1  \n",
              "...                ...              ...         ...   ...  \n",
              "162303      -12.216004               71         -SN     1  \n",
              "162304      -13.155697               71         -SN     1  \n",
              "162305      -11.258330               71         -SN     1  \n",
              "162306      -12.124356               71         -SN     1  \n",
              "162307      -10.724622               61         -RA     0  \n",
              "\n",
              "[162306 rows x 8 columns]"
            ]
          },
          "metadata": {
            "tags": []
          },
          "execution_count": 19
        }
      ]
    },
    {
      "cell_type": "markdown",
      "metadata": {
        "id": "nEjZTwhSHJyU",
        "colab_type": "text"
      },
      "source": [
        "Drop NaN Values "
      ]
    },
    {
      "cell_type": "code",
      "metadata": {
        "id": "Ma2cQ7t5HJyV",
        "colab_type": "code",
        "colab": {}
      },
      "source": [
        "precip1=precip1.dropna()"
      ],
      "execution_count": 0,
      "outputs": []
    },
    {
      "cell_type": "code",
      "metadata": {
        "id": "Yw29EIXAHJyX",
        "colab_type": "code",
        "colab": {},
        "outputId": "d5a0082a-dddf-46f1-842e-9a5746073db1"
      },
      "source": [
        "precip1"
      ],
      "execution_count": 0,
      "outputs": [
        {
          "output_type": "execute_result",
          "data": {
            "text/html": [
              "<div>\n",
              "<style scoped>\n",
              "    .dataframe tbody tr th:only-of-type {\n",
              "        vertical-align: middle;\n",
              "    }\n",
              "\n",
              "    .dataframe tbody tr th {\n",
              "        vertical-align: top;\n",
              "    }\n",
              "\n",
              "    .dataframe thead th {\n",
              "        text-align: right;\n",
              "    }\n",
              "</style>\n",
              "<table border=\"1\" class=\"dataframe\">\n",
              "  <thead>\n",
              "    <tr style=\"text-align: right;\">\n",
              "      <th></th>\n",
              "      <th>wind_speed</th>\n",
              "      <th>air_temperature</th>\n",
              "      <th>dew_point_temperature</th>\n",
              "      <th>eastward_wind</th>\n",
              "      <th>northward_wind</th>\n",
              "      <th>present_weather</th>\n",
              "      <th>current_wx1</th>\n",
              "      <th>Snow</th>\n",
              "    </tr>\n",
              "  </thead>\n",
              "  <tbody>\n",
              "    <tr>\n",
              "      <td>0</td>\n",
              "      <td>8.0</td>\n",
              "      <td>-5.0</td>\n",
              "      <td>-9.0</td>\n",
              "      <td>7.517541</td>\n",
              "      <td>2.736161</td>\n",
              "      <td>71</td>\n",
              "      <td>-SN</td>\n",
              "      <td>1</td>\n",
              "    </tr>\n",
              "    <tr>\n",
              "      <td>1</td>\n",
              "      <td>8.0</td>\n",
              "      <td>-5.0</td>\n",
              "      <td>-9.0</td>\n",
              "      <td>7.878462</td>\n",
              "      <td>1.389185</td>\n",
              "      <td>71</td>\n",
              "      <td>-SN</td>\n",
              "      <td>1</td>\n",
              "    </tr>\n",
              "    <tr>\n",
              "      <td>2</td>\n",
              "      <td>9.0</td>\n",
              "      <td>-5.0</td>\n",
              "      <td>-9.0</td>\n",
              "      <td>8.863270</td>\n",
              "      <td>1.562834</td>\n",
              "      <td>71</td>\n",
              "      <td>-SN</td>\n",
              "      <td>1</td>\n",
              "    </tr>\n",
              "    <tr>\n",
              "      <td>3</td>\n",
              "      <td>7.0</td>\n",
              "      <td>-5.0</td>\n",
              "      <td>-9.0</td>\n",
              "      <td>6.577848</td>\n",
              "      <td>2.394141</td>\n",
              "      <td>71</td>\n",
              "      <td>-SN</td>\n",
              "      <td>1</td>\n",
              "    </tr>\n",
              "    <tr>\n",
              "      <td>4</td>\n",
              "      <td>8.0</td>\n",
              "      <td>-5.0</td>\n",
              "      <td>-9.0</td>\n",
              "      <td>7.517541</td>\n",
              "      <td>2.736161</td>\n",
              "      <td>71</td>\n",
              "      <td>-SN</td>\n",
              "      <td>1</td>\n",
              "    </tr>\n",
              "    <tr>\n",
              "      <td>...</td>\n",
              "      <td>...</td>\n",
              "      <td>...</td>\n",
              "      <td>...</td>\n",
              "      <td>...</td>\n",
              "      <td>...</td>\n",
              "      <td>...</td>\n",
              "      <td>...</td>\n",
              "      <td>...</td>\n",
              "    </tr>\n",
              "    <tr>\n",
              "      <td>162303</td>\n",
              "      <td>13.0</td>\n",
              "      <td>1.0</td>\n",
              "      <td>-1.0</td>\n",
              "      <td>-4.446262</td>\n",
              "      <td>-12.216004</td>\n",
              "      <td>71</td>\n",
              "      <td>-SN</td>\n",
              "      <td>1</td>\n",
              "    </tr>\n",
              "    <tr>\n",
              "      <td>162304</td>\n",
              "      <td>14.0</td>\n",
              "      <td>1.0</td>\n",
              "      <td>-1.0</td>\n",
              "      <td>-4.788282</td>\n",
              "      <td>-13.155697</td>\n",
              "      <td>71</td>\n",
              "      <td>-SN</td>\n",
              "      <td>1</td>\n",
              "    </tr>\n",
              "    <tr>\n",
              "      <td>162305</td>\n",
              "      <td>13.0</td>\n",
              "      <td>1.0</td>\n",
              "      <td>-1.0</td>\n",
              "      <td>-6.500000</td>\n",
              "      <td>-11.258330</td>\n",
              "      <td>71</td>\n",
              "      <td>-SN</td>\n",
              "      <td>1</td>\n",
              "    </tr>\n",
              "    <tr>\n",
              "      <td>162306</td>\n",
              "      <td>14.0</td>\n",
              "      <td>1.0</td>\n",
              "      <td>-1.0</td>\n",
              "      <td>-7.000000</td>\n",
              "      <td>-12.124356</td>\n",
              "      <td>71</td>\n",
              "      <td>-SN</td>\n",
              "      <td>1</td>\n",
              "    </tr>\n",
              "    <tr>\n",
              "      <td>162307</td>\n",
              "      <td>14.0</td>\n",
              "      <td>1.0</td>\n",
              "      <td>-1.0</td>\n",
              "      <td>-8.999027</td>\n",
              "      <td>-10.724622</td>\n",
              "      <td>61</td>\n",
              "      <td>-RA</td>\n",
              "      <td>0</td>\n",
              "    </tr>\n",
              "  </tbody>\n",
              "</table>\n",
              "<p>161098 rows × 8 columns</p>\n",
              "</div>"
            ],
            "text/plain": [
              "        wind_speed  air_temperature  dew_point_temperature  eastward_wind  \\\n",
              "0              8.0             -5.0                   -9.0       7.517541   \n",
              "1              8.0             -5.0                   -9.0       7.878462   \n",
              "2              9.0             -5.0                   -9.0       8.863270   \n",
              "3              7.0             -5.0                   -9.0       6.577848   \n",
              "4              8.0             -5.0                   -9.0       7.517541   \n",
              "...            ...              ...                    ...            ...   \n",
              "162303        13.0              1.0                   -1.0      -4.446262   \n",
              "162304        14.0              1.0                   -1.0      -4.788282   \n",
              "162305        13.0              1.0                   -1.0      -6.500000   \n",
              "162306        14.0              1.0                   -1.0      -7.000000   \n",
              "162307        14.0              1.0                   -1.0      -8.999027   \n",
              "\n",
              "        northward_wind  present_weather current_wx1  Snow  \n",
              "0             2.736161               71         -SN     1  \n",
              "1             1.389185               71         -SN     1  \n",
              "2             1.562834               71         -SN     1  \n",
              "3             2.394141               71         -SN     1  \n",
              "4             2.736161               71         -SN     1  \n",
              "...                ...              ...         ...   ...  \n",
              "162303      -12.216004               71         -SN     1  \n",
              "162304      -13.155697               71         -SN     1  \n",
              "162305      -11.258330               71         -SN     1  \n",
              "162306      -12.124356               71         -SN     1  \n",
              "162307      -10.724622               61         -RA     0  \n",
              "\n",
              "[161098 rows x 8 columns]"
            ]
          },
          "metadata": {
            "tags": []
          },
          "execution_count": 21
        }
      ]
    },
    {
      "cell_type": "markdown",
      "metadata": {
        "id": "big9Ek1IHJyZ",
        "colab_type": "text"
      },
      "source": [
        "Final selection of variables for the model "
      ]
    },
    {
      "cell_type": "code",
      "metadata": {
        "id": "l240PiUoHJyZ",
        "colab_type": "code",
        "colab": {}
      },
      "source": [
        "precip1=precip1.drop(['current_wx1','present_weather'],axis=1)"
      ],
      "execution_count": 0,
      "outputs": []
    },
    {
      "cell_type": "code",
      "metadata": {
        "id": "1k6i1jCgHJyb",
        "colab_type": "code",
        "colab": {},
        "outputId": "93399c29-2361-446d-9af5-605e0d238db0"
      },
      "source": [
        "precip1\n"
      ],
      "execution_count": 0,
      "outputs": [
        {
          "output_type": "execute_result",
          "data": {
            "text/html": [
              "<div>\n",
              "<style scoped>\n",
              "    .dataframe tbody tr th:only-of-type {\n",
              "        vertical-align: middle;\n",
              "    }\n",
              "\n",
              "    .dataframe tbody tr th {\n",
              "        vertical-align: top;\n",
              "    }\n",
              "\n",
              "    .dataframe thead th {\n",
              "        text-align: right;\n",
              "    }\n",
              "</style>\n",
              "<table border=\"1\" class=\"dataframe\">\n",
              "  <thead>\n",
              "    <tr style=\"text-align: right;\">\n",
              "      <th></th>\n",
              "      <th>wind_speed</th>\n",
              "      <th>air_temperature</th>\n",
              "      <th>dew_point_temperature</th>\n",
              "      <th>eastward_wind</th>\n",
              "      <th>northward_wind</th>\n",
              "      <th>Snow</th>\n",
              "    </tr>\n",
              "  </thead>\n",
              "  <tbody>\n",
              "    <tr>\n",
              "      <td>0</td>\n",
              "      <td>8.0</td>\n",
              "      <td>-5.0</td>\n",
              "      <td>-9.0</td>\n",
              "      <td>7.517541</td>\n",
              "      <td>2.736161</td>\n",
              "      <td>1</td>\n",
              "    </tr>\n",
              "    <tr>\n",
              "      <td>1</td>\n",
              "      <td>8.0</td>\n",
              "      <td>-5.0</td>\n",
              "      <td>-9.0</td>\n",
              "      <td>7.878462</td>\n",
              "      <td>1.389185</td>\n",
              "      <td>1</td>\n",
              "    </tr>\n",
              "    <tr>\n",
              "      <td>2</td>\n",
              "      <td>9.0</td>\n",
              "      <td>-5.0</td>\n",
              "      <td>-9.0</td>\n",
              "      <td>8.863270</td>\n",
              "      <td>1.562834</td>\n",
              "      <td>1</td>\n",
              "    </tr>\n",
              "    <tr>\n",
              "      <td>3</td>\n",
              "      <td>7.0</td>\n",
              "      <td>-5.0</td>\n",
              "      <td>-9.0</td>\n",
              "      <td>6.577848</td>\n",
              "      <td>2.394141</td>\n",
              "      <td>1</td>\n",
              "    </tr>\n",
              "    <tr>\n",
              "      <td>4</td>\n",
              "      <td>8.0</td>\n",
              "      <td>-5.0</td>\n",
              "      <td>-9.0</td>\n",
              "      <td>7.517541</td>\n",
              "      <td>2.736161</td>\n",
              "      <td>1</td>\n",
              "    </tr>\n",
              "    <tr>\n",
              "      <td>...</td>\n",
              "      <td>...</td>\n",
              "      <td>...</td>\n",
              "      <td>...</td>\n",
              "      <td>...</td>\n",
              "      <td>...</td>\n",
              "      <td>...</td>\n",
              "    </tr>\n",
              "    <tr>\n",
              "      <td>162303</td>\n",
              "      <td>13.0</td>\n",
              "      <td>1.0</td>\n",
              "      <td>-1.0</td>\n",
              "      <td>-4.446262</td>\n",
              "      <td>-12.216004</td>\n",
              "      <td>1</td>\n",
              "    </tr>\n",
              "    <tr>\n",
              "      <td>162304</td>\n",
              "      <td>14.0</td>\n",
              "      <td>1.0</td>\n",
              "      <td>-1.0</td>\n",
              "      <td>-4.788282</td>\n",
              "      <td>-13.155697</td>\n",
              "      <td>1</td>\n",
              "    </tr>\n",
              "    <tr>\n",
              "      <td>162305</td>\n",
              "      <td>13.0</td>\n",
              "      <td>1.0</td>\n",
              "      <td>-1.0</td>\n",
              "      <td>-6.500000</td>\n",
              "      <td>-11.258330</td>\n",
              "      <td>1</td>\n",
              "    </tr>\n",
              "    <tr>\n",
              "      <td>162306</td>\n",
              "      <td>14.0</td>\n",
              "      <td>1.0</td>\n",
              "      <td>-1.0</td>\n",
              "      <td>-7.000000</td>\n",
              "      <td>-12.124356</td>\n",
              "      <td>1</td>\n",
              "    </tr>\n",
              "    <tr>\n",
              "      <td>162307</td>\n",
              "      <td>14.0</td>\n",
              "      <td>1.0</td>\n",
              "      <td>-1.0</td>\n",
              "      <td>-8.999027</td>\n",
              "      <td>-10.724622</td>\n",
              "      <td>0</td>\n",
              "    </tr>\n",
              "  </tbody>\n",
              "</table>\n",
              "<p>161098 rows × 6 columns</p>\n",
              "</div>"
            ],
            "text/plain": [
              "        wind_speed  air_temperature  dew_point_temperature  eastward_wind  \\\n",
              "0              8.0             -5.0                   -9.0       7.517541   \n",
              "1              8.0             -5.0                   -9.0       7.878462   \n",
              "2              9.0             -5.0                   -9.0       8.863270   \n",
              "3              7.0             -5.0                   -9.0       6.577848   \n",
              "4              8.0             -5.0                   -9.0       7.517541   \n",
              "...            ...              ...                    ...            ...   \n",
              "162303        13.0              1.0                   -1.0      -4.446262   \n",
              "162304        14.0              1.0                   -1.0      -4.788282   \n",
              "162305        13.0              1.0                   -1.0      -6.500000   \n",
              "162306        14.0              1.0                   -1.0      -7.000000   \n",
              "162307        14.0              1.0                   -1.0      -8.999027   \n",
              "\n",
              "        northward_wind  Snow  \n",
              "0             2.736161     1  \n",
              "1             1.389185     1  \n",
              "2             1.562834     1  \n",
              "3             2.394141     1  \n",
              "4             2.736161     1  \n",
              "...                ...   ...  \n",
              "162303      -12.216004     1  \n",
              "162304      -13.155697     1  \n",
              "162305      -11.258330     1  \n",
              "162306      -12.124356     1  \n",
              "162307      -10.724622     0  \n",
              "\n",
              "[161098 rows x 6 columns]"
            ]
          },
          "metadata": {
            "tags": []
          },
          "execution_count": 23
        }
      ]
    },
    {
      "cell_type": "markdown",
      "metadata": {
        "id": "o463bxLoHJyd",
        "colab_type": "text"
      },
      "source": [
        "# Setup a logistic regression model"
      ]
    },
    {
      "cell_type": "code",
      "metadata": {
        "id": "eD7Fg2UNHJye",
        "colab_type": "code",
        "colab": {}
      },
      "source": [
        "X=precip1.drop('Snow',axis=1)\n",
        "y= precip1['Snow']"
      ],
      "execution_count": 0,
      "outputs": []
    },
    {
      "cell_type": "code",
      "metadata": {
        "id": "5wNDxXMuHJyf",
        "colab_type": "code",
        "colab": {}
      },
      "source": [
        "#y"
      ],
      "execution_count": 0,
      "outputs": []
    },
    {
      "cell_type": "markdown",
      "metadata": {
        "id": "BKmppDw2HJyh",
        "colab_type": "text"
      },
      "source": [
        "Import configuration of model"
      ]
    },
    {
      "cell_type": "code",
      "metadata": {
        "id": "Iv3esYrFHJyi",
        "colab_type": "code",
        "colab": {},
        "outputId": "f60c15d6-52d2-49ab-b5ac-065131f5891b"
      },
      "source": [
        "from sklearn.model_selection import train_test_split\n",
        "\n",
        "x_train, x_test, y_train, y_test = train_test_split(X, y, test_size=0.3, random_state=75)\n",
        "\n",
        "# For our matrix calculations we need to transpose our matrixis:\n",
        "x_train = x_train.T\n",
        "y_train = y_train.T\n",
        "x_test = x_test.T\n",
        "y_test = y_test.T\n",
        "\n",
        "print('x_train shape is: ', x_train.shape)\n",
        "print('y_train shape is: ', y_train.shape)\n",
        "print('x_test shape is: ', x_test.shape)\n",
        "print('y_test shape is: ', y_test.shape)"
      ],
      "execution_count": 0,
      "outputs": [
        {
          "output_type": "stream",
          "text": [
            "x_train shape is:  (5, 112768)\n",
            "y_train shape is:  (112768,)\n",
            "x_test shape is:  (5, 48330)\n",
            "y_test shape is:  (48330,)\n"
          ],
          "name": "stdout"
        }
      ]
    },
    {
      "cell_type": "code",
      "metadata": {
        "id": "YMzJzgK0HJyj",
        "colab_type": "code",
        "colab": {},
        "outputId": "3073143d-b57e-4fb1-ec95-712fd7dea20e"
      },
      "source": [
        "x_test.shape"
      ],
      "execution_count": 0,
      "outputs": [
        {
          "output_type": "execute_result",
          "data": {
            "text/plain": [
              "(5, 48330)"
            ]
          },
          "metadata": {
            "tags": []
          },
          "execution_count": 27
        }
      ]
    },
    {
      "cell_type": "markdown",
      "metadata": {
        "id": "4K9iF5LpHJym",
        "colab_type": "text"
      },
      "source": [
        "# Setup Logistic Regression"
      ]
    },
    {
      "cell_type": "markdown",
      "metadata": {
        "id": "nDU8c0r5HJym",
        "colab_type": "text"
      },
      "source": [
        "Instantiate logistic regression"
      ]
    },
    {
      "cell_type": "code",
      "metadata": {
        "id": "6RVHw8yCHJym",
        "colab_type": "code",
        "colab": {},
        "outputId": "412feb0c-7002-4478-fd78-8e99ad88e27f"
      },
      "source": [
        "from sklearn.linear_model import LogisticRegression\n",
        "\n",
        "model = LogisticRegression()\n",
        "model.fit(x_train.T,y_train.T)"
      ],
      "execution_count": 0,
      "outputs": [
        {
          "output_type": "stream",
          "text": [
            "/data/keeling/a/ler5/anaconda3/lib/python3.7/site-packages/sklearn/linear_model/logistic.py:432: FutureWarning: Default solver will be changed to 'lbfgs' in 0.22. Specify a solver to silence this warning.\n",
            "  FutureWarning)\n"
          ],
          "name": "stderr"
        },
        {
          "output_type": "execute_result",
          "data": {
            "text/plain": [
              "LogisticRegression(C=1.0, class_weight=None, dual=False, fit_intercept=True,\n",
              "                   intercept_scaling=1, l1_ratio=None, max_iter=100,\n",
              "                   multi_class='warn', n_jobs=None, penalty='l2',\n",
              "                   random_state=None, solver='warn', tol=0.0001, verbose=0,\n",
              "                   warm_start=False)"
            ]
          },
          "metadata": {
            "tags": []
          },
          "execution_count": 28
        }
      ]
    },
    {
      "cell_type": "markdown",
      "metadata": {
        "id": "9YnGezG_HJyo",
        "colab_type": "text"
      },
      "source": [
        "Get the intercept and coefficients"
      ]
    },
    {
      "cell_type": "code",
      "metadata": {
        "id": "AgGPSlQ2HJyp",
        "colab_type": "code",
        "colab": {},
        "outputId": "c9162336-d261-4211-dccc-d032ac7b7a44"
      },
      "source": [
        "#Get the intercept\n",
        "intercept = model.intercept_\n",
        "intercept"
      ],
      "execution_count": 0,
      "outputs": [
        {
          "output_type": "execute_result",
          "data": {
            "text/plain": [
              "array([1.3313994])"
            ]
          },
          "metadata": {
            "tags": []
          },
          "execution_count": 29
        }
      ]
    },
    {
      "cell_type": "code",
      "metadata": {
        "id": "1bwVjzyHHJyr",
        "colab_type": "code",
        "colab": {},
        "outputId": "8fb3f348-64a4-4f46-b9df-1bac80aeed79"
      },
      "source": [
        "# Get the coefficients\n",
        "coefficients = model.coef_\n",
        "coefficients"
      ],
      "execution_count": 0,
      "outputs": [
        {
          "output_type": "execute_result",
          "data": {
            "text/plain": [
              "array([[-0.00284918, -0.92701324, -0.4142266 ,  0.0736531 , -0.03197444]])"
            ]
          },
          "metadata": {
            "tags": []
          },
          "execution_count": 30
        }
      ]
    },
    {
      "cell_type": "code",
      "metadata": {
        "id": "ssqblLuXHJyu",
        "colab_type": "code",
        "colab": {},
        "outputId": "10f204b0-34bc-43c8-d638-df2943d0fc5a"
      },
      "source": [
        "# Place coefficients into a list\n",
        "coef_list = list(coefficients[0,:])\n",
        "coef_list"
      ],
      "execution_count": 0,
      "outputs": [
        {
          "output_type": "execute_result",
          "data": {
            "text/plain": [
              "[-0.002849184970800712,\n",
              " -0.9270132445570088,\n",
              " -0.414226604899388,\n",
              " 0.07365309598433661,\n",
              " -0.03197443910151106]"
            ]
          },
          "metadata": {
            "tags": []
          },
          "execution_count": 31
        }
      ]
    },
    {
      "cell_type": "code",
      "metadata": {
        "scrolled": true,
        "id": "NAEK25gyHJyw",
        "colab_type": "code",
        "colab": {},
        "outputId": "7f04f3f2-6346-484b-bb4c-1549157dd762"
      },
      "source": [
        "# Match features to their coefficients and, place into dataframe\n",
        "coef_df = pd.DataFrame({'Feature':list(x_train.T.columns), 'Coefficient': coef_list})\n",
        "print(coef_df)"
      ],
      "execution_count": 0,
      "outputs": [
        {
          "output_type": "stream",
          "text": [
            "                 Feature  Coefficient\n",
            "0             wind_speed    -0.002849\n",
            "1        air_temperature    -0.927013\n",
            "2  dew_point_temperature    -0.414227\n",
            "3          eastward_wind     0.073653\n",
            "4         northward_wind    -0.031974\n"
          ],
          "name": "stdout"
        }
      ]
    },
    {
      "cell_type": "markdown",
      "metadata": {
        "id": "j7rw5HY2HJyy",
        "colab_type": "text"
      },
      "source": [
        "Evaluating the performance of model"
      ]
    },
    {
      "cell_type": "code",
      "metadata": {
        "id": "vKEAHyMbHJyy",
        "colab_type": "code",
        "colab": {},
        "outputId": "b81a256a-8402-44cc-9977-e1c0a5595700"
      },
      "source": [
        "# Generating predicted probabilities\n",
        "predicted_prob = model.predict_proba(x_test.T)[:,1]\n",
        "\n",
        "# Generating predicted classes\n",
        "predicted_class = model.predict(x_test.T)\n",
        "\n",
        "#Evaluating performance\n",
        "from sklearn.metrics import confusion_matrix\n",
        "\n",
        "cm = pd.DataFrame(confusion_matrix(y_test.T, predicted_class))\n",
        "cm['Total'] = np.sum(cm, axis=1)\n",
        "cm = cm.append(np.sum(cm, axis=0), ignore_index=True)\n",
        "cm.columns = ['Predicted NO SNOW', 'Predicted SNOW', 'Total']\n",
        "cm = cm.set_index([['Actual NO SNOW', 'Actual SNOW', 'Total']])\n",
        "print(cm)"
      ],
      "execution_count": 0,
      "outputs": [
        {
          "output_type": "stream",
          "text": [
            "                Predicted NO SNOW  Predicted SNOW  Total\n",
            "Actual NO SNOW              27210            1030  28240\n",
            "Actual SNOW                   704           19386  20090\n",
            "Total                       27914           20416  48330\n"
          ],
          "name": "stdout"
        }
      ]
    },
    {
      "cell_type": "code",
      "metadata": {
        "id": "M29kLmBIHJy0",
        "colab_type": "code",
        "colab": {},
        "outputId": "d28ad03a-63de-407e-a480-64ae2dbad755"
      },
      "source": [
        "cm"
      ],
      "execution_count": 0,
      "outputs": [
        {
          "output_type": "execute_result",
          "data": {
            "text/html": [
              "<div>\n",
              "<style scoped>\n",
              "    .dataframe tbody tr th:only-of-type {\n",
              "        vertical-align: middle;\n",
              "    }\n",
              "\n",
              "    .dataframe tbody tr th {\n",
              "        vertical-align: top;\n",
              "    }\n",
              "\n",
              "    .dataframe thead th {\n",
              "        text-align: right;\n",
              "    }\n",
              "</style>\n",
              "<table border=\"1\" class=\"dataframe\">\n",
              "  <thead>\n",
              "    <tr style=\"text-align: right;\">\n",
              "      <th></th>\n",
              "      <th>Predicted NO SNOW</th>\n",
              "      <th>Predicted SNOW</th>\n",
              "      <th>Total</th>\n",
              "    </tr>\n",
              "  </thead>\n",
              "  <tbody>\n",
              "    <tr>\n",
              "      <td>Actual NO SNOW</td>\n",
              "      <td>27210</td>\n",
              "      <td>1030</td>\n",
              "      <td>28240</td>\n",
              "    </tr>\n",
              "    <tr>\n",
              "      <td>Actual SNOW</td>\n",
              "      <td>704</td>\n",
              "      <td>19386</td>\n",
              "      <td>20090</td>\n",
              "    </tr>\n",
              "    <tr>\n",
              "      <td>Total</td>\n",
              "      <td>27914</td>\n",
              "      <td>20416</td>\n",
              "      <td>48330</td>\n",
              "    </tr>\n",
              "  </tbody>\n",
              "</table>\n",
              "</div>"
            ],
            "text/plain": [
              "                Predicted NO SNOW  Predicted SNOW  Total\n",
              "Actual NO SNOW              27210            1030  28240\n",
              "Actual SNOW                   704           19386  20090\n",
              "Total                       27914           20416  48330"
            ]
          },
          "metadata": {
            "tags": []
          },
          "execution_count": 34
        }
      ]
    },
    {
      "cell_type": "code",
      "metadata": {
        "id": "wMlBtNgeHJy2",
        "colab_type": "code",
        "colab": {},
        "outputId": "a7b225ac-bad9-44a4-dcda-ae8509cd615d"
      },
      "source": [
        "# Classification report\n",
        "from sklearn.metrics import classification_report\n",
        "\n",
        "print(classification_report(y_test.T, predicted_class))"
      ],
      "execution_count": 0,
      "outputs": [
        {
          "output_type": "stream",
          "text": [
            "              precision    recall  f1-score   support\n",
            "\n",
            "           0       0.97      0.96      0.97     28240\n",
            "           1       0.95      0.96      0.96     20090\n",
            "\n",
            "    accuracy                           0.96     48330\n",
            "   macro avg       0.96      0.96      0.96     48330\n",
            "weighted avg       0.96      0.96      0.96     48330\n",
            "\n"
          ],
          "name": "stdout"
        }
      ]
    },
    {
      "cell_type": "code",
      "metadata": {
        "id": "Kgav7g5xHJy5",
        "colab_type": "code",
        "colab": {},
        "outputId": "5c911e2a-6d9b-4240-d51f-8027a37c7883"
      },
      "source": [
        "from sklearn.metrics import brier_score_loss\n",
        "\n",
        "# predict probabilities\n",
        "predicted_prob = model.predict_proba(x_test.T)[:,1]\n",
        "\n",
        "# calculate bier score\n",
        "loss = brier_score_loss(y_test.T, predicted_prob)\n",
        "loss\n",
        "#predicted_prob.shape\n",
        "#for i in range(48330):\n",
        " #   print((predicted_prob[i]))\n",
        "    "
      ],
      "execution_count": 0,
      "outputs": [
        {
          "output_type": "execute_result",
          "data": {
            "text/plain": [
              "0.029391815235183246"
            ]
          },
          "metadata": {
            "tags": []
          },
          "execution_count": 36
        }
      ]
    },
    {
      "cell_type": "code",
      "metadata": {
        "id": "ipSAD1lYHJy7",
        "colab_type": "code",
        "colab": {},
        "outputId": "da8c597f-d725-485b-aa65-c048fa5da22e"
      },
      "source": [
        "#for i in range(48330):\n",
        " #   print((y_test[i]))\n",
        "y_test\n",
        "\n"
      ],
      "execution_count": 0,
      "outputs": [
        {
          "output_type": "execute_result",
          "data": {
            "text/plain": [
              "90288     0\n",
              "27452     1\n",
              "55008     1\n",
              "120683    1\n",
              "22502     0\n",
              "41812     1\n",
              "97918     0\n",
              "22377     0\n",
              "55142     0\n",
              "63185     1\n",
              "143429    1\n",
              "19488     1\n",
              "55768     1\n",
              "141378    0\n",
              "22738     0\n",
              "65810     0\n",
              "75989     0\n",
              "119409    1\n",
              "57021     0\n",
              "101720    1\n",
              "30466     0\n",
              "20322     1\n",
              "137901    0\n",
              "134329    1\n",
              "59188     0\n",
              "78121     0\n",
              "78535     0\n",
              "14320     0\n",
              "129163    1\n",
              "155801    0\n",
              "         ..\n",
              "34997     1\n",
              "72114     1\n",
              "143287    1\n",
              "32773     1\n",
              "42022     1\n",
              "71340     1\n",
              "155770    0\n",
              "80330     1\n",
              "52370     0\n",
              "36205     0\n",
              "75696     0\n",
              "25651     0\n",
              "87765     1\n",
              "133992    0\n",
              "113050    0\n",
              "127705    1\n",
              "129547    0\n",
              "118201    0\n",
              "97776     0\n",
              "2677      1\n",
              "9780      1\n",
              "54185     0\n",
              "160890    1\n",
              "7119      0\n",
              "65926     0\n",
              "37770     0\n",
              "83869     0\n",
              "74544     0\n",
              "155335    0\n",
              "159719    1\n",
              "Name: Snow, Length: 48330, dtype: int64"
            ]
          },
          "metadata": {
            "tags": []
          },
          "execution_count": 66
        }
      ]
    },
    {
      "cell_type": "code",
      "metadata": {
        "id": "hEhCoTq9HJy9",
        "colab_type": "code",
        "colab": {},
        "outputId": "adf114bf-0831-49be-8ede-04dc21f7893a"
      },
      "source": [
        "predicted_prob\n"
      ],
      "execution_count": 0,
      "outputs": [
        {
          "output_type": "execute_result",
          "data": {
            "text/plain": [
              "array([[9.86844124e-01, 1.31558758e-02],\n",
              "       [5.96011934e-04, 9.99403988e-01],\n",
              "       [4.57086237e-01, 5.42913763e-01],\n",
              "       ...,\n",
              "       [9.98260127e-01, 1.73987266e-03],\n",
              "       [9.99999086e-01, 9.14457593e-07],\n",
              "       [2.90274139e-01, 7.09725861e-01]])"
            ]
          },
          "metadata": {
            "tags": []
          },
          "execution_count": 52
        }
      ]
    },
    {
      "cell_type": "code",
      "metadata": {
        "scrolled": true,
        "id": "BpGUA23kHJy_",
        "colab_type": "code",
        "colab": {},
        "outputId": "0e3c3873-5313-4cef-f261-d3acd0454163"
      },
      "source": [
        "# plot impact of brier for single forecasts\n",
        "from sklearn.metrics import brier_score_loss\n",
        "from matplotlib import pyplot\n",
        "from numpy import array\n",
        "# predictions as 0 to 1 in 0.01 increments\n",
        "yhat=model.predict(x_test.T)\n",
        "# evaluate predictions for a 1 true value\n",
        "losses = [brier_score_loss(y_test.T, [y for x in range(len(y_test.T))]) for y in predicted_prob]\n",
        "#losses = [brier_score_loss(y_test.T,predicted_prob)]\n",
        "# plot input to loss\n",
        "pyplot.plot(predicted_prob, losses)\n",
        "pyplot.show()\n",
        "#losses"
      ],
      "execution_count": 0,
      "outputs": [
        {
          "output_type": "display_data",
          "data": {
            "image/png": "[encoded data removed]",
            "text/plain": [
              "<Figure size 432x288 with 1 Axes>"
            ]
          },
          "metadata": {
            "tags": [],
            "needs_background": "light"
          }
        }
      ]
    },
    {
      "cell_type": "code",
      "metadata": {
        "id": "xZ145KoMHJzB",
        "colab_type": "code",
        "colab": {}
      },
      "source": [
        "predicted_prob_train = model.predict_proba(x_train.T)[:,1]\n",
        "\n",
        "naive1=sum(predicted_prob)/predicted_prob.shape[0]\n",
        "naive1 \n",
        "yhat = [naive1 for _ in range(len(predicted_prob))]\n",
        "bs_ref= brier_score_loss(y_test.T, yhat)\n",
        "bs = brier_score_loss(y_test.T, predicted_prob)\n",
        "bs_skill=1-(bs/bs_ref)"
      ],
      "execution_count": 0,
      "outputs": []
    },
    {
      "cell_type": "code",
      "metadata": {
        "scrolled": true,
        "id": "f3MLAYHWHJzD",
        "colab_type": "code",
        "colab": {},
        "outputId": "66311162-adce-4d55-a082-adf8f22891d4"
      },
      "source": [
        "bs_skill"
      ],
      "execution_count": 0,
      "outputs": [
        {
          "output_type": "execute_result",
          "data": {
            "text/plain": [
              "0.8789919924466414"
            ]
          },
          "metadata": {
            "tags": []
          },
          "execution_count": 33
        }
      ]
    },
    {
      "cell_type": "code",
      "metadata": {
        "id": "oexw8_16HJzF",
        "colab_type": "code",
        "colab": {},
        "outputId": "42c0f9e5-d4b8-47ac-cd6d-a4a54de6a4d0"
      },
      "source": [
        "bs_ref"
      ],
      "execution_count": 0,
      "outputs": [
        {
          "output_type": "execute_result",
          "data": {
            "text/plain": [
              "0.24289148982211417"
            ]
          },
          "metadata": {
            "tags": []
          },
          "execution_count": 34
        }
      ]
    },
    {
      "cell_type": "code",
      "metadata": {
        "id": "Ip9Zu20fHJzG",
        "colab_type": "code",
        "colab": {},
        "outputId": "0db13ec8-88d7-442b-caae-eb809c28bf17"
      },
      "source": [
        "bs"
      ],
      "execution_count": 0,
      "outputs": [
        {
          "output_type": "execute_result",
          "data": {
            "text/plain": [
              "0.029391815235040912"
            ]
          },
          "metadata": {
            "tags": []
          },
          "execution_count": 35
        }
      ]
    },
    {
      "cell_type": "markdown",
      "metadata": {
        "id": "feKJx4bdHJzK",
        "colab_type": "text"
      },
      "source": [
        "Other logistic regression (SGDClassifier)"
      ]
    },
    {
      "cell_type": "code",
      "metadata": {
        "id": "F3rb1uhiHJzL",
        "colab_type": "code",
        "colab": {},
        "outputId": "aa1ddfcc-f2a1-4210-a6fd-250df966792d"
      },
      "source": [
        "from sklearn.linear_model import SGDClassifier\n",
        "#from sklearn.cross_validation import train_test_split\n",
        "from sklearn import metrics\n",
        "from sklearn.metrics import  mean_squared_error, r2_score\n",
        "model=SGDClassifier()\n",
        "#model = LogisticRegression()\n",
        "model.fit(x_train.T, y_train.T)"
      ],
      "execution_count": 0,
      "outputs": [
        {
          "output_type": "execute_result",
          "data": {
            "text/plain": [
              "SGDClassifier(alpha=0.0001, average=False, class_weight=None,\n",
              "              early_stopping=False, epsilon=0.1, eta0=0.0, fit_intercept=True,\n",
              "              l1_ratio=0.15, learning_rate='optimal', loss='hinge',\n",
              "              max_iter=1000, n_iter_no_change=5, n_jobs=None, penalty='l2',\n",
              "              power_t=0.5, random_state=None, shuffle=True, tol=0.001,\n",
              "              validation_fraction=0.1, verbose=0, warm_start=False)"
            ]
          },
          "metadata": {
            "tags": []
          },
          "execution_count": 38
        }
      ]
    },
    {
      "cell_type": "markdown",
      "metadata": {
        "id": "qp58vDiYHJzN",
        "colab_type": "text"
      },
      "source": [
        "Generating evaluation metrics"
      ]
    },
    {
      "cell_type": "code",
      "metadata": {
        "id": "PTCHdV-KHJzO",
        "colab_type": "code",
        "colab": {},
        "outputId": "2eac3b61-fb96-4d89-c3d4-173e44d39315"
      },
      "source": [
        "predicted = model.predict(x_test.T)\n",
        "\n",
        "print(metrics.accuracy_score(y_test, predicted))"
      ],
      "execution_count": 0,
      "outputs": [
        {
          "output_type": "stream",
          "text": [
            "0.9558038485412788\n"
          ],
          "name": "stdout"
        }
      ]
    },
    {
      "cell_type": "markdown",
      "metadata": {
        "id": "q6qYUgF4HJzS",
        "colab_type": "text"
      },
      "source": [
        "Another logistic regression (SGDClassifier and CalibratedClassifierCV)"
      ]
    },
    {
      "cell_type": "code",
      "metadata": {
        "id": "_mDJ9WxgHJzS",
        "colab_type": "code",
        "colab": {},
        "outputId": "cb5bd450-2b9f-41c6-a750-038054512746"
      },
      "source": [
        "from sklearn.calibration import CalibratedClassifierCV\n",
        "from sklearn.linear_model import SGDClassifier\n",
        "\n",
        "model = SGDClassifier(loss='hinge')\n",
        "calibrated_model = CalibratedClassifierCV(model, cv=5, method='sigmoid')\n",
        "calibrated_model.fit(x_train.T, y_train.T)"
      ],
      "execution_count": 0,
      "outputs": [
        {
          "output_type": "execute_result",
          "data": {
            "text/plain": [
              "CalibratedClassifierCV(base_estimator=SGDClassifier(alpha=0.0001, average=False,\n",
              "                                                    class_weight=None,\n",
              "                                                    early_stopping=False,\n",
              "                                                    epsilon=0.1, eta0=0.0,\n",
              "                                                    fit_intercept=True,\n",
              "                                                    l1_ratio=0.15,\n",
              "                                                    learning_rate='optimal',\n",
              "                                                    loss='hinge', max_iter=1000,\n",
              "                                                    n_iter_no_change=5,\n",
              "                                                    n_jobs=None, penalty='l2',\n",
              "                                                    power_t=0.5,\n",
              "                                                    random_state=None,\n",
              "                                                    shuffle=True, tol=0.001,\n",
              "                                                    validation_fraction=0.1,\n",
              "                                                    verbose=0,\n",
              "                                                    warm_start=False),\n",
              "                       cv=5, method='sigmoid')"
            ]
          },
          "metadata": {
            "tags": []
          },
          "execution_count": 40
        }
      ]
    },
    {
      "cell_type": "code",
      "metadata": {
        "id": "ewTBW5ZnHJzV",
        "colab_type": "code",
        "colab": {}
      },
      "source": [
        ""
      ],
      "execution_count": 0,
      "outputs": []
    }
  ]
}