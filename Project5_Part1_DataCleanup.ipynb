{
  "nbformat": 4,
  "nbformat_minor": 0,
  "metadata": {
    "colab": {
      "name": "Project5_Part1_DataCleanup.ipynb",
      "provenance": [],
      "collapsed_sections": [],
      "mount_file_id": "1DdFYlYnzhjSiGHfnXeOcaHid44BAILuN",
      "authorship_tag": "ABX9TyPgWDgUFZSalhg7lxjpuBVr",
      "include_colab_link": true
    },
    "kernelspec": {
      "name": "python3",
      "display_name": "Python 3"
    }
  },
  "cells": [
    {
      "cell_type": "markdown",
      "metadata": {
        "id": "view-in-github",
        "colab_type": "text"
      },
      "source": [
        "<a href=\"https://colab.research.google.com/github/joyceee916/ATMS-597-SP-2020-Project-5/blob/master/Project5_Part1_DataCleanup.ipynb\" target=\"_parent\"><img src=\"https://colab.research.google.com/assets/colab-badge.svg\" alt=\"Open In Colab\"/></a>"
      ]
    },
    {
      "cell_type": "markdown",
      "metadata": {
        "id": "lDZXaxNU6oqV",
        "colab_type": "text"
      },
      "source": [
        "Project 5 - Classification (version 1.0)\n",
        "Tasks: Use supervised classification techniques to predict frozen vs. liquid precipitation type (i.e., when it is not raining, so rain and freezing rain vs. other categories such as snow, sleet, etc.) at the surface in ASOS weather observations.\n",
        "\n",
        "Model 1: Logistic Regression classification with default values (baseline)\n",
        "\n",
        ">>> from sklearn.linear_model import LogisticRegression\n",
        "...\n",
        ">>> clf = LogisticRegression(random_state=0).fit(X, y)\n",
        "Model 2: Your pick!\n",
        "\n",
        "Data: You will use 5-minute Automated Surface Observation System data available from NCDC (ftp://ftp.ncdc.noaa.gov/pub/data/asos-fivemin/). Data from 2000-2020 is available. Use a 70-30 random split to perform training and validation.\n",
        "\n",
        "You can use Temperature, Dewpoint, Wind Direction, Wind Speed, and other derived variables from those data, or synthetic variables such as solar zenith angle, time of day, etc.\n",
        "\n",
        "Each group will have a separate Midwest US city to examine:\n",
        "\n",
        "Group D: KGRB (WI)\n",
        "\n",
        "The group with the improvement of values of Briar Skill Score for their Model 2 over the baseline SVM model will be given a prize.\n",
        "\n",
        "Course presentations will be Thursday, April 23. A colab notebook or jupyter notebook can be submitted for the assignment.\n"
      ]
    },
    {
      "cell_type": "code",
      "metadata": {
        "id": "lIaFdWlqO-uf",
        "colab_type": "code",
        "outputId": "bfeea271-c20d-45ff-8de7-487c2bdb40db",
        "colab": {
          "base_uri": "https://localhost:8080/",
          "height": 34
        }
      },
      "source": [
        "pwd"
      ],
      "execution_count": 0,
      "outputs": [
        {
          "output_type": "execute_result",
          "data": {
            "text/plain": [
              "'/content/drive/My Drive/ATMS 597/Project5'"
            ]
          },
          "metadata": {
            "tags": []
          },
          "execution_count": 2
        }
      ]
    },
    {
      "cell_type": "code",
      "metadata": {
        "id": "uK13Y4MFqnGi",
        "colab_type": "code",
        "outputId": "2cb91511-f9f4-484d-b08a-84e489f0bb5d",
        "colab": {
          "base_uri": "https://localhost:8080/",
          "height": 34
        }
      },
      "source": [
        "cd /content/drive/My Drive/ATMS 597/Project5"
      ],
      "execution_count": 0,
      "outputs": [
        {
          "output_type": "stream",
          "text": [
            "/content/drive/My Drive/ATMS 597/Project5\n"
          ],
          "name": "stdout"
        }
      ]
    },
    {
      "cell_type": "code",
      "metadata": {
        "id": "L4ZLC3D4UkSI",
        "colab_type": "code",
        "outputId": "0caf876b-3a24-40a7-cd66-e369a3a8a611",
        "colab": {
          "base_uri": "https://localhost:8080/",
          "height": 791
        }
      },
      "source": [
        "!pip install metpy\n",
        "!pip install metar"
      ],
      "execution_count": 0,
      "outputs": [
        {
          "output_type": "stream",
          "text": [
            "Collecting metpy\n",
            "\u001b[?25l  Downloading https://files.pythonhosted.org/packages/47/4d/e33b76fdca421daeca8ac06fc012de40553364e7e79468040ea42f66a989/MetPy-0.12.1-py3-none-any.whl (319kB)\n",
            "\r\u001b[K     |█                               | 10kB 16.3MB/s eta 0:00:01\r\u001b[K     |██                              | 20kB 1.7MB/s eta 0:00:01\r\u001b[K     |███                             | 30kB 2.3MB/s eta 0:00:01\r\u001b[K     |████                            | 40kB 2.5MB/s eta 0:00:01\r\u001b[K     |█████▏                          | 51kB 2.0MB/s eta 0:00:01\r\u001b[K     |██████▏                         | 61kB 2.3MB/s eta 0:00:01\r\u001b[K     |███████▏                        | 71kB 2.5MB/s eta 0:00:01\r\u001b[K     |████████▏                       | 81kB 2.7MB/s eta 0:00:01\r\u001b[K     |█████████▎                      | 92kB 2.9MB/s eta 0:00:01\r\u001b[K     |██████████▎                     | 102kB 2.8MB/s eta 0:00:01\r\u001b[K     |███████████▎                    | 112kB 2.8MB/s eta 0:00:01\r\u001b[K     |████████████▎                   | 122kB 2.8MB/s eta 0:00:01\r\u001b[K     |█████████████▎                  | 133kB 2.8MB/s eta 0:00:01\r\u001b[K     |██████████████▍                 | 143kB 2.8MB/s eta 0:00:01\r\u001b[K     |███████████████▍                | 153kB 2.8MB/s eta 0:00:01\r\u001b[K     |████████████████▍               | 163kB 2.8MB/s eta 0:00:01\r\u001b[K     |█████████████████▍              | 174kB 2.8MB/s eta 0:00:01\r\u001b[K     |██████████████████▌             | 184kB 2.8MB/s eta 0:00:01\r\u001b[K     |███████████████████▌            | 194kB 2.8MB/s eta 0:00:01\r\u001b[K     |████████████████████▌           | 204kB 2.8MB/s eta 0:00:01\r\u001b[K     |█████████████████████▌          | 215kB 2.8MB/s eta 0:00:01\r\u001b[K     |██████████████████████▋         | 225kB 2.8MB/s eta 0:00:01\r\u001b[K     |███████████████████████▋        | 235kB 2.8MB/s eta 0:00:01\r\u001b[K     |████████████████████████▋       | 245kB 2.8MB/s eta 0:00:01\r\u001b[K     |█████████████████████████▋      | 256kB 2.8MB/s eta 0:00:01\r\u001b[K     |██████████████████████████▋     | 266kB 2.8MB/s eta 0:00:01\r\u001b[K     |███████████████████████████▊    | 276kB 2.8MB/s eta 0:00:01\r\u001b[K     |████████████████████████████▊   | 286kB 2.8MB/s eta 0:00:01\r\u001b[K     |█████████████████████████████▊  | 296kB 2.8MB/s eta 0:00:01\r\u001b[K     |██████████████████████████████▊ | 307kB 2.8MB/s eta 0:00:01\r\u001b[K     |███████████████████████████████▉| 317kB 2.8MB/s eta 0:00:01\r\u001b[K     |████████████████████████████████| 327kB 2.8MB/s \n",
            "\u001b[?25hRequirement already satisfied: traitlets>=4.3.0 in /usr/local/lib/python3.6/dist-packages (from metpy) (4.3.3)\n",
            "Requirement already satisfied: matplotlib>=2.1.0 in /usr/local/lib/python3.6/dist-packages (from metpy) (3.2.1)\n",
            "Collecting pooch>=0.1\n",
            "\u001b[?25l  Downloading https://files.pythonhosted.org/packages/66/ad/df0a1023b40c122d6e7c01ea1ebb69b04c6c5f97871df1dc863cb77c78e4/pooch-1.1.0-py3-none-any.whl (44kB)\n",
            "\u001b[K     |████████████████████████████████| 51kB 5.2MB/s \n",
            "\u001b[?25hRequirement already satisfied: scipy>=1.0 in /usr/local/lib/python3.6/dist-packages (from metpy) (1.4.1)\n",
            "Requirement already satisfied: xarray>=0.13.0 in /usr/local/lib/python3.6/dist-packages (from metpy) (0.15.1)\n",
            "Requirement already satisfied: pandas>=0.22.0 in /usr/local/lib/python3.6/dist-packages (from metpy) (1.0.3)\n",
            "Requirement already satisfied: numpy>=1.16.0 in /usr/local/lib/python3.6/dist-packages (from metpy) (1.18.2)\n",
            "Collecting pint>=0.10.1\n",
            "\u001b[?25l  Downloading https://files.pythonhosted.org/packages/9d/db/7a2204b03c22069839958df5723eb2718d50c33052e0da84c9a83de14ea4/Pint-0.11-py2.py3-none-any.whl (186kB)\n",
            "\u001b[K     |████████████████████████████████| 194kB 8.8MB/s \n",
            "\u001b[?25hRequirement already satisfied: six in /usr/local/lib/python3.6/dist-packages (from traitlets>=4.3.0->metpy) (1.12.0)\n",
            "Requirement already satisfied: ipython-genutils in /usr/local/lib/python3.6/dist-packages (from traitlets>=4.3.0->metpy) (0.2.0)\n",
            "Requirement already satisfied: decorator in /usr/local/lib/python3.6/dist-packages (from traitlets>=4.3.0->metpy) (4.4.2)\n",
            "Requirement already satisfied: pyparsing!=2.0.4,!=2.1.2,!=2.1.6,>=2.0.1 in /usr/local/lib/python3.6/dist-packages (from matplotlib>=2.1.0->metpy) (2.4.7)\n",
            "Requirement already satisfied: cycler>=0.10 in /usr/local/lib/python3.6/dist-packages (from matplotlib>=2.1.0->metpy) (0.10.0)\n",
            "Requirement already satisfied: python-dateutil>=2.1 in /usr/local/lib/python3.6/dist-packages (from matplotlib>=2.1.0->metpy) (2.8.1)\n",
            "Requirement already satisfied: kiwisolver>=1.0.1 in /usr/local/lib/python3.6/dist-packages (from matplotlib>=2.1.0->metpy) (1.2.0)\n",
            "Requirement already satisfied: requests in /usr/local/lib/python3.6/dist-packages (from pooch>=0.1->metpy) (2.21.0)\n",
            "Requirement already satisfied: packaging in /usr/local/lib/python3.6/dist-packages (from pooch>=0.1->metpy) (20.3)\n",
            "Collecting appdirs\n",
            "  Downloading https://files.pythonhosted.org/packages/56/eb/810e700ed1349edde4cbdc1b2a21e28cdf115f9faf263f6bbf8447c1abf3/appdirs-1.4.3-py2.py3-none-any.whl\n",
            "Requirement already satisfied: setuptools>=41.2 in /usr/local/lib/python3.6/dist-packages (from xarray>=0.13.0->metpy) (46.1.3)\n",
            "Requirement already satisfied: pytz>=2017.2 in /usr/local/lib/python3.6/dist-packages (from pandas>=0.22.0->metpy) (2018.9)\n",
            "Requirement already satisfied: urllib3<1.25,>=1.21.1 in /usr/local/lib/python3.6/dist-packages (from requests->pooch>=0.1->metpy) (1.24.3)\n",
            "Requirement already satisfied: idna<2.9,>=2.5 in /usr/local/lib/python3.6/dist-packages (from requests->pooch>=0.1->metpy) (2.8)\n",
            "Requirement already satisfied: certifi>=2017.4.17 in /usr/local/lib/python3.6/dist-packages (from requests->pooch>=0.1->metpy) (2020.4.5.1)\n",
            "Requirement already satisfied: chardet<3.1.0,>=3.0.2 in /usr/local/lib/python3.6/dist-packages (from requests->pooch>=0.1->metpy) (3.0.4)\n",
            "Installing collected packages: appdirs, pooch, pint, metpy\n",
            "Successfully installed appdirs-1.4.3 metpy-0.12.1 pint-0.11 pooch-1.1.0\n",
            "Collecting metar\n",
            "\u001b[?25l  Downloading https://files.pythonhosted.org/packages/70/48/c0b746fcccde312d990b43be79726791f0d7b10a099693c520d2d29a85f8/metar-1.7.0.tar.gz (210kB)\n",
            "\u001b[K     |████████████████████████████████| 215kB 2.7MB/s \n",
            "\u001b[?25hBuilding wheels for collected packages: metar\n",
            "  Building wheel for metar (setup.py) ... \u001b[?25l\u001b[?25hdone\n",
            "  Created wheel for metar: filename=metar-1.7.0-cp36-none-any.whl size=198905 sha256=0ba4919f0c0eb3a37627e16fcfe510129c52ff4e8b72d04e408bd5a5a3deea4f\n",
            "  Stored in directory: /root/.cache/pip/wheels/8e/7b/5c/abc5749d1a4d2241b9dc824f6723f699f6eb2c8e6deeb1c294\n",
            "Successfully built metar\n",
            "Installing collected packages: metar\n",
            "Successfully installed metar-1.7.0\n"
          ],
          "name": "stdout"
        }
      ]
    },
    {
      "cell_type": "code",
      "metadata": {
        "id": "8iQbQ3mAPlvL",
        "colab_type": "code",
        "outputId": "028edb4b-dda0-4b17-8557-c328780b11e9",
        "colab": {
          "base_uri": "https://localhost:8080/",
          "height": 105
        }
      },
      "source": [
        "from ftplib import FTP \n",
        "import pandas as pd\n",
        "import metpy\n",
        "import metpy.io"
      ],
      "execution_count": 0,
      "outputs": [
        {
          "output_type": "stream",
          "text": [
            "Downloading file 'sfstns.tbl' from 'https://github.com/Unidata/MetPy/raw/v0.12.1/staticdata/sfstns.tbl' to '/root/.cache/metpy/v0.12.1'.\n",
            "Downloading file 'master.txt' from 'https://github.com/Unidata/MetPy/raw/v0.12.1/staticdata/master.txt' to '/root/.cache/metpy/v0.12.1'.\n",
            "Downloading file 'stations.txt' from 'https://github.com/Unidata/MetPy/raw/v0.12.1/staticdata/stations.txt' to '/root/.cache/metpy/v0.12.1'.\n",
            "Downloading file 'airport-codes.csv' from 'https://github.com/Unidata/MetPy/raw/v0.12.1/staticdata/airport-codes.csv' to '/root/.cache/metpy/v0.12.1'.\n",
            "Cannot import USCOUNTIES and USSTATES without Cartopy installed.\n"
          ],
          "name": "stderr"
        }
      ]
    },
    {
      "cell_type": "markdown",
      "metadata": {
        "id": "B9SL4Ej_B__C",
        "colab_type": "text"
      },
      "source": [
        "Downloading the Data"
      ]
    },
    {
      "cell_type": "code",
      "metadata": {
        "id": "MYNfz-foyMRJ",
        "colab_type": "code",
        "outputId": "d3fecad0-5c33-4f9a-bbbe-1032963baebd",
        "colab": {
          "base_uri": "https://localhost:8080/",
          "height": 54
        }
      },
      "source": [
        "ftp = FTP('ftp.ncdc.noaa.gov')\n",
        "ftp.login(user='ftp', passwd='joycey2@illinois.gov') # substitute with your own email"
      ],
      "execution_count": 0,
      "outputs": [
        {
          "output_type": "execute_result",
          "data": {
            "text/plain": [
              "'230-****** WARNING ** WARNING ** WARNING ** WARNING ** WARNING ******\\n ** This is a United States Department of Commerce computer     **\\n ** system, which may be accessed and used only for             **\\n ** official Government business by authorized personnel.       **\\n ** Unauthorized access or use of this computer system may      **\\n ** subject violators to criminal, civil, and/or administrative **\\n ** action.  All information on this computer system may be     **\\n ** intercepted, recorded, read, copied, and disclosed by and   **\\n ** to authorized personnel for official purposes, including    **\\n ** criminal investigations.  Access or use of this computer    **\\n ** system by any person, whether authorized or unauthorized,   **\\n ** constitutes consent to these terms.                         **\\n ****** WARNING ** WARNING ** WARNING ** WARNING ** WARNING ******\\n230 Anonymous access granted, restrictions apply'"
            ]
          },
          "metadata": {
            "tags": []
          },
          "execution_count": 6
        }
      ]
    },
    {
      "cell_type": "code",
      "metadata": {
        "id": "0nK2wT3ezfGw",
        "colab_type": "code",
        "colab": {}
      },
      "source": [
        "# File Name Generator \n",
        "def folderNames(year):\n",
        "    folder_prefix = '/pub/data/asos-fivemin/6401-'\n",
        "    folder = folder_prefix + str(year) + '/'\n",
        "\n",
        "    file_prefix = '64010KGRB'\n",
        "    file_suffix = '.dat'\n",
        "    file_month = ['01', '02', '03', '04', '05', '06', '07', '08', '09', '10', '11', '12']\n",
        "    files = [file_prefix+str(year)+month+file_suffix for month in file_month]\n",
        "\n",
        "    return folder, files"
      ],
      "execution_count": 0,
      "outputs": []
    },
    {
      "cell_type": "code",
      "metadata": {
        "id": "aK0Z9F-nzE3i",
        "colab_type": "code",
        "colab": {}
      },
      "source": [
        "def grabFile():\n",
        "    #ftp.cwd('/pub/data/asos-fivemin/6401-2000/')\n",
        "\n",
        "    #filename = '64010KGRB200001.dat'\n",
        "    for year in range(2000, 2021):\n",
        "        folder, files = folderNames(year)\n",
        "        print(folder)\n",
        "        try:\n",
        "            ftp = FTP('ftp.ncdc.noaa.gov')\n",
        "            ftp.login(user='ftp', passwd='joycey2@illinois.gov')\n",
        "            ftp.cwd(folder)\n",
        "        except: \n",
        "            print('couldnt log in or change to correct directory')\n",
        "        for file in files:\n",
        "            try: \n",
        "                localfile = open(file, 'wb')\n",
        "                ftp.retrbinary('RETR ' + file, localfile.write, 1024)\n",
        "                localfile.close()\n",
        "            except: \n",
        "                return"
      ],
      "execution_count": 0,
      "outputs": []
    },
    {
      "cell_type": "code",
      "metadata": {
        "id": "ofXscJON0YfU",
        "colab_type": "code",
        "outputId": "0db7fec4-fe5b-4114-ebbd-3d73b8bf34a7",
        "colab": {
          "base_uri": "https://localhost:8080/",
          "height": 375
        }
      },
      "source": [
        "#grabFile() \n",
        "# importing the data"
      ],
      "execution_count": 0,
      "outputs": [
        {
          "output_type": "stream",
          "text": [
            "/pub/data/asos-fivemin/6401-2000/\n",
            "/pub/data/asos-fivemin/6401-2001/\n",
            "/pub/data/asos-fivemin/6401-2002/\n",
            "/pub/data/asos-fivemin/6401-2003/\n",
            "/pub/data/asos-fivemin/6401-2004/\n",
            "/pub/data/asos-fivemin/6401-2005/\n",
            "/pub/data/asos-fivemin/6401-2006/\n",
            "/pub/data/asos-fivemin/6401-2007/\n",
            "/pub/data/asos-fivemin/6401-2008/\n",
            "/pub/data/asos-fivemin/6401-2009/\n",
            "/pub/data/asos-fivemin/6401-2010/\n",
            "/pub/data/asos-fivemin/6401-2011/\n",
            "/pub/data/asos-fivemin/6401-2012/\n",
            "/pub/data/asos-fivemin/6401-2013/\n",
            "/pub/data/asos-fivemin/6401-2014/\n",
            "/pub/data/asos-fivemin/6401-2015/\n",
            "/pub/data/asos-fivemin/6401-2016/\n",
            "/pub/data/asos-fivemin/6401-2017/\n",
            "/pub/data/asos-fivemin/6401-2018/\n",
            "/pub/data/asos-fivemin/6401-2019/\n",
            "/pub/data/asos-fivemin/6401-2020/\n"
          ],
          "name": "stdout"
        }
      ]
    },
    {
      "cell_type": "markdown",
      "metadata": {
        "id": "-RvqPyhkCCfH",
        "colab_type": "text"
      },
      "source": [
        "Parsing the Data"
      ]
    },
    {
      "cell_type": "code",
      "metadata": {
        "id": "4It37gsoag-b",
        "colab_type": "code",
        "colab": {}
      },
      "source": [
        "# Courtesy of Max Grover \n",
        "from datetime import datetime\n",
        "import pandas as pd\n",
        "from metpy.io import parse_metar_to_dataframe\n",
        "import glob\n",
        "\n",
        "\n",
        "def parse_metar_file(file, wx_subset=True):\n",
        "    \"\"\"\n",
        "    Parses METAR file from NCDC\n",
        "    Input:\n",
        "    --------\n",
        "    file = Text file downloaded from NCDC\n",
        "    wx_subset = Flag to determine whether or not to drop non-current weather obs (if True, only returns obs with observed weather)\n",
        "    Output:\n",
        "    --------\n",
        "    df = Pandas dataframe filtered for times where current weather is not 'nan'\n",
        "    \"\"\"\n",
        "\n",
        "    # Read in the file using Pandas\n",
        "    df = pd.read_csv(file, header=None)\n",
        "\n",
        "    # Pull the timestamp from the filename\n",
        "    timestamp = datetime.strptime(file[-10:], '%Y%m.dat')\n",
        "\n",
        "    # Iterrate over rows to parse METARS\n",
        "    df_list = []\n",
        "    for index, row in df.iterrows():\n",
        "        try:\n",
        "            df_list.append(parse_metar_to_dataframe(row.values[0][52:], year=timestamp.year, month=timestamp.month))\n",
        "        except:\n",
        "            print('Error with METAR: ', row.values[0][52:])\n",
        "    #\n",
        "    merged_df = pd.concat(df_list)\n",
        "\n",
        "    # Drop datasets that do not include current weather\n",
        "    merged_df = merged_df.dropna(subset=['current_wx1'])\n",
        "\n",
        "    # Change the index to datetime\n",
        "    merged_df.index = merged_df.date_time\n",
        "\n",
        "    # Return the merged dataset sorted by datetime\n",
        "    return merged_df.sort_index()"
      ],
      "execution_count": 0,
      "outputs": []
    },
    {
      "cell_type": "code",
      "metadata": {
        "id": "1kwMHjVM4Rw3",
        "colab_type": "code",
        "colab": {}
      },
      "source": [
        "# Function that takes in the name of a metar file, parses it into a dataframe, and retains only the rows with precipitation \n",
        "def PrecipRows(metar_file):\n",
        "    df = parse_metar_file(metar_file)\n",
        "    df_precip = df[df.current_wx1.str.contains(\"SN|RA\")]\n",
        "    return df_precip"
      ],
      "execution_count": 0,
      "outputs": []
    },
    {
      "cell_type": "markdown",
      "metadata": {
        "id": "7wzxEVd5kXng",
        "colab_type": "text"
      },
      "source": [
        "2000"
      ]
    },
    {
      "cell_type": "code",
      "metadata": {
        "id": "XW1TY9IdEwkn",
        "colab_type": "code",
        "outputId": "d403fb9d-9e37-4a85-a870-0e342122a9a6",
        "colab": {
          "base_uri": "https://localhost:8080/",
          "height": 54
        }
      },
      "source": [
        "all_files2000 = [] \n",
        "for year in range(2000, 2001):\n",
        "    folder, files = folderNames(year)\n",
        "    all_files2000.append(files) # creates a list of lists \n",
        "\n",
        "for x in all_files2000:\n",
        "    del x[0]\n",
        "print(all_files2000)"
      ],
      "execution_count": 0,
      "outputs": [
        {
          "output_type": "stream",
          "text": [
            "[['64010KGRB200002.dat', '64010KGRB200003.dat', '64010KGRB200004.dat', '64010KGRB200005.dat', '64010KGRB200006.dat', '64010KGRB200007.dat', '64010KGRB200008.dat', '64010KGRB200009.dat', '64010KGRB200010.dat', '64010KGRB200011.dat', '64010KGRB200012.dat']]\n"
          ],
          "name": "stdout"
        }
      ]
    },
    {
      "cell_type": "code",
      "metadata": {
        "id": "Fgkf2BRfdENc",
        "colab_type": "code",
        "outputId": "643ad58a-4dac-4291-b72f-9ccd5cafa601",
        "colab": {
          "base_uri": "https://localhost:8080/",
          "height": 228
        }
      },
      "source": [
        "df2000 = PrecipRows('64010KGRB200001.dat')\n",
        "for list in all_files2000:\n",
        "    for file in list: \n",
        "        try:\n",
        "            df_precip = PrecipRows(file)\n",
        "            df2000 = df2000.append(df_precip, ignore_index=True, sort=False)\n",
        "        except: \n",
        "            print(\"done\")\n",
        "\n",
        "print(df2000.head())\n",
        "print(df2000.current_wx1.unique())\n",
        "print(len(df2000))"
      ],
      "execution_count": 0,
      "outputs": [
        {
          "output_type": "stream",
          "text": [
            "/usr/local/lib/python3.6/dist-packages/metpy/calc/basic.py:1011: RuntimeWarning: All-NaN slice encountered\n",
            "  if np.greater(np.nanmax(np.abs(value)), max_radians):\n"
          ],
          "name": "stderr"
        },
        {
          "output_type": "stream",
          "text": [
            "  station_id  latitude  ...  eastward_wind  northward_wind\n",
            "0       KGRB     44.48  ...       7.517541        2.736161\n",
            "1       KGRB     44.48  ...       7.878462        1.389185\n",
            "2       KGRB     44.48  ...       8.863270        1.562834\n",
            "3       KGRB     44.48  ...       6.577848        2.394141\n",
            "4       KGRB     44.48  ...       7.517541        2.736161\n",
            "\n",
            "[5 rows x 28 columns]\n",
            "['-SN' '-RA' 'RA' 'SN' '-FZRA' '-TSRA' '+RA' '+TSRA' '+SN' 'TSRA']\n",
            "9746\n"
          ],
          "name": "stdout"
        }
      ]
    },
    {
      "cell_type": "code",
      "metadata": {
        "id": "tlJ2TYvyjBlx",
        "colab_type": "code",
        "colab": {}
      },
      "source": [
        "df2000.to_csv('df2000.csv', index=False)"
      ],
      "execution_count": 0,
      "outputs": []
    },
    {
      "cell_type": "markdown",
      "metadata": {
        "id": "YePgTQTHkZhw",
        "colab_type": "text"
      },
      "source": [
        "2001"
      ]
    },
    {
      "cell_type": "code",
      "metadata": {
        "id": "jnC8nw_lkb1B",
        "colab_type": "code",
        "outputId": "795821ee-1585-40c7-fe48-bf4f8aa5861c",
        "colab": {
          "base_uri": "https://localhost:8080/",
          "height": 54
        }
      },
      "source": [
        "all_files2001 = [] \n",
        "for year in range(2001, 2002):\n",
        "    folder, files = folderNames(year)\n",
        "    all_files2001.append(files) # creates a list of lists \n",
        "\n",
        "for x in all_files2001:\n",
        "    del x[0]\n",
        "print(all_files2001)"
      ],
      "execution_count": 0,
      "outputs": [
        {
          "output_type": "stream",
          "text": [
            "[['64010KGRB200102.dat', '64010KGRB200103.dat', '64010KGRB200104.dat', '64010KGRB200105.dat', '64010KGRB200106.dat', '64010KGRB200107.dat', '64010KGRB200108.dat', '64010KGRB200109.dat', '64010KGRB200110.dat', '64010KGRB200111.dat', '64010KGRB200112.dat']]\n"
          ],
          "name": "stdout"
        }
      ]
    },
    {
      "cell_type": "code",
      "metadata": {
        "id": "ja_OfA9skNgK",
        "colab_type": "code",
        "outputId": "6c51b717-4306-47d5-f766-9c0d4d64a7aa",
        "colab": {
          "base_uri": "https://localhost:8080/",
          "height": 228
        }
      },
      "source": [
        "df2001 = PrecipRows('64010KGRB200101.dat')\n",
        "for list in all_files2001:\n",
        "    for file in list: \n",
        "        try:\n",
        "            df_precip = PrecipRows(file)\n",
        "            df2001 = df2001.append(df_precip, ignore_index=True, sort=False)\n",
        "        except: \n",
        "            print(\"done\")\n",
        "\n",
        "print(df2001.head())\n",
        "print(df2001.current_wx1.unique())\n",
        "print(len(df2001))"
      ],
      "execution_count": 0,
      "outputs": [
        {
          "output_type": "stream",
          "text": [
            "/usr/local/lib/python3.6/dist-packages/metpy/calc/basic.py:1011: RuntimeWarning: All-NaN slice encountered\n",
            "  if np.greater(np.nanmax(np.abs(value)), max_radians):\n"
          ],
          "name": "stderr"
        },
        {
          "output_type": "stream",
          "text": [
            "  station_id  latitude  ...  eastward_wind  northward_wind\n",
            "0       KGRB     44.48  ...            5.5        9.526279\n",
            "1       KGRB     44.48  ...            5.0        8.660254\n",
            "2       KGRB     44.48  ...            5.0        8.660254\n",
            "3       KGRB     44.48  ...            4.5        7.794229\n",
            "4       KGRB     44.48  ...            5.5        9.526279\n",
            "\n",
            "[5 rows x 28 columns]\n",
            "['-SN' '-FZRA' '-RA' 'SN' '+SN' 'RA' '+RA' 'FZRA' '-TSRA' 'TSRA' '+TSRA']\n",
            "7966\n"
          ],
          "name": "stdout"
        }
      ]
    },
    {
      "cell_type": "code",
      "metadata": {
        "id": "NpyUSobCBTBX",
        "colab_type": "code",
        "colab": {}
      },
      "source": [
        "df2001.to_csv('df2001.csv', index=False)"
      ],
      "execution_count": 0,
      "outputs": []
    },
    {
      "cell_type": "markdown",
      "metadata": {
        "id": "sB2MaiapYtuM",
        "colab_type": "text"
      },
      "source": [
        "2002"
      ]
    },
    {
      "cell_type": "code",
      "metadata": {
        "id": "yxipS3tZYtCv",
        "colab_type": "code",
        "outputId": "ca78601b-9a83-4e31-ae65-4625deb86f54",
        "colab": {
          "base_uri": "https://localhost:8080/",
          "height": 54
        }
      },
      "source": [
        "all_files2002 = [] \n",
        "for year in range(2002, 2003):\n",
        "    folder, files = folderNames(year)\n",
        "    all_files2002.append(files) # creates a list of lists \n",
        "\n",
        "for x in all_files2002:\n",
        "    del x[0]\n",
        "print(all_files2002)"
      ],
      "execution_count": 0,
      "outputs": [
        {
          "output_type": "stream",
          "text": [
            "[['64010KGRB200202.dat', '64010KGRB200203.dat', '64010KGRB200204.dat', '64010KGRB200205.dat', '64010KGRB200206.dat', '64010KGRB200207.dat', '64010KGRB200208.dat', '64010KGRB200209.dat', '64010KGRB200210.dat', '64010KGRB200211.dat', '64010KGRB200212.dat']]\n"
          ],
          "name": "stdout"
        }
      ]
    },
    {
      "cell_type": "code",
      "metadata": {
        "id": "tdTBaQYOY5Qz",
        "colab_type": "code",
        "outputId": "214bfe24-0c78-465e-9f25-52bc5909120b",
        "colab": {
          "base_uri": "https://localhost:8080/",
          "height": 228
        }
      },
      "source": [
        "df2002 = PrecipRows('64010KGRB200201.dat')\n",
        "for list in all_files2002:\n",
        "    for file in list: \n",
        "        try:\n",
        "            df_precip = PrecipRows(file)\n",
        "            df2002 = df2002.append(df_precip, ignore_index=True, sort=False)\n",
        "        except: \n",
        "            print(\"done\")\n",
        "\n",
        "print(df2002.head())\n",
        "print(df2002.current_wx1.unique())\n",
        "print(len(df2002))"
      ],
      "execution_count": 0,
      "outputs": [
        {
          "output_type": "stream",
          "text": [
            "/usr/local/lib/python3.6/dist-packages/metpy/calc/basic.py:1011: RuntimeWarning: All-NaN slice encountered\n",
            "  if np.greater(np.nanmax(np.abs(value)), max_radians):\n"
          ],
          "name": "stderr"
        },
        {
          "output_type": "stream",
          "text": [
            "  station_id  latitude  ...  eastward_wind  northward_wind\n",
            "0       KGRB     44.48  ...     -12.212965      -14.554844\n",
            "1       KGRB     44.48  ...     -12.212965      -14.554844\n",
            "2       KGRB     44.48  ...     -12.855752      -15.320889\n",
            "3       KGRB     44.48  ...     -14.141327      -16.852978\n",
            "4       KGRB     44.48  ...     -13.498540      -16.086933\n",
            "\n",
            "[5 rows x 28 columns]\n",
            "['-SN' 'SN' '-RA' '-FZRA' 'RA' '+RA' '+SN' 'FZRA' 'TSRA' '+TSRA' '-TSRA']\n",
            "8158\n"
          ],
          "name": "stdout"
        }
      ]
    },
    {
      "cell_type": "code",
      "metadata": {
        "id": "ynEun-vVZCNs",
        "colab_type": "code",
        "colab": {}
      },
      "source": [
        "df2002.to_csv('df2002.csv', index=False)"
      ],
      "execution_count": 0,
      "outputs": []
    },
    {
      "cell_type": "markdown",
      "metadata": {
        "id": "sQ_S52dqkaeK",
        "colab_type": "text"
      },
      "source": [
        "2003"
      ]
    },
    {
      "cell_type": "code",
      "metadata": {
        "id": "LC6qEC-AZMwk",
        "colab_type": "code",
        "outputId": "a0681bc6-4b45-4dc1-ed13-1471a2833d04",
        "colab": {
          "base_uri": "https://localhost:8080/",
          "height": 54
        }
      },
      "source": [
        "all_files2003 = [] \n",
        "for year in range(2003, 2004):\n",
        "    folder, files = folderNames(year)\n",
        "    all_files2003.append(files) # creates a list of lists \n",
        "\n",
        "for x in all_files2003:\n",
        "    del x[0]\n",
        "print(all_files2003)"
      ],
      "execution_count": 0,
      "outputs": [
        {
          "output_type": "stream",
          "text": [
            "[['64010KGRB200302.dat', '64010KGRB200303.dat', '64010KGRB200304.dat', '64010KGRB200305.dat', '64010KGRB200306.dat', '64010KGRB200307.dat', '64010KGRB200308.dat', '64010KGRB200309.dat', '64010KGRB200310.dat', '64010KGRB200311.dat', '64010KGRB200312.dat']]\n"
          ],
          "name": "stdout"
        }
      ]
    },
    {
      "cell_type": "code",
      "metadata": {
        "id": "2_vgXrIIfcP3",
        "colab_type": "code",
        "outputId": "5591669e-63a7-456a-aa49-2a3dbd94f162",
        "colab": {
          "base_uri": "https://localhost:8080/",
          "height": 228
        }
      },
      "source": [
        "df2003 = PrecipRows('64010KGRB200301.dat')\n",
        "for list in all_files2003:\n",
        "    for file in list: \n",
        "        try:\n",
        "            df_precip = PrecipRows(file)\n",
        "            df2003 = df2003.append(df_precip, ignore_index=True, sort=False)\n",
        "        except: \n",
        "            print(\"done\")\n",
        "\n",
        "print(df2003.head())\n",
        "print(df2003.current_wx1.unique())\n",
        "print(len(df2003))"
      ],
      "execution_count": 0,
      "outputs": [
        {
          "output_type": "stream",
          "text": [
            "/usr/local/lib/python3.6/dist-packages/metpy/calc/basic.py:1011: RuntimeWarning: All-NaN slice encountered\n",
            "  if np.greater(np.nanmax(np.abs(value)), max_radians):\n"
          ],
          "name": "stderr"
        },
        {
          "output_type": "stream",
          "text": [
            "  station_id  latitude  ...  eastward_wind  northward_wind\n",
            "0       KGRB     44.48  ...      -3.420201       -9.396926\n",
            "1       KGRB     44.48  ...      -3.762222      -10.336619\n",
            "2       KGRB     44.48  ...      -3.420201       -9.396926\n",
            "3       KGRB     44.48  ...      -3.762222      -10.336619\n",
            "4       KGRB     44.48  ...      -1.736482       -9.848078\n",
            "\n",
            "[5 rows x 28 columns]\n",
            "['-SN' 'SN' '-RA' '-FZRA' '+SN' '+RA' 'RA' 'FZRA' 'TSRA' '+TSRA' '-TSRA']\n",
            "7674\n"
          ],
          "name": "stdout"
        }
      ]
    },
    {
      "cell_type": "code",
      "metadata": {
        "id": "xkT7CKM5fmnJ",
        "colab_type": "code",
        "colab": {}
      },
      "source": [
        "df2003.to_csv('df2003.csv', index=False)"
      ],
      "execution_count": 0,
      "outputs": []
    },
    {
      "cell_type": "markdown",
      "metadata": {
        "id": "RSwM0P5ml7KP",
        "colab_type": "text"
      },
      "source": [
        "2004"
      ]
    },
    {
      "cell_type": "code",
      "metadata": {
        "id": "e2GZuSrll54x",
        "colab_type": "code",
        "outputId": "533b9844-2eda-4f1a-9bb5-e57fd84a7978",
        "colab": {
          "base_uri": "https://localhost:8080/",
          "height": 54
        }
      },
      "source": [
        "all_files2004 = [] \n",
        "for year in range(2004, 2005):\n",
        "    folder, files = folderNames(year)\n",
        "    all_files2004.append(files) # creates a list of lists \n",
        "\n",
        "for x in all_files2004:\n",
        "    del x[0]\n",
        "print(all_files2004)"
      ],
      "execution_count": 0,
      "outputs": [
        {
          "output_type": "stream",
          "text": [
            "[['64010KGRB200402.dat', '64010KGRB200403.dat', '64010KGRB200404.dat', '64010KGRB200405.dat', '64010KGRB200406.dat', '64010KGRB200407.dat', '64010KGRB200408.dat', '64010KGRB200409.dat', '64010KGRB200410.dat', '64010KGRB200411.dat', '64010KGRB200412.dat']]\n"
          ],
          "name": "stdout"
        }
      ]
    },
    {
      "cell_type": "code",
      "metadata": {
        "id": "saXcwFNll_mQ",
        "colab_type": "code",
        "outputId": "fc1dc30d-6ca3-474f-9080-3b5c0667e7de",
        "colab": {
          "base_uri": "https://localhost:8080/",
          "height": 1000
        }
      },
      "source": [
        "df2004 = PrecipRows('64010KGRB200401.dat')\n",
        "for list in all_files2004:\n",
        "    for file in list: \n",
        "        try:\n",
        "            df_precip = PrecipRows(file)\n",
        "            df2004 = df2004.append(df_precip, ignore_index=True, sort=False)\n",
        "        except: \n",
        "            print(\"done\")\n",
        "\n",
        "print(df2004.head())\n",
        "print(df2004.current_wx1.unique())\n",
        "print(len(df2004))\n",
        "\n",
        "df2004.to_csv('df2004.csv', index=False)"
      ],
      "execution_count": 0,
      "outputs": [
        {
          "output_type": "stream",
          "text": [
            "/usr/local/lib/python3.6/dist-packages/metpy/calc/basic.py:1011: RuntimeWarning: All-NaN slice encountered\n",
            "  if np.greater(np.nanmax(np.abs(value)), max_radians):\n"
          ],
          "name": "stderr"
        },
        {
          "output_type": "stream",
          "text": [
            "Error with METAR:   KGRB 029 9540 68 -1500 320/07 RMK AO2\n",
            "Error with METAR:   KGRB 0288\n",
            "Error with METAR:   P0000\n",
            "Error with METAR:   KGRB 03SM CLR M04/M08 A2991 700 74  -1400 320/09 RMK AO2\n",
            "Error with METAR:   KGRB 038\n",
            "Error with METAR:  0 TO 34006KT 10SM CLR M08/M11 A3001 620 77 -2000 340/06 RMK AO2 SLP171 T10781111 51027\n",
            "Error with METAR:   KGRB 033  KGRB 031040Z AUTO 24004KT 10SM CLR M09/M12 A3003 590 80 -2100 240/04 RMK AO2\n",
            "Error with METAR:   KGRB 03580\n",
            "Error with METAR:   KGRB 03580 1355Z 00000KT 10SM OVC110 M08/M11 A3003 590  80 -2100 000/00 RMK AO2\n",
            "Error with METAR:   68  -1700 170/08 RMK AO2\n",
            "Error with METAR:   KGRB 03 66\n",
            "Error with METAR:   KGRB 03  71 -1100 190/09 RMK AO2\n",
            "Error with METAR:  00 81-700 220/12 RMK AO2\n",
            "Error with METAR:   75 -100 210/13 RMK AO2\n",
            "Error with METAR:  90 012KT 10SM BKN050 06/M01 A2972 880 62 0 290/12 RMK AO2 $\n",
            "Error with METAR:  72 $\n",
            "Error with METAR:   KGRB 05\n",
            "Error with METAR:  570 81 -1200 030/07 RMK AO2 $\n",
            "Error with METAR:   KGRB 05SM OVC027 M02/M07 A3023 410  66 -1400 040/16 RMK AO2 $\n",
            "Error with METAR:  460  69 -1200 050/13 RMK AO2 $\n",
            "Error with METAR:   $\n",
            "Error with METAR:   KGRB 06 060/11 RMK AO2 $\n",
            "Error with METAR:   070/10 RMK AO2 CIG 003V009 P0001 $\n",
            "Error with METAR:   KGRB 06 KT 1 1/4SM -SN BR OVC007 01/M01 A2995 670 92 -800 070/08 RMK AO2 CIG 004V010 P0002 $\n",
            "Error with METAR:   KGRB 06710\n",
            "Error with METAR:  710  92 -700 070/08 RMK AO2\n",
            "Error with METAR:   770 96 -500 080/06 RMK AO2\n",
            "Error with METAR:   KGRB 07 003 02/02 A2983 780  100 -500 100/06 RMK AO2\n",
            "Error with METAR:   KGRB 07981\n",
            "Error with METAR:  790  FG OVC001 02/02A2981 800 100 -500 060/06 RMK AO2 TSNO\n",
            "Error with METAR:  \n",
            "Error with METAR:  962\n",
            "Error with METAR:    P0000\n",
            "Error with METAR:   KGRB 07  KGRB 071805Z 35009KT 7SM -RA OVC003 03/03 A2949 1100 96 0 350/09 RMK AO2 P0000\n",
            "Error with METAR:   KGRB 0803/02 A2974 860 92 -300 280/09 RMK AO2 RAE02 P0000\n",
            "Error with METAR:  0\n",
            "Error with METAR:   KGRB 080 KT 10SM OVC020 03/01 A2987 750 89 -500 280/10 RMK AO2\n",
            "Error with METAR:   KGRB 09 -900 160/07 RMK AO2\n",
            "Error with METAR:  \n",
            "Error with METAR:  690  KGRB 090405Z 15005KT 5SM BR CLR 02/00 A2992 700 89  -700 160/05 RMK AO2\n",
            "Error with METAR:  0/05 RMK AO2\n",
            "Error with METAR:   KGRB 09\n",
            "Error with METAR:   0 160/04 RMK AO2\n",
            "Error with METAR:  810\n",
            "Error with METAR:   KGRB 09M BR FEW010 OVC050 04/03 A2969 910 89 -100 060/13 RMK AO2\n",
            "Error with METAR:  910\n",
            "Error with METAR:   92 0 040/11 RMK AO2 RAE10 P0000\n",
            "Error with METAR:   KGRB 11 KGRB 110930Z AUTO 35014G22KT 10SM OVC026 01/M03A2984 770 75 -600 350/14G22 RMK AO2\n",
            "Error with METAR:   KGRB 11800  KGRB 112105Z 31009KT 10SM OVC026 M01/M05 A2981 800  72 -800 310/09 RMK AO2\n",
            "Error with METAR:  \n",
            "Error with METAR:   270/13G23 RMK AO2\n",
            "Error with METAR:   KGRB 121\n",
            "Error with METAR:  049 2210 SNE28P0000 TSNO\n",
            "Error with METAR:   KGRB 13\n",
            "Error with METAR:  1 1300 350/14G22 RMK AO2\n",
            "Error with METAR:   KGRB 14 77 008KT 10SM CLR M09/M13 A3049 180 77  -2700 290/08 RMK AO2\n",
            "Error with METAR:  \n",
            "Error with METAR:   71  -2500 290/08 RMK AO2\n",
            "Error with METAR:  04/M14 A3043 230 48  -2000 270/10 RMK AO2\n",
            "Error with METAR:  9\n",
            "Error with METAR:   KGRB 15M13 A3028 370 65 -2200 220/09 RMK AO2\n",
            "Error with METAR:   KGRB 156 TO 22009KT 10SM CLR M07/M13 A3025 390 65 -2200 220/09 RMK AO2\n",
            "Error with METAR:   KGRB 161000 220/10 RMK AO2 SLP147 T10061078 56014\n",
            "Error with METAR:  60 6075 -800 300/10 RMK AO2 SNE02 SLP153 P0000 T00111028\n",
            "Error with METAR:   KGRB 16660 59 -600 300/15G20 RMK AO2\n",
            "Error with METAR:  9 N048 01/M09 A3001 620 49 -900 320/20G25 RMK AO2 PK WND 30028/1913\n",
            "Error with METAR:  550\n",
            "Error with METAR:   49 -1300 310/15 RMK AO2\n",
            "Error with METAR:   KGRB 16510  50 -1500 320/16G21 RMK AO2\n",
            "Error with METAR:   KGRB 17KN033 OVC040 M07/M11 A3032 330 71 -2200 350/04 RMK AO2 TSNO\n",
            "Error with METAR:   01:45:31  5-MIN KGRB 170745Z AUTO 36009KT 10SM CLR M07/M13 A3033320 65 -2300 360/09 RMK AO2 TSNO\n",
            "Error with METAR:   KGRB 17 57\n",
            "Error with METAR:   KGRB 18 68 K AO2\n",
            "Error with METAR:   KGRB 18 71  -1500 180/08 RMK AO2\n",
            "Error with METAR:   KGRB 18640 SM BKN085 M03/M08 A2997 650  66 -1300 210/09 RMK AO2\n",
            "Error with METAR:   KGRB 18 A2990 720 69 -1100 210/13G19 RMK AO2\n",
            "Error with METAR:   KGRB 1812/18/04 00:40:31  5-MIN KGRB 180640Z AUTO 21012KT 10SM FEW039 OVC080 M02/M07 A2979 820 69 -900 210/12 RMK AO2 SNB0557E20 P0000\n",
            "Error with METAR:   KGRB 18910 0 M01/M06 A2969 920  69 -700 240/08 RMK AO2\n",
            "Error with METAR:   KGRB 1910\n",
            "Error with METAR:   KGRB 1912/19/04 09:40:31  5-MIN KGRB 191540Z 34018G21KT 10SM CLR M15/M23 A3042 240  52 -3400 340/18G21 RMK AO2\n",
            "Error with METAR:   KGRB 19AO2\n",
            "Error with METAR:   KGRB 1912/19/04 10:40:31  5-MIN KGRB 191640Z 34012KT 10SM CLR M14/M22 A3040 260 50  -3200 340/12 RMK AO2\n",
            "Error with METAR:   44\n",
            "Error with METAR:   KGRB 19 44  46 -2800 310/09 RMK AO2\n",
            "Error with METAR:   KGRB 19 46\n",
            "Error with METAR:   KGRB 19 57 SM CLR M14/M21 A3032 330 57  -3100 270/05 RMK AO2 SLP286 T11391206 11106 21139 56014\n",
            "Error with METAR:   KGRB 201  KGRB 200425Z AUTO 22003KT 10SM CLR M16/M21 A3021 430 66 -3200 220/03 RMK AO2 TSNO\n",
            "Error with METAR:   KGRB 20017 BKN024 OVC055 M10/M13 A2976 850 80 -2000 170/20G24 RMK AO2 P0000\n",
            "Error with METAR:   KGRB 20 M -SN BR OVC011 M08/M09 A2958 1020 88 -1500 170/10 RMK AO2 P0000\n",
            "Error with METAR:   KGRB 211  5-MIN KGRB 210650Z AUTO 20004KT 3SM -SN BR BKN012 OVC019 M06/M07 A2949 1100 92 -1100 200/04 RMK AO2 SLP996 P0003 T10611072 $\n",
            "Error with METAR:   KGRB 21 1850Z 26015KT 10SM SCT019 SCT035 M04/M08 A2966 940 74 -1100 260/15 RMK AO2 SLP054 T10441083\n",
            "Error with METAR:   KGRB 229 TO 29013KT 10SM CLR M17/M21 A3010 530 69 -3300 290/13 RMK AO2\n",
            "Error with METAR:   KGRB 22 57 14/M22 A3023 410 55  -3100 280/09 RMK AO2\n",
            "Error with METAR:   KGRB 22 60 3025 400 57 -3300 290/08 RMK AO2\n",
            "Error with METAR:   KGRB 22 60  KGRB 222245Z 27008KT 10SM CLR M17/M23 A3029 360 62  -3600 280/08 RMK AO2\n",
            "Error with METAR:  3032 330 65  -3600 320/08 RMK AO2\n",
            "Error with METAR:   KGRB 237 380 69 -3600 340/05 RMK AO2\n",
            "Error with METAR:   23:00:31  5-MIN KGRB 240500Z 28011KT 10SM CLR M21/M25 A3029 360 68 -4000 280/11 RMK AO2\n",
            "Error with METAR:   KGRB 24360 0530Z 27009KT 10SM BKN038 OVC045 M21/M25 A3028 360 68 -4000 270/09 RMK AO2\n",
            "Error with METAR:   KGRB 25470 3 A3017 470 75 -3700 000/00 RMK AO2\n",
            "Error with METAR:  590\n",
            "Error with METAR:   KGRB 25  73 -2900 000/00 RMK AO2\n",
            "Error with METAR:   KGRB 26\n",
            "Error with METAR:  12/26/04 03:45:31  5-MIN KGRB 260945Z AUTO VRB03KT 10SMCLR M19/M21 A3023 420 83 -3700 VRB/03 RMK AO2\n",
            "Error with METAR:   A3041 240 77 -2400 020/12 RMK AO2 SNE10 P0000\n",
            "Error with METAR:  240 1835Z 02009KT 10SM OVC016 M06/M10 A3042 240  74 -2200 020/09 RMK AO2\n",
            "Error with METAR:   KGRB 278 KT 10SM CLR M18/M21 A3058 90 79 -4100 000/00 RMK AO2\n",
            "Error with METAR:   KGRB 29002  600 88 -1800 310/07 RMK AO2\n",
            "Error with METAR:   KGRB 2950  M03/M06 A3019 450 81 -1600 150/03 RMK AO2\n",
            "Error with METAR:   KGRB 30450 88 -1500 000/00 RMK AO2\n",
            "Error with METAR:   KGRB 30 0 85 -1500 000/00 RMK AO2\n",
            "Error with METAR:   KGRB 300 RMK AO2\n",
            "Error with METAR:  2 TO 00000KT 1 3/4SM BR CLR M05/M05 A3015 480 100 -1800 000/00 RMK AO2\n",
            "Error with METAR:   KGRB 31 01\n",
            "  station_id  latitude  ...  eastward_wind  northward_wind\n",
            "0       KGRB     44.48  ...     -11.490667        9.641814\n",
            "1       KGRB     44.48  ...      -9.192533        7.713451\n",
            "2       KGRB     44.48  ...      -9.526279        5.500000\n",
            "3       KGRB     44.48  ...     -10.392305        6.000000\n",
            "4       KGRB     44.48  ...     -10.392305        6.000000\n",
            "\n",
            "[5 rows x 28 columns]\n",
            "['-RA' '-SN' '+RA' 'RA' 'SN' '+SN' '-FZRA' '+TSRA' '-TSRA' 'TSRA']\n",
            "8137\n"
          ],
          "name": "stdout"
        }
      ]
    },
    {
      "cell_type": "markdown",
      "metadata": {
        "id": "r4puOBipmOoA",
        "colab_type": "text"
      },
      "source": [
        "2005"
      ]
    },
    {
      "cell_type": "code",
      "metadata": {
        "id": "UOZMWuKGmTkX",
        "colab_type": "code",
        "colab": {}
      },
      "source": [
        "all_files2005 = [] \n",
        "for year in range(2005, 2006):\n",
        "    folder, files = folderNames(year)\n",
        "    all_files2005.append(files) # creates a list of lists \n",
        "\n",
        "for x in all_files2005:\n",
        "    del x[0]\n",
        "print(all_files2005)"
      ],
      "execution_count": 0,
      "outputs": []
    },
    {
      "cell_type": "code",
      "metadata": {
        "id": "QodsL6dZmTFk",
        "colab_type": "code",
        "colab": {}
      },
      "source": [
        "df2005 = PrecipRows('64010KGRB200501.dat')\n",
        "for list in all_files2005:\n",
        "    for file in list: \n",
        "        try:\n",
        "            df_precip = PrecipRows(file)\n",
        "            df2005 = df2005.append(df_precip, ignore_index=True, sort=False)\n",
        "        except: \n",
        "            print(\"done\")\n",
        "\n",
        "print(df2005.head())\n",
        "print(df2005.current_wx1.unique())\n",
        "print(len(df2005))\n",
        "\n",
        "df2005.to_csv('df2005.csv', index=False)"
      ],
      "execution_count": 0,
      "outputs": []
    },
    {
      "cell_type": "markdown",
      "metadata": {
        "id": "ck4nIXAVmT-4",
        "colab_type": "text"
      },
      "source": [
        "2006"
      ]
    },
    {
      "cell_type": "code",
      "metadata": {
        "id": "vu37Ij_vmVSh",
        "colab_type": "code",
        "outputId": "ae5d490f-8238-4013-c64d-629fe5ccc89f",
        "colab": {
          "base_uri": "https://localhost:8080/",
          "height": 54
        }
      },
      "source": [
        "all_files2006 = [] \n",
        "for year in range(2006, 2007):\n",
        "    folder, files = folderNames(year)\n",
        "    all_files2006.append(files) # creates a list of lists \n",
        "\n",
        "for x in all_files2006:\n",
        "    del x[0]\n",
        "print(all_files2006)"
      ],
      "execution_count": 0,
      "outputs": [
        {
          "output_type": "stream",
          "text": [
            "[['64010KGRB200602.dat', '64010KGRB200603.dat', '64010KGRB200604.dat', '64010KGRB200605.dat', '64010KGRB200606.dat', '64010KGRB200607.dat', '64010KGRB200608.dat', '64010KGRB200609.dat', '64010KGRB200610.dat', '64010KGRB200611.dat', '64010KGRB200612.dat']]\n"
          ],
          "name": "stdout"
        }
      ]
    },
    {
      "cell_type": "code",
      "metadata": {
        "id": "uu97_6O_mVGX",
        "colab_type": "code",
        "outputId": "16eec880-6f41-4c06-b124-d82296fee3e2",
        "colab": {
          "base_uri": "https://localhost:8080/",
          "height": 228
        }
      },
      "source": [
        "df2006 = PrecipRows('64010KGRB200601.dat')\n",
        "for list in all_files2006:\n",
        "    for file in list: \n",
        "        try:\n",
        "            df_precip = PrecipRows(file)\n",
        "            df2006 = df2006.append(df_precip, ignore_index=True, sort=False)\n",
        "        except: \n",
        "            print(\"done\")\n",
        "\n",
        "print(df2006.head())\n",
        "print(df2006.current_wx1.unique())\n",
        "print(len(df2006))\n",
        "\n",
        "df2006.to_csv('df2006.csv', index=False)"
      ],
      "execution_count": 0,
      "outputs": [
        {
          "output_type": "stream",
          "text": [
            "/usr/local/lib/python3.6/dist-packages/metpy/calc/basic.py:1011: RuntimeWarning: All-NaN slice encountered\n",
            "  if np.greater(np.nanmax(np.abs(value)), max_radians):\n"
          ],
          "name": "stderr"
        },
        {
          "output_type": "stream",
          "text": [
            "  station_id  latitude  ...  eastward_wind  northward_wind\n",
            "0       KGRB     44.48  ...      -8.660254       -5.000000\n",
            "1       KGRB     44.48  ...      -6.928203       -4.000000\n",
            "2       KGRB     44.48  ...      -9.192533       -7.713451\n",
            "3       KGRB     44.48  ...      -7.713451       -9.192533\n",
            "4       KGRB     44.48  ...      -8.426489       -7.070664\n",
            "\n",
            "[5 rows x 28 columns]\n",
            "['-RA' '-SN' 'RA' '-FZRA' 'SN' '+RA' '+SN' '-TSRA' 'TSRA' '+TSRA']\n",
            "7115\n"
          ],
          "name": "stdout"
        }
      ]
    },
    {
      "cell_type": "markdown",
      "metadata": {
        "id": "bc-VBPummV-4",
        "colab_type": "text"
      },
      "source": [
        "2007"
      ]
    },
    {
      "cell_type": "code",
      "metadata": {
        "id": "fLba9455mXg1",
        "colab_type": "code",
        "colab": {}
      },
      "source": [
        "all_files2007 = [] \n",
        "for year in range(2007, 2008):\n",
        "    folder, files = folderNames(year)\n",
        "    all_files2007.append(files) # creates a list of lists \n",
        "\n",
        "for x in all_files2007:\n",
        "    del x[0]\n",
        "print(all_files2007)"
      ],
      "execution_count": 0,
      "outputs": []
    },
    {
      "cell_type": "code",
      "metadata": {
        "id": "4fG-ieJvmXTN",
        "colab_type": "code",
        "colab": {}
      },
      "source": [
        "df2007 = PrecipRows('64010KGRB200701.dat')\n",
        "for list in all_files2007:\n",
        "    for file in list: \n",
        "        try:\n",
        "            df_precip = PrecipRows(file)\n",
        "            df2007 = df2007.append(df_precip, ignore_index=True, sort=False)\n",
        "        except: \n",
        "            print(\"done\")\n",
        "\n",
        "print(df2007.head())\n",
        "print(df2007.current_wx1.unique())\n",
        "print(len(df2007))\n",
        "\n",
        "df2007.to_csv('df2007.csv', index=False)"
      ],
      "execution_count": 0,
      "outputs": []
    },
    {
      "cell_type": "markdown",
      "metadata": {
        "id": "KLje2rgPmYFt",
        "colab_type": "text"
      },
      "source": [
        "2008"
      ]
    },
    {
      "cell_type": "code",
      "metadata": {
        "id": "U5QrbhkZmlKu",
        "colab_type": "code",
        "outputId": "4c931169-4765-4fee-80c5-3856589326df",
        "colab": {
          "base_uri": "https://localhost:8080/",
          "height": 54
        }
      },
      "source": [
        "all_files2008 = [] \n",
        "for year in range(2008, 2009):\n",
        "    folder, files = folderNames(year)\n",
        "    all_files2008.append(files) # creates a list of lists \n",
        "\n",
        "for x in all_files2008:\n",
        "    del x[0]\n",
        "print(all_files2008)"
      ],
      "execution_count": 0,
      "outputs": [
        {
          "output_type": "stream",
          "text": [
            "[['64010KGRB200802.dat', '64010KGRB200803.dat', '64010KGRB200804.dat', '64010KGRB200805.dat', '64010KGRB200806.dat', '64010KGRB200807.dat', '64010KGRB200808.dat', '64010KGRB200809.dat', '64010KGRB200810.dat', '64010KGRB200811.dat', '64010KGRB200812.dat']]\n"
          ],
          "name": "stdout"
        }
      ]
    },
    {
      "cell_type": "code",
      "metadata": {
        "id": "q56JbJNjmlBD",
        "colab_type": "code",
        "outputId": "f95cb8c4-c2b4-4570-cf5d-db9aa60e4aae",
        "colab": {
          "base_uri": "https://localhost:8080/",
          "height": 228
        }
      },
      "source": [
        "df2008 = PrecipRows('64010KGRB200801.dat')\n",
        "for list in all_files2008:\n",
        "    for file in list: \n",
        "        try:\n",
        "            df_precip = PrecipRows(file)\n",
        "            df2008 = df2008.append(df_precip, ignore_index=True, sort=False)\n",
        "        except: \n",
        "            print(\"done\")\n",
        "\n",
        "print(df2008.head())\n",
        "print(df2008.current_wx1.unique())\n",
        "print(len(df2008))\n",
        "\n",
        "df2008.to_csv('df2008.csv', index=False)"
      ],
      "execution_count": 0,
      "outputs": [
        {
          "output_type": "stream",
          "text": [
            "/usr/local/lib/python3.6/dist-packages/metpy/calc/basic.py:1011: RuntimeWarning: All-NaN slice encountered\n",
            "  if np.greater(np.nanmax(np.abs(value)), max_radians):\n"
          ],
          "name": "stderr"
        },
        {
          "output_type": "stream",
          "text": [
            "  station_id  latitude  ...  eastward_wind  northward_wind\n",
            "0       KGRB     44.48  ...      -3.856726       -4.596267\n",
            "1       KGRB     44.48  ...      -3.856726       -4.596267\n",
            "2       KGRB     44.48  ...      -5.362311       -4.499513\n",
            "3       KGRB     44.48  ...      -5.362311       -4.499513\n",
            "4       KGRB     44.48  ...      -5.362311       -4.499513\n",
            "\n",
            "[5 rows x 28 columns]\n",
            "['-SN' '-RA' '-TSRA' '+TSRA' 'TSRA' 'RA' '+RA' 'SN' '+SN' '-FZRA' 'FZRA']\n",
            "9194\n"
          ],
          "name": "stdout"
        }
      ]
    },
    {
      "cell_type": "markdown",
      "metadata": {
        "id": "SiwsjQROmZHn",
        "colab_type": "text"
      },
      "source": [
        "2009"
      ]
    },
    {
      "cell_type": "code",
      "metadata": {
        "id": "qqwvSl7ZmmMt",
        "colab_type": "code",
        "colab": {}
      },
      "source": [
        "all_files2009 = [] \n",
        "for year in range(2009, 2010):\n",
        "    folder, files = folderNames(year)\n",
        "    all_files2009.append(files) # creates a list of lists \n",
        "\n",
        "for x in all_files2009:\n",
        "    del x[0]\n",
        "print(all_files2009)"
      ],
      "execution_count": 0,
      "outputs": []
    },
    {
      "cell_type": "code",
      "metadata": {
        "id": "SSafT0GemmDH",
        "colab_type": "code",
        "colab": {}
      },
      "source": [
        "df2009 = PrecipRows('64010KGRB200901.dat')\n",
        "for list in all_files2009:\n",
        "    for file in list: \n",
        "        try:\n",
        "            df_precip = PrecipRows(file)\n",
        "            df2009 = df2009.append(df_precip, ignore_index=True, sort=False)\n",
        "        except: \n",
        "            print(\"done\")\n",
        "\n",
        "print(df2009.head())\n",
        "print(df2009.current_wx1.unique())\n",
        "print(len(df2009))\n",
        "\n",
        "df2009.to_csv('df2009.csv', index=False)"
      ],
      "execution_count": 0,
      "outputs": []
    },
    {
      "cell_type": "markdown",
      "metadata": {
        "id": "9nH6QQHxmaFz",
        "colab_type": "text"
      },
      "source": [
        "2010"
      ]
    },
    {
      "cell_type": "code",
      "metadata": {
        "id": "wPSFd3Z2moa8",
        "colab_type": "code",
        "outputId": "30c3c112-bc37-4b8c-c33d-c68f8f3853a7",
        "colab": {
          "base_uri": "https://localhost:8080/",
          "height": 54
        }
      },
      "source": [
        "all_files2010 = [] \n",
        "for year in range(2010, 2011):\n",
        "    folder, files = folderNames(year)\n",
        "    all_files2010.append(files) # creates a list of lists \n",
        "\n",
        "for x in all_files2010:\n",
        "    del x[0]\n",
        "print(all_files2010)"
      ],
      "execution_count": 0,
      "outputs": [
        {
          "output_type": "stream",
          "text": [
            "[['64010KGRB201002.dat', '64010KGRB201003.dat', '64010KGRB201004.dat', '64010KGRB201005.dat', '64010KGRB201006.dat', '64010KGRB201007.dat', '64010KGRB201008.dat', '64010KGRB201009.dat', '64010KGRB201010.dat', '64010KGRB201011.dat', '64010KGRB201012.dat']]\n"
          ],
          "name": "stdout"
        }
      ]
    },
    {
      "cell_type": "code",
      "metadata": {
        "id": "WwGExKA0moHr",
        "colab_type": "code",
        "outputId": "09578ff4-b7cd-4214-fb27-f8e6704f8e71",
        "colab": {
          "base_uri": "https://localhost:8080/",
          "height": 228
        }
      },
      "source": [
        "df2010 = PrecipRows('64010KGRB201001.dat')\n",
        "for list in all_files2010:\n",
        "    for file in list: \n",
        "        try:\n",
        "            df_precip = PrecipRows(file)\n",
        "            df2010 = df2010.append(df_precip, ignore_index=True, sort=False)\n",
        "        except: \n",
        "            print(\"done\")\n",
        "\n",
        "print(df2010.head())\n",
        "print(df2010.current_wx1.unique())\n",
        "print(len(df2010))\n",
        "\n",
        "df2010.to_csv('df2010.csv', index=False)"
      ],
      "execution_count": 0,
      "outputs": [
        {
          "output_type": "stream",
          "text": [
            "/usr/local/lib/python3.6/dist-packages/metpy/calc/basic.py:1011: RuntimeWarning: All-NaN slice encountered\n",
            "  if np.greater(np.nanmax(np.abs(value)), max_radians):\n"
          ],
          "name": "stderr"
        },
        {
          "output_type": "stream",
          "text": [
            "  station_id  latitude  ...  eastward_wind  northward_wind\n",
            "0       KGRB     44.48  ...       4.499513       -5.362311\n",
            "1       KGRB     44.48  ...       5.785088       -6.894400\n",
            "2       KGRB     44.48  ...      -2.736161       -7.517541\n",
            "3       KGRB     44.48  ...      -3.420201       -9.396926\n",
            "4       KGRB     44.48  ...      -1.389185       -7.878462\n",
            "\n",
            "[5 rows x 28 columns]\n",
            "['-SN' 'SN' '-RA' 'RA' '-FZRA' '+SN' '+RA' '+TSRA' 'TSRA' '-TSRA']\n",
            "7126\n"
          ],
          "name": "stdout"
        }
      ]
    },
    {
      "cell_type": "markdown",
      "metadata": {
        "id": "neGni5eUma3X",
        "colab_type": "text"
      },
      "source": [
        "2011"
      ]
    },
    {
      "cell_type": "code",
      "metadata": {
        "id": "fz13rVP_mqzz",
        "colab_type": "code",
        "colab": {}
      },
      "source": [
        "all_files2011 = [] \n",
        "for year in range(2011, 2012):\n",
        "    folder, files = folderNames(year)\n",
        "    all_files2011.append(files) # creates a list of lists \n",
        "\n",
        "for x in all_files2011:\n",
        "    del x[0]\n",
        "print(all_files2011)"
      ],
      "execution_count": 0,
      "outputs": []
    },
    {
      "cell_type": "code",
      "metadata": {
        "id": "2Xsd0K7qmrDj",
        "colab_type": "code",
        "colab": {}
      },
      "source": [
        "df2011 = PrecipRows('64010KGRB201101.dat')\n",
        "for list in all_files2011:\n",
        "    for file in list: \n",
        "        try:\n",
        "            df_precip = PrecipRows(file)\n",
        "            df2011 = df2011.append(df_precip, ignore_index=True, sort=False)\n",
        "        except: \n",
        "            print(\"done\")\n",
        "\n",
        "print(df2011.head())\n",
        "print(df2011.current_wx1.unique())\n",
        "print(len(df2011))\n",
        "\n",
        "df2011.to_csv('df2011.csv', index=False)"
      ],
      "execution_count": 0,
      "outputs": []
    },
    {
      "cell_type": "markdown",
      "metadata": {
        "id": "CXBlXi4JmbnL",
        "colab_type": "text"
      },
      "source": [
        "2012"
      ]
    },
    {
      "cell_type": "code",
      "metadata": {
        "id": "XAUi93fnmscc",
        "colab_type": "code",
        "outputId": "9ed27fa8-080e-4ecd-9206-91ee0c5b5f28",
        "colab": {
          "base_uri": "https://localhost:8080/",
          "height": 54
        }
      },
      "source": [
        "all_files2012 = [] \n",
        "for year in range(2012, 2013):\n",
        "    folder, files = folderNames(year)\n",
        "    all_files2012.append(files) # creates a list of lists \n",
        "\n",
        "for x in all_files2012:\n",
        "    del x[0]\n",
        "print(all_files2012)"
      ],
      "execution_count": 0,
      "outputs": [
        {
          "output_type": "stream",
          "text": [
            "[['64010KGRB201202.dat', '64010KGRB201203.dat', '64010KGRB201204.dat', '64010KGRB201205.dat', '64010KGRB201206.dat', '64010KGRB201207.dat', '64010KGRB201208.dat', '64010KGRB201209.dat', '64010KGRB201210.dat', '64010KGRB201211.dat', '64010KGRB201212.dat']]\n"
          ],
          "name": "stdout"
        }
      ]
    },
    {
      "cell_type": "code",
      "metadata": {
        "id": "LKxve2iqmsoR",
        "colab_type": "code",
        "outputId": "72a5bd2e-fcf0-4e01-cf48-5e36edb08e1e",
        "colab": {
          "base_uri": "https://localhost:8080/",
          "height": 228
        }
      },
      "source": [
        "df2012 = PrecipRows('64010KGRB201201.dat')\n",
        "for list in all_files2012:\n",
        "    for file in list: \n",
        "        try:\n",
        "            df_precip = PrecipRows(file)\n",
        "            df2012 = df2012.append(df_precip, ignore_index=True, sort=False)\n",
        "        except: \n",
        "            print(\"done\")\n",
        "\n",
        "print(df2012.head())\n",
        "print(df2012.current_wx1.unique())\n",
        "print(len(df2012))\n",
        "\n",
        "df2012.to_csv('df2012.csv', index=False)"
      ],
      "execution_count": 0,
      "outputs": [
        {
          "output_type": "stream",
          "text": [
            "/usr/local/lib/python3.6/dist-packages/metpy/calc/basic.py:1011: RuntimeWarning: All-NaN slice encountered\n",
            "  if np.greater(np.nanmax(np.abs(value)), max_radians):\n"
          ],
          "name": "stderr"
        },
        {
          "output_type": "stream",
          "text": [
            "  station_id  latitude  ...  eastward_wind  northward_wind\n",
            "0       KGRB     44.48  ...       0.000000        0.000000\n",
            "1       KGRB     44.48  ...       0.000000        0.000000\n",
            "2       KGRB     44.48  ...       7.517541       -2.736161\n",
            "3       KGRB     44.48  ...       9.848078       -1.736482\n",
            "4       KGRB     44.48  ...      11.276311       -4.104242\n",
            "\n",
            "[5 rows x 28 columns]\n",
            "['-RA' '-SN' 'SN' '-FZRA' 'RA' '+SN' '+RA' '-TSRA' 'TSRA' '+TSRA']\n",
            "6284\n"
          ],
          "name": "stdout"
        }
      ]
    },
    {
      "cell_type": "markdown",
      "metadata": {
        "id": "LMVXLBgwmckR",
        "colab_type": "text"
      },
      "source": [
        "2013"
      ]
    },
    {
      "cell_type": "code",
      "metadata": {
        "id": "wZax7V7GmvAl",
        "colab_type": "code",
        "colab": {}
      },
      "source": [
        "all_files2013 = [] \n",
        "for year in range(2013, 2014):\n",
        "    folder, files = folderNames(year)\n",
        "    all_files2013.append(files) # creates a list of lists \n",
        "\n",
        "for x in all_files2013:\n",
        "    del x[0]\n",
        "print(all_files2013)"
      ],
      "execution_count": 0,
      "outputs": []
    },
    {
      "cell_type": "code",
      "metadata": {
        "id": "jUOT73JXmzc7",
        "colab_type": "code",
        "colab": {}
      },
      "source": [
        "df2013 = PrecipRows('64010KGRB201301.dat')\n",
        "for list in all_files2013:\n",
        "    for file in list: \n",
        "        try:\n",
        "            df_precip = PrecipRows(file)\n",
        "            df2013 = df2013.append(df_precip, ignore_index=True, sort=False)\n",
        "        except: \n",
        "            print(\"done\")\n",
        "\n",
        "print(df2013.head())\n",
        "print(df2013.current_wx1.unique())\n",
        "print(len(df2013))\n",
        "\n",
        "df2013.to_csv('df2013.csv', index=False)"
      ],
      "execution_count": 0,
      "outputs": []
    },
    {
      "cell_type": "markdown",
      "metadata": {
        "id": "CBNtqeWemyZ3",
        "colab_type": "text"
      },
      "source": [
        "2014"
      ]
    },
    {
      "cell_type": "code",
      "metadata": {
        "id": "8Gj2imZrm0Ar",
        "colab_type": "code",
        "outputId": "dda6d3e3-a6e7-4c77-ac52-af368e9ade9e",
        "colab": {
          "base_uri": "https://localhost:8080/",
          "height": 54
        }
      },
      "source": [
        "all_files2014 = [] \n",
        "for year in range(2014, 2015):\n",
        "    folder, files = folderNames(year)\n",
        "    all_files2014.append(files) # creates a list of lists \n",
        "\n",
        "for x in all_files2014:\n",
        "    del x[0]\n",
        "print(all_files2014)"
      ],
      "execution_count": 0,
      "outputs": [
        {
          "output_type": "stream",
          "text": [
            "[['64010KGRB201402.dat', '64010KGRB201403.dat', '64010KGRB201404.dat', '64010KGRB201405.dat', '64010KGRB201406.dat', '64010KGRB201407.dat', '64010KGRB201408.dat', '64010KGRB201409.dat', '64010KGRB201410.dat', '64010KGRB201411.dat', '64010KGRB201412.dat']]\n"
          ],
          "name": "stdout"
        }
      ]
    },
    {
      "cell_type": "code",
      "metadata": {
        "id": "a5FIHxvkm0J-",
        "colab_type": "code",
        "outputId": "39f8ce2d-19c5-4b39-c9a8-af1bc2664e00",
        "colab": {
          "base_uri": "https://localhost:8080/",
          "height": 228
        }
      },
      "source": [
        "df2014 = PrecipRows('64010KGRB201401.dat')\n",
        "for list in all_files2014:\n",
        "    for file in list: \n",
        "        try:\n",
        "            df_precip = PrecipRows(file)\n",
        "            df2014 = df2014.append(df_precip, ignore_index=True, sort=False)\n",
        "        except: \n",
        "            print(\"done\")\n",
        "\n",
        "print(df2014.head())\n",
        "print(df2014.current_wx1.unique())\n",
        "print(len(df2014))\n",
        "\n",
        "df2014.to_csv('df2014.csv', index=False)"
      ],
      "execution_count": 0,
      "outputs": [
        {
          "output_type": "stream",
          "text": [
            "/usr/local/lib/python3.6/dist-packages/metpy/calc/basic.py:1011: RuntimeWarning: All-NaN slice encountered\n",
            "  if np.greater(np.nanmax(np.abs(value)), max_radians):\n"
          ],
          "name": "stderr"
        },
        {
          "output_type": "stream",
          "text": [
            "  station_id  latitude  ...  eastward_wind  northward_wind\n",
            "0       KGRB     44.48  ...      -1.736482       -9.848078\n",
            "1       KGRB     44.48  ...      -1.910130      -10.832885\n",
            "2       KGRB     44.48  ...      -3.420201       -9.396926\n",
            "3       KGRB     44.48  ...      -2.257426      -12.802501\n",
            "4       KGRB     44.48  ...      -3.762222      -10.336619\n",
            "\n",
            "[5 rows x 28 columns]\n",
            "['-SN' '-RA' 'RA' 'SN' '+SN' '-FZRA' 'TSRA' '-TSRA' '+RA' 'FZRA' '+TSRA']\n",
            "8582\n"
          ],
          "name": "stdout"
        }
      ]
    },
    {
      "cell_type": "markdown",
      "metadata": {
        "id": "6tQKgkCfmfct",
        "colab_type": "text"
      },
      "source": [
        "2015"
      ]
    },
    {
      "cell_type": "code",
      "metadata": {
        "id": "LFox3RZvm0hx",
        "colab_type": "code",
        "colab": {}
      },
      "source": [
        "all_files2015 = [] \n",
        "for year in range(2015, 2016):\n",
        "    folder, files = folderNames(year)\n",
        "    all_files2015.append(files) # creates a list of lists \n",
        "\n",
        "for x in all_files2015:\n",
        "    del x[0]\n",
        "print(all_files2015)"
      ],
      "execution_count": 0,
      "outputs": []
    },
    {
      "cell_type": "code",
      "metadata": {
        "id": "q0tKqDznm0rK",
        "colab_type": "code",
        "colab": {}
      },
      "source": [
        "df2015 = PrecipRows('64010KGRB201501.dat')\n",
        "for list in all_files2015:\n",
        "    for file in list: \n",
        "        try:\n",
        "            df_precip = PrecipRows(file)\n",
        "            df2015 = df2015.append(df_precip, ignore_index=True, sort=False)\n",
        "        except: \n",
        "            print(\"done\")\n",
        "\n",
        "print(df2015.head())\n",
        "print(df2015.current_wx1.unique())\n",
        "print(len(df2015))\n",
        "\n",
        "df2015.to_csv('df2015.csv', index=False)"
      ],
      "execution_count": 0,
      "outputs": []
    },
    {
      "cell_type": "markdown",
      "metadata": {
        "id": "j1etx5d_mfV7",
        "colab_type": "text"
      },
      "source": [
        "2016"
      ]
    },
    {
      "cell_type": "code",
      "metadata": {
        "id": "Wsari5cXm1Jc",
        "colab_type": "code",
        "outputId": "f68e4e57-ff5d-4b3a-a1c4-f1ceb477402e",
        "colab": {
          "base_uri": "https://localhost:8080/",
          "height": 54
        }
      },
      "source": [
        "all_files2016 = [] \n",
        "for year in range(2016, 2017):\n",
        "    folder, files = folderNames(year)\n",
        "    all_files2016.append(files) # creates a list of lists \n",
        "\n",
        "for x in all_files2016:\n",
        "    del x[0]\n",
        "print(all_files2016)"
      ],
      "execution_count": 0,
      "outputs": [
        {
          "output_type": "stream",
          "text": [
            "[['64010KGRB201602.dat', '64010KGRB201603.dat', '64010KGRB201604.dat', '64010KGRB201605.dat', '64010KGRB201606.dat', '64010KGRB201607.dat', '64010KGRB201608.dat', '64010KGRB201609.dat', '64010KGRB201610.dat', '64010KGRB201611.dat', '64010KGRB201612.dat']]\n"
          ],
          "name": "stdout"
        }
      ]
    },
    {
      "cell_type": "code",
      "metadata": {
        "id": "B1C-souzm1RA",
        "colab_type": "code",
        "outputId": "6439a7e1-dbc0-4ed3-b0b1-f6e57351a289",
        "colab": {
          "base_uri": "https://localhost:8080/",
          "height": 246
        }
      },
      "source": [
        "df2016 = PrecipRows('64010KGRB201601.dat')\n",
        "for list in all_files2016:\n",
        "    for file in list: \n",
        "        try:\n",
        "            df_precip = PrecipRows(file)\n",
        "            df2016 = df2016.append(df_precip, ignore_index=True, sort=False)\n",
        "        except: \n",
        "            print(\"done\")\n",
        "\n",
        "print(df2016.head())\n",
        "print(df2016.current_wx1.unique())\n",
        "print(len(df2016))\n",
        "\n",
        "df2016.to_csv('df2016.csv', index=False)"
      ],
      "execution_count": 0,
      "outputs": [
        {
          "output_type": "stream",
          "text": [
            "/usr/local/lib/python3.6/dist-packages/metpy/calc/basic.py:1011: RuntimeWarning: All-NaN slice encountered\n",
            "  if np.greater(np.nanmax(np.abs(value)), max_radians):\n"
          ],
          "name": "stderr"
        },
        {
          "output_type": "stream",
          "text": [
            "done\n",
            "  station_id  latitude  ...  eastward_wind  northward_wind\n",
            "0       KGRB     44.48  ...       7.794229    4.500000e+00\n",
            "1       KGRB     44.48  ...      10.336619    3.762222e+00\n",
            "2       KGRB     44.48  ...      10.832885    1.910130e+00\n",
            "3       KGRB     44.48  ...      12.802501    2.257426e+00\n",
            "4       KGRB     44.48  ...      13.000000    2.388061e-15\n",
            "\n",
            "[5 rows x 28 columns]\n",
            "['-SN' '-RA' 'RA' '-FZRA' 'SN' '+SN' '-TSRA' 'TSRA' '+TSRA' '+RA']\n",
            "8448\n"
          ],
          "name": "stdout"
        }
      ]
    },
    {
      "cell_type": "markdown",
      "metadata": {
        "id": "9DN122zeme9L",
        "colab_type": "text"
      },
      "source": [
        "2017"
      ]
    },
    {
      "cell_type": "code",
      "metadata": {
        "id": "i7tW1E61m1n-",
        "colab_type": "code",
        "colab": {}
      },
      "source": [
        "all_files2017 = [] \n",
        "for year in range(2017, 2018):\n",
        "    folder, files = folderNames(year)\n",
        "    all_files2017.append(files) # creates a list of lists \n",
        "\n",
        "for x in all_files2017:\n",
        "    del x[0]\n",
        "print(all_files2017)"
      ],
      "execution_count": 0,
      "outputs": []
    },
    {
      "cell_type": "code",
      "metadata": {
        "id": "mhAZTzd1m1w8",
        "colab_type": "code",
        "colab": {}
      },
      "source": [
        "df2017 = PrecipRows('64010KGRB201701.dat')\n",
        "for list in all_files2017:\n",
        "    for file in list: \n",
        "        try:\n",
        "            df_precip = PrecipRows(file)\n",
        "            df2017 = df2017.append(df_precip, ignore_index=True, sort=False)\n",
        "        except: \n",
        "            print(\"done\")\n",
        "\n",
        "print(df2017.head())\n",
        "print(df2017.current_wx1.unique())\n",
        "print(len(df2017))\n",
        "\n",
        "df2017.to_csv('df2017.csv', index=False)"
      ],
      "execution_count": 0,
      "outputs": []
    },
    {
      "cell_type": "markdown",
      "metadata": {
        "id": "WF2bcNt_mezd",
        "colab_type": "text"
      },
      "source": [
        "2018"
      ]
    },
    {
      "cell_type": "code",
      "metadata": {
        "id": "wE5_qF3fm2Oj",
        "colab_type": "code",
        "outputId": "10300d09-ff65-4818-8b33-a2b0029e1bb6",
        "colab": {
          "base_uri": "https://localhost:8080/",
          "height": 54
        }
      },
      "source": [
        "all_files2018 = [] \n",
        "for year in range(2018, 2019):\n",
        "    folder, files = folderNames(year)\n",
        "    all_files2018.append(files) # creates a list of lists \n",
        "\n",
        "for x in all_files2018:\n",
        "    del x[0]\n",
        "print(all_files2018)"
      ],
      "execution_count": 0,
      "outputs": [
        {
          "output_type": "stream",
          "text": [
            "[['64010KGRB201802.dat', '64010KGRB201803.dat', '64010KGRB201804.dat', '64010KGRB201805.dat', '64010KGRB201806.dat', '64010KGRB201807.dat', '64010KGRB201808.dat', '64010KGRB201809.dat', '64010KGRB201810.dat', '64010KGRB201811.dat', '64010KGRB201812.dat']]\n"
          ],
          "name": "stdout"
        }
      ]
    },
    {
      "cell_type": "code",
      "metadata": {
        "id": "vBQAyNsom2W6",
        "colab_type": "code",
        "outputId": "68d07bf7-fe45-42f6-91b4-b4de5d09e781",
        "colab": {
          "base_uri": "https://localhost:8080/",
          "height": 228
        }
      },
      "source": [
        "df2018 = PrecipRows('64010KGRB201801.dat')\n",
        "for list in all_files2018:\n",
        "    for file in list: \n",
        "        try:\n",
        "            df_precip = PrecipRows(file)\n",
        "            df2018 = df2018.append(df_precip, ignore_index=True, sort=False)\n",
        "        except: \n",
        "            print(\"done\")\n",
        "\n",
        "print(df2018.head())\n",
        "print(df2018.current_wx1.unique())\n",
        "print(len(df2018))\n",
        "\n",
        "df2018.to_csv('df2018.csv', index=False)"
      ],
      "execution_count": 0,
      "outputs": [
        {
          "output_type": "stream",
          "text": [
            "/usr/local/lib/python3.6/dist-packages/metpy/calc/basic.py:1011: RuntimeWarning: All-NaN slice encountered\n",
            "  if np.greater(np.nanmax(np.abs(value)), max_radians):\n"
          ],
          "name": "stderr"
        },
        {
          "output_type": "stream",
          "text": [
            "  station_id  latitude  ...  eastward_wind  northward_wind\n",
            "0       KGRB     44.48  ...      10.392305        6.000000\n",
            "1       KGRB     44.48  ...      10.724622        8.999027\n",
            "2       KGRB     44.48  ...      13.856406        8.000000\n",
            "3       KGRB     44.48  ...       8.426489        7.070664\n",
            "4       KGRB     44.48  ...       7.713451        9.192533\n",
            "\n",
            "[5 rows x 28 columns]\n",
            "['-SN' '-RA' 'RA' '-FZRA' 'FZRA' 'SN' '+RA' '+SN' '-TSRA' '+TSRA' 'TSRA']\n",
            "7738\n"
          ],
          "name": "stdout"
        }
      ]
    },
    {
      "cell_type": "markdown",
      "metadata": {
        "id": "CEX5Vr90meqX",
        "colab_type": "text"
      },
      "source": [
        "2019"
      ]
    },
    {
      "cell_type": "code",
      "metadata": {
        "id": "j8-KLVigm2s8",
        "colab_type": "code",
        "colab": {}
      },
      "source": [
        "all_files2019 = [] \n",
        "for year in range(2019, 2020):\n",
        "    folder, files = folderNames(year)\n",
        "    all_files2019.append(files) # creates a list of lists \n",
        "\n",
        "for x in all_files2019:\n",
        "    del x[0]\n",
        "print(all_files2019)"
      ],
      "execution_count": 0,
      "outputs": []
    },
    {
      "cell_type": "code",
      "metadata": {
        "id": "IAI_GB6Rm21v",
        "colab_type": "code",
        "colab": {}
      },
      "source": [
        "df2019 = PrecipRows('64010KGRB201901.dat')\n",
        "for list in all_files2019:\n",
        "    for file in list: \n",
        "        try:\n",
        "            df_precip = PrecipRows(file)\n",
        "            df2019 = df2019.append(df_precip, ignore_index=True, sort=False)\n",
        "        except: \n",
        "            print(\"done\")\n",
        "\n",
        "print(df2019.head())\n",
        "print(df2019.current_wx1.unique())\n",
        "print(len(df2019))\n",
        "\n",
        "df2019.to_csv('df2019.csv', index=False)"
      ],
      "execution_count": 0,
      "outputs": []
    },
    {
      "cell_type": "markdown",
      "metadata": {
        "id": "VSBmvK9omefl",
        "colab_type": "text"
      },
      "source": [
        "2020"
      ]
    },
    {
      "cell_type": "code",
      "metadata": {
        "id": "6Vpt5nXSm3Ro",
        "colab_type": "code",
        "colab": {}
      },
      "source": [
        "all_files2020 = [] \n",
        "for year in range(2020, 2021):\n",
        "    folder, files = folderNames(year)\n",
        "    all_files2020.append(files) # creates a list of lists \n",
        "\n",
        "for x in all_files2020:\n",
        "    del x[3:12]\n",
        "    del x[0]\n",
        "print(all_files2020)"
      ],
      "execution_count": 0,
      "outputs": []
    },
    {
      "cell_type": "code",
      "metadata": {
        "id": "-YS0azuem3au",
        "colab_type": "code",
        "colab": {}
      },
      "source": [
        "df2020 = PrecipRows('64010KGRB202001.dat')\n",
        "for list in all_files2020:\n",
        "    for file in list: \n",
        "        try:\n",
        "            df_precip = PrecipRows(file)\n",
        "            df2020 = df2020.append(df_precip, ignore_index=True, sort=False)\n",
        "        except: \n",
        "            print(\"done\")\n",
        "\n",
        "print(df2020.head())\n",
        "print(df2020.current_wx1.unique())\n",
        "print(len(df2020))\n",
        "\n",
        "df2020.to_csv('df2020.csv', index=False)"
      ],
      "execution_count": 0,
      "outputs": []
    },
    {
      "cell_type": "markdown",
      "metadata": {
        "id": "kYr0l25oXcBZ",
        "colab_type": "text"
      },
      "source": [
        "What Some of the Codes Mean "
      ]
    },
    {
      "cell_type": "code",
      "metadata": {
        "id": "pK0J_JgmG0_h",
        "colab_type": "code",
        "outputId": "14cf10ee-c5ea-40b0-fe1c-c391d49f0cb7",
        "colab": {
          "base_uri": "https://localhost:8080/",
          "height": 52
        }
      },
      "source": [
        "# Current Wx\n",
        "# -SN = light snow\n",
        "# -RA = light rain \n",
        "# RA = heavy rain \n",
        "# SN = heavy snow \n",
        "# BR = mist \n",
        "# FG = fog\n",
        "# HZ = haze \n",
        "# FZFG = freezing fog \n",
        "#-FZRA = light freezing rain \n",
        "\n",
        "# Cloud Types\n",
        "# OVC = unbroken cloud layer (overcast)\n",
        "# BKN = over half the sky cloud layer \n",
        "# SCT = scattered clouds \n",
        "# FEW = few clouds \n",
        "# CLR = no clouds \n",
        "# VV = vertical visibility (clouds cannot be seen because of fog or heavy precipitation)"
      ],
      "execution_count": 0,
      "outputs": [
        {
          "output_type": "execute_result",
          "data": {
            "text/plain": [
              "array(['-SN', 'BR', '-RA', 'RA', 'FG', 'SN', 'HZ', 'FZFG', '-FZRA'],\n",
              "      dtype=object)"
            ]
          },
          "metadata": {
            "tags": []
          },
          "execution_count": 18
        }
      ]
    },
    {
      "cell_type": "markdown",
      "metadata": {
        "id": "PVXC6OsZJ6pU",
        "colab_type": "text"
      },
      "source": [
        "# Combining Dataframes"
      ]
    },
    {
      "cell_type": "code",
      "metadata": {
        "id": "Sb8j37tLJ4RA",
        "colab_type": "code",
        "colab": {}
      },
      "source": [
        "# Import packages\n",
        "# https://www.freecodecamp.org/news/how-to-combine-multiple-csv-files-with-8-lines-of-code-265183e0854/\n",
        "import os \n",
        "import glob "
      ],
      "execution_count": 0,
      "outputs": []
    },
    {
      "cell_type": "code",
      "metadata": {
        "id": "hlcGpLuoJ4vc",
        "colab_type": "code",
        "colab": {}
      },
      "source": [
        "def csvNames():\n",
        "    csv_prefix = 'df'\n",
        "    csv_suffix = '.csv'\n",
        "    years = []\n",
        "    for year in range(2000, 2021):\n",
        "        years.append(year)\n",
        "    csv_names = [csv_prefix + str(year) + csv_suffix for year in years]\n",
        "    return csv_names\n",
        "\n",
        "csv_names = csvNames()"
      ],
      "execution_count": 0,
      "outputs": []
    },
    {
      "cell_type": "code",
      "metadata": {
        "id": "9NLg5dFaJ_lc",
        "colab_type": "code",
        "colab": {}
      },
      "source": [
        "combined_csv = pd.concat([pd.read_csv(csv) for csv in csv_names], ignore_index=True)"
      ],
      "execution_count": 0,
      "outputs": []
    },
    {
      "cell_type": "code",
      "metadata": {
        "id": "6TruN2uxKBC8",
        "colab_type": "code",
        "colab": {}
      },
      "source": [
        "combined_csv.to_csv('KGRB_precip.csv', index=False)"
      ],
      "execution_count": 0,
      "outputs": []
    }
  ]
}